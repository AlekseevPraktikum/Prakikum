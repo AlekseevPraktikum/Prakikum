{
 "cells": [
  {
   "cell_type": "markdown",
   "metadata": {},
   "source": [
    "### Основные понятия объектно-ориентированного программирования (ООП)."
   ]
  },
  {
   "cell_type": "markdown",
   "metadata": {},
   "source": [
    "Может звучать пугающе, но мы рассмотрим лишь самую верхушку айсберга, достаточную, чтобы понимать, что такое классы в pandas и чем методы (типа `df.value_counts()`)  отличаются от атрибутов (типа `df.shape`). Обещаю, будет коротко и ясно 😉"
   ]
  },
  {
   "cell_type": "markdown",
   "metadata": {},
   "source": [
    "Итак, работая с **pandas** мы постоянно сталкиваемся с классами - будь то наш любимый **DataFrame** или **Series**, или даже группировка **groupby**.  \n",
    "В программировании зачастую нам не хватает типов данных, имеющихся по умолчанию - целых чисел, строк и т.д. и мы хотим создать свой тип данных, который будет иметь свои признаки (*атрибуты*) и уметь что-то делать (обладать *методами*)\n",
    "Создадим для примера класс **Cat**:"
   ]
  },
  {
   "cell_type": "code",
   "execution_count": 1,
   "metadata": {},
   "outputs": [],
   "source": [
    "#данный код необязательно досконально понимать и уметь применять, достаточно понять концепцию\n",
    "\n",
    "class Cat:       #создаем новый класс \n",
    "        \n",
    "    def __init__(self, weight, color, paws=4): #указываем, какие параметры будут у нашего котейки\n",
    "        self.paws=paws      #по умолчанию 4 лапы, вес и цвет при создании указать обязательно\n",
    "        self.weight = weight\n",
    "        self.color = color\n",
    "    \n",
    "    def eat(self):\n",
    "        if self.weight < 5:\n",
    "            print('Котейка весит', self.weight, 'кг. и ест что хочет')\n",
    "        else:\n",
    "            print('Котейка весит', self.weight, 'кг. и ест диетический корм')\n",
    "        \n",
    "    def sleep(self):\n",
    "        print('Котейка спит')"
   ]
  },
  {
   "cell_type": "markdown",
   "metadata": {},
   "source": [
    "Итак, мы объявили некую новую структуру данных под названием Cat, у которой есть такие свойства как *вес*, *цвет* и *количество лап*. Такие свойства называются *атрибутами*. Также мы определили несколько встроенных функций - что любой котейка умеет делать - спать и есть. Такие функции называются *методами класса*."
   ]
  },
  {
   "cell_type": "markdown",
   "metadata": {},
   "source": [
    "Итак, мы определили, что мы подразумеваем под котом, как видом. Теперь создадим пару конкретных котиков. Для этого вызовем наш класс и укажем параметры питомцев:"
   ]
  },
  {
   "cell_type": "code",
   "execution_count": 2,
   "metadata": {},
   "outputs": [],
   "source": [
    "barsik = Cat(4.6, 'white')\n",
    "ryzhik = Cat(6.7, 'red')"
   ]
  },
  {
   "cell_type": "markdown",
   "metadata": {},
   "source": [
    "**Cat** - это *класс*, а **barsik** и **ryzhik** - *объекты* этого класса.  "
   ]
  },
  {
   "cell_type": "markdown",
   "metadata": {},
   "source": [
    "Нечто подобное происходит, когда мы создаем датафрейм:"
   ]
  },
  {
   "cell_type": "code",
   "execution_count": 3,
   "metadata": {},
   "outputs": [
    {
     "data": {
      "text/html": [
       "<div>\n",
       "<style scoped>\n",
       "    .dataframe tbody tr th:only-of-type {\n",
       "        vertical-align: middle;\n",
       "    }\n",
       "\n",
       "    .dataframe tbody tr th {\n",
       "        vertical-align: top;\n",
       "    }\n",
       "\n",
       "    .dataframe thead th {\n",
       "        text-align: right;\n",
       "    }\n",
       "</style>\n",
       "<table border=\"1\" class=\"dataframe\">\n",
       "  <thead>\n",
       "    <tr style=\"text-align: right;\">\n",
       "      <th></th>\n",
       "      <th>Имя</th>\n",
       "      <th>Фамилия</th>\n",
       "      <th>Январь</th>\n",
       "      <th>Февраль</th>\n",
       "      <th>Март</th>\n",
       "    </tr>\n",
       "  </thead>\n",
       "  <tbody>\n",
       "    <tr>\n",
       "      <td>0</td>\n",
       "      <td>Анна</td>\n",
       "      <td>Егорова</td>\n",
       "      <td>1000</td>\n",
       "      <td>1100</td>\n",
       "      <td>950</td>\n",
       "    </tr>\n",
       "    <tr>\n",
       "      <td>1</td>\n",
       "      <td>Сергей</td>\n",
       "      <td>Тищенко</td>\n",
       "      <td>1300</td>\n",
       "      <td>1250</td>\n",
       "      <td>1320</td>\n",
       "    </tr>\n",
       "    <tr>\n",
       "      <td>2</td>\n",
       "      <td>Алексей</td>\n",
       "      <td>Маевский</td>\n",
       "      <td>800</td>\n",
       "      <td>750</td>\n",
       "      <td>900</td>\n",
       "    </tr>\n",
       "    <tr>\n",
       "      <td>3</td>\n",
       "      <td>Сергей</td>\n",
       "      <td>Пеньков</td>\n",
       "      <td>1100</td>\n",
       "      <td>1100</td>\n",
       "      <td>1200</td>\n",
       "    </tr>\n",
       "    <tr>\n",
       "      <td>4</td>\n",
       "      <td>Екатерина</td>\n",
       "      <td>Никонова</td>\n",
       "      <td>2000</td>\n",
       "      <td>1800</td>\n",
       "      <td>1950</td>\n",
       "    </tr>\n",
       "  </tbody>\n",
       "</table>\n",
       "</div>"
      ],
      "text/plain": [
       "         Имя   Фамилия  Январь  Февраль  Март\n",
       "0       Анна   Егорова    1000     1100   950\n",
       "1     Сергей   Тищенко    1300     1250  1320\n",
       "2    Алексей  Маевский     800      750   900\n",
       "3     Сергей   Пеньков    1100     1100  1200\n",
       "4  Екатерина  Никонова    2000     1800  1950"
      ]
     },
     "execution_count": 3,
     "metadata": {},
     "output_type": "execute_result"
    }
   ],
   "source": [
    "import pandas as pd\n",
    "\n",
    "df = pd.DataFrame(data={'Имя': ['Анна', 'Сергей', 'Алексей', 'Сергей', 'Екатерина'], 'Фамилия': ['Егорова', 'Тищенко', 'Маевский', 'Пеньков', 'Никонова'] ,'Январь': [1000, 1300, 800, 1100, 2000], 'Февраль': [1100, 1250, 750, 1100, 1800], \n",
    "     'Март': [950, 1320, 900, 1200, 1950]})\n",
    "df"
   ]
  },
  {
   "cell_type": "markdown",
   "metadata": {},
   "source": [
    "Создали объект `df` класса `pandas.DataFrame`"
   ]
  },
  {
   "cell_type": "markdown",
   "metadata": {},
   "source": [
    "Но вернемся к нашим питомцам. Итак, у нас в двух переменных два разных котика, имеющих различный вес и цвет. Давайте убедимся в этом. Атрибуты вызываются через точку:"
   ]
  },
  {
   "cell_type": "code",
   "execution_count": 4,
   "metadata": {},
   "outputs": [
    {
     "name": "stdout",
     "output_type": "stream",
     "text": [
      "white\n",
      "red\n",
      "4.6\n",
      "6.7\n"
     ]
    }
   ],
   "source": [
    "print(barsik.color)\n",
    "print(ryzhik.color)\n",
    "print(barsik.weight)\n",
    "print(ryzhik.weight)"
   ]
  },
  {
   "cell_type": "markdown",
   "metadata": {},
   "source": [
    "Нечто подобное происходит, когда мы пишем `df.shape` или `df.columns`. Во втором случае мы можем даже вручную этот атрибут поменять. (Например, привести названия колонок к нижнему регистру)"
   ]
  },
  {
   "cell_type": "code",
   "execution_count": 5,
   "metadata": {},
   "outputs": [
    {
     "data": {
      "text/plain": [
       "(5, 5)"
      ]
     },
     "execution_count": 5,
     "metadata": {},
     "output_type": "execute_result"
    }
   ],
   "source": [
    "df.shape"
   ]
  },
  {
   "cell_type": "code",
   "execution_count": 6,
   "metadata": {},
   "outputs": [
    {
     "name": "stdout",
     "output_type": "stream",
     "text": [
      "Index(['Имя', 'Фамилия', 'Январь', 'Февраль', 'Март'], dtype='object')\n"
     ]
    },
    {
     "data": {
      "text/html": [
       "<div>\n",
       "<style scoped>\n",
       "    .dataframe tbody tr th:only-of-type {\n",
       "        vertical-align: middle;\n",
       "    }\n",
       "\n",
       "    .dataframe tbody tr th {\n",
       "        vertical-align: top;\n",
       "    }\n",
       "\n",
       "    .dataframe thead th {\n",
       "        text-align: right;\n",
       "    }\n",
       "</style>\n",
       "<table border=\"1\" class=\"dataframe\">\n",
       "  <thead>\n",
       "    <tr style=\"text-align: right;\">\n",
       "      <th></th>\n",
       "      <th>имя</th>\n",
       "      <th>фамилия</th>\n",
       "      <th>январь</th>\n",
       "      <th>февраль</th>\n",
       "      <th>март</th>\n",
       "    </tr>\n",
       "  </thead>\n",
       "  <tbody>\n",
       "    <tr>\n",
       "      <td>0</td>\n",
       "      <td>Анна</td>\n",
       "      <td>Егорова</td>\n",
       "      <td>1000</td>\n",
       "      <td>1100</td>\n",
       "      <td>950</td>\n",
       "    </tr>\n",
       "    <tr>\n",
       "      <td>1</td>\n",
       "      <td>Сергей</td>\n",
       "      <td>Тищенко</td>\n",
       "      <td>1300</td>\n",
       "      <td>1250</td>\n",
       "      <td>1320</td>\n",
       "    </tr>\n",
       "    <tr>\n",
       "      <td>2</td>\n",
       "      <td>Алексей</td>\n",
       "      <td>Маевский</td>\n",
       "      <td>800</td>\n",
       "      <td>750</td>\n",
       "      <td>900</td>\n",
       "    </tr>\n",
       "    <tr>\n",
       "      <td>3</td>\n",
       "      <td>Сергей</td>\n",
       "      <td>Пеньков</td>\n",
       "      <td>1100</td>\n",
       "      <td>1100</td>\n",
       "      <td>1200</td>\n",
       "    </tr>\n",
       "    <tr>\n",
       "      <td>4</td>\n",
       "      <td>Екатерина</td>\n",
       "      <td>Никонова</td>\n",
       "      <td>2000</td>\n",
       "      <td>1800</td>\n",
       "      <td>1950</td>\n",
       "    </tr>\n",
       "  </tbody>\n",
       "</table>\n",
       "</div>"
      ],
      "text/plain": [
       "         имя   фамилия  январь  февраль  март\n",
       "0       Анна   Егорова    1000     1100   950\n",
       "1     Сергей   Тищенко    1300     1250  1320\n",
       "2    Алексей  Маевский     800      750   900\n",
       "3     Сергей   Пеньков    1100     1100  1200\n",
       "4  Екатерина  Никонова    2000     1800  1950"
      ]
     },
     "execution_count": 6,
     "metadata": {},
     "output_type": "execute_result"
    }
   ],
   "source": [
    "print(df.columns)\n",
    "df.columns = ['имя', 'фамилия', 'январь', 'февраль', 'март']\n",
    "df"
   ]
  },
  {
   "cell_type": "markdown",
   "metadata": {},
   "source": [
    "Мы можем манипулировать атрибутами, как обычными переменными, например, посмотреть, сколько в сумме весят наши питомцы:"
   ]
  },
  {
   "cell_type": "code",
   "execution_count": 7,
   "metadata": {},
   "outputs": [
    {
     "data": {
      "text/plain": [
       "11.3"
      ]
     },
     "execution_count": 7,
     "metadata": {},
     "output_type": "execute_result"
    }
   ],
   "source": [
    "barsik.weight + ryzhik.weight"
   ]
  },
  {
   "cell_type": "markdown",
   "metadata": {},
   "source": [
    "Вторым важным свойством классов являются *методы*. Это, как я уже писал, нечто вроде встроенных функций. Они позволяют нам прописать некие действия для наших классов. Вы уже многократно их ипользовали в работе. Они вызываются через точку с указанием круглых скобок."
   ]
  },
  {
   "cell_type": "code",
   "execution_count": 8,
   "metadata": {},
   "outputs": [
    {
     "name": "stdout",
     "output_type": "stream",
     "text": [
      "Котейка спит\n"
     ]
    }
   ],
   "source": [
    "barsik.sleep()"
   ]
  },
  {
   "cell_type": "markdown",
   "metadata": {},
   "source": [
    "Нечто подобное происходит, когда мы пишем `df.sort_values(by=...)` Мы берем объект `df` и вызываем один из его методов."
   ]
  },
  {
   "cell_type": "code",
   "execution_count": 9,
   "metadata": {},
   "outputs": [
    {
     "data": {
      "text/html": [
       "<div>\n",
       "<style scoped>\n",
       "    .dataframe tbody tr th:only-of-type {\n",
       "        vertical-align: middle;\n",
       "    }\n",
       "\n",
       "    .dataframe tbody tr th {\n",
       "        vertical-align: top;\n",
       "    }\n",
       "\n",
       "    .dataframe thead th {\n",
       "        text-align: right;\n",
       "    }\n",
       "</style>\n",
       "<table border=\"1\" class=\"dataframe\">\n",
       "  <thead>\n",
       "    <tr style=\"text-align: right;\">\n",
       "      <th></th>\n",
       "      <th>имя</th>\n",
       "      <th>фамилия</th>\n",
       "      <th>январь</th>\n",
       "      <th>февраль</th>\n",
       "      <th>март</th>\n",
       "    </tr>\n",
       "  </thead>\n",
       "  <tbody>\n",
       "    <tr>\n",
       "      <td>2</td>\n",
       "      <td>Алексей</td>\n",
       "      <td>Маевский</td>\n",
       "      <td>800</td>\n",
       "      <td>750</td>\n",
       "      <td>900</td>\n",
       "    </tr>\n",
       "    <tr>\n",
       "      <td>0</td>\n",
       "      <td>Анна</td>\n",
       "      <td>Егорова</td>\n",
       "      <td>1000</td>\n",
       "      <td>1100</td>\n",
       "      <td>950</td>\n",
       "    </tr>\n",
       "    <tr>\n",
       "      <td>3</td>\n",
       "      <td>Сергей</td>\n",
       "      <td>Пеньков</td>\n",
       "      <td>1100</td>\n",
       "      <td>1100</td>\n",
       "      <td>1200</td>\n",
       "    </tr>\n",
       "    <tr>\n",
       "      <td>1</td>\n",
       "      <td>Сергей</td>\n",
       "      <td>Тищенко</td>\n",
       "      <td>1300</td>\n",
       "      <td>1250</td>\n",
       "      <td>1320</td>\n",
       "    </tr>\n",
       "    <tr>\n",
       "      <td>4</td>\n",
       "      <td>Екатерина</td>\n",
       "      <td>Никонова</td>\n",
       "      <td>2000</td>\n",
       "      <td>1800</td>\n",
       "      <td>1950</td>\n",
       "    </tr>\n",
       "  </tbody>\n",
       "</table>\n",
       "</div>"
      ],
      "text/plain": [
       "         имя   фамилия  январь  февраль  март\n",
       "2    Алексей  Маевский     800      750   900\n",
       "0       Анна   Егорова    1000     1100   950\n",
       "3     Сергей   Пеньков    1100     1100  1200\n",
       "1     Сергей   Тищенко    1300     1250  1320\n",
       "4  Екатерина  Никонова    2000     1800  1950"
      ]
     },
     "execution_count": 9,
     "metadata": {},
     "output_type": "execute_result"
    }
   ],
   "source": [
    "df.sort_values(by='январь')"
   ]
  },
  {
   "cell_type": "markdown",
   "metadata": {},
   "source": [
    "Таким образом, создав такую сложную структуру данных, мы открываем для себя множество новых возможностей. Например, кормить котейку в зависимости от его веса (этот момент пропиасн в определении метода **eat** класса **Cat**):"
   ]
  },
  {
   "cell_type": "code",
   "execution_count": 10,
   "metadata": {},
   "outputs": [
    {
     "name": "stdout",
     "output_type": "stream",
     "text": [
      "Котейка весит 4.6 кг. и ест что хочет\n",
      "Котейка весит 6.7 кг. и ест диетический корм\n"
     ]
    }
   ],
   "source": [
    "barsik.eat()\n",
    "ryzhik.eat()"
   ]
  },
  {
   "cell_type": "markdown",
   "metadata": {},
   "source": [
    "Рыжик у нас страдает легким ожирением, поэтому ест диетический корм."
   ]
  },
  {
   "cell_type": "markdown",
   "metadata": {},
   "source": [
    "Подведем итог. Класс - это некий чертеж, план нового типа данных. (Класс **Cat**) На его основе создаются объекты этого класса (**barsik** и **ryzhik**). У класса есть *атрибуты* - некие свойства, вызываются через точку (`barsik.color`, `ryzhik.weight`) и *методы* - встроенные функции, описывающие некие действия, вызываются через точку с круглыми скобками (`ryzhik.eat()`)."
   ]
  }
 ],
 "metadata": {
  "kernelspec": {
   "display_name": "Python 3",
   "language": "python",
   "name": "python3"
  },
  "language_info": {
   "codemirror_mode": {
    "name": "ipython",
    "version": 3
   },
   "file_extension": ".py",
   "mimetype": "text/x-python",
   "name": "python",
   "nbconvert_exporter": "python",
   "pygments_lexer": "ipython3",
   "version": "3.7.8"
  },
  "toc": {
   "base_numbering": 1,
   "nav_menu": {},
   "number_sections": true,
   "sideBar": true,
   "skip_h1_title": false,
   "title_cell": "Table of Contents",
   "title_sidebar": "Contents",
   "toc_cell": false,
   "toc_position": {},
   "toc_section_display": true,
   "toc_window_display": false
  }
 },
 "nbformat": 4,
 "nbformat_minor": 2
}
