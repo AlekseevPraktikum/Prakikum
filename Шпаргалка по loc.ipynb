{
 "cells": [
  {
   "cell_type": "markdown",
   "metadata": {},
   "source": [
    "### Использование конструкции `.loc[]` в pandas."
   ]
  },
  {
   "cell_type": "code",
   "execution_count": 1,
   "metadata": {},
   "outputs": [],
   "source": [
    "import pandas as pd"
   ]
  },
  {
   "cell_type": "markdown",
   "metadata": {},
   "source": [
    "Продемонстрируем на примере таблицы с зарплатами аналитиков за квартал в условных единицах:"
   ]
  },
  {
   "cell_type": "code",
   "execution_count": 2,
   "metadata": {},
   "outputs": [
    {
     "data": {
      "text/html": [
       "<div>\n",
       "<style scoped>\n",
       "    .dataframe tbody tr th:only-of-type {\n",
       "        vertical-align: middle;\n",
       "    }\n",
       "\n",
       "    .dataframe tbody tr th {\n",
       "        vertical-align: top;\n",
       "    }\n",
       "\n",
       "    .dataframe thead th {\n",
       "        text-align: right;\n",
       "    }\n",
       "</style>\n",
       "<table border=\"1\" class=\"dataframe\">\n",
       "  <thead>\n",
       "    <tr style=\"text-align: right;\">\n",
       "      <th></th>\n",
       "      <th>Имя</th>\n",
       "      <th>Фамилия</th>\n",
       "      <th>Январь</th>\n",
       "      <th>Февраль</th>\n",
       "      <th>Март</th>\n",
       "    </tr>\n",
       "  </thead>\n",
       "  <tbody>\n",
       "    <tr>\n",
       "      <td>0</td>\n",
       "      <td>Анна</td>\n",
       "      <td>Егорова</td>\n",
       "      <td>1000</td>\n",
       "      <td>1100</td>\n",
       "      <td>950</td>\n",
       "    </tr>\n",
       "    <tr>\n",
       "      <td>1</td>\n",
       "      <td>Сергей</td>\n",
       "      <td>Тищенко</td>\n",
       "      <td>1300</td>\n",
       "      <td>1250</td>\n",
       "      <td>1320</td>\n",
       "    </tr>\n",
       "    <tr>\n",
       "      <td>2</td>\n",
       "      <td>Алексей</td>\n",
       "      <td>Маевский</td>\n",
       "      <td>800</td>\n",
       "      <td>750</td>\n",
       "      <td>900</td>\n",
       "    </tr>\n",
       "    <tr>\n",
       "      <td>3</td>\n",
       "      <td>Сергей</td>\n",
       "      <td>Пеньков</td>\n",
       "      <td>1100</td>\n",
       "      <td>1100</td>\n",
       "      <td>1200</td>\n",
       "    </tr>\n",
       "    <tr>\n",
       "      <td>4</td>\n",
       "      <td>Екатерина</td>\n",
       "      <td>Никонова</td>\n",
       "      <td>2000</td>\n",
       "      <td>1800</td>\n",
       "      <td>1950</td>\n",
       "    </tr>\n",
       "  </tbody>\n",
       "</table>\n",
       "</div>"
      ],
      "text/plain": [
       "         Имя   Фамилия  Январь  Февраль  Март\n",
       "0       Анна   Егорова    1000     1100   950\n",
       "1     Сергей   Тищенко    1300     1250  1320\n",
       "2    Алексей  Маевский     800      750   900\n",
       "3     Сергей   Пеньков    1100     1100  1200\n",
       "4  Екатерина  Никонова    2000     1800  1950"
      ]
     },
     "execution_count": 2,
     "metadata": {},
     "output_type": "execute_result"
    }
   ],
   "source": [
    "df = pd.DataFrame(data={'Имя': ['Анна', 'Сергей', 'Алексей', 'Сергей', 'Екатерина'], 'Фамилия': ['Егорова', 'Тищенко', 'Маевский', 'Пеньков', 'Никонова'] ,'Январь': [1000, 1300, 800, 1100, 2000], 'Февраль': [1100, 1250, 750, 1100, 1800], \n",
    "     'Март': [950, 1320, 900, 1200, 1950]})\n",
    "df"
   ]
  },
  {
   "cell_type": "markdown",
   "metadata": {},
   "source": [
    "Итак, что же мы можем сделать при помощи `loc[]`?"
   ]
  },
  {
   "cell_type": "markdown",
   "metadata": {},
   "source": [
    "1.Получить нужную строку по индексу."
   ]
  },
  {
   "cell_type": "code",
   "execution_count": 3,
   "metadata": {},
   "outputs": [
    {
     "data": {
      "text/plain": [
       "Имя         Алексей\n",
       "Фамилия    Маевский\n",
       "Январь          800\n",
       "Февраль         750\n",
       "Март            900\n",
       "Name: 2, dtype: object"
      ]
     },
     "execution_count": 3,
     "metadata": {},
     "output_type": "execute_result"
    }
   ],
   "source": [
    "df.loc[2]"
   ]
  },
  {
   "cell_type": "markdown",
   "metadata": {},
   "source": [
    "2.Получить несколько строк по индексу. (Строки передаем **списком**.) На выходе получаем датафрейм."
   ]
  },
  {
   "cell_type": "code",
   "execution_count": 4,
   "metadata": {},
   "outputs": [
    {
     "data": {
      "text/html": [
       "<div>\n",
       "<style scoped>\n",
       "    .dataframe tbody tr th:only-of-type {\n",
       "        vertical-align: middle;\n",
       "    }\n",
       "\n",
       "    .dataframe tbody tr th {\n",
       "        vertical-align: top;\n",
       "    }\n",
       "\n",
       "    .dataframe thead th {\n",
       "        text-align: right;\n",
       "    }\n",
       "</style>\n",
       "<table border=\"1\" class=\"dataframe\">\n",
       "  <thead>\n",
       "    <tr style=\"text-align: right;\">\n",
       "      <th></th>\n",
       "      <th>Имя</th>\n",
       "      <th>Фамилия</th>\n",
       "      <th>Январь</th>\n",
       "      <th>Февраль</th>\n",
       "      <th>Март</th>\n",
       "    </tr>\n",
       "  </thead>\n",
       "  <tbody>\n",
       "    <tr>\n",
       "      <td>2</td>\n",
       "      <td>Алексей</td>\n",
       "      <td>Маевский</td>\n",
       "      <td>800</td>\n",
       "      <td>750</td>\n",
       "      <td>900</td>\n",
       "    </tr>\n",
       "    <tr>\n",
       "      <td>4</td>\n",
       "      <td>Екатерина</td>\n",
       "      <td>Никонова</td>\n",
       "      <td>2000</td>\n",
       "      <td>1800</td>\n",
       "      <td>1950</td>\n",
       "    </tr>\n",
       "  </tbody>\n",
       "</table>\n",
       "</div>"
      ],
      "text/plain": [
       "         Имя   Фамилия  Январь  Февраль  Март\n",
       "2    Алексей  Маевский     800      750   900\n",
       "4  Екатерина  Никонова    2000     1800  1950"
      ]
     },
     "execution_count": 4,
     "metadata": {},
     "output_type": "execute_result"
    }
   ],
   "source": [
    "df.loc[[2,4]]"
   ]
  },
  {
   "cell_type": "markdown",
   "metadata": {},
   "source": [
    "3.Найти конкретную ячейку. Конструкция вида `df.loc[индекс, 'столбец']`"
   ]
  },
  {
   "cell_type": "code",
   "execution_count": 5,
   "metadata": {},
   "outputs": [
    {
     "data": {
      "text/plain": [
       "1100"
      ]
     },
     "execution_count": 5,
     "metadata": {},
     "output_type": "execute_result"
    }
   ],
   "source": [
    "df.loc[3,'Январь']"
   ]
  },
  {
   "cell_type": "markdown",
   "metadata": {},
   "source": [
    "4.И самое интересное, найти строки по условию. Конструкция вида `df.loc[условие]`"
   ]
  },
  {
   "cell_type": "code",
   "execution_count": 6,
   "metadata": {},
   "outputs": [
    {
     "data": {
      "text/html": [
       "<div>\n",
       "<style scoped>\n",
       "    .dataframe tbody tr th:only-of-type {\n",
       "        vertical-align: middle;\n",
       "    }\n",
       "\n",
       "    .dataframe tbody tr th {\n",
       "        vertical-align: top;\n",
       "    }\n",
       "\n",
       "    .dataframe thead th {\n",
       "        text-align: right;\n",
       "    }\n",
       "</style>\n",
       "<table border=\"1\" class=\"dataframe\">\n",
       "  <thead>\n",
       "    <tr style=\"text-align: right;\">\n",
       "      <th></th>\n",
       "      <th>Имя</th>\n",
       "      <th>Фамилия</th>\n",
       "      <th>Январь</th>\n",
       "      <th>Февраль</th>\n",
       "      <th>Март</th>\n",
       "    </tr>\n",
       "  </thead>\n",
       "  <tbody>\n",
       "    <tr>\n",
       "      <td>1</td>\n",
       "      <td>Сергей</td>\n",
       "      <td>Тищенко</td>\n",
       "      <td>1300</td>\n",
       "      <td>1250</td>\n",
       "      <td>1320</td>\n",
       "    </tr>\n",
       "    <tr>\n",
       "      <td>3</td>\n",
       "      <td>Сергей</td>\n",
       "      <td>Пеньков</td>\n",
       "      <td>1100</td>\n",
       "      <td>1100</td>\n",
       "      <td>1200</td>\n",
       "    </tr>\n",
       "  </tbody>\n",
       "</table>\n",
       "</div>"
      ],
      "text/plain": [
       "      Имя  Фамилия  Январь  Февраль  Март\n",
       "1  Сергей  Тищенко    1300     1250  1320\n",
       "3  Сергей  Пеньков    1100     1100  1200"
      ]
     },
     "execution_count": 6,
     "metadata": {},
     "output_type": "execute_result"
    }
   ],
   "source": [
    "df.loc[df['Имя']=='Сергей']"
   ]
  },
  {
   "cell_type": "markdown",
   "metadata": {},
   "source": [
    "Можно также как и в случае с индексом, выбрать только один столбец:"
   ]
  },
  {
   "cell_type": "code",
   "execution_count": 7,
   "metadata": {},
   "outputs": [
    {
     "data": {
      "text/plain": [
       "1    1250\n",
       "3    1100\n",
       "Name: Февраль, dtype: int64"
      ]
     },
     "execution_count": 7,
     "metadata": {},
     "output_type": "execute_result"
    }
   ],
   "source": [
    "df.loc[df['Имя']=='Сергей','Февраль']"
   ]
  },
  {
   "cell_type": "markdown",
   "metadata": {},
   "source": [
    "Что важно понимать про эту конструкцию. В отличие от большинства других сценариев в pandas, работая с ней и изменяя данные, мы **изменяем** датафрейм, с которым работаем. Например:"
   ]
  },
  {
   "cell_type": "code",
   "execution_count": 8,
   "metadata": {},
   "outputs": [],
   "source": [
    "df.loc[df['Имя']=='Сергей','Март'] = 1111"
   ]
  },
  {
   "cell_type": "markdown",
   "metadata": {},
   "source": [
    "Мы только что выбрали из таблицы всех Сергеев и установили им зарплату за март. Проверим, так ли это:"
   ]
  },
  {
   "cell_type": "code",
   "execution_count": 9,
   "metadata": {},
   "outputs": [
    {
     "data": {
      "text/html": [
       "<div>\n",
       "<style scoped>\n",
       "    .dataframe tbody tr th:only-of-type {\n",
       "        vertical-align: middle;\n",
       "    }\n",
       "\n",
       "    .dataframe tbody tr th {\n",
       "        vertical-align: top;\n",
       "    }\n",
       "\n",
       "    .dataframe thead th {\n",
       "        text-align: right;\n",
       "    }\n",
       "</style>\n",
       "<table border=\"1\" class=\"dataframe\">\n",
       "  <thead>\n",
       "    <tr style=\"text-align: right;\">\n",
       "      <th></th>\n",
       "      <th>Имя</th>\n",
       "      <th>Фамилия</th>\n",
       "      <th>Январь</th>\n",
       "      <th>Февраль</th>\n",
       "      <th>Март</th>\n",
       "    </tr>\n",
       "  </thead>\n",
       "  <tbody>\n",
       "    <tr>\n",
       "      <td>0</td>\n",
       "      <td>Анна</td>\n",
       "      <td>Егорова</td>\n",
       "      <td>1000</td>\n",
       "      <td>1100</td>\n",
       "      <td>950</td>\n",
       "    </tr>\n",
       "    <tr>\n",
       "      <td>1</td>\n",
       "      <td>Сергей</td>\n",
       "      <td>Тищенко</td>\n",
       "      <td>1300</td>\n",
       "      <td>1250</td>\n",
       "      <td>1111</td>\n",
       "    </tr>\n",
       "    <tr>\n",
       "      <td>2</td>\n",
       "      <td>Алексей</td>\n",
       "      <td>Маевский</td>\n",
       "      <td>800</td>\n",
       "      <td>750</td>\n",
       "      <td>900</td>\n",
       "    </tr>\n",
       "    <tr>\n",
       "      <td>3</td>\n",
       "      <td>Сергей</td>\n",
       "      <td>Пеньков</td>\n",
       "      <td>1100</td>\n",
       "      <td>1100</td>\n",
       "      <td>1111</td>\n",
       "    </tr>\n",
       "    <tr>\n",
       "      <td>4</td>\n",
       "      <td>Екатерина</td>\n",
       "      <td>Никонова</td>\n",
       "      <td>2000</td>\n",
       "      <td>1800</td>\n",
       "      <td>1950</td>\n",
       "    </tr>\n",
       "  </tbody>\n",
       "</table>\n",
       "</div>"
      ],
      "text/plain": [
       "         Имя   Фамилия  Январь  Февраль  Март\n",
       "0       Анна   Егорова    1000     1100   950\n",
       "1     Сергей   Тищенко    1300     1250  1111\n",
       "2    Алексей  Маевский     800      750   900\n",
       "3     Сергей   Пеньков    1100     1100  1111\n",
       "4  Екатерина  Никонова    2000     1800  1950"
      ]
     },
     "execution_count": 9,
     "metadata": {},
     "output_type": "execute_result"
    }
   ],
   "source": [
    "df"
   ]
  },
  {
   "cell_type": "markdown",
   "metadata": {},
   "source": [
    "Действительно, значения изменились. Таким образом, используем `.loc[]`, **когда хотим изменить изначальный датафрейм**. Однако, на практике, чаще мы не хотим этого делать, а просто используем различным образом отфильтрованные таблицы для их анализа. Для этого используется также знакомая вам конструкция:"
   ]
  },
  {
   "cell_type": "code",
   "execution_count": 10,
   "metadata": {},
   "outputs": [
    {
     "data": {
      "text/html": [
       "<div>\n",
       "<style scoped>\n",
       "    .dataframe tbody tr th:only-of-type {\n",
       "        vertical-align: middle;\n",
       "    }\n",
       "\n",
       "    .dataframe tbody tr th {\n",
       "        vertical-align: top;\n",
       "    }\n",
       "\n",
       "    .dataframe thead th {\n",
       "        text-align: right;\n",
       "    }\n",
       "</style>\n",
       "<table border=\"1\" class=\"dataframe\">\n",
       "  <thead>\n",
       "    <tr style=\"text-align: right;\">\n",
       "      <th></th>\n",
       "      <th>Имя</th>\n",
       "      <th>Фамилия</th>\n",
       "      <th>Январь</th>\n",
       "      <th>Февраль</th>\n",
       "      <th>Март</th>\n",
       "    </tr>\n",
       "  </thead>\n",
       "  <tbody>\n",
       "    <tr>\n",
       "      <td>1</td>\n",
       "      <td>Сергей</td>\n",
       "      <td>Тищенко</td>\n",
       "      <td>1300</td>\n",
       "      <td>1250</td>\n",
       "      <td>1111</td>\n",
       "    </tr>\n",
       "    <tr>\n",
       "      <td>3</td>\n",
       "      <td>Сергей</td>\n",
       "      <td>Пеньков</td>\n",
       "      <td>1100</td>\n",
       "      <td>1100</td>\n",
       "      <td>1111</td>\n",
       "    </tr>\n",
       "  </tbody>\n",
       "</table>\n",
       "</div>"
      ],
      "text/plain": [
       "      Имя  Фамилия  Январь  Февраль  Март\n",
       "1  Сергей  Тищенко    1300     1250  1111\n",
       "3  Сергей  Пеньков    1100     1100  1111"
      ]
     },
     "execution_count": 10,
     "metadata": {},
     "output_type": "execute_result"
    }
   ],
   "source": [
    "df[df['Имя']=='Сергей']"
   ]
  },
  {
   "cell_type": "markdown",
   "metadata": {},
   "source": [
    "Давайте попробуем поменять зарплату нашим Сергеям без использования `loc[]`, на этот раз за февраль:"
   ]
  },
  {
   "cell_type": "code",
   "execution_count": 12,
   "metadata": {},
   "outputs": [
    {
     "name": "stderr",
     "output_type": "stream",
     "text": [
      "/opt/conda/lib/python3.7/site-packages/ipykernel_launcher.py:1: SettingWithCopyWarning: \n",
      "A value is trying to be set on a copy of a slice from a DataFrame.\n",
      "Try using .loc[row_indexer,col_indexer] = value instead\n",
      "\n",
      "See the caveats in the documentation: http://pandas.pydata.org/pandas-docs/stable/user_guide/indexing.html#returning-a-view-versus-a-copy\n",
      "  \"\"\"Entry point for launching an IPython kernel.\n"
     ]
    }
   ],
   "source": [
    "df[df['Имя']=='Сергей']['Февраль'] = 2222"
   ]
  },
  {
   "cell_type": "markdown",
   "metadata": {},
   "source": [
    "Pandas уже чувствует, что что-то не так и предупреждает что мы, возможно получм не то, чего хотим. Проверим:"
   ]
  },
  {
   "cell_type": "code",
   "execution_count": 13,
   "metadata": {
    "scrolled": true
   },
   "outputs": [
    {
     "data": {
      "text/html": [
       "<div>\n",
       "<style scoped>\n",
       "    .dataframe tbody tr th:only-of-type {\n",
       "        vertical-align: middle;\n",
       "    }\n",
       "\n",
       "    .dataframe tbody tr th {\n",
       "        vertical-align: top;\n",
       "    }\n",
       "\n",
       "    .dataframe thead th {\n",
       "        text-align: right;\n",
       "    }\n",
       "</style>\n",
       "<table border=\"1\" class=\"dataframe\">\n",
       "  <thead>\n",
       "    <tr style=\"text-align: right;\">\n",
       "      <th></th>\n",
       "      <th>Имя</th>\n",
       "      <th>Фамилия</th>\n",
       "      <th>Январь</th>\n",
       "      <th>Февраль</th>\n",
       "      <th>Март</th>\n",
       "    </tr>\n",
       "  </thead>\n",
       "  <tbody>\n",
       "    <tr>\n",
       "      <td>0</td>\n",
       "      <td>Анна</td>\n",
       "      <td>Егорова</td>\n",
       "      <td>1000</td>\n",
       "      <td>1100</td>\n",
       "      <td>950</td>\n",
       "    </tr>\n",
       "    <tr>\n",
       "      <td>1</td>\n",
       "      <td>Сергей</td>\n",
       "      <td>Тищенко</td>\n",
       "      <td>1300</td>\n",
       "      <td>1250</td>\n",
       "      <td>1111</td>\n",
       "    </tr>\n",
       "    <tr>\n",
       "      <td>2</td>\n",
       "      <td>Алексей</td>\n",
       "      <td>Маевский</td>\n",
       "      <td>800</td>\n",
       "      <td>750</td>\n",
       "      <td>900</td>\n",
       "    </tr>\n",
       "    <tr>\n",
       "      <td>3</td>\n",
       "      <td>Сергей</td>\n",
       "      <td>Пеньков</td>\n",
       "      <td>1100</td>\n",
       "      <td>1100</td>\n",
       "      <td>1111</td>\n",
       "    </tr>\n",
       "    <tr>\n",
       "      <td>4</td>\n",
       "      <td>Екатерина</td>\n",
       "      <td>Никонова</td>\n",
       "      <td>2000</td>\n",
       "      <td>1800</td>\n",
       "      <td>1950</td>\n",
       "    </tr>\n",
       "  </tbody>\n",
       "</table>\n",
       "</div>"
      ],
      "text/plain": [
       "         Имя   Фамилия  Январь  Февраль  Март\n",
       "0       Анна   Егорова    1000     1100   950\n",
       "1     Сергей   Тищенко    1300     1250  1111\n",
       "2    Алексей  Маевский     800      750   900\n",
       "3     Сергей   Пеньков    1100     1100  1111\n",
       "4  Екатерина  Никонова    2000     1800  1950"
      ]
     },
     "execution_count": 13,
     "metadata": {},
     "output_type": "execute_result"
    }
   ],
   "source": [
    "df"
   ]
  },
  {
   "cell_type": "markdown",
   "metadata": {},
   "source": [
    "Данные за февраль не изменились. То есть такую индексацию мы можем применить, когда не собираемся ничего менять, а хотим просто посмотреть, сколько там зарабоатывают Сергеи."
   ]
  },
  {
   "cell_type": "markdown",
   "metadata": {},
   "source": [
    "Конечно, возможности индексации в pandas гораздо обширнее, но цель этой тетрадки дать вам небольшую шпаргалку по конструкции `loc[]` и показать её особенности по сравнению с другими методами доступа к данным.  \n",
    "Благодарю всех, кто дочитал до конца!"
   ]
  }
 ],
 "metadata": {
  "kernelspec": {
   "display_name": "Python 3",
   "language": "python",
   "name": "python3"
  },
  "language_info": {
   "codemirror_mode": {
    "name": "ipython",
    "version": 3
   },
   "file_extension": ".py",
   "mimetype": "text/x-python",
   "name": "python",
   "nbconvert_exporter": "python",
   "pygments_lexer": "ipython3",
   "version": "3.7.6"
  }
 },
 "nbformat": 4,
 "nbformat_minor": 2
}
