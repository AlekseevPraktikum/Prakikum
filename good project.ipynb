{
 "cells": [
  {
   "cell_type": "markdown",
   "metadata": {},
   "source": [
    "<font color='blue'> Привет!) Поздравляю с первым самостоятельным проектом. Ты проделала большую работу.   Далее в файле ты можешь найти мои комменатрии, выделенные синим. Пожайлуста, постарайся учесть их в дальнейших работах или доработках.</font>"
   ]
  },
  {
   "cell_type": "markdown",
   "metadata": {},
   "source": [
    "## Исследование надёжности заёмщиков\n",
    "\n",
    "Заказчик — кредитный отдел банка. Нужно разобраться, влияет ли семейное положение и количество детей клиента на факт погашения кредита в срок. Входные данные от банка — статистика о платёжеспособности клиентов.\n",
    "\n",
    "Результаты исследования будут учтены при построении модели **кредитного скоринга** — специальной системы, которая оценивает способность потенциального заёмщика вернуть кредит банку."
   ]
  },
  {
   "cell_type": "markdown",
   "metadata": {},
   "source": [
    "### Шаг 1. Откройте файл с данными и изучите общую информацию. "
   ]
  },
  {
   "cell_type": "code",
   "execution_count": 1,
   "metadata": {},
   "outputs": [],
   "source": [
    "import pandas as pd\n",
    "data = pd.read_csv('/datasets/data.csv')"
   ]
  },
  {
   "cell_type": "code",
   "execution_count": 2,
   "metadata": {},
   "outputs": [
    {
     "name": "stdout",
     "output_type": "stream",
     "text": [
      "<class 'pandas.core.frame.DataFrame'>\n",
      "RangeIndex: 21525 entries, 0 to 21524\n",
      "Data columns (total 12 columns):\n",
      "children            21525 non-null int64\n",
      "days_employed       19351 non-null float64\n",
      "dob_years           21525 non-null int64\n",
      "education           21525 non-null object\n",
      "education_id        21525 non-null int64\n",
      "family_status       21525 non-null object\n",
      "family_status_id    21525 non-null int64\n",
      "gender              21525 non-null object\n",
      "income_type         21525 non-null object\n",
      "debt                21525 non-null int64\n",
      "total_income        19351 non-null float64\n",
      "purpose             21525 non-null object\n",
      "dtypes: float64(2), int64(5), object(5)\n",
      "memory usage: 2.0+ MB\n",
      "None\n"
     ]
    }
   ],
   "source": [
    "print(data.info())"
   ]
  },
  {
   "cell_type": "markdown",
   "metadata": {},
   "source": [
    "### Вывод"
   ]
  },
  {
   "cell_type": "markdown",
   "metadata": {},
   "source": [
    "В столбцах таблицы 'days_employed'(общий трудовой стаж в днях) и 'total_income'(ежемесячный доход) не все строки заполены, а также эти столбцы имеют формат float64, вещественные числа неточны и могут в дальнейшем привести к ошибкам"
   ]
  },
  {
   "cell_type": "markdown",
   "metadata": {},
   "source": [
    "<font color='blue'> Хороший анализ сырых данных.</font>"
   ]
  },
  {
   "cell_type": "markdown",
   "metadata": {},
   "source": [
    "### Шаг 2. Предобработка данных"
   ]
  },
  {
   "cell_type": "markdown",
   "metadata": {},
   "source": [
    "### Обработка пропусков"
   ]
  },
  {
   "cell_type": "markdown",
   "metadata": {},
   "source": [
    "Проверим столбцы на пропуски"
   ]
  },
  {
   "cell_type": "code",
   "execution_count": 3,
   "metadata": {},
   "outputs": [
    {
     "name": "stdout",
     "output_type": "stream",
     "text": [
      "children               0\n",
      "days_employed       2174\n",
      "dob_years              0\n",
      "education              0\n",
      "education_id           0\n",
      "family_status          0\n",
      "family_status_id       0\n",
      "gender                 0\n",
      "income_type            0\n",
      "debt                   0\n",
      "total_income        2174\n",
      "purpose                0\n",
      "dtype: int64\n"
     ]
    }
   ],
   "source": [
    "print(data.isnull().sum())"
   ]
  },
  {
   "cell_type": "markdown",
   "metadata": {},
   "source": [
    "В 2174 случаях нет сведения о доходах и опыте. В столбце 'days_employed' для ответа на поставленные вопросы необходимости нет. Разберемся со столбцом 'total_income', для этого выясним какие источники дохода есть у клиентов. Посмотрим какие есть категории клиентов по типу занятости:"
   ]
  },
  {
   "cell_type": "code",
   "execution_count": 4,
   "metadata": {},
   "outputs": [
    {
     "name": "stdout",
     "output_type": "stream",
     "text": [
      "['сотрудник' 'пенсионер' 'компаньон' 'госслужащий' 'безработный'\n",
      " 'предприниматель' 'студент' 'в декрете']\n"
     ]
    }
   ],
   "source": [
    "print(data['income_type'].unique())"
   ]
  },
  {
   "cell_type": "markdown",
   "metadata": {},
   "source": [
    "Клиенты со статусом 'безработный', 'студент' и 'в декрете' могут не иметь реального месячного дохода, посчитаем их количество "
   ]
  },
  {
   "cell_type": "code",
   "execution_count": 5,
   "metadata": {},
   "outputs": [
    {
     "name": "stdout",
     "output_type": "stream",
     "text": [
      "сотрудник          11119\n",
      "компаньон           5085\n",
      "пенсионер           3856\n",
      "госслужащий         1459\n",
      "безработный            2\n",
      "предприниматель        2\n",
      "студент                1\n",
      "в декрете              1\n",
      "Name: income_type, dtype: int64\n"
     ]
    }
   ],
   "source": [
    "print(data['income_type'].value_counts())"
   ]
  },
  {
   "cell_type": "markdown",
   "metadata": {},
   "source": [
    "Всего 4 клиента могут не иметь дохода, следовательно пропуски скорей всего обусловлены непредоставленными данными о доходах."
   ]
  },
  {
   "cell_type": "markdown",
   "metadata": {},
   "source": [
    "Проведем проверку есть ли доход у этих клиентов."
   ]
  },
  {
   "cell_type": "code",
   "execution_count": 6,
   "metadata": {
    "scrolled": true
   },
   "outputs": [
    {
     "name": "stdout",
     "output_type": "stream",
     "text": [
      "      children  days_employed  dob_years education  education_id  \\\n",
      "9410         0    -578.751554         22    высшее             0   \n",
      "\n",
      "              family_status  family_status_id gender income_type  debt  \\\n",
      "9410  Не женат / не замужем                 4      M     студент     0   \n",
      "\n",
      "      total_income                                 purpose  \n",
      "9410  98201.625314  строительство собственной недвижимости  \n"
     ]
    }
   ],
   "source": [
    "print(data[data['income_type'] == 'студент'])"
   ]
  },
  {
   "cell_type": "code",
   "execution_count": 7,
   "metadata": {},
   "outputs": [
    {
     "name": "stdout",
     "output_type": "stream",
     "text": [
      "       children  days_employed  dob_years education  education_id  \\\n",
      "20845         2   -3296.759962         39   СРЕДНЕЕ             1   \n",
      "\n",
      "         family_status  family_status_id gender income_type  debt  \\\n",
      "20845  женат / замужем                 0      F   в декрете     1   \n",
      "\n",
      "       total_income     purpose  \n",
      "20845  53829.130729  автомобиль  \n"
     ]
    }
   ],
   "source": [
    "print(data[data['income_type'] == 'в декрете'])"
   ]
  },
  {
   "cell_type": "code",
   "execution_count": 8,
   "metadata": {},
   "outputs": [
    {
     "name": "stdout",
     "output_type": "stream",
     "text": [
      "       children  days_employed  dob_years education  education_id  \\\n",
      "3133          1  337524.466835         31   среднее             1   \n",
      "14798         0  395302.838654         45    Высшее             0   \n",
      "\n",
      "          family_status  family_status_id gender  income_type  debt  \\\n",
      "3133    женат / замужем                 0      M  безработный     1   \n",
      "14798  гражданский брак                 1      F  безработный     0   \n",
      "\n",
      "        total_income                  purpose  \n",
      "3133    59956.991984  покупка жилья для сдачи  \n",
      "14798  202722.511368             ремонт жилью  \n"
     ]
    }
   ],
   "source": [
    "print(data[data['income_type'] == 'безработный'])"
   ]
  },
  {
   "cell_type": "markdown",
   "metadata": {},
   "source": [
    "У выбранных категорий есть ежемесячный доход, значит пропуски в данных случайны."
   ]
  },
  {
   "cell_type": "markdown",
   "metadata": {},
   "source": [
    "Заменим медианами ежемесячного дохода пропущенные значения в соответствии в каждым типом занятости."
   ]
  },
  {
   "cell_type": "code",
   "execution_count": 9,
   "metadata": {},
   "outputs": [],
   "source": [
    "data['total_income'] = data.groupby('income_type')['total_income'].transform(lambda x: x.fillna(x.median()))"
   ]
  },
  {
   "cell_type": "code",
   "execution_count": 10,
   "metadata": {},
   "outputs": [
    {
     "name": "stdout",
     "output_type": "stream",
     "text": [
      "<class 'pandas.core.frame.DataFrame'>\n",
      "RangeIndex: 21525 entries, 0 to 21524\n",
      "Data columns (total 12 columns):\n",
      "children            21525 non-null int64\n",
      "days_employed       19351 non-null float64\n",
      "dob_years           21525 non-null int64\n",
      "education           21525 non-null object\n",
      "education_id        21525 non-null int64\n",
      "family_status       21525 non-null object\n",
      "family_status_id    21525 non-null int64\n",
      "gender              21525 non-null object\n",
      "income_type         21525 non-null object\n",
      "debt                21525 non-null int64\n",
      "total_income        21525 non-null float64\n",
      "purpose             21525 non-null object\n",
      "dtypes: float64(2), int64(5), object(5)\n",
      "memory usage: 2.0+ MB\n",
      "None\n"
     ]
    }
   ],
   "source": [
    "print(data.info())"
   ]
  },
  {
   "cell_type": "markdown",
   "metadata": {},
   "source": [
    "### Вывод"
   ]
  },
  {
   "cell_type": "markdown",
   "metadata": {},
   "source": [
    "Были обнаружены пропуски в данных о ежемесячном доходе 2174 клиентов, это 10% случаев. Данная информация нужна для ответа на вопрос влияния уровня дохода на возврат кредита в срок. При невозможности получения недостающих данных, лучше заменить пропуски средним значением дохода в соответствии с типом занятости клиента."
   ]
  },
  {
   "cell_type": "markdown",
   "metadata": {},
   "source": [
    "<font color='blue'> А в стаже решила не саполнять пропуски? Ты не будешь использовать этот столбец в анализе? Тогда лучше еще раз это подчеркнуть и вообще исключить столбец из рабочего датасэта.</font>"
   ]
  },
  {
   "cell_type": "markdown",
   "metadata": {},
   "source": [
    "### Замена типа данных"
   ]
  },
  {
   "cell_type": "markdown",
   "metadata": {},
   "source": [
    "Переведём столбец total_income в формат int"
   ]
  },
  {
   "cell_type": "code",
   "execution_count": 11,
   "metadata": {
    "scrolled": true
   },
   "outputs": [],
   "source": [
    "data['total_income'] = data['total_income'].astype('int')"
   ]
  },
  {
   "cell_type": "code",
   "execution_count": 12,
   "metadata": {},
   "outputs": [
    {
     "name": "stdout",
     "output_type": "stream",
     "text": [
      "<class 'pandas.core.frame.DataFrame'>\n",
      "RangeIndex: 21525 entries, 0 to 21524\n",
      "Data columns (total 12 columns):\n",
      "children            21525 non-null int64\n",
      "days_employed       19351 non-null float64\n",
      "dob_years           21525 non-null int64\n",
      "education           21525 non-null object\n",
      "education_id        21525 non-null int64\n",
      "family_status       21525 non-null object\n",
      "family_status_id    21525 non-null int64\n",
      "gender              21525 non-null object\n",
      "income_type         21525 non-null object\n",
      "debt                21525 non-null int64\n",
      "total_income        21525 non-null int64\n",
      "purpose             21525 non-null object\n",
      "dtypes: float64(1), int64(6), object(5)\n",
      "memory usage: 2.0+ MB\n",
      "None\n"
     ]
    }
   ],
   "source": [
    "print(data.info())"
   ]
  },
  {
   "cell_type": "markdown",
   "metadata": {},
   "source": [
    "### Вывод"
   ]
  },
  {
   "cell_type": "markdown",
   "metadata": {},
   "source": [
    "Стоблец total_income содержал данные типа float64, что неудобно для расчетов и приводит к ошибкам. В нашей задаче данными после запятой можно пренебречь. Целесообразно перевести в целочисленное значение."
   ]
  },
  {
   "cell_type": "markdown",
   "metadata": {},
   "source": [
    "<font color='blue'> Хорошо, все те же вопросы про стаж.</font>"
   ]
  },
  {
   "cell_type": "markdown",
   "metadata": {},
   "source": [
    "### Обработка дубликатов"
   ]
  },
  {
   "cell_type": "markdown",
   "metadata": {},
   "source": [
    "Проверим всю таблицу на наличие полностью идентичных строк"
   ]
  },
  {
   "cell_type": "code",
   "execution_count": 13,
   "metadata": {},
   "outputs": [
    {
     "name": "stdout",
     "output_type": "stream",
     "text": [
      "Дубликатов 54\n"
     ]
    }
   ],
   "source": [
    "print('Дубликатов', data.duplicated().sum())"
   ]
  },
  {
   "cell_type": "markdown",
   "metadata": {},
   "source": [
    "Удалим дубликаты без создания нового столбца и присвоим новые индексы строкам"
   ]
  },
  {
   "cell_type": "code",
   "execution_count": 14,
   "metadata": {},
   "outputs": [],
   "source": [
    "data = data.drop_duplicates().reset_index(drop=True)"
   ]
  },
  {
   "cell_type": "code",
   "execution_count": 15,
   "metadata": {},
   "outputs": [
    {
     "name": "stdout",
     "output_type": "stream",
     "text": [
      "<class 'pandas.core.frame.DataFrame'>\n",
      "RangeIndex: 21471 entries, 0 to 21470\n",
      "Data columns (total 12 columns):\n",
      "children            21471 non-null int64\n",
      "days_employed       19351 non-null float64\n",
      "dob_years           21471 non-null int64\n",
      "education           21471 non-null object\n",
      "education_id        21471 non-null int64\n",
      "family_status       21471 non-null object\n",
      "family_status_id    21471 non-null int64\n",
      "gender              21471 non-null object\n",
      "income_type         21471 non-null object\n",
      "debt                21471 non-null int64\n",
      "total_income        21471 non-null int64\n",
      "purpose             21471 non-null object\n",
      "dtypes: float64(1), int64(6), object(5)\n",
      "memory usage: 2.0+ MB\n",
      "None\n"
     ]
    }
   ],
   "source": [
    "print(data.info())"
   ]
  },
  {
   "cell_type": "markdown",
   "metadata": {},
   "source": [
    "### Вывод"
   ]
  },
  {
   "cell_type": "markdown",
   "metadata": {},
   "source": [
    "В нашей таблице нет столбца идентификационного номера клиента, следовательно обнаруженные и удаленные дубликаты могут быть не истинными, а появившимися в следствие случайных совпадений характеристик по столбцам. Можно удалить или не удалять эти дубликаты, по сравнению с общим объемом выборки вклад их мал."
   ]
  },
  {
   "cell_type": "markdown",
   "metadata": {},
   "source": [
    "<font color='blue'> Посмотри на столбец education. Есть ли там скрытые дубликаты? Их надо удалить в первую очередь, а потом проделать удаление дубликатов, которое ты выволнила (это было правильно сделано).</font>"
   ]
  },
  {
   "cell_type": "markdown",
   "metadata": {},
   "source": [
    "### Лемматизация"
   ]
  },
  {
   "cell_type": "markdown",
   "metadata": {},
   "source": [
    "Определим уникальные значения столбца purpose"
   ]
  },
  {
   "cell_type": "code",
   "execution_count": 16,
   "metadata": {},
   "outputs": [
    {
     "name": "stdout",
     "output_type": "stream",
     "text": [
      "свадьба                                   793\n",
      "на проведение свадьбы                     773\n",
      "сыграть свадьбу                           769\n",
      "операции с недвижимостью                  675\n",
      "покупка коммерческой недвижимости         662\n",
      "операции с жильем                         652\n",
      "покупка жилья для сдачи                   652\n",
      "операции с коммерческой недвижимостью     650\n",
      "покупка жилья                             646\n",
      "жилье                                     646\n",
      "покупка жилья для семьи                   638\n",
      "строительство собственной недвижимости    635\n",
      "недвижимость                              633\n",
      "операции со своей недвижимостью           627\n",
      "строительство жилой недвижимости          625\n",
      "покупка недвижимости                      621\n",
      "покупка своего жилья                      620\n",
      "строительство недвижимости                619\n",
      "ремонт жилью                              607\n",
      "покупка жилой недвижимости                606\n",
      "на покупку своего автомобиля              505\n",
      "заняться высшим образованием              496\n",
      "автомобиль                                494\n",
      "сделка с подержанным автомобилем          486\n",
      "свой автомобиль                           479\n",
      "автомобили                                478\n",
      "на покупку подержанного автомобиля        478\n",
      "на покупку автомобиля                     472\n",
      "приобретение автомобиля                   461\n",
      "дополнительное образование                460\n",
      "сделка с автомобилем                      455\n",
      "высшее образование                        452\n",
      "получение дополнительного образования     447\n",
      "образование                               447\n",
      "получение образования                     442\n",
      "профильное образование                    436\n",
      "получение высшего образования             426\n",
      "заняться образованием                     408\n",
      "Name: purpose, dtype: int64\n"
     ]
    }
   ],
   "source": [
    "print(data['purpose'].value_counts())"
   ]
  },
  {
   "cell_type": "markdown",
   "metadata": {},
   "source": [
    "Лемматизируем столбец purpose"
   ]
  },
  {
   "cell_type": "code",
   "execution_count": 17,
   "metadata": {},
   "outputs": [],
   "source": [
    "from pymystem3 import Mystem\n",
    "m = Mystem()\n",
    "def lemma(i):\n",
    "    lemmas = m.lemmatize(i)\n",
    "    return lemmas"
   ]
  },
  {
   "cell_type": "code",
   "execution_count": 18,
   "metadata": {},
   "outputs": [],
   "source": [
    "data['purpose_lemma'] = data['purpose'].apply(lemma)"
   ]
  },
  {
   "cell_type": "code",
   "execution_count": 20,
   "metadata": {
    "scrolled": true
   },
   "outputs": [
    {
     "name": "stdout",
     "output_type": "stream",
     "text": [
      "    children  days_employed  dob_years            education  education_id  \\\n",
      "0          1   -8437.673028         42               высшее             0   \n",
      "1          1   -4024.803754         36              среднее             1   \n",
      "2          0   -5623.422610         33              Среднее             1   \n",
      "3          3   -4124.747207         32              среднее             1   \n",
      "4          0  340266.072047         53              среднее             1   \n",
      "5          0    -926.185831         27               высшее             0   \n",
      "6          0   -2879.202052         43               высшее             0   \n",
      "7          0    -152.779569         50              СРЕДНЕЕ             1   \n",
      "8          2   -6929.865299         35               ВЫСШЕЕ             0   \n",
      "9          0   -2188.756445         41              среднее             1   \n",
      "10         2   -4171.483647         36               высшее             0   \n",
      "11         0    -792.701887         40              среднее             1   \n",
      "12         0            NaN         65              среднее             1   \n",
      "13         0   -1846.641941         54  неоконченное высшее             2   \n",
      "14         0   -1844.956182         56               высшее             0   \n",
      "15         1    -972.364419         26              среднее             1   \n",
      "16         0   -1719.934226         35              среднее             1   \n",
      "17         0   -2369.999720         33               высшее             0   \n",
      "18         0  400281.136913         53              среднее             1   \n",
      "19         0  -10038.818549         48              СРЕДНЕЕ             1   \n",
      "\n",
      "       family_status  family_status_id gender income_type  debt  total_income  \\\n",
      "0    женат / замужем                 0      F   сотрудник     0        253875   \n",
      "1    женат / замужем                 0      F   сотрудник     0        112080   \n",
      "2    женат / замужем                 0      M   сотрудник     0        145885   \n",
      "3    женат / замужем                 0      M   сотрудник     0        267628   \n",
      "4   гражданский брак                 1      F   пенсионер     0        158616   \n",
      "5   гражданский брак                 1      M   компаньон     0        255763   \n",
      "6    женат / замужем                 0      F   компаньон     0        240525   \n",
      "7    женат / замужем                 0      M   сотрудник     0        135823   \n",
      "8   гражданский брак                 1      F   сотрудник     0         95856   \n",
      "9    женат / замужем                 0      M   сотрудник     0        144425   \n",
      "10   женат / замужем                 0      M   компаньон     0        113943   \n",
      "11   женат / замужем                 0      F   сотрудник     0         77069   \n",
      "12  гражданский брак                 1      M   пенсионер     0        118514   \n",
      "13   женат / замужем                 0      F   сотрудник     0        130458   \n",
      "14  гражданский брак                 1      F   компаньон     1        165127   \n",
      "15   женат / замужем                 0      F   сотрудник     0        116820   \n",
      "16   женат / замужем                 0      F   сотрудник     0        289202   \n",
      "17  гражданский брак                 1      M   сотрудник     0         90410   \n",
      "18    вдовец / вдова                 2      F   пенсионер     0         56823   \n",
      "19         в разводе                 3      F   сотрудник     0        242831   \n",
      "\n",
      "                                   purpose  \\\n",
      "0                            покупка жилья   \n",
      "1                  приобретение автомобиля   \n",
      "2                            покупка жилья   \n",
      "3               дополнительное образование   \n",
      "4                          сыграть свадьбу   \n",
      "5                            покупка жилья   \n",
      "6                        операции с жильем   \n",
      "7                              образование   \n",
      "8                    на проведение свадьбы   \n",
      "9                  покупка жилья для семьи   \n",
      "10                    покупка недвижимости   \n",
      "11       покупка коммерческой недвижимости   \n",
      "12                         сыграть свадьбу   \n",
      "13                 приобретение автомобиля   \n",
      "14              покупка жилой недвижимости   \n",
      "15  строительство собственной недвижимости   \n",
      "16                            недвижимость   \n",
      "17              строительство недвижимости   \n",
      "18      на покупку подержанного автомобиля   \n",
      "19            на покупку своего автомобиля   \n",
      "\n",
      "                                        purpose_lemma  \n",
      "0                             [покупка,  , жилье, \\n]  \n",
      "1                   [приобретение,  , автомобиль, \\n]  \n",
      "2                             [покупка,  , жилье, \\n]  \n",
      "3                [дополнительный,  , образование, \\n]  \n",
      "4                           [сыграть,  , свадьба, \\n]  \n",
      "5                             [покупка,  , жилье, \\n]  \n",
      "6                      [операция,  , с,  , жилье, \\n]  \n",
      "7                                   [образование, \\n]  \n",
      "8                 [на,  , проведение,  , свадьба, \\n]  \n",
      "9           [покупка,  , жилье,  , для,  , семья, \\n]  \n",
      "10                     [покупка,  , недвижимость, \\n]  \n",
      "11    [покупка,  , коммерческий,  , недвижимость, \\n]  \n",
      "12                          [сыграть,  , свадьба, \\n]  \n",
      "13                  [приобретение,  , автомобиль, \\n]  \n",
      "14           [покупка,  , жилой,  , недвижимость, \\n]  \n",
      "15  [строительство,  , собственный,  , недвижимост...  \n",
      "16                                 [недвижимость, \\n]  \n",
      "17               [строительство,  , недвижимость, \\n]  \n",
      "18  [на,  , покупка,  , подержать,  , автомобиль, \\n]  \n",
      "19       [на,  , покупка,  , свой,  , автомобиль, \\n]  \n"
     ]
    }
   ],
   "source": [
    "print(data.head(20))"
   ]
  },
  {
   "cell_type": "markdown",
   "metadata": {},
   "source": [
    "### Вывод"
   ]
  },
  {
   "cell_type": "markdown",
   "metadata": {},
   "source": [
    "Цели получения кредита у клиентов схожи: проведение свадьбы, получение образования, покупка автомобиля, операции с коммерческой недвижимостью и операции с жилой недвижимостью. Для дальнейшей обработки и ответа на поставленную задачу цели необходимо разбить по категориям."
   ]
  },
  {
   "cell_type": "markdown",
   "metadata": {},
   "source": [
    "<font color='blue'>Хорошо, лемматизация выполнена правильно - это самая сложная часть проекта. Кстати попробуй выводить таблтчки без print это по-моему посимпатичнее. Смотри.</font>"
   ]
  },
  {
   "cell_type": "code",
   "execution_count": 21,
   "metadata": {},
   "outputs": [
    {
     "data": {
      "text/html": [
       "<div>\n",
       "<style scoped>\n",
       "    .dataframe tbody tr th:only-of-type {\n",
       "        vertical-align: middle;\n",
       "    }\n",
       "\n",
       "    .dataframe tbody tr th {\n",
       "        vertical-align: top;\n",
       "    }\n",
       "\n",
       "    .dataframe thead th {\n",
       "        text-align: right;\n",
       "    }\n",
       "</style>\n",
       "<table border=\"1\" class=\"dataframe\">\n",
       "  <thead>\n",
       "    <tr style=\"text-align: right;\">\n",
       "      <th></th>\n",
       "      <th>children</th>\n",
       "      <th>days_employed</th>\n",
       "      <th>dob_years</th>\n",
       "      <th>education</th>\n",
       "      <th>education_id</th>\n",
       "      <th>family_status</th>\n",
       "      <th>family_status_id</th>\n",
       "      <th>gender</th>\n",
       "      <th>income_type</th>\n",
       "      <th>debt</th>\n",
       "      <th>total_income</th>\n",
       "      <th>purpose</th>\n",
       "      <th>purpose_lemma</th>\n",
       "    </tr>\n",
       "  </thead>\n",
       "  <tbody>\n",
       "    <tr>\n",
       "      <td>0</td>\n",
       "      <td>1</td>\n",
       "      <td>-8437.673028</td>\n",
       "      <td>42</td>\n",
       "      <td>высшее</td>\n",
       "      <td>0</td>\n",
       "      <td>женат / замужем</td>\n",
       "      <td>0</td>\n",
       "      <td>F</td>\n",
       "      <td>сотрудник</td>\n",
       "      <td>0</td>\n",
       "      <td>253875</td>\n",
       "      <td>покупка жилья</td>\n",
       "      <td>[покупка,  , жилье, \\n]</td>\n",
       "    </tr>\n",
       "    <tr>\n",
       "      <td>1</td>\n",
       "      <td>1</td>\n",
       "      <td>-4024.803754</td>\n",
       "      <td>36</td>\n",
       "      <td>среднее</td>\n",
       "      <td>1</td>\n",
       "      <td>женат / замужем</td>\n",
       "      <td>0</td>\n",
       "      <td>F</td>\n",
       "      <td>сотрудник</td>\n",
       "      <td>0</td>\n",
       "      <td>112080</td>\n",
       "      <td>приобретение автомобиля</td>\n",
       "      <td>[приобретение,  , автомобиль, \\n]</td>\n",
       "    </tr>\n",
       "    <tr>\n",
       "      <td>2</td>\n",
       "      <td>0</td>\n",
       "      <td>-5623.422610</td>\n",
       "      <td>33</td>\n",
       "      <td>Среднее</td>\n",
       "      <td>1</td>\n",
       "      <td>женат / замужем</td>\n",
       "      <td>0</td>\n",
       "      <td>M</td>\n",
       "      <td>сотрудник</td>\n",
       "      <td>0</td>\n",
       "      <td>145885</td>\n",
       "      <td>покупка жилья</td>\n",
       "      <td>[покупка,  , жилье, \\n]</td>\n",
       "    </tr>\n",
       "    <tr>\n",
       "      <td>3</td>\n",
       "      <td>3</td>\n",
       "      <td>-4124.747207</td>\n",
       "      <td>32</td>\n",
       "      <td>среднее</td>\n",
       "      <td>1</td>\n",
       "      <td>женат / замужем</td>\n",
       "      <td>0</td>\n",
       "      <td>M</td>\n",
       "      <td>сотрудник</td>\n",
       "      <td>0</td>\n",
       "      <td>267628</td>\n",
       "      <td>дополнительное образование</td>\n",
       "      <td>[дополнительный,  , образование, \\n]</td>\n",
       "    </tr>\n",
       "    <tr>\n",
       "      <td>4</td>\n",
       "      <td>0</td>\n",
       "      <td>340266.072047</td>\n",
       "      <td>53</td>\n",
       "      <td>среднее</td>\n",
       "      <td>1</td>\n",
       "      <td>гражданский брак</td>\n",
       "      <td>1</td>\n",
       "      <td>F</td>\n",
       "      <td>пенсионер</td>\n",
       "      <td>0</td>\n",
       "      <td>158616</td>\n",
       "      <td>сыграть свадьбу</td>\n",
       "      <td>[сыграть,  , свадьба, \\n]</td>\n",
       "    </tr>\n",
       "    <tr>\n",
       "      <td>5</td>\n",
       "      <td>0</td>\n",
       "      <td>-926.185831</td>\n",
       "      <td>27</td>\n",
       "      <td>высшее</td>\n",
       "      <td>0</td>\n",
       "      <td>гражданский брак</td>\n",
       "      <td>1</td>\n",
       "      <td>M</td>\n",
       "      <td>компаньон</td>\n",
       "      <td>0</td>\n",
       "      <td>255763</td>\n",
       "      <td>покупка жилья</td>\n",
       "      <td>[покупка,  , жилье, \\n]</td>\n",
       "    </tr>\n",
       "    <tr>\n",
       "      <td>6</td>\n",
       "      <td>0</td>\n",
       "      <td>-2879.202052</td>\n",
       "      <td>43</td>\n",
       "      <td>высшее</td>\n",
       "      <td>0</td>\n",
       "      <td>женат / замужем</td>\n",
       "      <td>0</td>\n",
       "      <td>F</td>\n",
       "      <td>компаньон</td>\n",
       "      <td>0</td>\n",
       "      <td>240525</td>\n",
       "      <td>операции с жильем</td>\n",
       "      <td>[операция,  , с,  , жилье, \\n]</td>\n",
       "    </tr>\n",
       "    <tr>\n",
       "      <td>7</td>\n",
       "      <td>0</td>\n",
       "      <td>-152.779569</td>\n",
       "      <td>50</td>\n",
       "      <td>СРЕДНЕЕ</td>\n",
       "      <td>1</td>\n",
       "      <td>женат / замужем</td>\n",
       "      <td>0</td>\n",
       "      <td>M</td>\n",
       "      <td>сотрудник</td>\n",
       "      <td>0</td>\n",
       "      <td>135823</td>\n",
       "      <td>образование</td>\n",
       "      <td>[образование, \\n]</td>\n",
       "    </tr>\n",
       "    <tr>\n",
       "      <td>8</td>\n",
       "      <td>2</td>\n",
       "      <td>-6929.865299</td>\n",
       "      <td>35</td>\n",
       "      <td>ВЫСШЕЕ</td>\n",
       "      <td>0</td>\n",
       "      <td>гражданский брак</td>\n",
       "      <td>1</td>\n",
       "      <td>F</td>\n",
       "      <td>сотрудник</td>\n",
       "      <td>0</td>\n",
       "      <td>95856</td>\n",
       "      <td>на проведение свадьбы</td>\n",
       "      <td>[на,  , проведение,  , свадьба, \\n]</td>\n",
       "    </tr>\n",
       "    <tr>\n",
       "      <td>9</td>\n",
       "      <td>0</td>\n",
       "      <td>-2188.756445</td>\n",
       "      <td>41</td>\n",
       "      <td>среднее</td>\n",
       "      <td>1</td>\n",
       "      <td>женат / замужем</td>\n",
       "      <td>0</td>\n",
       "      <td>M</td>\n",
       "      <td>сотрудник</td>\n",
       "      <td>0</td>\n",
       "      <td>144425</td>\n",
       "      <td>покупка жилья для семьи</td>\n",
       "      <td>[покупка,  , жилье,  , для,  , семья, \\n]</td>\n",
       "    </tr>\n",
       "    <tr>\n",
       "      <td>10</td>\n",
       "      <td>2</td>\n",
       "      <td>-4171.483647</td>\n",
       "      <td>36</td>\n",
       "      <td>высшее</td>\n",
       "      <td>0</td>\n",
       "      <td>женат / замужем</td>\n",
       "      <td>0</td>\n",
       "      <td>M</td>\n",
       "      <td>компаньон</td>\n",
       "      <td>0</td>\n",
       "      <td>113943</td>\n",
       "      <td>покупка недвижимости</td>\n",
       "      <td>[покупка,  , недвижимость, \\n]</td>\n",
       "    </tr>\n",
       "    <tr>\n",
       "      <td>11</td>\n",
       "      <td>0</td>\n",
       "      <td>-792.701887</td>\n",
       "      <td>40</td>\n",
       "      <td>среднее</td>\n",
       "      <td>1</td>\n",
       "      <td>женат / замужем</td>\n",
       "      <td>0</td>\n",
       "      <td>F</td>\n",
       "      <td>сотрудник</td>\n",
       "      <td>0</td>\n",
       "      <td>77069</td>\n",
       "      <td>покупка коммерческой недвижимости</td>\n",
       "      <td>[покупка,  , коммерческий,  , недвижимость, \\n]</td>\n",
       "    </tr>\n",
       "    <tr>\n",
       "      <td>12</td>\n",
       "      <td>0</td>\n",
       "      <td>NaN</td>\n",
       "      <td>65</td>\n",
       "      <td>среднее</td>\n",
       "      <td>1</td>\n",
       "      <td>гражданский брак</td>\n",
       "      <td>1</td>\n",
       "      <td>M</td>\n",
       "      <td>пенсионер</td>\n",
       "      <td>0</td>\n",
       "      <td>118514</td>\n",
       "      <td>сыграть свадьбу</td>\n",
       "      <td>[сыграть,  , свадьба, \\n]</td>\n",
       "    </tr>\n",
       "    <tr>\n",
       "      <td>13</td>\n",
       "      <td>0</td>\n",
       "      <td>-1846.641941</td>\n",
       "      <td>54</td>\n",
       "      <td>неоконченное высшее</td>\n",
       "      <td>2</td>\n",
       "      <td>женат / замужем</td>\n",
       "      <td>0</td>\n",
       "      <td>F</td>\n",
       "      <td>сотрудник</td>\n",
       "      <td>0</td>\n",
       "      <td>130458</td>\n",
       "      <td>приобретение автомобиля</td>\n",
       "      <td>[приобретение,  , автомобиль, \\n]</td>\n",
       "    </tr>\n",
       "    <tr>\n",
       "      <td>14</td>\n",
       "      <td>0</td>\n",
       "      <td>-1844.956182</td>\n",
       "      <td>56</td>\n",
       "      <td>высшее</td>\n",
       "      <td>0</td>\n",
       "      <td>гражданский брак</td>\n",
       "      <td>1</td>\n",
       "      <td>F</td>\n",
       "      <td>компаньон</td>\n",
       "      <td>1</td>\n",
       "      <td>165127</td>\n",
       "      <td>покупка жилой недвижимости</td>\n",
       "      <td>[покупка,  , жилой,  , недвижимость, \\n]</td>\n",
       "    </tr>\n",
       "    <tr>\n",
       "      <td>15</td>\n",
       "      <td>1</td>\n",
       "      <td>-972.364419</td>\n",
       "      <td>26</td>\n",
       "      <td>среднее</td>\n",
       "      <td>1</td>\n",
       "      <td>женат / замужем</td>\n",
       "      <td>0</td>\n",
       "      <td>F</td>\n",
       "      <td>сотрудник</td>\n",
       "      <td>0</td>\n",
       "      <td>116820</td>\n",
       "      <td>строительство собственной недвижимости</td>\n",
       "      <td>[строительство,  , собственный,  , недвижимост...</td>\n",
       "    </tr>\n",
       "    <tr>\n",
       "      <td>16</td>\n",
       "      <td>0</td>\n",
       "      <td>-1719.934226</td>\n",
       "      <td>35</td>\n",
       "      <td>среднее</td>\n",
       "      <td>1</td>\n",
       "      <td>женат / замужем</td>\n",
       "      <td>0</td>\n",
       "      <td>F</td>\n",
       "      <td>сотрудник</td>\n",
       "      <td>0</td>\n",
       "      <td>289202</td>\n",
       "      <td>недвижимость</td>\n",
       "      <td>[недвижимость, \\n]</td>\n",
       "    </tr>\n",
       "    <tr>\n",
       "      <td>17</td>\n",
       "      <td>0</td>\n",
       "      <td>-2369.999720</td>\n",
       "      <td>33</td>\n",
       "      <td>высшее</td>\n",
       "      <td>0</td>\n",
       "      <td>гражданский брак</td>\n",
       "      <td>1</td>\n",
       "      <td>M</td>\n",
       "      <td>сотрудник</td>\n",
       "      <td>0</td>\n",
       "      <td>90410</td>\n",
       "      <td>строительство недвижимости</td>\n",
       "      <td>[строительство,  , недвижимость, \\n]</td>\n",
       "    </tr>\n",
       "    <tr>\n",
       "      <td>18</td>\n",
       "      <td>0</td>\n",
       "      <td>400281.136913</td>\n",
       "      <td>53</td>\n",
       "      <td>среднее</td>\n",
       "      <td>1</td>\n",
       "      <td>вдовец / вдова</td>\n",
       "      <td>2</td>\n",
       "      <td>F</td>\n",
       "      <td>пенсионер</td>\n",
       "      <td>0</td>\n",
       "      <td>56823</td>\n",
       "      <td>на покупку подержанного автомобиля</td>\n",
       "      <td>[на,  , покупка,  , подержать,  , автомобиль, \\n]</td>\n",
       "    </tr>\n",
       "    <tr>\n",
       "      <td>19</td>\n",
       "      <td>0</td>\n",
       "      <td>-10038.818549</td>\n",
       "      <td>48</td>\n",
       "      <td>СРЕДНЕЕ</td>\n",
       "      <td>1</td>\n",
       "      <td>в разводе</td>\n",
       "      <td>3</td>\n",
       "      <td>F</td>\n",
       "      <td>сотрудник</td>\n",
       "      <td>0</td>\n",
       "      <td>242831</td>\n",
       "      <td>на покупку своего автомобиля</td>\n",
       "      <td>[на,  , покупка,  , свой,  , автомобиль, \\n]</td>\n",
       "    </tr>\n",
       "  </tbody>\n",
       "</table>\n",
       "</div>"
      ],
      "text/plain": [
       "    children  days_employed  dob_years            education  education_id  \\\n",
       "0          1   -8437.673028         42               высшее             0   \n",
       "1          1   -4024.803754         36              среднее             1   \n",
       "2          0   -5623.422610         33              Среднее             1   \n",
       "3          3   -4124.747207         32              среднее             1   \n",
       "4          0  340266.072047         53              среднее             1   \n",
       "5          0    -926.185831         27               высшее             0   \n",
       "6          0   -2879.202052         43               высшее             0   \n",
       "7          0    -152.779569         50              СРЕДНЕЕ             1   \n",
       "8          2   -6929.865299         35               ВЫСШЕЕ             0   \n",
       "9          0   -2188.756445         41              среднее             1   \n",
       "10         2   -4171.483647         36               высшее             0   \n",
       "11         0    -792.701887         40              среднее             1   \n",
       "12         0            NaN         65              среднее             1   \n",
       "13         0   -1846.641941         54  неоконченное высшее             2   \n",
       "14         0   -1844.956182         56               высшее             0   \n",
       "15         1    -972.364419         26              среднее             1   \n",
       "16         0   -1719.934226         35              среднее             1   \n",
       "17         0   -2369.999720         33               высшее             0   \n",
       "18         0  400281.136913         53              среднее             1   \n",
       "19         0  -10038.818549         48              СРЕДНЕЕ             1   \n",
       "\n",
       "       family_status  family_status_id gender income_type  debt  total_income  \\\n",
       "0    женат / замужем                 0      F   сотрудник     0        253875   \n",
       "1    женат / замужем                 0      F   сотрудник     0        112080   \n",
       "2    женат / замужем                 0      M   сотрудник     0        145885   \n",
       "3    женат / замужем                 0      M   сотрудник     0        267628   \n",
       "4   гражданский брак                 1      F   пенсионер     0        158616   \n",
       "5   гражданский брак                 1      M   компаньон     0        255763   \n",
       "6    женат / замужем                 0      F   компаньон     0        240525   \n",
       "7    женат / замужем                 0      M   сотрудник     0        135823   \n",
       "8   гражданский брак                 1      F   сотрудник     0         95856   \n",
       "9    женат / замужем                 0      M   сотрудник     0        144425   \n",
       "10   женат / замужем                 0      M   компаньон     0        113943   \n",
       "11   женат / замужем                 0      F   сотрудник     0         77069   \n",
       "12  гражданский брак                 1      M   пенсионер     0        118514   \n",
       "13   женат / замужем                 0      F   сотрудник     0        130458   \n",
       "14  гражданский брак                 1      F   компаньон     1        165127   \n",
       "15   женат / замужем                 0      F   сотрудник     0        116820   \n",
       "16   женат / замужем                 0      F   сотрудник     0        289202   \n",
       "17  гражданский брак                 1      M   сотрудник     0         90410   \n",
       "18    вдовец / вдова                 2      F   пенсионер     0         56823   \n",
       "19         в разводе                 3      F   сотрудник     0        242831   \n",
       "\n",
       "                                   purpose  \\\n",
       "0                            покупка жилья   \n",
       "1                  приобретение автомобиля   \n",
       "2                            покупка жилья   \n",
       "3               дополнительное образование   \n",
       "4                          сыграть свадьбу   \n",
       "5                            покупка жилья   \n",
       "6                        операции с жильем   \n",
       "7                              образование   \n",
       "8                    на проведение свадьбы   \n",
       "9                  покупка жилья для семьи   \n",
       "10                    покупка недвижимости   \n",
       "11       покупка коммерческой недвижимости   \n",
       "12                         сыграть свадьбу   \n",
       "13                 приобретение автомобиля   \n",
       "14              покупка жилой недвижимости   \n",
       "15  строительство собственной недвижимости   \n",
       "16                            недвижимость   \n",
       "17              строительство недвижимости   \n",
       "18      на покупку подержанного автомобиля   \n",
       "19            на покупку своего автомобиля   \n",
       "\n",
       "                                        purpose_lemma  \n",
       "0                             [покупка,  , жилье, \\n]  \n",
       "1                   [приобретение,  , автомобиль, \\n]  \n",
       "2                             [покупка,  , жилье, \\n]  \n",
       "3                [дополнительный,  , образование, \\n]  \n",
       "4                           [сыграть,  , свадьба, \\n]  \n",
       "5                             [покупка,  , жилье, \\n]  \n",
       "6                      [операция,  , с,  , жилье, \\n]  \n",
       "7                                   [образование, \\n]  \n",
       "8                 [на,  , проведение,  , свадьба, \\n]  \n",
       "9           [покупка,  , жилье,  , для,  , семья, \\n]  \n",
       "10                     [покупка,  , недвижимость, \\n]  \n",
       "11    [покупка,  , коммерческий,  , недвижимость, \\n]  \n",
       "12                          [сыграть,  , свадьба, \\n]  \n",
       "13                  [приобретение,  , автомобиль, \\n]  \n",
       "14           [покупка,  , жилой,  , недвижимость, \\n]  \n",
       "15  [строительство,  , собственный,  , недвижимост...  \n",
       "16                                 [недвижимость, \\n]  \n",
       "17               [строительство,  , недвижимость, \\n]  \n",
       "18  [на,  , покупка,  , подержать,  , автомобиль, \\n]  \n",
       "19       [на,  , покупка,  , свой,  , автомобиль, \\n]  "
      ]
     },
     "execution_count": 21,
     "metadata": {},
     "output_type": "execute_result"
    }
   ],
   "source": [
    "data.head(20)"
   ]
  },
  {
   "cell_type": "markdown",
   "metadata": {},
   "source": [
    "<font color='blue'> print можно опускать не везде. По умолчанию выводится только последняя строка в ячейке. Но зато так можно выводить и info и describe и все остальное.</font>"
   ]
  },
  {
   "cell_type": "markdown",
   "metadata": {},
   "source": [
    "### Категоризация данных"
   ]
  },
  {
   "cell_type": "markdown",
   "metadata": {},
   "source": [
    "Для категоризации целей кредита добавим столбец purpose_id, в котором разобьём цели на категории: сыграть свадьбу - свадьба, получить образование - образование, купить автомобиль - автомобиль, провести операции с коммерческой недвижимостью - коммерческая недвижимость, операции с жильём или жилой невижимостью- жильё. Категоризацию проведем по ключевым словам."
   ]
  },
  {
   "cell_type": "code",
   "execution_count": 20,
   "metadata": {},
   "outputs": [
    {
     "name": "stdout",
     "output_type": "stream",
     "text": [
      "жильё                        9502\n",
      "автомобиль                   4308\n",
      "образование                  4014\n",
      "свадьба                      2335\n",
      "коммерческая недвижимость    1312\n",
      "Name: purpose_id, dtype: int64\n"
     ]
    }
   ],
   "source": [
    "def purpose_id(words):\n",
    "    if 'свадьба' in words:\n",
    "        return 'свадьба'\n",
    "    if 'образование' in words:\n",
    "        return 'образование'\n",
    "    if 'автомобиль' in words:\n",
    "        return 'автомобиль'\n",
    "    if 'коммерческий' in words:\n",
    "        return 'коммерческая недвижимость'\n",
    "    return 'жильё'\n",
    "\n",
    "data['purpose_id'] = data['purpose_lemma'].apply(purpose_id)\n",
    "print(data['purpose_id'].value_counts())\n",
    "            "
   ]
  },
  {
   "cell_type": "markdown",
   "metadata": {},
   "source": [
    "Для решения поставленных задач не обходимо категоризовать данные в столбце 'total_income'.\n",
    "Расчитаем 1й и 3й квартили по доходу всех клиетов и медиану:"
   ]
  },
  {
   "cell_type": "code",
   "execution_count": 21,
   "metadata": {
    "scrolled": true
   },
   "outputs": [],
   "source": [
    "q_25_total_income = data['total_income'].quantile(0.25)"
   ]
  },
  {
   "cell_type": "code",
   "execution_count": 22,
   "metadata": {},
   "outputs": [],
   "source": [
    "q_75_total_income = data['total_income'].quantile(0.75)"
   ]
  },
  {
   "cell_type": "code",
   "execution_count": 23,
   "metadata": {},
   "outputs": [],
   "source": [
    "median = data['total_income'].median()"
   ]
  },
  {
   "cell_type": "markdown",
   "metadata": {},
   "source": [
    "Теперь доход можно разделить на 4 категории: низкий, ниже среднего, выше среднего, высокий:"
   ]
  },
  {
   "cell_type": "code",
   "execution_count": 24,
   "metadata": {},
   "outputs": [],
   "source": [
    "def total_income_type(total_income):\n",
    "    if total_income < q_25_total_income:\n",
    "        return 'низкий'\n",
    "    if q_25_total_income < total_income < median:\n",
    "        return 'ниже среднего'\n",
    "    if median < total_income < q_75_total_income:\n",
    "        return 'выше среднего'\n",
    "    return 'высокий'"
   ]
  },
  {
   "cell_type": "code",
   "execution_count": 25,
   "metadata": {},
   "outputs": [],
   "source": [
    "data['total_income_type'] = data['total_income'].apply(total_income_type)"
   ]
  },
  {
   "cell_type": "code",
   "execution_count": 26,
   "metadata": {},
   "outputs": [
    {
     "name": "stdout",
     "output_type": "stream",
     "text": [
      "высокий          6445\n",
      "низкий           5368\n",
      "выше среднего    5245\n",
      "ниже среднего    4413\n",
      "Name: total_income_type, dtype: int64\n"
     ]
    }
   ],
   "source": [
    "print(data['total_income_type'].value_counts())"
   ]
  },
  {
   "cell_type": "markdown",
   "metadata": {},
   "source": [
    "### Вывод"
   ]
  },
  {
   "cell_type": "markdown",
   "metadata": {},
   "source": [
    "- Чаще всего клиенты берут кредит на покупку недвижимости, в равных случаях на покупку автомобиля и проведение свадьбы.\n",
    "- Клиенты с высоким уровнем дохода чаще берут кредит."
   ]
  },
  {
   "cell_type": "markdown",
   "metadata": {},
   "source": [
    "<font color='blue'> Отлично, категоризация выполнена верно. Если отвлечся от вопросов, которые непосредственно представлены в проекте, то можно еще ввести категоризацию по возрасту и проверить просрочки кредитиов по эти категориям.</font>"
   ]
  },
  {
   "cell_type": "markdown",
   "metadata": {},
   "source": [
    "### Шаг 3. Ответьте на вопросы"
   ]
  },
  {
   "cell_type": "markdown",
   "metadata": {},
   "source": [
    "#### Есть ли зависимость между наличием детей и возвратом кредита в срок?"
   ]
  },
  {
   "cell_type": "markdown",
   "metadata": {},
   "source": [
    "Для начала проверим столбец 'children':"
   ]
  },
  {
   "cell_type": "code",
   "execution_count": 27,
   "metadata": {},
   "outputs": [
    {
     "name": "stdout",
     "output_type": "stream",
     "text": [
      " 0     14107\n",
      " 1      4809\n",
      " 2      2052\n",
      " 3       330\n",
      " 20       76\n",
      "-1        47\n",
      " 4        41\n",
      " 5         9\n",
      "Name: children, dtype: int64\n"
     ]
    }
   ],
   "source": [
    "print(data['children'].value_counts())"
   ]
  },
  {
   "cell_type": "markdown",
   "metadata": {},
   "source": [
    "В данных закрались ошибки: нельзя уйти в минус по количеству детей, и сильно сомнительно, что у 76 человек их ровненько 20 штук, скорей всего ноль лишний и речь идёт о двух детях."
   ]
  },
  {
   "cell_type": "code",
   "execution_count": 28,
   "metadata": {
    "scrolled": true
   },
   "outputs": [
    {
     "name": "stdout",
     "output_type": "stream",
     "text": [
      "0     14107\n",
      "1      4856\n",
      "2      2052\n",
      "3       330\n",
      "20       76\n",
      "4        41\n",
      "5         9\n",
      "Name: children, dtype: int64\n"
     ]
    }
   ],
   "source": [
    "data['children'] = data['children'].abs()\n",
    "print(data['children'].value_counts())"
   ]
  },
  {
   "cell_type": "markdown",
   "metadata": {},
   "source": [
    "Должников по детям больше нет, остались излишне плодовитые"
   ]
  },
  {
   "cell_type": "code",
   "execution_count": 29,
   "metadata": {},
   "outputs": [
    {
     "name": "stdout",
     "output_type": "stream",
     "text": [
      "0    14107\n",
      "1     4856\n",
      "2     2128\n",
      "3      330\n",
      "4       41\n",
      "5        9\n",
      "Name: children, dtype: int64\n",
      "None\n"
     ]
    }
   ],
   "source": [
    "def children_true(children1):\n",
    "    if children1 == 20:\n",
    "        return 2\n",
    "    return children1\n",
    "data['children'] = data['children'].apply(children_true)\n",
    "print(print(data['children'].value_counts()))"
   ]
  },
  {
   "cell_type": "markdown",
   "metadata": {},
   "source": [
    "<font color='blue'> Записи типа -1 и 20 лучше просто исключить из рассмотрения, а не заменять, потому что ты наверняка не знаешь причину ошибки. Может у семьи действительно 20 приемных детей, а не 2? А может их 0 и 2 случайно прописалась? У нас нет достаточно оснований, чтоб записывать их в 2. Также и с -1. В таких случаях лучше исключить небольшой процент записей, чем портить точные данные </font>"
   ]
  },
  {
   "cell_type": "markdown",
   "metadata": {},
   "source": [
    "Всё, теперь похоже на правду."
   ]
  },
  {
   "cell_type": "markdown",
   "metadata": {},
   "source": [
    "Сгруппируем таблицу data  по количеству детей:"
   ]
  },
  {
   "cell_type": "code",
   "execution_count": 30,
   "metadata": {
    "scrolled": false
   },
   "outputs": [
    {
     "name": "stdout",
     "output_type": "stream",
     "text": [
      "children\n",
      "0    14107\n",
      "1     4856\n",
      "2     2128\n",
      "3      330\n",
      "4       41\n",
      "5        9\n",
      "Name: children, dtype: int64\n"
     ]
    }
   ],
   "source": [
    "children = data.groupby('children')['children'].count()\n",
    "print(children)"
   ]
  },
  {
   "cell_type": "markdown",
   "metadata": {},
   "source": [
    "Сгруппируем клиентов по количеству детей и информации о предудыщих задолженностях."
   ]
  },
  {
   "cell_type": "code",
   "execution_count": 31,
   "metadata": {
    "scrolled": false
   },
   "outputs": [
    {
     "name": "stdout",
     "output_type": "stream",
     "text": [
      "children\n",
      "0    1063\n",
      "1     445\n",
      "2     202\n",
      "3      27\n",
      "4       4\n",
      "5       0\n",
      "Name: debt, dtype: int64\n"
     ]
    }
   ],
   "source": [
    "children_debt = data.groupby('children')['debt'].sum()\n",
    "print(children_debt)"
   ]
  },
  {
   "cell_type": "markdown",
   "metadata": {},
   "source": [
    "Узнаем процентное отношение взявших кредит и тех у кого были задолженности в зависимости от количества детей."
   ]
  },
  {
   "cell_type": "code",
   "execution_count": 32,
   "metadata": {},
   "outputs": [
    {
     "name": "stdout",
     "output_type": "stream",
     "text": [
      "children\n",
      "0    7.535266\n",
      "1    9.163921\n",
      "2    9.492481\n",
      "3    8.181818\n",
      "4    9.756098\n",
      "5    0.000000\n",
      "dtype: float64\n"
     ]
    }
   ],
   "source": [
    "children_scoring = (children_debt / children) * 100\n",
    "print(children_scoring)"
   ]
  },
  {
   "cell_type": "markdown",
   "metadata": {},
   "source": [
    "### Вывод"
   ]
  },
  {
   "cell_type": "markdown",
   "metadata": {},
   "source": [
    " * Клиенты у которых нет детей, отдают кредит в срок чаще, чем те у кого есть дети \n",
    " * Реже всего отдают кредит в срок семьи с четырьмя детьми \n",
    " * Однако те, у кого три ребенка ответственней выплачивают задолженность по сравнению с семьями с иным количеством детей\n",
    " * Выборка для семей с 5-ю детьми слишком мала для оценки"
   ]
  },
  {
   "cell_type": "markdown",
   "metadata": {},
   "source": [
    "<font color='blue'> Хорошо, все правильно рассчитано.</font>"
   ]
  },
  {
   "cell_type": "markdown",
   "metadata": {},
   "source": [
    "#### Есть ли зависимость между семейным положением и возвратом кредита в срок?"
   ]
  },
  {
   "cell_type": "markdown",
   "metadata": {},
   "source": [
    "Сгруппируем таблицу data  по семейному положению:"
   ]
  },
  {
   "cell_type": "code",
   "execution_count": 33,
   "metadata": {
    "scrolled": true
   },
   "outputs": [
    {
     "name": "stdout",
     "output_type": "stream",
     "text": [
      "family_status\n",
      "Не женат / не замужем     2810\n",
      "в разводе                 1195\n",
      "вдовец / вдова             959\n",
      "гражданский брак          4163\n",
      "женат / замужем          12344\n",
      "Name: family_status, dtype: int64\n"
     ]
    }
   ],
   "source": [
    "family_status = data.groupby('family_status')['family_status'].count()\n",
    "print(family_status)"
   ]
  },
  {
   "cell_type": "markdown",
   "metadata": {},
   "source": [
    "Сгруппируем клиентов по семейному положению и информации о предудыщих задолженностях."
   ]
  },
  {
   "cell_type": "code",
   "execution_count": 34,
   "metadata": {},
   "outputs": [
    {
     "name": "stdout",
     "output_type": "stream",
     "text": [
      "family_status\n",
      "Не женат / не замужем    274\n",
      "в разводе                 85\n",
      "вдовец / вдова            63\n",
      "гражданский брак         388\n",
      "женат / замужем          931\n",
      "Name: debt, dtype: int64\n"
     ]
    }
   ],
   "source": [
    "family_status_debt = data.groupby('family_status')['debt'].sum()\n",
    "print(family_status_debt)"
   ]
  },
  {
   "cell_type": "markdown",
   "metadata": {},
   "source": [
    "Узнаем процентное отношение взявших кредит и тех у кого были задолженности в зависимости от их семейного положения."
   ]
  },
  {
   "cell_type": "code",
   "execution_count": 35,
   "metadata": {},
   "outputs": [
    {
     "name": "stdout",
     "output_type": "stream",
     "text": [
      "family_status\n",
      "Не женат / не замужем    9.750890\n",
      "в разводе                7.112971\n",
      "вдовец / вдова           6.569343\n",
      "гражданский брак         9.320202\n",
      "женат / замужем          7.542126\n",
      "dtype: float64\n"
     ]
    }
   ],
   "source": [
    "family_status_scoring = (family_status_debt / family_status) * 100\n",
    "print(family_status_scoring)"
   ]
  },
  {
   "cell_type": "markdown",
   "metadata": {},
   "source": [
    "<font color='blue'> Здесь все хорошо </font>"
   ]
  },
  {
   "cell_type": "markdown",
   "metadata": {},
   "source": [
    "### Вывод"
   ]
  },
  {
   "cell_type": "markdown",
   "metadata": {},
   "source": [
    "- Клиенты у которых есть или были официально зарегистрированные отношения отдают кредит в срок чаще, чем те, кто никогда не состоял в официальном браке\n",
    "- клиенты, потерявшие своего партнёра, отдают кредит в срок чаще всех остальных категорий заемщиков "
   ]
  },
  {
   "cell_type": "markdown",
   "metadata": {},
   "source": [
    "#### Есть ли зависимость между уровнем дохода и возвратом кредита в срок?"
   ]
  },
  {
   "cell_type": "markdown",
   "metadata": {},
   "source": [
    "Сгруппируем таблицу data  по уровню дохода:"
   ]
  },
  {
   "cell_type": "code",
   "execution_count": 36,
   "metadata": {},
   "outputs": [
    {
     "name": "stdout",
     "output_type": "stream",
     "text": [
      "total_income_type\n",
      "высокий          6445\n",
      "выше среднего    5245\n",
      "ниже среднего    4413\n",
      "низкий           5368\n",
      "Name: total_income_type, dtype: int64\n"
     ]
    }
   ],
   "source": [
    "total_income_type = data.groupby('total_income_type')['total_income_type'].count()\n",
    "print(total_income_type)"
   ]
  },
  {
   "cell_type": "markdown",
   "metadata": {},
   "source": [
    "Сгруппируем клиентов по уровню дохода и информации о предудыщих задолженностях."
   ]
  },
  {
   "cell_type": "code",
   "execution_count": 37,
   "metadata": {},
   "outputs": [
    {
     "name": "stdout",
     "output_type": "stream",
     "text": [
      "total_income_type\n",
      "высокий          481\n",
      "выше среднего    448\n",
      "ниже среднего    385\n",
      "низкий           427\n",
      "Name: debt, dtype: int64\n"
     ]
    }
   ],
   "source": [
    "total_income_type_debt = data.groupby('total_income_type')['debt'].sum()\n",
    "print(total_income_type_debt)"
   ]
  },
  {
   "cell_type": "markdown",
   "metadata": {},
   "source": [
    "Узнаем процентное отношение взявших кредит и тех у кого были задолженности в зависимости от их уровня дохода."
   ]
  },
  {
   "cell_type": "code",
   "execution_count": 38,
   "metadata": {
    "scrolled": true
   },
   "outputs": [
    {
     "name": "stdout",
     "output_type": "stream",
     "text": [
      "total_income_type\n",
      "высокий          7.463150\n",
      "выше среднего    8.541468\n",
      "ниже среднего    8.724224\n",
      "низкий           7.954545\n",
      "dtype: float64\n"
     ]
    }
   ],
   "source": [
    "total_income_type_scoring = (total_income_type_debt / total_income_type) * 100\n",
    "print(total_income_type_scoring)"
   ]
  },
  {
   "cell_type": "markdown",
   "metadata": {},
   "source": [
    "<font color='blue'> Отлично, да, хорошо что сгруппировала доход по квантилям. </font>"
   ]
  },
  {
   "cell_type": "markdown",
   "metadata": {},
   "source": [
    "### Вывод"
   ]
  },
  {
   "cell_type": "markdown",
   "metadata": {},
   "source": [
    "- Клиенты с высоким и низким уровнем дохода отдают кредит в срок чаще, чем те, у кого ежемесячный доход близок к средним значениям."
   ]
  },
  {
   "cell_type": "markdown",
   "metadata": {},
   "source": [
    "#### Как разные цели кредита влияют на его возврат в срок?"
   ]
  },
  {
   "cell_type": "markdown",
   "metadata": {},
   "source": [
    "Сгруппируем таблицу data по цели кредита:"
   ]
  },
  {
   "cell_type": "code",
   "execution_count": 39,
   "metadata": {
    "scrolled": true
   },
   "outputs": [
    {
     "name": "stdout",
     "output_type": "stream",
     "text": [
      "purpose_id\n",
      "автомобиль                   4308\n",
      "жильё                        9502\n",
      "коммерческая недвижимость    1312\n",
      "образование                  4014\n",
      "свадьба                      2335\n",
      "Name: purpose_id, dtype: int64\n"
     ]
    }
   ],
   "source": [
    "purpose = data.groupby('purpose_id')['purpose_id'].count()\n",
    "print(purpose)"
   ]
  },
  {
   "cell_type": "markdown",
   "metadata": {},
   "source": [
    "Сгруппируем клиентов по цели кредита и информации о предудыщих задолженностях."
   ]
  },
  {
   "cell_type": "code",
   "execution_count": 40,
   "metadata": {
    "scrolled": true
   },
   "outputs": [
    {
     "name": "stdout",
     "output_type": "stream",
     "text": [
      "purpose_id\n",
      "автомобиль                   403\n",
      "жильё                        683\n",
      "коммерческая недвижимость     99\n",
      "образование                  370\n",
      "свадьба                      186\n",
      "Name: debt, dtype: int64\n"
     ]
    }
   ],
   "source": [
    "purpose_debt = data.groupby('purpose_id')['debt'].sum()\n",
    "print(purpose_debt)"
   ]
  },
  {
   "cell_type": "markdown",
   "metadata": {},
   "source": [
    "Узнаем процентное отношение взявших кредит и тех, у кого были задолженности, в зависимости от цели."
   ]
  },
  {
   "cell_type": "code",
   "execution_count": 41,
   "metadata": {
    "scrolled": true
   },
   "outputs": [
    {
     "name": "stdout",
     "output_type": "stream",
     "text": [
      "purpose_id\n",
      "автомобиль                   9.354689\n",
      "жильё                        7.187960\n",
      "коммерческая недвижимость    7.545732\n",
      "образование                  9.217738\n",
      "свадьба                      7.965739\n",
      "dtype: float64\n"
     ]
    }
   ],
   "source": [
    "purpose_scoring = (purpose_debt / purpose) * 100\n",
    "print(purpose_scoring)"
   ]
  },
  {
   "cell_type": "markdown",
   "metadata": {},
   "source": [
    "<font color='blue'> Здесь тоже все правильно </font>"
   ]
  },
  {
   "cell_type": "markdown",
   "metadata": {},
   "source": [
    "### Вывод"
   ]
  },
  {
   "cell_type": "markdown",
   "metadata": {},
   "source": [
    "- Кредиты, взятые на покупку автомобиля и на получение образования отдаются реже\n",
    "- Чаще всего возвращают в срок кредиты на жильё"
   ]
  },
  {
   "cell_type": "markdown",
   "metadata": {},
   "source": [
    "### Шаг 4. Общий вывод"
   ]
  },
  {
   "cell_type": "markdown",
   "metadata": {},
   "source": [
    "Гипотезы:\n",
    "- семейное положение влияет на факт погашения кредита в срок\n",
    "- количество детей клиента влияет на факт погашения кредита в срок\n",
    "#### Общие выводы:\n",
    "\n",
    "Наличие семьи влияет на сроки возвращения кредита: клиенты в официально зарегистрированных отношениях или когда-либо в них состоявшие отдают кредит в срок чаще, при этом бездетные клиенты меньше имеют задолженностей по займам, чем те у кого их один и более.\n",
    "В результате обе гипотезы подтверждены."
   ]
  },
  {
   "cell_type": "markdown",
   "metadata": {},
   "source": [
    "<font color='blue'> Проект в целом сделан очень хорошо. Постарайся поправить несколько небольших замечаний, чтоб сделать его отличным. Особенно обрати внимание на скрытые дубликаты. Удачи </font>"
   ]
  },
  {
   "cell_type": "markdown",
   "metadata": {},
   "source": [
    "### Чек-лист готовности проекта\n",
    "\n",
    "Поставьте 'x' в выполненных пунктах. Далее нажмите Shift+Enter."
   ]
  },
  {
   "cell_type": "markdown",
   "metadata": {},
   "source": [
    "- [x]  открыт файл;\n",
    "- [x]  файл изучен;\n",
    "- [x]  определены пропущенные значения;\n",
    "- [x]  заполнены пропущенные значения;\n",
    "- [x]  есть пояснение какие пропущенные значения обнаружены;\n",
    "- [x]  описаны возможные причины появления пропусков в данных;\n",
    "- [x]  объяснено по какому принципу заполнены пропуски;\n",
    "- [x]  заменен вещественный тип данных на целочисленный;\n",
    "- [x]  есть пояснение какой метод используется для изменения типа данных и почему;\n",
    "- [x]  удалены дубликаты;\n",
    "- [x]  есть пояснение какой метод используется для поиска и удаления дубликатов;\n",
    "- [x]  описаны возможные причины появления дубликатов в данных;\n",
    "- [X]  выделены леммы в значениях столбца с целями получения кредита;\n",
    "- [X]  описан процесс лемматизации;\n",
    "- [X]  данные категоризированы;\n",
    "- [X]  есть объяснение принципа категоризации данных;\n",
    "- [x]  есть ответ на вопрос \"Есть ли зависимость между наличием детей и возвратом кредита в срок?\";\n",
    "- [x]  есть ответ на вопрос \"Есть ли зависимость между семейным положением и возвратом кредита в срок?\";\n",
    "- [x]  есть ответ на вопрос \"Есть ли зависимость между уровнем дохода и возвратом кредита в срок?\";\n",
    "- [x]  есть ответ на вопрос \"Как разные цели кредита влияют на его возврат в срок?\";\n",
    "- [x]  в каждом этапе есть выводы;\n",
    "- [x]  есть общий вывод."
   ]
  }
 ],
 "metadata": {
  "kernelspec": {
   "display_name": "Python 3",
   "language": "python",
   "name": "python3"
  },
  "language_info": {
   "codemirror_mode": {
    "name": "ipython",
    "version": 3
   },
   "file_extension": ".py",
   "mimetype": "text/x-python",
   "name": "python",
   "nbconvert_exporter": "python",
   "pygments_lexer": "ipython3",
   "version": "3.7.4"
  }
 },
 "nbformat": 4,
 "nbformat_minor": 2
}
