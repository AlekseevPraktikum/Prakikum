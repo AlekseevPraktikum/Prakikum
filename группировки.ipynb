{
 "cells": [
  {
   "cell_type": "markdown",
   "metadata": {},
   "source": [
    "### Группировки и агрегация в деле"
   ]
  },
  {
   "cell_type": "markdown",
   "metadata": {},
   "source": [
    "Друзья, тема группировок вызывает множество вопросов, давайте еще немнгого погруппируем и поагрегируем данные. Повторение, как говорится, мать <s>заика</s> учения."
   ]
  },
  {
   "cell_type": "markdown",
   "metadata": {},
   "source": [
    "Итак, представим себе, Гэндальф прислал нам вот такой датасет и попросил выяснить по возможности, характерные особенности рас в Средиземье."
   ]
  },
  {
   "cell_type": "code",
   "execution_count": 5,
   "metadata": {},
   "outputs": [],
   "source": [
    "import pandas as pd"
   ]
  },
  {
   "cell_type": "code",
   "execution_count": 6,
   "metadata": {},
   "outputs": [
    {
     "data": {
      "text/html": [
       "<div>\n",
       "<style scoped>\n",
       "    .dataframe tbody tr th:only-of-type {\n",
       "        vertical-align: middle;\n",
       "    }\n",
       "\n",
       "    .dataframe tbody tr th {\n",
       "        vertical-align: top;\n",
       "    }\n",
       "\n",
       "    .dataframe thead th {\n",
       "        text-align: right;\n",
       "    }\n",
       "</style>\n",
       "<table border=\"1\" class=\"dataframe\">\n",
       "  <thead>\n",
       "    <tr style=\"text-align: right;\">\n",
       "      <th></th>\n",
       "      <th>имя</th>\n",
       "      <th>пол</th>\n",
       "      <th>раса</th>\n",
       "      <th>возраст</th>\n",
       "      <th>вес</th>\n",
       "    </tr>\n",
       "  </thead>\n",
       "  <tbody>\n",
       "    <tr>\n",
       "      <td>0</td>\n",
       "      <td>Галадриэль</td>\n",
       "      <td>жен</td>\n",
       "      <td>эльф</td>\n",
       "      <td>6992</td>\n",
       "      <td>55</td>\n",
       "    </tr>\n",
       "    <tr>\n",
       "      <td>1</td>\n",
       "      <td>Леголас</td>\n",
       "      <td>муж</td>\n",
       "      <td>эльф</td>\n",
       "      <td>2931</td>\n",
       "      <td>64</td>\n",
       "    </tr>\n",
       "    <tr>\n",
       "      <td>2</td>\n",
       "      <td>Арвен</td>\n",
       "      <td>жен</td>\n",
       "      <td>эльф</td>\n",
       "      <td>2777</td>\n",
       "      <td>51</td>\n",
       "    </tr>\n",
       "    <tr>\n",
       "      <td>3</td>\n",
       "      <td>Гимли</td>\n",
       "      <td>муж</td>\n",
       "      <td>гном</td>\n",
       "      <td>87</td>\n",
       "      <td>95</td>\n",
       "    </tr>\n",
       "    <tr>\n",
       "      <td>4</td>\n",
       "      <td>Торин Дубощит</td>\n",
       "      <td>муж</td>\n",
       "      <td>гном</td>\n",
       "      <td>105</td>\n",
       "      <td>87</td>\n",
       "    </tr>\n",
       "    <tr>\n",
       "      <td>5</td>\n",
       "      <td>Боромир</td>\n",
       "      <td>муж</td>\n",
       "      <td>человек</td>\n",
       "      <td>40</td>\n",
       "      <td>70</td>\n",
       "    </tr>\n",
       "    <tr>\n",
       "      <td>6</td>\n",
       "      <td>Фарамир</td>\n",
       "      <td>муж</td>\n",
       "      <td>человек</td>\n",
       "      <td>35</td>\n",
       "      <td>73</td>\n",
       "    </tr>\n",
       "    <tr>\n",
       "      <td>7</td>\n",
       "      <td>Бильбо</td>\n",
       "      <td>муж</td>\n",
       "      <td>хоббит</td>\n",
       "      <td>128</td>\n",
       "      <td>48</td>\n",
       "    </tr>\n",
       "    <tr>\n",
       "      <td>8</td>\n",
       "      <td>Фродо</td>\n",
       "      <td>муж</td>\n",
       "      <td>хоббит</td>\n",
       "      <td>50</td>\n",
       "      <td>43</td>\n",
       "    </tr>\n",
       "    <tr>\n",
       "      <td>9</td>\n",
       "      <td>Сэм</td>\n",
       "      <td>муж</td>\n",
       "      <td>хоббит</td>\n",
       "      <td>38</td>\n",
       "      <td>49</td>\n",
       "    </tr>\n",
       "  </tbody>\n",
       "</table>\n",
       "</div>"
      ],
      "text/plain": [
       "             имя  пол     раса  возраст  вес\n",
       "0     Галадриэль  жен     эльф     6992   55\n",
       "1        Леголас  муж     эльф     2931   64\n",
       "2          Арвен  жен     эльф     2777   51\n",
       "3          Гимли  муж     гном       87   95\n",
       "4  Торин Дубощит  муж     гном      105   87\n",
       "5        Боромир  муж  человек       40   70\n",
       "6        Фарамир  муж  человек       35   73\n",
       "7         Бильбо  муж   хоббит      128   48\n",
       "8          Фродо  муж   хоббит       50   43\n",
       "9            Сэм  муж   хоббит       38   49"
      ]
     },
     "execution_count": 6,
     "metadata": {},
     "output_type": "execute_result"
    }
   ],
   "source": [
    "lotr = pd.DataFrame(data={'имя': ['Галадриэль', 'Леголас', 'Арвен', 'Гимли', 'Торин Дубощит', 'Боромир', 'Фарамир', 'Бильбо', 'Фродо', 'Сэм'],\n",
    "                        'пол': ['жен', 'муж', 'жен', 'муж', 'муж', 'муж', 'муж', 'муж', 'муж', 'муж'],\n",
    "                        'раса': ['эльф', 'эльф', 'эльф', 'гном', 'гном', 'человек', 'человек', 'хоббит', 'хоббит', 'хоббит'],\n",
    "                        'возраст': [6992, 2931, 2777, 87, 105, 40, 35, 128, 50, 38],\n",
    "                        'вес': [55, 64, 51, 95, 87, 70, 73, 48, 43, 49] \n",
    "   })\n",
    "lotr"
   ]
  },
  {
   "cell_type": "markdown",
   "metadata": {},
   "source": [
    "Группировка помогает нам найти некие показатели, характерные для категорий данных. Например, посмотрим, как отличаеются  средние показатели персонажей, в зависимости от расы."
   ]
  },
  {
   "cell_type": "code",
   "execution_count": 7,
   "metadata": {},
   "outputs": [
    {
     "data": {
      "text/html": [
       "<div>\n",
       "<style scoped>\n",
       "    .dataframe tbody tr th:only-of-type {\n",
       "        vertical-align: middle;\n",
       "    }\n",
       "\n",
       "    .dataframe tbody tr th {\n",
       "        vertical-align: top;\n",
       "    }\n",
       "\n",
       "    .dataframe thead th {\n",
       "        text-align: right;\n",
       "    }\n",
       "</style>\n",
       "<table border=\"1\" class=\"dataframe\">\n",
       "  <thead>\n",
       "    <tr style=\"text-align: right;\">\n",
       "      <th></th>\n",
       "      <th>возраст</th>\n",
       "      <th>вес</th>\n",
       "    </tr>\n",
       "    <tr>\n",
       "      <th>раса</th>\n",
       "      <th></th>\n",
       "      <th></th>\n",
       "    </tr>\n",
       "  </thead>\n",
       "  <tbody>\n",
       "    <tr>\n",
       "      <td>гном</td>\n",
       "      <td>96.000000</td>\n",
       "      <td>91.000000</td>\n",
       "    </tr>\n",
       "    <tr>\n",
       "      <td>хоббит</td>\n",
       "      <td>72.000000</td>\n",
       "      <td>46.666667</td>\n",
       "    </tr>\n",
       "    <tr>\n",
       "      <td>человек</td>\n",
       "      <td>37.500000</td>\n",
       "      <td>71.500000</td>\n",
       "    </tr>\n",
       "    <tr>\n",
       "      <td>эльф</td>\n",
       "      <td>4233.333333</td>\n",
       "      <td>56.666667</td>\n",
       "    </tr>\n",
       "  </tbody>\n",
       "</table>\n",
       "</div>"
      ],
      "text/plain": [
       "             возраст        вес\n",
       "раса                           \n",
       "гном       96.000000  91.000000\n",
       "хоббит     72.000000  46.666667\n",
       "человек    37.500000  71.500000\n",
       "эльф     4233.333333  56.666667"
      ]
     },
     "execution_count": 7,
     "metadata": {},
     "output_type": "execute_result"
    }
   ],
   "source": [
    "lotr.groupby('раса').mean()"
   ]
  },
  {
   "cell_type": "markdown",
   "metadata": {},
   "source": [
    "Pandas во всей красе: короткий код, понятный результат. Напротив имени каждой расы видим средние показатели. Эльфы живут очень долго, люди, увы, меньше всех, хоббиты весят мало, гномы - больше всех. Столько выводов в одну строку кода, Гэндальф бы нами гордился.    \n",
    "Обратим внимание на то, что к нечисловым полям невозможно применить функцию среднего, поэтому в результате автоматически остались лишь числовые поля - возраст и вес."
   ]
  },
  {
   "cell_type": "markdown",
   "metadata": {},
   "source": [
    "Предположим, мы собираемся в Рохан на корабле с ограниченной грузоподъемностью 1000 кг и нас не интересует возраст, а только средний вес для различных рас.  \n",
    "Представленный выше результат - это обычный датафрейм pandas, поэтому мы спокойно можем привычным образом выделить один из его столбцов:"
   ]
  },
  {
   "cell_type": "code",
   "execution_count": 8,
   "metadata": {},
   "outputs": [
    {
     "data": {
      "text/plain": [
       "раса\n",
       "гном       91.000000\n",
       "хоббит     46.666667\n",
       "человек    71.500000\n",
       "эльф       56.666667\n",
       "Name: вес, dtype: float64"
      ]
     },
     "execution_count": 8,
     "metadata": {},
     "output_type": "execute_result"
    }
   ],
   "source": [
    "lotr.groupby('раса').mean()['вес']"
   ]
  },
  {
   "cell_type": "markdown",
   "metadata": {},
   "source": [
    "Отлично, теперь мы знаем, что в среднем можем взять с собой 10 гномов. Или 21-го хоббита."
   ]
  },
  {
   "cell_type": "markdown",
   "metadata": {},
   "source": [
    "Хотя стоп. Вдруг нам попадутся особо большие гномы? Давайте перестрахуемся и посмотрим <i>максимальный</i> вес для каждой расы."
   ]
  },
  {
   "cell_type": "code",
   "execution_count": 9,
   "metadata": {},
   "outputs": [
    {
     "data": {
      "text/plain": [
       "раса\n",
       "гном       95\n",
       "хоббит     49\n",
       "человек    73\n",
       "эльф       64\n",
       "Name: вес, dtype: int64"
      ]
     },
     "execution_count": 9,
     "metadata": {},
     "output_type": "execute_result"
    }
   ],
   "source": [
    "lotr.groupby('раса').max()['вес']"
   ]
  },
  {
   "cell_type": "markdown",
   "metadata": {},
   "source": [
    "Похоже, даже самых тяжелых гномов поместится все еще 10."
   ]
  },
  {
   "cell_type": "markdown",
   "metadata": {},
   "source": [
    "Итак, применив различные функции агрегации, мы узнали много полезного о гномах и прочих расах Средиземья."
   ]
  },
  {
   "cell_type": "markdown",
   "metadata": {},
   "source": [
    "Кстати, функция `max`, в отличие от `mean`, работает со строками (`'a' < 'b'`), поэтому, не указывая столец, мы получим результаты по всем полям:"
   ]
  },
  {
   "cell_type": "code",
   "execution_count": 10,
   "metadata": {},
   "outputs": [
    {
     "data": {
      "text/html": [
       "<div>\n",
       "<style scoped>\n",
       "    .dataframe tbody tr th:only-of-type {\n",
       "        vertical-align: middle;\n",
       "    }\n",
       "\n",
       "    .dataframe tbody tr th {\n",
       "        vertical-align: top;\n",
       "    }\n",
       "\n",
       "    .dataframe thead th {\n",
       "        text-align: right;\n",
       "    }\n",
       "</style>\n",
       "<table border=\"1\" class=\"dataframe\">\n",
       "  <thead>\n",
       "    <tr style=\"text-align: right;\">\n",
       "      <th></th>\n",
       "      <th>имя</th>\n",
       "      <th>пол</th>\n",
       "      <th>возраст</th>\n",
       "      <th>вес</th>\n",
       "    </tr>\n",
       "    <tr>\n",
       "      <th>раса</th>\n",
       "      <th></th>\n",
       "      <th></th>\n",
       "      <th></th>\n",
       "      <th></th>\n",
       "    </tr>\n",
       "  </thead>\n",
       "  <tbody>\n",
       "    <tr>\n",
       "      <td>гном</td>\n",
       "      <td>Торин Дубощит</td>\n",
       "      <td>муж</td>\n",
       "      <td>105</td>\n",
       "      <td>95</td>\n",
       "    </tr>\n",
       "    <tr>\n",
       "      <td>хоббит</td>\n",
       "      <td>Фродо</td>\n",
       "      <td>муж</td>\n",
       "      <td>128</td>\n",
       "      <td>49</td>\n",
       "    </tr>\n",
       "    <tr>\n",
       "      <td>человек</td>\n",
       "      <td>Фарамир</td>\n",
       "      <td>муж</td>\n",
       "      <td>40</td>\n",
       "      <td>73</td>\n",
       "    </tr>\n",
       "    <tr>\n",
       "      <td>эльф</td>\n",
       "      <td>Леголас</td>\n",
       "      <td>муж</td>\n",
       "      <td>6992</td>\n",
       "      <td>64</td>\n",
       "    </tr>\n",
       "  </tbody>\n",
       "</table>\n",
       "</div>"
      ],
      "text/plain": [
       "                   имя  пол  возраст  вес\n",
       "раса                                     \n",
       "гном     Торин Дубощит  муж      105   95\n",
       "хоббит           Фродо  муж      128   49\n",
       "человек        Фарамир  муж       40   73\n",
       "эльф           Леголас  муж     6992   64"
      ]
     },
     "execution_count": 10,
     "metadata": {},
     "output_type": "execute_result"
    }
   ],
   "source": [
    "lotr.groupby('раса').max()"
   ]
  },
  {
   "cell_type": "markdown",
   "metadata": {},
   "source": [
    "С точки зрения python \"Торин\" больше, чем \"Гимли\", а \"Леголас\" больше, чем \"Андариэль\"."
   ]
  },
  {
   "cell_type": "markdown",
   "metadata": {},
   "source": [
    "Безусловно, мы можем группировать и по другим категориальным полям. Давайте посмотрим, как дела обстоят у полов:"
   ]
  },
  {
   "cell_type": "code",
   "execution_count": 11,
   "metadata": {},
   "outputs": [
    {
     "data": {
      "text/html": [
       "<div>\n",
       "<style scoped>\n",
       "    .dataframe tbody tr th:only-of-type {\n",
       "        vertical-align: middle;\n",
       "    }\n",
       "\n",
       "    .dataframe tbody tr th {\n",
       "        vertical-align: top;\n",
       "    }\n",
       "\n",
       "    .dataframe thead th {\n",
       "        text-align: right;\n",
       "    }\n",
       "</style>\n",
       "<table border=\"1\" class=\"dataframe\">\n",
       "  <thead>\n",
       "    <tr style=\"text-align: right;\">\n",
       "      <th></th>\n",
       "      <th>возраст</th>\n",
       "      <th>вес</th>\n",
       "    </tr>\n",
       "    <tr>\n",
       "      <th>пол</th>\n",
       "      <th></th>\n",
       "      <th></th>\n",
       "    </tr>\n",
       "  </thead>\n",
       "  <tbody>\n",
       "    <tr>\n",
       "      <td>жен</td>\n",
       "      <td>4884.50</td>\n",
       "      <td>53.000</td>\n",
       "    </tr>\n",
       "    <tr>\n",
       "      <td>муж</td>\n",
       "      <td>426.75</td>\n",
       "      <td>66.125</td>\n",
       "    </tr>\n",
       "  </tbody>\n",
       "</table>\n",
       "</div>"
      ],
      "text/plain": [
       "     возраст     вес\n",
       "пол                 \n",
       "жен  4884.50  53.000\n",
       "муж   426.75  66.125"
      ]
     },
     "execution_count": 11,
     "metadata": {},
     "output_type": "execute_result"
    }
   ],
   "source": [
    "lotr.groupby('пол').mean()"
   ]
  },
  {
   "cell_type": "markdown",
   "metadata": {},
   "source": [
    "Хороший пример того, как данные могут вводить в заблуждение. Из женщин у нас представлены только эльфийки, поэтому создаётся впечатление, что они живут гораздо дольше мужчин, которым люди портят всю статистику. В работе нужно опасаться подобных выводов.  \n",
    "Но с весом все нормально, мужчины в среднем, весят несколько больше."
   ]
  },
  {
   "cell_type": "markdown",
   "metadata": {},
   "source": [
    "#### Бонус: структура groupby изнутри."
   ]
  },
  {
   "cell_type": "markdown",
   "metadata": {},
   "source": [
    "Итак, приведенного выше шаблона достаточно, чтобы делать большинство вещей, связанных с группировкой и агрегацией данных. Но для самых любопытных хотел бы рассказать о самой структуре данных groupby и немного заглянуть \"под капот\" происходящих процессов.  \n",
    "Дисклеймер: <i> многим на данном этапе это может показаться непонятным, это сугубо дополнительный материал, для выполнения проектов и продвидения по курсу его понимание не требуется. Тем, кто учит программирование с нуля, вероятно, не стоит пока этим забивать голову, а сосредоточиться на проекте. "
   ]
  },
  {
   "cell_type": "markdown",
   "metadata": {},
   "source": [
    "И тем не менее, для полноты повествования я все же приведу небольшое объяснение."
   ]
  },
  {
   "cell_type": "markdown",
   "metadata": {},
   "source": [
    "Итак, наверняка многим из вас было интересно, что это за groupby такой и что в нем хранится. Давайте попробуем вывести его на экран:"
   ]
  },
  {
   "cell_type": "code",
   "execution_count": 12,
   "metadata": {},
   "outputs": [
    {
     "data": {
      "text/plain": [
       "<pandas.core.groupby.generic.DataFrameGroupBy object at 0x7fa81b1e3e50>"
      ]
     },
     "execution_count": 12,
     "metadata": {},
     "output_type": "execute_result"
    }
   ],
   "source": [
    "lotr.groupby('раса')"
   ]
  },
  {
   "cell_type": "markdown",
   "metadata": {},
   "source": [
    "Получили нечто невнятное, никаких данных не видно. Дело в том, что groupby хоть и очень похож на список, но это не список и не датафрейм в привычном понимани слова. Это специальный объект pandas, давайте его исследуем при помощи цикла."
   ]
  },
  {
   "cell_type": "code",
   "execution_count": 13,
   "metadata": {},
   "outputs": [],
   "source": [
    "group = lotr.groupby('раса')"
   ]
  },
  {
   "cell_type": "code",
   "execution_count": 14,
   "metadata": {},
   "outputs": [
    {
     "name": "stdout",
     "output_type": "stream",
     "text": [
      "Очередной элемент группировки:\n"
     ]
    },
    {
     "data": {
      "text/plain": [
       "('гном',\n",
       "              имя  пол  раса  возраст  вес\n",
       " 3          Гимли  муж  гном       87   95\n",
       " 4  Торин Дубощит  муж  гном      105   87)"
      ]
     },
     "metadata": {},
     "output_type": "display_data"
    },
    {
     "name": "stdout",
     "output_type": "stream",
     "text": [
      "Очередной элемент группировки:\n"
     ]
    },
    {
     "data": {
      "text/plain": [
       "('хоббит',\n",
       "       имя  пол    раса  возраст  вес\n",
       " 7  Бильбо  муж  хоббит      128   48\n",
       " 8   Фродо  муж  хоббит       50   43\n",
       " 9     Сэм  муж  хоббит       38   49)"
      ]
     },
     "metadata": {},
     "output_type": "display_data"
    },
    {
     "name": "stdout",
     "output_type": "stream",
     "text": [
      "Очередной элемент группировки:\n"
     ]
    },
    {
     "data": {
      "text/plain": [
       "('человек',\n",
       "        имя  пол     раса  возраст  вес\n",
       " 5  Боромир  муж  человек       40   70\n",
       " 6  Фарамир  муж  человек       35   73)"
      ]
     },
     "metadata": {},
     "output_type": "display_data"
    },
    {
     "name": "stdout",
     "output_type": "stream",
     "text": [
      "Очередной элемент группировки:\n"
     ]
    },
    {
     "data": {
      "text/plain": [
       "('эльф',\n",
       "           имя  пол  раса  возраст  вес\n",
       " 0  Галадриэль  жен  эльф     6992   55\n",
       " 1     Леголас  муж  эльф     2931   64\n",
       " 2       Арвен  жен  эльф     2777   51)"
      ]
     },
     "metadata": {},
     "output_type": "display_data"
    }
   ],
   "source": [
    "for element in group:\n",
    "    print('Очередной элемент группировки:')\n",
    "    display(element)"
   ]
  },
  {
   "cell_type": "markdown",
   "metadata": {},
   "source": [
    "Итак, что же мы видим: группировка разбивает данные на пары, где имени группы соответствует некий мини-датафрейм, в котором собраны все строки, относящиеся к этой группе:"
   ]
  },
  {
   "cell_type": "markdown",
   "metadata": {},
   "source": [
    "<code>[\n",
    "    ['группа_1', датафрейм со всеми строками их этой группы],\n",
    "    ['группа_2', датафрейм со всеми строками их этой группы],\n",
    "    ['группа_3', датафрейм со всеми строками их этой группы],\n",
    "    ...\n",
    "]"
   ]
  },
  {
   "cell_type": "markdown",
   "metadata": {},
   "source": [
    "Что же происходит, когда мы к группировке применяем некую функцию агрегации? Она просто применяется к каждому мини-датафрейму отдельно и результаты заносятся в аккуратную табличку напротив имени группы."
   ]
  },
  {
   "cell_type": "markdown",
   "metadata": {},
   "source": [
    "Давайте создадим датафрейм, где будут отобраны только хоббиты и посчитаем средние значения:"
   ]
  },
  {
   "cell_type": "code",
   "execution_count": 24,
   "metadata": {},
   "outputs": [
    {
     "data": {
      "text/html": [
       "<div>\n",
       "<style scoped>\n",
       "    .dataframe tbody tr th:only-of-type {\n",
       "        vertical-align: middle;\n",
       "    }\n",
       "\n",
       "    .dataframe tbody tr th {\n",
       "        vertical-align: top;\n",
       "    }\n",
       "\n",
       "    .dataframe thead th {\n",
       "        text-align: right;\n",
       "    }\n",
       "</style>\n",
       "<table border=\"1\" class=\"dataframe\">\n",
       "  <thead>\n",
       "    <tr style=\"text-align: right;\">\n",
       "      <th></th>\n",
       "      <th>имя</th>\n",
       "      <th>пол</th>\n",
       "      <th>раса</th>\n",
       "      <th>возраст</th>\n",
       "      <th>вес</th>\n",
       "    </tr>\n",
       "  </thead>\n",
       "  <tbody>\n",
       "    <tr>\n",
       "      <td>7</td>\n",
       "      <td>Бильбо</td>\n",
       "      <td>муж</td>\n",
       "      <td>хоббит</td>\n",
       "      <td>128</td>\n",
       "      <td>48</td>\n",
       "    </tr>\n",
       "    <tr>\n",
       "      <td>8</td>\n",
       "      <td>Фродо</td>\n",
       "      <td>муж</td>\n",
       "      <td>хоббит</td>\n",
       "      <td>50</td>\n",
       "      <td>43</td>\n",
       "    </tr>\n",
       "    <tr>\n",
       "      <td>9</td>\n",
       "      <td>Сэм</td>\n",
       "      <td>муж</td>\n",
       "      <td>хоббит</td>\n",
       "      <td>38</td>\n",
       "      <td>49</td>\n",
       "    </tr>\n",
       "  </tbody>\n",
       "</table>\n",
       "</div>"
      ],
      "text/plain": [
       "      имя  пол    раса  возраст  вес\n",
       "7  Бильбо  муж  хоббит      128   48\n",
       "8   Фродо  муж  хоббит       50   43\n",
       "9     Сэм  муж  хоббит       38   49"
      ]
     },
     "execution_count": 24,
     "metadata": {},
     "output_type": "execute_result"
    }
   ],
   "source": [
    "hobbits = lotr[lotr['раса'] == 'хоббит']\n",
    "hobbits"
   ]
  },
  {
   "cell_type": "code",
   "execution_count": 25,
   "metadata": {},
   "outputs": [
    {
     "data": {
      "text/plain": [
       "возраст    72.000000\n",
       "вес        46.666667\n",
       "dtype: float64"
      ]
     },
     "execution_count": 25,
     "metadata": {},
     "output_type": "execute_result"
    }
   ],
   "source": [
    "hobbits.mean()"
   ]
  },
  {
   "cell_type": "markdown",
   "metadata": {},
   "source": [
    "Получили средние значения числовых параметров для хоббитов. То же самое происходит в группировке, только метод применяется к мини-датафреймам сразу для всех групп:"
   ]
  },
  {
   "cell_type": "code",
   "execution_count": 27,
   "metadata": {},
   "outputs": [
    {
     "data": {
      "text/html": [
       "<div>\n",
       "<style scoped>\n",
       "    .dataframe tbody tr th:only-of-type {\n",
       "        vertical-align: middle;\n",
       "    }\n",
       "\n",
       "    .dataframe tbody tr th {\n",
       "        vertical-align: top;\n",
       "    }\n",
       "\n",
       "    .dataframe thead th {\n",
       "        text-align: right;\n",
       "    }\n",
       "</style>\n",
       "<table border=\"1\" class=\"dataframe\">\n",
       "  <thead>\n",
       "    <tr style=\"text-align: right;\">\n",
       "      <th></th>\n",
       "      <th>возраст</th>\n",
       "      <th>вес</th>\n",
       "    </tr>\n",
       "    <tr>\n",
       "      <th>раса</th>\n",
       "      <th></th>\n",
       "      <th></th>\n",
       "    </tr>\n",
       "  </thead>\n",
       "  <tbody>\n",
       "    <tr>\n",
       "      <td>гном</td>\n",
       "      <td>96.000000</td>\n",
       "      <td>91.000000</td>\n",
       "    </tr>\n",
       "    <tr>\n",
       "      <td>хоббит</td>\n",
       "      <td>72.000000</td>\n",
       "      <td>46.666667</td>\n",
       "    </tr>\n",
       "    <tr>\n",
       "      <td>человек</td>\n",
       "      <td>37.500000</td>\n",
       "      <td>71.500000</td>\n",
       "    </tr>\n",
       "    <tr>\n",
       "      <td>эльф</td>\n",
       "      <td>4233.333333</td>\n",
       "      <td>56.666667</td>\n",
       "    </tr>\n",
       "  </tbody>\n",
       "</table>\n",
       "</div>"
      ],
      "text/plain": [
       "             возраст        вес\n",
       "раса                           \n",
       "гном       96.000000  91.000000\n",
       "хоббит     72.000000  46.666667\n",
       "человек    37.500000  71.500000\n",
       "эльф     4233.333333  56.666667"
      ]
     },
     "execution_count": 27,
     "metadata": {},
     "output_type": "execute_result"
    }
   ],
   "source": [
    "group.mean()"
   ]
  },
  {
   "cell_type": "markdown",
   "metadata": {},
   "source": [
    "Видим полученные выше результаты напротив хоббитов.  \n",
    "На этом у меня всё, спасибо всем, кто осилил, удачных всем агрегаций!"
   ]
  }
 ],
 "metadata": {
  "ExecuteTimeLog": [
   {
    "duration": 1670,
    "start_time": "2021-06-09T12:30:00.643Z"
   },
   {
    "duration": 15,
    "start_time": "2021-06-09T12:30:17.768Z"
   },
   {
    "duration": 6,
    "start_time": "2021-06-09T12:30:25.062Z"
   },
   {
    "duration": 6,
    "start_time": "2021-06-09T12:30:28.689Z"
   },
   {
    "duration": 50,
    "start_time": "2021-06-09T12:30:38.456Z"
   },
   {
    "duration": 28,
    "start_time": "2021-06-09T16:17:55.380Z"
   },
   {
    "duration": 22,
    "start_time": "2021-06-09T16:17:59.514Z"
   },
   {
    "duration": 5,
    "start_time": "2021-06-12T13:02:28.163Z"
   },
   {
    "duration": 416,
    "start_time": "2021-06-12T13:02:40.265Z"
   },
   {
    "duration": 14,
    "start_time": "2021-06-12T13:02:48.690Z"
   },
   {
    "duration": 301,
    "start_time": "2021-06-12T13:02:53.920Z"
   },
   {
    "duration": 5,
    "start_time": "2021-06-12T13:04:32.854Z"
   },
   {
    "duration": 589,
    "start_time": "2021-06-12T13:04:41.995Z"
   },
   {
    "duration": 291,
    "start_time": "2021-06-12T13:05:54.763Z"
   },
   {
    "duration": 237,
    "start_time": "2021-06-12T13:06:08.510Z"
   },
   {
    "duration": 354,
    "start_time": "2021-06-12T13:06:10.266Z"
   },
   {
    "duration": 3,
    "start_time": "2021-06-12T13:06:27.067Z"
   },
   {
    "duration": 6,
    "start_time": "2021-06-12T13:06:28.572Z"
   },
   {
    "duration": 6,
    "start_time": "2021-06-12T13:06:43.719Z"
   },
   {
    "duration": 6,
    "start_time": "2021-06-12T13:07:18.095Z"
   },
   {
    "duration": 315,
    "start_time": "2021-06-12T13:07:21.182Z"
   },
   {
    "duration": 434,
    "start_time": "2021-07-06T06:46:30.803Z"
   },
   {
    "duration": 109,
    "start_time": "2021-07-06T06:46:45.342Z"
   },
   {
    "duration": 520,
    "start_time": "2021-07-06T06:46:57.487Z"
   },
   {
    "duration": 376,
    "start_time": "2021-07-06T06:47:47.958Z"
   },
   {
    "duration": 86,
    "start_time": "2021-07-06T06:50:43.130Z"
   },
   {
    "duration": 585,
    "start_time": "2021-07-06T06:50:47.388Z"
   },
   {
    "duration": 251,
    "start_time": "2021-07-06T06:50:52.327Z"
   },
   {
    "duration": 56,
    "start_time": "2021-07-06T07:01:25.577Z"
   },
   {
    "duration": 221,
    "start_time": "2021-07-06T07:05:56.097Z"
   },
   {
    "duration": 220,
    "start_time": "2021-07-06T07:06:07.625Z"
   },
   {
    "duration": 7,
    "start_time": "2021-07-06T07:42:43.118Z"
   },
   {
    "duration": 167,
    "start_time": "2021-07-06T07:47:07.765Z"
   },
   {
    "duration": 674,
    "start_time": "2021-07-06T07:47:21.190Z"
   },
   {
    "duration": 326,
    "start_time": "2021-07-06T07:47:51.025Z"
   },
   {
    "duration": 219,
    "start_time": "2021-07-06T07:48:58.934Z"
   },
   {
    "duration": 51,
    "start_time": "2021-07-06T08:11:18.686Z"
   },
   {
    "duration": 86,
    "start_time": "2021-07-06T08:14:02.967Z"
   },
   {
    "duration": 231,
    "start_time": "2021-07-06T08:14:15.276Z"
   },
   {
    "duration": 327,
    "start_time": "2021-07-06T08:15:04.152Z"
   },
   {
    "duration": 1611,
    "start_time": "2021-07-08T06:45:24.873Z"
   },
   {
    "duration": 41,
    "start_time": "2021-07-08T06:45:30.267Z"
   },
   {
    "duration": 25,
    "start_time": "2021-07-08T06:45:58.098Z"
   },
   {
    "duration": 50,
    "start_time": "2021-07-08T06:51:13.298Z"
   },
   {
    "duration": 31,
    "start_time": "2021-07-08T06:51:26.256Z"
   },
   {
    "duration": 48,
    "start_time": "2021-07-08T06:52:15.849Z"
   },
   {
    "duration": 44,
    "start_time": "2021-07-08T06:52:20.176Z"
   },
   {
    "duration": 43,
    "start_time": "2021-07-08T06:53:00.161Z"
   },
   {
    "duration": 48,
    "start_time": "2021-07-08T06:53:01.616Z"
   },
   {
    "duration": 392,
    "start_time": "2021-07-08T06:53:15.608Z"
   },
   {
    "duration": 46,
    "start_time": "2021-07-08T06:53:30.879Z"
   },
   {
    "duration": 50,
    "start_time": "2021-07-08T06:53:41.522Z"
   },
   {
    "duration": 47,
    "start_time": "2021-07-08T06:53:42.976Z"
   },
   {
    "duration": 80,
    "start_time": "2021-07-08T06:53:49.712Z"
   },
   {
    "duration": 28,
    "start_time": "2021-07-08T06:55:09.632Z"
   },
   {
    "duration": 30,
    "start_time": "2021-07-08T06:55:29.912Z"
   },
   {
    "duration": 30,
    "start_time": "2021-07-08T06:55:56.424Z"
   },
   {
    "duration": 30,
    "start_time": "2021-07-08T06:57:22.750Z"
   },
   {
    "duration": 127,
    "start_time": "2021-07-08T07:34:53.938Z"
   },
   {
    "duration": 860,
    "start_time": "2021-07-08T07:34:56.072Z"
   },
   {
    "duration": 293,
    "start_time": "2021-07-09T07:23:17.296Z"
   },
   {
    "duration": 249,
    "start_time": "2021-07-09T07:23:23.853Z"
   },
   {
    "duration": 1599,
    "start_time": "2021-07-09T07:24:14.291Z"
   },
   {
    "duration": 17,
    "start_time": "2021-07-09T07:24:21.090Z"
   },
   {
    "duration": 787,
    "start_time": "2021-07-09T07:26:04.930Z"
   },
   {
    "duration": 448,
    "start_time": "2021-07-09T07:27:06.424Z"
   },
   {
    "duration": 44,
    "start_time": "2021-07-09T07:27:42.356Z"
   },
   {
    "duration": 1285,
    "start_time": "2021-07-13T15:40:31.583Z"
   },
   {
    "duration": 314,
    "start_time": "2021-07-13T15:46:53.096Z"
   },
   {
    "duration": 362,
    "start_time": "2021-07-13T15:46:59.385Z"
   },
   {
    "duration": 617,
    "start_time": "2021-07-13T17:12:42.767Z"
   },
   {
    "duration": 79,
    "start_time": "2021-07-13T17:13:46.091Z"
   },
   {
    "duration": 83,
    "start_time": "2021-07-13T17:13:56.285Z"
   },
   {
    "duration": 77,
    "start_time": "2021-07-13T17:14:07.949Z"
   },
   {
    "duration": 109,
    "start_time": "2021-07-13T17:14:42.293Z"
   },
   {
    "duration": 76,
    "start_time": "2021-07-13T17:14:49.397Z"
   },
   {
    "duration": 1186,
    "start_time": "2021-07-14T06:46:59.829Z"
   },
   {
    "duration": 236,
    "start_time": "2021-07-14T06:47:25.731Z"
   },
   {
    "duration": 193,
    "start_time": "2021-07-14T06:49:38.889Z"
   },
   {
    "duration": 169,
    "start_time": "2021-07-14T06:50:10.835Z"
   },
   {
    "duration": 21,
    "start_time": "2021-07-14T06:52:44.537Z"
   },
   {
    "duration": 13,
    "start_time": "2021-07-14T06:53:37.482Z"
   },
   {
    "duration": 1441,
    "start_time": "2021-07-15T06:07:38.519Z"
   },
   {
    "duration": 675,
    "start_time": "2021-07-15T06:07:44.985Z"
   },
   {
    "duration": 31,
    "start_time": "2021-07-15T06:07:57.672Z"
   },
   {
    "duration": 7,
    "start_time": "2021-07-15T06:08:30.161Z"
   },
   {
    "duration": 18,
    "start_time": "2021-07-15T06:10:17.353Z"
   },
   {
    "duration": 18,
    "start_time": "2021-07-15T06:11:17.055Z"
   },
   {
    "duration": 14,
    "start_time": "2021-07-15T06:16:01.759Z"
   },
   {
    "duration": 426,
    "start_time": "2021-07-19T07:25:06.531Z"
   },
   {
    "duration": 763,
    "start_time": "2021-07-19T07:25:13.920Z"
   },
   {
    "duration": 717,
    "start_time": "2021-07-19T07:25:15.104Z"
   },
   {
    "duration": 342,
    "start_time": "2021-07-19T07:25:47.816Z"
   },
   {
    "duration": 331,
    "start_time": "2021-07-19T07:26:10.488Z"
   },
   {
    "duration": 35,
    "start_time": "2021-07-19T07:26:16.545Z"
   },
   {
    "duration": 104,
    "start_time": "2021-07-19T07:26:22.649Z"
   },
   {
    "duration": 97,
    "start_time": "2021-07-19T07:26:26.849Z"
   },
   {
    "duration": 693,
    "start_time": "2021-07-19T07:28:25.400Z"
   },
   {
    "duration": 654,
    "start_time": "2021-07-19T07:34:38.087Z"
   },
   {
    "duration": 6,
    "start_time": "2021-07-19T07:35:35.949Z"
   },
   {
    "duration": 6,
    "start_time": "2021-07-19T07:37:43.051Z"
   },
   {
    "duration": 4,
    "start_time": "2021-07-20T06:09:33.634Z"
   },
   {
    "duration": 3,
    "start_time": "2021-07-20T06:09:51.465Z"
   },
   {
    "duration": 3,
    "start_time": "2021-07-20T06:10:00.810Z"
   },
   {
    "duration": 553,
    "start_time": "2021-07-20T06:10:11.742Z"
   },
   {
    "duration": 4,
    "start_time": "2021-07-20T06:10:44.097Z"
   },
   {
    "duration": 3,
    "start_time": "2021-07-20T06:10:46.358Z"
   },
   {
    "duration": 4,
    "start_time": "2021-07-20T06:10:58.079Z"
   },
   {
    "duration": 3,
    "start_time": "2021-07-20T06:11:16.295Z"
   },
   {
    "duration": 3,
    "start_time": "2021-07-20T06:11:17.173Z"
   },
   {
    "duration": 536,
    "start_time": "2021-07-20T06:11:23.484Z"
   },
   {
    "duration": 4,
    "start_time": "2021-07-20T06:11:41.253Z"
   },
   {
    "duration": 3,
    "start_time": "2021-07-20T06:11:42.941Z"
   },
   {
    "duration": 1142,
    "start_time": "2021-07-20T08:34:33.051Z"
   },
   {
    "duration": 126,
    "start_time": "2021-07-20T08:35:09.734Z"
   },
   {
    "duration": 8,
    "start_time": "2021-07-20T08:35:13.486Z"
   },
   {
    "duration": 398,
    "start_time": "2021-07-20T17:38:09.811Z"
   },
   {
    "duration": 1502,
    "start_time": "2021-07-20T17:38:15.519Z"
   },
   {
    "duration": 25,
    "start_time": "2021-07-20T17:38:18.247Z"
   },
   {
    "duration": 5,
    "start_time": "2021-07-20T17:38:39.553Z"
   },
   {
    "duration": 4,
    "start_time": "2021-07-20T17:38:48.642Z"
   },
   {
    "duration": 5,
    "start_time": "2021-07-20T17:38:54.794Z"
   },
   {
    "duration": 4,
    "start_time": "2021-07-20T17:39:24.400Z"
   },
   {
    "duration": 24,
    "start_time": "2021-07-20T17:39:40.761Z"
   },
   {
    "duration": 6,
    "start_time": "2021-07-20T17:39:54.355Z"
   },
   {
    "duration": 6,
    "start_time": "2021-07-20T17:39:59.976Z"
   },
   {
    "duration": 132,
    "start_time": "2021-07-20T17:40:46.573Z"
   },
   {
    "duration": 120,
    "start_time": "2021-07-20T17:41:00.466Z"
   },
   {
    "duration": 412,
    "start_time": "2021-07-20T17:41:04.314Z"
   },
   {
    "duration": 362,
    "start_time": "2021-07-20T17:41:16.124Z"
   },
   {
    "duration": 9,
    "start_time": "2021-07-20T17:41:35.388Z"
   },
   {
    "duration": 4,
    "start_time": "2021-07-21T06:29:01.224Z"
   },
   {
    "duration": 4,
    "start_time": "2021-07-21T06:29:02.614Z"
   },
   {
    "duration": 4,
    "start_time": "2021-07-21T06:29:12.142Z"
   },
   {
    "duration": 3,
    "start_time": "2021-07-21T06:29:26.896Z"
   },
   {
    "duration": 5,
    "start_time": "2021-07-21T06:29:28.446Z"
   },
   {
    "duration": 4,
    "start_time": "2021-07-21T06:30:49.496Z"
   },
   {
    "duration": 8,
    "start_time": "2021-07-21T06:30:50.460Z"
   },
   {
    "duration": 4,
    "start_time": "2021-07-21T06:30:56.814Z"
   },
   {
    "duration": 4,
    "start_time": "2021-07-21T06:31:06.462Z"
   },
   {
    "duration": 3,
    "start_time": "2021-07-21T06:32:19.413Z"
   },
   {
    "duration": 4,
    "start_time": "2021-07-21T06:32:20.613Z"
   },
   {
    "duration": 3,
    "start_time": "2021-07-21T06:33:06.829Z"
   },
   {
    "duration": 3,
    "start_time": "2021-07-21T06:33:07.859Z"
   },
   {
    "duration": 3,
    "start_time": "2021-07-21T06:33:19.332Z"
   },
   {
    "duration": 4,
    "start_time": "2021-07-21T06:33:21.383Z"
   },
   {
    "duration": 74,
    "start_time": "2021-07-21T06:34:21.006Z"
   },
   {
    "duration": 5,
    "start_time": "2021-07-21T06:34:42.421Z"
   },
   {
    "duration": 4,
    "start_time": "2021-07-21T06:34:43.261Z"
   },
   {
    "duration": 3,
    "start_time": "2021-07-21T06:36:36.269Z"
   },
   {
    "duration": 109,
    "start_time": "2021-07-21T06:37:25.457Z"
   },
   {
    "duration": 3,
    "start_time": "2021-07-21T06:37:29.438Z"
   },
   {
    "duration": 8,
    "start_time": "2021-07-21T06:37:30.946Z"
   },
   {
    "duration": 4,
    "start_time": "2021-07-21T06:38:01.937Z"
   },
   {
    "duration": 4,
    "start_time": "2021-07-21T06:38:03.578Z"
   },
   {
    "duration": 8,
    "start_time": "2021-07-21T06:38:05.596Z"
   },
   {
    "duration": 3,
    "start_time": "2021-07-21T06:38:11.950Z"
   },
   {
    "duration": 3,
    "start_time": "2021-07-21T06:38:13.659Z"
   },
   {
    "duration": 2735,
    "start_time": "2021-07-21T07:06:29.712Z"
   },
   {
    "duration": 101,
    "start_time": "2021-07-21T07:07:06.360Z"
   },
   {
    "duration": 7,
    "start_time": "2021-07-21T07:07:32.119Z"
   },
   {
    "duration": 6,
    "start_time": "2021-07-21T07:07:37.750Z"
   },
   {
    "duration": 7,
    "start_time": "2021-07-21T07:08:01.375Z"
   },
   {
    "duration": 13,
    "start_time": "2021-07-21T07:08:08.550Z"
   },
   {
    "duration": 6,
    "start_time": "2021-07-21T07:08:23.176Z"
   },
   {
    "duration": 10,
    "start_time": "2021-07-21T07:54:29.049Z"
   },
   {
    "duration": 596,
    "start_time": "2021-07-21T07:54:37.973Z"
   },
   {
    "duration": 9,
    "start_time": "2021-07-21T07:54:51.280Z"
   },
   {
    "duration": 9,
    "start_time": "2021-07-21T07:55:08.069Z"
   },
   {
    "duration": 242,
    "start_time": "2021-07-21T07:55:18.156Z"
   },
   {
    "duration": 10,
    "start_time": "2021-07-21T07:55:25.332Z"
   },
   {
    "duration": 284,
    "start_time": "2021-07-21T07:57:59.468Z"
   },
   {
    "duration": 2027,
    "start_time": "2021-07-21T07:58:04.116Z"
   },
   {
    "duration": -1805,
    "start_time": "2021-07-21T07:58:07.949Z"
   },
   {
    "duration": 1538,
    "start_time": "2021-07-21T07:58:32.547Z"
   },
   {
    "duration": 1670,
    "start_time": "2021-07-21T07:58:35.876Z"
   },
   {
    "duration": 1052,
    "start_time": "2021-07-21T07:59:21.492Z"
   },
   {
    "duration": 1032,
    "start_time": "2021-07-21T07:59:37.877Z"
   },
   {
    "duration": 78,
    "start_time": "2021-07-21T08:13:49.372Z"
   },
   {
    "duration": 283,
    "start_time": "2021-07-21T08:14:30.681Z"
   },
   {
    "duration": 11,
    "start_time": "2021-07-21T08:14:34.436Z"
   },
   {
    "duration": 301,
    "start_time": "2021-07-21T08:15:26.072Z"
   },
   {
    "duration": 580,
    "start_time": "2021-07-21T08:15:28.926Z"
   },
   {
    "duration": 279,
    "start_time": "2021-07-21T08:15:31.957Z"
   },
   {
    "duration": 264,
    "start_time": "2021-07-21T08:15:40.344Z"
   },
   {
    "duration": 16,
    "start_time": "2021-07-21T08:15:45.894Z"
   },
   {
    "duration": 979,
    "start_time": "2021-07-21T12:09:24.588Z"
   },
   {
    "duration": 9,
    "start_time": "2021-07-21T12:09:32.264Z"
   },
   {
    "duration": 13,
    "start_time": "2021-07-21T12:10:04.018Z"
   },
   {
    "duration": 4,
    "start_time": "2021-07-21T12:16:09.942Z"
   },
   {
    "duration": 4,
    "start_time": "2021-07-21T12:19:44.105Z"
   },
   {
    "duration": 3,
    "start_time": "2021-07-21T12:20:00.522Z"
   },
   {
    "duration": 4,
    "start_time": "2021-07-21T12:20:03.849Z"
   },
   {
    "duration": 3,
    "start_time": "2021-07-21T12:20:10.683Z"
   },
   {
    "duration": 387,
    "start_time": "2021-07-21T12:20:14.731Z"
   },
   {
    "duration": 261,
    "start_time": "2021-07-21T12:20:28.129Z"
   },
   {
    "duration": 269,
    "start_time": "2021-07-21T12:20:35.180Z"
   },
   {
    "duration": 266,
    "start_time": "2021-07-21T12:20:44.578Z"
   },
   {
    "duration": 3,
    "start_time": "2021-07-21T12:20:56.162Z"
   },
   {
    "duration": 4,
    "start_time": "2021-07-21T12:21:00.564Z"
   },
   {
    "duration": 4,
    "start_time": "2021-07-21T12:21:05.628Z"
   },
   {
    "duration": 4,
    "start_time": "2021-07-21T12:21:10.986Z"
   },
   {
    "duration": 5,
    "start_time": "2021-07-21T12:21:16.661Z"
   },
   {
    "duration": 7,
    "start_time": "2021-07-21T12:21:42.179Z"
   },
   {
    "duration": 5,
    "start_time": "2021-07-21T12:21:48.459Z"
   },
   {
    "duration": 2,
    "start_time": "2021-07-21T12:22:13.789Z"
   },
   {
    "duration": 4,
    "start_time": "2021-07-21T12:22:15.563Z"
   },
   {
    "duration": 4,
    "start_time": "2021-07-21T12:22:20.621Z"
   },
   {
    "duration": 6,
    "start_time": "2021-07-22T05:58:06.611Z"
   },
   {
    "duration": 3,
    "start_time": "2021-07-22T05:58:23.597Z"
   },
   {
    "duration": 3,
    "start_time": "2021-07-22T05:58:27.219Z"
   },
   {
    "duration": 3,
    "start_time": "2021-07-22T05:58:43.241Z"
   },
   {
    "duration": 8,
    "start_time": "2021-07-22T05:58:44.354Z"
   },
   {
    "duration": 2,
    "start_time": "2021-07-22T05:59:33.692Z"
   },
   {
    "duration": 4,
    "start_time": "2021-07-22T05:59:42.443Z"
   },
   {
    "duration": 4,
    "start_time": "2021-07-22T05:59:47.651Z"
   },
   {
    "duration": 5,
    "start_time": "2021-07-22T06:01:22.347Z"
   },
   {
    "duration": 4,
    "start_time": "2021-07-22T06:01:46.157Z"
   },
   {
    "duration": 3,
    "start_time": "2021-07-22T06:02:39.896Z"
   },
   {
    "duration": 4,
    "start_time": "2021-07-22T06:02:40.872Z"
   },
   {
    "duration": 4,
    "start_time": "2021-07-22T06:03:06.729Z"
   },
   {
    "duration": 464,
    "start_time": "2021-07-22T06:06:08.033Z"
   },
   {
    "duration": 1074,
    "start_time": "2021-07-22T06:06:31.448Z"
   },
   {
    "duration": 4,
    "start_time": "2021-07-22T06:06:42.912Z"
   },
   {
    "duration": 4,
    "start_time": "2021-07-22T06:07:10.602Z"
   },
   {
    "duration": 4,
    "start_time": "2021-07-22T06:07:19.667Z"
   },
   {
    "duration": 4,
    "start_time": "2021-07-22T06:07:26.585Z"
   },
   {
    "duration": 304,
    "start_time": "2021-07-22T07:20:42.821Z"
   },
   {
    "duration": 597,
    "start_time": "2021-07-22T07:20:52.423Z"
   },
   {
    "duration": 36,
    "start_time": "2021-07-22T07:20:54.043Z"
   },
   {
    "duration": 14,
    "start_time": "2021-07-22T07:20:56.601Z"
   },
   {
    "duration": 290,
    "start_time": "2021-07-22T07:21:55.902Z"
   },
   {
    "duration": 19,
    "start_time": "2021-07-22T07:21:59.018Z"
   },
   {
    "duration": 12,
    "start_time": "2021-07-22T07:24:01.080Z"
   },
   {
    "duration": 624,
    "start_time": "2021-07-22T07:27:59.590Z"
   },
   {
    "duration": 88,
    "start_time": "2021-07-22T07:28:09.551Z"
   },
   {
    "duration": 287,
    "start_time": "2021-07-22T07:28:15.776Z"
   },
   {
    "duration": 36,
    "start_time": "2021-07-22T07:28:24.278Z"
   },
   {
    "duration": 37,
    "start_time": "2021-07-22T07:28:25.709Z"
   },
   {
    "duration": 6,
    "start_time": "2021-07-22T07:28:26.151Z"
   },
   {
    "duration": 291,
    "start_time": "2021-07-22T07:28:30.146Z"
   },
   {
    "duration": 14,
    "start_time": "2021-07-22T07:28:37.163Z"
   },
   {
    "duration": 267,
    "start_time": "2021-07-22T07:28:47.550Z"
   },
   {
    "duration": 269,
    "start_time": "2021-07-22T07:28:51.999Z"
   },
   {
    "duration": 17,
    "start_time": "2021-07-22T07:29:11.642Z"
   },
   {
    "duration": 16,
    "start_time": "2021-07-22T07:29:15.136Z"
   },
   {
    "duration": 261,
    "start_time": "2021-07-22T07:29:22.609Z"
   },
   {
    "duration": 35,
    "start_time": "2021-07-22T07:29:30.541Z"
   },
   {
    "duration": 488,
    "start_time": "2021-07-22T07:29:33.429Z"
   },
   {
    "duration": 406,
    "start_time": "2021-07-22T07:30:07.421Z"
   },
   {
    "duration": 423,
    "start_time": "2021-07-22T07:30:39.390Z"
   },
   {
    "duration": 1985,
    "start_time": "2021-07-22T13:44:05.193Z"
   },
   {
    "duration": 428,
    "start_time": "2021-07-22T13:44:54.647Z"
   },
   {
    "duration": 9006,
    "start_time": "2021-07-22T13:45:07.568Z"
   },
   {
    "duration": 8151,
    "start_time": "2021-07-22T13:48:17.409Z"
   },
   {
    "duration": 24,
    "start_time": "2021-07-22T13:50:14.384Z"
   },
   {
    "duration": 21,
    "start_time": "2021-07-22T13:50:28.318Z"
   },
   {
    "duration": 34,
    "start_time": "2021-07-22T13:51:59.789Z"
   },
   {
    "duration": 359,
    "start_time": "2021-07-22T13:52:08.084Z"
   },
   {
    "duration": 20,
    "start_time": "2021-07-22T13:52:10.980Z"
   },
   {
    "duration": 317,
    "start_time": "2021-07-22T13:52:22.016Z"
   },
   {
    "duration": 28,
    "start_time": "2021-07-22T13:52:34.606Z"
   },
   {
    "duration": 23,
    "start_time": "2021-07-22T13:57:15.207Z"
   },
   {
    "duration": 15,
    "start_time": "2021-07-22T19:32:52.945Z"
   },
   {
    "duration": 6,
    "start_time": "2021-07-22T19:33:03.092Z"
   },
   {
    "duration": 593,
    "start_time": "2021-07-22T19:33:37.117Z"
   },
   {
    "duration": 5,
    "start_time": "2021-07-22T19:34:01.389Z"
   },
   {
    "duration": 7,
    "start_time": "2021-07-22T19:36:27.017Z"
   },
   {
    "duration": 6,
    "start_time": "2021-07-23T08:19:56.655Z"
   },
   {
    "duration": 4,
    "start_time": "2021-07-23T08:20:14.507Z"
   },
   {
    "duration": 5,
    "start_time": "2021-07-23T08:20:15.405Z"
   },
   {
    "duration": 5,
    "start_time": "2021-07-23T08:20:29.611Z"
   },
   {
    "duration": 5,
    "start_time": "2021-07-23T08:20:44.344Z"
   },
   {
    "duration": 14,
    "start_time": "2021-07-26T05:56:07.955Z"
   },
   {
    "duration": 5,
    "start_time": "2021-07-26T05:57:56.311Z"
   },
   {
    "duration": 5,
    "start_time": "2021-07-26T05:58:10.393Z"
   },
   {
    "duration": 425,
    "start_time": "2021-07-26T05:59:22.782Z"
   },
   {
    "duration": 4,
    "start_time": "2021-07-26T05:59:37.256Z"
   },
   {
    "duration": 6,
    "start_time": "2021-07-26T05:59:37.958Z"
   },
   {
    "duration": 5,
    "start_time": "2021-07-26T06:02:34.734Z"
   },
   {
    "duration": 5,
    "start_time": "2021-07-26T06:03:47.887Z"
   },
   {
    "duration": 411,
    "start_time": "2021-07-26T06:08:12.397Z"
   },
   {
    "duration": 4,
    "start_time": "2021-07-26T06:08:18.571Z"
   },
   {
    "duration": 6,
    "start_time": "2021-07-26T06:08:19.339Z"
   },
   {
    "duration": 3,
    "start_time": "2021-07-26T06:08:25.707Z"
   },
   {
    "duration": 6,
    "start_time": "2021-07-26T06:08:28.172Z"
   },
   {
    "duration": 4,
    "start_time": "2021-07-26T06:08:31.667Z"
   },
   {
    "duration": 6,
    "start_time": "2021-07-26T06:08:32.354Z"
   },
   {
    "duration": 3,
    "start_time": "2021-07-26T06:08:36.545Z"
   },
   {
    "duration": 6,
    "start_time": "2021-07-26T06:08:37.306Z"
   },
   {
    "duration": 864,
    "start_time": "2021-07-26T12:10:50.188Z"
   },
   {
    "duration": 26,
    "start_time": "2021-07-26T12:10:57.954Z"
   },
   {
    "duration": 19,
    "start_time": "2021-07-26T12:14:58.053Z"
   },
   {
    "duration": 28,
    "start_time": "2021-07-26T12:15:02.838Z"
   },
   {
    "duration": 19,
    "start_time": "2021-07-26T12:17:42.161Z"
   },
   {
    "duration": 4,
    "start_time": "2021-07-28T06:27:09.452Z"
   },
   {
    "duration": 13,
    "start_time": "2021-07-28T06:27:25.708Z"
   },
   {
    "duration": 377,
    "start_time": "2021-07-28T06:27:54.013Z"
   },
   {
    "duration": 354,
    "start_time": "2021-07-28T06:28:06.835Z"
   },
   {
    "duration": 5,
    "start_time": "2021-07-28T06:28:46.580Z"
   },
   {
    "duration": 8,
    "start_time": "2021-07-28T06:29:18.074Z"
   },
   {
    "duration": 130,
    "start_time": "2021-07-28T06:37:25.904Z"
   },
   {
    "duration": 317,
    "start_time": "2021-07-28T06:38:11.144Z"
   },
   {
    "duration": 6,
    "start_time": "2021-07-28T06:38:20.373Z"
   },
   {
    "duration": 3,
    "start_time": "2021-07-28T06:38:22.524Z"
   },
   {
    "duration": 5,
    "start_time": "2021-07-28T06:40:49.045Z"
   },
   {
    "duration": 4,
    "start_time": "2021-07-28T06:40:52.267Z"
   },
   {
    "duration": 4,
    "start_time": "2021-07-28T06:40:53.115Z"
   },
   {
    "duration": 6,
    "start_time": "2021-07-28T06:40:55.660Z"
   },
   {
    "duration": 8,
    "start_time": "2021-07-28T06:41:19.539Z"
   },
   {
    "duration": 7,
    "start_time": "2021-07-28T06:41:42.517Z"
   },
   {
    "duration": 7,
    "start_time": "2021-07-28T06:41:54.426Z"
   },
   {
    "duration": 8,
    "start_time": "2021-07-28T06:44:35.042Z"
   },
   {
    "duration": 7,
    "start_time": "2021-07-28T06:46:10.099Z"
   },
   {
    "duration": 6405,
    "start_time": "2021-07-29T07:37:48.465Z"
   },
   {
    "duration": 4,
    "start_time": "2021-07-29T08:45:54.000Z"
   },
   {
    "duration": 3,
    "start_time": "2021-07-29T08:46:00.673Z"
   },
   {
    "duration": 13,
    "start_time": "2021-07-29T08:46:15.497Z"
   },
   {
    "duration": 547,
    "start_time": "2021-07-29T08:46:34.218Z"
   },
   {
    "duration": 391,
    "start_time": "2021-07-29T08:46:54.033Z"
   },
   {
    "duration": 417,
    "start_time": "2021-07-29T08:47:09.673Z"
   },
   {
    "duration": 6,
    "start_time": "2021-07-29T08:48:07.314Z"
   },
   {
    "duration": 5,
    "start_time": "2021-07-29T08:48:30.810Z"
   },
   {
    "duration": 5,
    "start_time": "2021-07-29T08:50:30.725Z"
   },
   {
    "duration": 389,
    "start_time": "2021-07-29T08:51:34.965Z"
   },
   {
    "duration": 6,
    "start_time": "2021-07-29T08:51:41.407Z"
   },
   {
    "duration": 9,
    "start_time": "2021-07-29T08:52:50.575Z"
   },
   {
    "duration": 3,
    "start_time": "2021-07-29T08:53:13.005Z"
   },
   {
    "duration": 5,
    "start_time": "2021-07-29T08:53:17.683Z"
   },
   {
    "duration": 20,
    "start_time": "2021-07-29T08:53:17.691Z"
   },
   {
    "duration": 134,
    "start_time": "2021-07-29T08:53:53.500Z"
   },
   {
    "duration": 8,
    "start_time": "2021-07-29T08:53:56.205Z"
   },
   {
    "duration": 6,
    "start_time": "2021-07-29T08:54:02.948Z"
   },
   {
    "duration": 4,
    "start_time": "2021-07-29T08:54:10.341Z"
   },
   {
    "duration": 5,
    "start_time": "2021-07-29T08:54:13.932Z"
   },
   {
    "duration": 8,
    "start_time": "2021-07-29T08:54:16.980Z"
   },
   {
    "duration": 7,
    "start_time": "2021-07-29T08:54:18.068Z"
   },
   {
    "duration": 3,
    "start_time": "2021-07-29T08:55:08.477Z"
   },
   {
    "duration": 5,
    "start_time": "2021-07-29T08:55:08.725Z"
   },
   {
    "duration": 5,
    "start_time": "2021-07-29T08:55:10.878Z"
   },
   {
    "duration": 3,
    "start_time": "2021-07-29T08:55:37.564Z"
   },
   {
    "duration": 6,
    "start_time": "2021-07-29T08:55:39.030Z"
   },
   {
    "duration": 5,
    "start_time": "2021-07-29T08:55:43.612Z"
   },
   {
    "duration": 6,
    "start_time": "2021-07-29T08:55:53.620Z"
   },
   {
    "duration": 128,
    "start_time": "2021-07-29T08:59:08.957Z"
   },
   {
    "duration": 681,
    "start_time": "2021-07-29T08:59:13.994Z"
   },
   {
    "duration": 3,
    "start_time": "2021-07-29T08:59:52.687Z"
   },
   {
    "duration": 4,
    "start_time": "2021-07-29T09:00:09.243Z"
   },
   {
    "duration": 6,
    "start_time": "2021-07-29T09:00:14.169Z"
   },
   {
    "duration": 3,
    "start_time": "2021-07-29T09:00:26.226Z"
   },
   {
    "duration": 4,
    "start_time": "2021-07-29T09:00:47.548Z"
   },
   {
    "duration": 5,
    "start_time": "2021-07-29T09:00:49.634Z"
   },
   {
    "duration": 3,
    "start_time": "2021-07-29T09:00:55.851Z"
   },
   {
    "duration": 5,
    "start_time": "2021-07-29T09:00:57.401Z"
   },
   {
    "duration": 7,
    "start_time": "2021-07-29T09:01:04.073Z"
   },
   {
    "duration": 4,
    "start_time": "2021-07-29T09:01:08.730Z"
   },
   {
    "duration": 7,
    "start_time": "2021-07-29T09:01:10.134Z"
   },
   {
    "duration": 7,
    "start_time": "2021-07-29T09:01:27.489Z"
   },
   {
    "duration": 4,
    "start_time": "2021-07-29T09:01:31.266Z"
   },
   {
    "duration": 5,
    "start_time": "2021-07-29T09:01:41.554Z"
   },
   {
    "duration": 3,
    "start_time": "2021-07-29T09:02:02.177Z"
   },
   {
    "duration": 6,
    "start_time": "2021-07-29T09:02:03.713Z"
   },
   {
    "duration": 6,
    "start_time": "2021-07-29T09:02:08.113Z"
   },
   {
    "duration": 7,
    "start_time": "2021-07-29T09:02:19.872Z"
   },
   {
    "duration": 3,
    "start_time": "2021-07-29T09:02:21.623Z"
   },
   {
    "duration": 7,
    "start_time": "2021-07-29T09:02:23.144Z"
   },
   {
    "duration": 3,
    "start_time": "2021-07-29T09:02:30.072Z"
   },
   {
    "duration": 7,
    "start_time": "2021-07-29T09:02:32.793Z"
   },
   {
    "duration": 9,
    "start_time": "2021-07-29T09:02:48.378Z"
   },
   {
    "duration": 8,
    "start_time": "2021-07-29T09:03:10.986Z"
   },
   {
    "duration": 3,
    "start_time": "2021-07-29T09:03:20.482Z"
   },
   {
    "duration": 7,
    "start_time": "2021-07-29T09:03:33.592Z"
   },
   {
    "duration": 9,
    "start_time": "2021-07-29T09:03:35.113Z"
   },
   {
    "duration": 4,
    "start_time": "2021-07-29T09:03:41.893Z"
   },
   {
    "duration": 5,
    "start_time": "2021-07-29T09:04:11.901Z"
   },
   {
    "duration": 4,
    "start_time": "2021-07-29T09:04:46.016Z"
   },
   {
    "duration": 6,
    "start_time": "2021-07-29T09:04:47.663Z"
   },
   {
    "duration": 7,
    "start_time": "2021-07-29T09:05:17.581Z"
   },
   {
    "duration": 4,
    "start_time": "2021-07-29T09:05:21.871Z"
   },
   {
    "duration": 7,
    "start_time": "2021-07-29T09:05:23.088Z"
   },
   {
    "duration": 8,
    "start_time": "2021-07-29T09:05:31.423Z"
   },
   {
    "duration": 3,
    "start_time": "2021-07-29T09:05:33.671Z"
   },
   {
    "duration": 7,
    "start_time": "2021-07-29T09:05:34.839Z"
   },
   {
    "duration": 4,
    "start_time": "2021-07-29T09:05:41.727Z"
   },
   {
    "duration": 7,
    "start_time": "2021-07-29T09:05:42.439Z"
   },
   {
    "duration": 7,
    "start_time": "2021-07-29T09:05:43.936Z"
   },
   {
    "duration": 4,
    "start_time": "2021-07-29T09:05:47.218Z"
   },
   {
    "duration": 7,
    "start_time": "2021-07-29T09:05:47.999Z"
   },
   {
    "duration": 7,
    "start_time": "2021-07-29T09:05:49.632Z"
   },
   {
    "duration": 6,
    "start_time": "2021-07-29T09:11:30.660Z"
   },
   {
    "duration": 4,
    "start_time": "2021-07-29T09:11:36.157Z"
   },
   {
    "duration": 6,
    "start_time": "2021-07-29T09:11:37.157Z"
   },
   {
    "duration": 7,
    "start_time": "2021-07-29T09:12:10.135Z"
   },
   {
    "duration": 5,
    "start_time": "2021-07-29T09:12:15.551Z"
   },
   {
    "duration": 6,
    "start_time": "2021-07-29T09:12:18.669Z"
   },
   {
    "duration": 5,
    "start_time": "2021-07-29T09:12:22.809Z"
   },
   {
    "duration": 358,
    "start_time": "2021-07-29T09:13:15.414Z"
   },
   {
    "duration": 6,
    "start_time": "2021-07-29T09:13:21.343Z"
   },
   {
    "duration": 1803,
    "start_time": "2021-07-29T13:56:03.498Z"
   },
   {
    "duration": 13,
    "start_time": "2021-07-29T13:56:14.441Z"
   },
   {
    "duration": 4,
    "start_time": "2021-07-29T13:56:22.386Z"
   },
   {
    "duration": 6,
    "start_time": "2021-07-29T13:56:40.254Z"
   },
   {
    "duration": 3,
    "start_time": "2021-07-30T06:42:44.493Z"
   },
   {
    "duration": 3,
    "start_time": "2021-07-30T06:43:26.598Z"
   },
   {
    "duration": 286,
    "start_time": "2021-07-30T06:44:12.206Z"
   },
   {
    "duration": 3,
    "start_time": "2021-07-30T06:44:21.003Z"
   },
   {
    "duration": 233,
    "start_time": "2021-07-30T06:44:33.579Z"
   },
   {
    "duration": 7,
    "start_time": "2021-07-30T06:44:39.481Z"
   },
   {
    "duration": 12,
    "start_time": "2021-07-30T06:45:12.308Z"
   },
   {
    "duration": 7,
    "start_time": "2021-07-30T06:45:30.129Z"
   },
   {
    "duration": 6,
    "start_time": "2021-07-30T06:46:08.513Z"
   },
   {
    "duration": 3,
    "start_time": "2021-07-30T06:48:00.380Z"
   },
   {
    "duration": 5,
    "start_time": "2021-07-30T06:48:01.583Z"
   },
   {
    "duration": 6,
    "start_time": "2021-07-30T06:48:20.386Z"
   },
   {
    "duration": 2,
    "start_time": "2021-07-30T06:48:29.968Z"
   },
   {
    "duration": 5,
    "start_time": "2021-07-30T06:48:31.127Z"
   },
   {
    "duration": 5,
    "start_time": "2021-07-30T06:48:45.035Z"
   },
   {
    "duration": 2,
    "start_time": "2021-07-30T06:48:48.734Z"
   },
   {
    "duration": 5,
    "start_time": "2021-07-30T06:48:49.470Z"
   },
   {
    "duration": 5,
    "start_time": "2021-07-30T06:48:58.121Z"
   },
   {
    "duration": 4,
    "start_time": "2021-07-30T06:49:11.881Z"
   },
   {
    "duration": 4,
    "start_time": "2021-07-30T06:49:17.809Z"
   },
   {
    "duration": 4,
    "start_time": "2021-07-30T06:50:02.610Z"
   },
   {
    "duration": 4,
    "start_time": "2021-07-30T06:50:15.633Z"
   },
   {
    "duration": 4,
    "start_time": "2021-07-30T06:50:20.120Z"
   },
   {
    "duration": 4,
    "start_time": "2021-07-30T06:50:24.086Z"
   },
   {
    "duration": 5,
    "start_time": "2021-07-30T06:50:41.801Z"
   },
   {
    "duration": 3,
    "start_time": "2021-07-30T06:50:46.735Z"
   },
   {
    "duration": 5,
    "start_time": "2021-07-30T06:50:47.398Z"
   },
   {
    "duration": 2,
    "start_time": "2021-07-30T06:50:50.664Z"
   },
   {
    "duration": 6,
    "start_time": "2021-07-30T06:50:51.310Z"
   },
   {
    "duration": 6,
    "start_time": "2021-07-30T06:52:53.175Z"
   },
   {
    "duration": 6,
    "start_time": "2021-07-30T06:53:03.990Z"
   },
   {
    "duration": 2,
    "start_time": "2021-07-30T07:02:53.869Z"
   },
   {
    "duration": 5,
    "start_time": "2021-07-30T07:02:55.530Z"
   },
   {
    "duration": 5,
    "start_time": "2021-07-30T07:03:44.747Z"
   },
   {
    "duration": 4492,
    "start_time": "2021-08-02T07:19:45.921Z"
   },
   {
    "duration": 240,
    "start_time": "2021-08-02T07:20:24.336Z"
   },
   {
    "duration": 20,
    "start_time": "2021-08-02T07:20:35.807Z"
   },
   {
    "duration": 232,
    "start_time": "2021-08-02T07:22:04.365Z"
   },
   {
    "duration": 159,
    "start_time": "2021-08-02T07:22:24.269Z"
   },
   {
    "duration": 277,
    "start_time": "2021-08-02T07:22:37.725Z"
   },
   {
    "duration": 231,
    "start_time": "2021-08-02T07:23:05.135Z"
   },
   {
    "duration": 332,
    "start_time": "2021-08-02T07:23:26.500Z"
   },
   {
    "duration": 147,
    "start_time": "2021-08-02T07:23:41.844Z"
   },
   {
    "duration": 352,
    "start_time": "2021-08-02T07:25:42.700Z"
   },
   {
    "duration": 77,
    "start_time": "2021-08-02T07:33:41.867Z"
   },
   {
    "duration": 147,
    "start_time": "2021-08-02T07:33:44.722Z"
   },
   {
    "duration": 15,
    "start_time": "2021-08-03T13:08:42.126Z"
   },
   {
    "duration": 6,
    "start_time": "2021-08-03T13:09:02.994Z"
   },
   {
    "duration": 83,
    "start_time": "2021-08-03T13:09:24.677Z"
   },
   {
    "duration": 6,
    "start_time": "2021-08-03T13:10:35.269Z"
   },
   {
    "duration": 3172,
    "start_time": "2021-08-03T13:57:49.337Z"
   },
   {
    "duration": 283,
    "start_time": "2021-08-03T13:58:48.321Z"
   },
   {
    "duration": 23,
    "start_time": "2021-08-03T13:58:53.221Z"
   },
   {
    "duration": 15,
    "start_time": "2021-08-03T14:21:45.178Z"
   },
   {
    "duration": 97,
    "start_time": "2021-08-03T14:21:59.971Z"
   },
   {
    "duration": 399,
    "start_time": "2021-08-03T14:22:05.810Z"
   },
   {
    "duration": 757,
    "start_time": "2021-08-03T14:24:22.605Z"
   },
   {
    "duration": 294,
    "start_time": "2021-08-03T14:29:02.893Z"
   },
   {
    "duration": 280,
    "start_time": "2021-08-03T14:29:22.026Z"
   },
   {
    "duration": 396,
    "start_time": "2021-08-03T14:29:54.282Z"
   },
   {
    "duration": 297,
    "start_time": "2021-08-03T14:31:10.715Z"
   },
   {
    "duration": 349,
    "start_time": "2021-08-03T14:33:32.881Z"
   },
   {
    "duration": 250,
    "start_time": "2021-08-03T14:35:40.472Z"
   },
   {
    "duration": 5,
    "start_time": "2021-08-03T14:35:48.904Z"
   },
   {
    "duration": 602,
    "start_time": "2021-08-03T14:36:01.567Z"
   },
   {
    "duration": 586,
    "start_time": "2021-08-03T14:39:35.796Z"
   },
   {
    "duration": 605,
    "start_time": "2021-08-03T14:39:44.219Z"
   },
   {
    "duration": 665,
    "start_time": "2021-08-03T14:39:52.245Z"
   },
   {
    "duration": 830,
    "start_time": "2021-08-03T14:39:54.715Z"
   },
   {
    "duration": 711,
    "start_time": "2021-08-03T14:40:00.147Z"
   },
   {
    "duration": 617,
    "start_time": "2021-08-03T14:40:11.339Z"
   },
   {
    "duration": 623,
    "start_time": "2021-08-03T14:40:17.261Z"
   },
   {
    "duration": 591,
    "start_time": "2021-08-03T14:40:28.172Z"
   },
   {
    "duration": 628,
    "start_time": "2021-08-03T14:47:02.147Z"
   },
   {
    "duration": 521,
    "start_time": "2021-08-03T14:47:05.753Z"
   },
   {
    "duration": 629,
    "start_time": "2021-08-03T14:49:31.711Z"
   },
   {
    "duration": 81,
    "start_time": "2021-08-03T14:49:39.045Z"
   },
   {
    "duration": 543,
    "start_time": "2021-08-03T14:49:41.501Z"
   },
   {
    "duration": 567,
    "start_time": "2021-08-03T14:49:53.726Z"
   },
   {
    "duration": 5,
    "start_time": "2021-08-03T14:50:03.798Z"
   },
   {
    "duration": 550,
    "start_time": "2021-08-03T14:50:05.548Z"
   },
   {
    "duration": 535,
    "start_time": "2021-08-03T14:53:38.176Z"
   },
   {
    "duration": 533,
    "start_time": "2021-08-03T14:53:45.202Z"
   },
   {
    "duration": 775,
    "start_time": "2021-08-04T07:29:32.364Z"
   },
   {
    "duration": 872,
    "start_time": "2021-08-04T07:29:55.835Z"
   },
   {
    "duration": 309,
    "start_time": "2021-08-04T07:30:03.282Z"
   },
   {
    "duration": 663,
    "start_time": "2021-08-04T07:30:07.275Z"
   },
   {
    "duration": 301,
    "start_time": "2021-08-04T07:30:08.738Z"
   },
   {
    "duration": 6,
    "start_time": "2021-08-04T07:42:34.666Z"
   },
   {
    "duration": 364,
    "start_time": "2021-08-04T07:42:38.381Z"
   },
   {
    "duration": 805,
    "start_time": "2021-08-04T07:43:26.319Z"
   },
   {
    "duration": 331,
    "start_time": "2021-08-04T07:45:51.916Z"
   },
   {
    "duration": 349,
    "start_time": "2021-08-04T07:46:13.758Z"
   },
   {
    "duration": 5,
    "start_time": "2021-08-04T07:46:19.779Z"
   },
   {
    "duration": 953,
    "start_time": "2021-08-04T07:46:23.591Z"
   },
   {
    "duration": 301,
    "start_time": "2021-08-04T07:47:46.955Z"
   },
   {
    "duration": 328,
    "start_time": "2021-08-04T07:48:27.337Z"
   },
   {
    "duration": 9,
    "start_time": "2021-08-04T07:48:38.369Z"
   },
   {
    "duration": 332,
    "start_time": "2021-08-04T07:48:45.017Z"
   },
   {
    "duration": 6,
    "start_time": "2021-08-04T07:48:51.824Z"
   },
   {
    "duration": 357,
    "start_time": "2021-08-04T07:49:19.930Z"
   },
   {
    "duration": 300,
    "start_time": "2021-08-04T07:51:35.880Z"
   },
   {
    "duration": 332,
    "start_time": "2021-08-04T07:51:43.992Z"
   },
   {
    "duration": 363,
    "start_time": "2021-08-04T07:51:59.307Z"
   },
   {
    "duration": 361,
    "start_time": "2021-08-04T07:55:07.672Z"
   },
   {
    "duration": 320,
    "start_time": "2021-08-04T07:55:17.828Z"
   },
   {
    "duration": 360,
    "start_time": "2021-08-04T07:55:25.745Z"
   },
   {
    "duration": 350,
    "start_time": "2021-08-04T07:55:31.029Z"
   },
   {
    "duration": 335,
    "start_time": "2021-08-04T07:55:55.430Z"
   },
   {
    "duration": 455,
    "start_time": "2021-08-04T07:56:05.998Z"
   },
   {
    "duration": 2498,
    "start_time": "2021-08-04T16:29:28.016Z"
   },
   {
    "duration": 44,
    "start_time": "2021-08-04T16:29:36.884Z"
   },
   {
    "duration": 20,
    "start_time": "2021-08-04T16:38:33.190Z"
   },
   {
    "duration": 16,
    "start_time": "2021-08-04T16:39:13.542Z"
   },
   {
    "duration": 6,
    "start_time": "2021-08-04T16:39:27.368Z"
   },
   {
    "duration": 7,
    "start_time": "2021-08-04T16:39:48.218Z"
   },
   {
    "duration": 5,
    "start_time": "2021-08-04T16:39:53.855Z"
   },
   {
    "duration": 38,
    "start_time": "2021-08-04T16:40:29.710Z"
   },
   {
    "duration": 19,
    "start_time": "2021-08-04T16:40:37.870Z"
   },
   {
    "duration": 23,
    "start_time": "2021-08-04T16:40:53.935Z"
   },
   {
    "duration": 463,
    "start_time": "2021-08-04T16:41:56.481Z"
   },
   {
    "duration": 14,
    "start_time": "2021-08-04T16:42:15.688Z"
   },
   {
    "duration": 6,
    "start_time": "2021-08-04T16:42:29.266Z"
   },
   {
    "duration": 6,
    "start_time": "2021-08-04T16:42:44.912Z"
   },
   {
    "duration": 6,
    "start_time": "2021-08-04T16:43:13.968Z"
   },
   {
    "duration": 16,
    "start_time": "2021-08-04T16:43:15.575Z"
   },
   {
    "duration": 8,
    "start_time": "2021-08-04T16:43:23.442Z"
   },
   {
    "duration": 7,
    "start_time": "2021-08-04T16:43:26.609Z"
   },
   {
    "duration": 5,
    "start_time": "2021-08-04T16:43:37.473Z"
   },
   {
    "duration": 10,
    "start_time": "2021-08-04T16:44:03.760Z"
   },
   {
    "duration": 6,
    "start_time": "2021-08-04T16:46:10.955Z"
   },
   {
    "duration": 211,
    "start_time": "2021-08-04T16:47:08.044Z"
   },
   {
    "duration": 218,
    "start_time": "2021-08-04T16:47:13.414Z"
   },
   {
    "duration": 251,
    "start_time": "2021-08-04T16:47:23.572Z"
   },
   {
    "duration": 220,
    "start_time": "2021-08-04T16:47:32.948Z"
   },
   {
    "duration": 217,
    "start_time": "2021-08-04T16:48:39.293Z"
   },
   {
    "duration": 6,
    "start_time": "2021-08-04T16:48:44.620Z"
   },
   {
    "duration": 6,
    "start_time": "2021-08-04T16:49:30.837Z"
   },
   {
    "duration": 6,
    "start_time": "2021-08-04T16:49:35.047Z"
   },
   {
    "duration": 7,
    "start_time": "2021-08-04T16:49:49.351Z"
   },
   {
    "duration": 6,
    "start_time": "2021-08-04T16:49:53.390Z"
   },
   {
    "duration": 2326,
    "start_time": "2021-08-05T06:44:07.713Z"
   },
   {
    "duration": 52,
    "start_time": "2021-08-05T06:44:36.734Z"
   },
   {
    "duration": 20,
    "start_time": "2021-08-05T06:44:44.718Z"
   },
   {
    "duration": 10,
    "start_time": "2021-08-05T06:44:56.802Z"
   },
   {
    "duration": 8,
    "start_time": "2021-08-05T06:45:06.384Z"
   },
   {
    "duration": 19,
    "start_time": "2021-08-05T06:45:12.247Z"
   },
   {
    "duration": 25,
    "start_time": "2021-08-05T06:45:51.512Z"
   },
   {
    "duration": 28,
    "start_time": "2021-08-05T06:47:20.488Z"
   },
   {
    "duration": 27,
    "start_time": "2021-08-05T06:47:53.909Z"
   },
   {
    "duration": 20,
    "start_time": "2021-08-05T06:48:11.949Z"
   },
   {
    "duration": 27,
    "start_time": "2021-08-05T06:49:20.431Z"
   },
   {
    "duration": 24,
    "start_time": "2021-08-05T06:50:21.509Z"
   },
   {
    "duration": 1151,
    "start_time": "2021-08-10T14:18:02.282Z"
   },
   {
    "duration": 107,
    "start_time": "2021-08-10T14:18:20.793Z"
   },
   {
    "duration": 335,
    "start_time": "2021-08-10T14:23:58.686Z"
   },
   {
    "duration": 21,
    "start_time": "2021-08-10T14:24:01.037Z"
   },
   {
    "duration": 9,
    "start_time": "2021-08-10T14:24:02.052Z"
   },
   {
    "duration": 6,
    "start_time": "2021-08-10T14:24:13.731Z"
   },
   {
    "duration": 283,
    "start_time": "2021-08-10T14:25:01.533Z"
   },
   {
    "duration": 971,
    "start_time": "2021-08-10T14:25:13.422Z"
   },
   {
    "duration": 51,
    "start_time": "2021-08-10T14:25:33.038Z"
   },
   {
    "duration": 372,
    "start_time": "2021-08-12T07:22:49.637Z"
   },
   {
    "duration": 885,
    "start_time": "2021-08-12T07:23:01.516Z"
   },
   {
    "duration": 18,
    "start_time": "2021-08-12T07:23:02.403Z"
   },
   {
    "duration": 600,
    "start_time": "2021-08-12T07:23:56.552Z"
   },
   {
    "duration": 16,
    "start_time": "2021-08-12T07:25:01.773Z"
   },
   {
    "duration": 19,
    "start_time": "2021-08-12T07:25:46.811Z"
   },
   {
    "duration": 9,
    "start_time": "2021-08-12T07:27:27.003Z"
   },
   {
    "duration": 13,
    "start_time": "2021-08-12T07:27:31.907Z"
   },
   {
    "duration": 402,
    "start_time": "2021-08-12T07:28:08.795Z"
   },
   {
    "duration": 5,
    "start_time": "2021-08-12T07:28:17.524Z"
   },
   {
    "duration": 510,
    "start_time": "2021-08-12T07:28:20.587Z"
   },
   {
    "duration": 499,
    "start_time": "2021-08-12T07:28:54.790Z"
   },
   {
    "duration": 494,
    "start_time": "2021-08-12T07:28:58.042Z"
   },
   {
    "duration": 426,
    "start_time": "2021-08-12T07:29:13.426Z"
   },
   {
    "duration": 477,
    "start_time": "2021-08-12T07:30:32.977Z"
   },
   {
    "duration": 477,
    "start_time": "2021-08-12T07:30:44.280Z"
   },
   {
    "duration": 539,
    "start_time": "2021-08-12T07:31:15.338Z"
   },
   {
    "duration": 321,
    "start_time": "2021-08-12T07:34:44.407Z"
   },
   {
    "duration": 280,
    "start_time": "2021-08-12T07:34:53.991Z"
   },
   {
    "duration": 329,
    "start_time": "2021-08-12T07:35:11.009Z"
   },
   {
    "duration": 481,
    "start_time": "2021-08-12T07:35:25.027Z"
   },
   {
    "duration": 19,
    "start_time": "2021-08-12T07:37:34.616Z"
   },
   {
    "duration": 19,
    "start_time": "2021-08-12T07:37:48.360Z"
   },
   {
    "duration": 292,
    "start_time": "2021-08-12T07:37:56.275Z"
   },
   {
    "duration": 278,
    "start_time": "2021-08-12T07:38:11.054Z"
   },
   {
    "duration": 291,
    "start_time": "2021-08-12T07:38:44.860Z"
   },
   {
    "duration": 122,
    "start_time": "2021-08-12T07:39:43.446Z"
   },
   {
    "duration": 114,
    "start_time": "2021-08-12T07:39:43.748Z"
   },
   {
    "duration": 113,
    "start_time": "2021-08-12T07:39:45.456Z"
   },
   {
    "duration": 783,
    "start_time": "2021-08-12T07:42:49.572Z"
   },
   {
    "duration": 710,
    "start_time": "2021-08-12T07:43:00.117Z"
   },
   {
    "duration": 1082,
    "start_time": "2021-08-12T07:43:06.085Z"
   },
   {
    "duration": 640,
    "start_time": "2021-08-12T07:43:12.714Z"
   },
   {
    "duration": 668,
    "start_time": "2021-08-12T07:43:23.454Z"
   },
   {
    "duration": 719,
    "start_time": "2021-08-12T07:43:32.182Z"
   },
   {
    "duration": 699,
    "start_time": "2021-08-12T07:43:36.644Z"
   },
   {
    "duration": 718,
    "start_time": "2021-08-12T07:43:40.884Z"
   },
   {
    "duration": 753,
    "start_time": "2021-08-12T07:43:45.403Z"
   },
   {
    "duration": 1053,
    "start_time": "2021-08-12T07:45:18.746Z"
   },
   {
    "duration": 1041,
    "start_time": "2021-08-12T07:46:10.867Z"
   },
   {
    "duration": 934,
    "start_time": "2021-08-12T07:46:21.867Z"
   },
   {
    "duration": 13,
    "start_time": "2021-08-12T07:46:46.160Z"
   },
   {
    "duration": 358,
    "start_time": "2021-08-12T07:48:51.226Z"
   },
   {
    "duration": 14,
    "start_time": "2021-08-12T07:48:55.890Z"
   },
   {
    "duration": 1023,
    "start_time": "2021-08-12T07:49:00.625Z"
   },
   {
    "duration": 1014,
    "start_time": "2021-08-12T07:49:16.900Z"
   },
   {
    "duration": 1568,
    "start_time": "2021-08-12T07:49:33.451Z"
   },
   {
    "duration": 748,
    "start_time": "2021-08-12T07:51:57.673Z"
   },
   {
    "duration": 763,
    "start_time": "2021-08-12T07:53:29.247Z"
   },
   {
    "duration": 758,
    "start_time": "2021-08-12T07:54:14.686Z"
   },
   {
    "duration": 1038,
    "start_time": "2021-08-12T07:54:37.381Z"
   },
   {
    "duration": 1184,
    "start_time": "2021-08-12T07:57:58.662Z"
   },
   {
    "duration": 282,
    "start_time": "2021-08-12T07:58:11.524Z"
   },
   {
    "duration": 286,
    "start_time": "2021-08-12T07:58:17.884Z"
   },
   {
    "duration": 1201,
    "start_time": "2021-08-12T08:16:28.661Z"
   },
   {
    "duration": 734,
    "start_time": "2021-08-12T08:17:05.446Z"
   },
   {
    "duration": 737,
    "start_time": "2021-08-12T08:17:20.972Z"
   },
   {
    "duration": 758,
    "start_time": "2021-08-12T08:17:50.430Z"
   },
   {
    "duration": 734,
    "start_time": "2021-08-12T08:17:54.727Z"
   },
   {
    "duration": 1165,
    "start_time": "2021-08-12T08:18:25.028Z"
   },
   {
    "duration": 1070,
    "start_time": "2021-08-12T08:18:32.132Z"
   },
   {
    "duration": 1041,
    "start_time": "2021-08-12T08:18:44.903Z"
   },
   {
    "duration": 1060,
    "start_time": "2021-08-12T08:18:54.116Z"
   },
   {
    "duration": 6,
    "start_time": "2021-08-12T08:20:16.856Z"
   },
   {
    "duration": 733,
    "start_time": "2021-08-12T08:20:21.708Z"
   },
   {
    "duration": 6,
    "start_time": "2021-08-12T08:20:45.749Z"
   },
   {
    "duration": 732,
    "start_time": "2021-08-12T08:20:46.915Z"
   },
   {
    "duration": 6,
    "start_time": "2021-08-12T08:21:07.606Z"
   },
   {
    "duration": 5,
    "start_time": "2021-08-12T08:21:11.227Z"
   },
   {
    "duration": 847,
    "start_time": "2021-08-12T08:21:12.267Z"
   },
   {
    "duration": 5,
    "start_time": "2021-08-12T08:21:23.317Z"
   },
   {
    "duration": 856,
    "start_time": "2021-08-12T08:21:25.139Z"
   },
   {
    "duration": 6,
    "start_time": "2021-08-12T08:21:55.789Z"
   },
   {
    "duration": 754,
    "start_time": "2021-08-12T08:21:57.513Z"
   },
   {
    "duration": 5,
    "start_time": "2021-08-12T08:22:19.740Z"
   },
   {
    "duration": 735,
    "start_time": "2021-08-12T08:22:21.298Z"
   },
   {
    "duration": 5,
    "start_time": "2021-08-12T08:22:41.006Z"
   },
   {
    "duration": 755,
    "start_time": "2021-08-12T08:22:42.499Z"
   },
   {
    "duration": 4,
    "start_time": "2021-08-12T08:22:54.364Z"
   },
   {
    "duration": 4,
    "start_time": "2021-08-12T08:22:55.585Z"
   },
   {
    "duration": 722,
    "start_time": "2021-08-12T08:22:56.970Z"
   },
   {
    "duration": 5,
    "start_time": "2021-08-12T08:23:01.604Z"
   },
   {
    "duration": 4,
    "start_time": "2021-08-12T08:23:04.178Z"
   },
   {
    "duration": 880,
    "start_time": "2021-08-12T08:23:05.218Z"
   },
   {
    "duration": 3,
    "start_time": "2021-08-12T08:23:43.421Z"
   },
   {
    "duration": 14,
    "start_time": "2021-08-12T08:23:43.431Z"
   },
   {
    "duration": 10,
    "start_time": "2021-08-12T08:23:43.448Z"
   },
   {
    "duration": 15,
    "start_time": "2021-08-12T08:23:43.461Z"
   },
   {
    "duration": 512,
    "start_time": "2021-08-12T08:23:43.479Z"
   },
   {
    "duration": 526,
    "start_time": "2021-08-12T08:23:43.994Z"
   },
   {
    "duration": 517,
    "start_time": "2021-08-12T08:23:44.522Z"
   },
   {
    "duration": 503,
    "start_time": "2021-08-12T08:23:45.041Z"
   },
   {
    "duration": 293,
    "start_time": "2021-08-12T08:23:45.546Z"
   },
   {
    "duration": 301,
    "start_time": "2021-08-12T08:23:45.843Z"
   },
   {
    "duration": 23,
    "start_time": "2021-08-12T08:23:46.146Z"
   },
   {
    "duration": 16,
    "start_time": "2021-08-12T08:23:46.171Z"
   },
   {
    "duration": 800,
    "start_time": "2021-08-12T08:23:46.189Z"
   },
   {
    "duration": 4,
    "start_time": "2021-08-12T08:23:46.991Z"
   },
   {
    "duration": 740,
    "start_time": "2021-08-12T08:24:07.250Z"
   },
   {
    "duration": 1456,
    "start_time": "2021-08-12T08:24:23.083Z"
   },
   {
    "duration": 27,
    "start_time": "2021-08-12T08:24:24.542Z"
   },
   {
    "duration": 12,
    "start_time": "2021-08-12T08:24:24.572Z"
   },
   {
    "duration": 13,
    "start_time": "2021-08-12T08:24:24.587Z"
   },
   {
    "duration": 527,
    "start_time": "2021-08-12T08:24:24.603Z"
   },
   {
    "duration": 516,
    "start_time": "2021-08-12T08:24:25.132Z"
   },
   {
    "duration": 519,
    "start_time": "2021-08-12T08:24:25.651Z"
   },
   {
    "duration": 510,
    "start_time": "2021-08-12T08:24:26.174Z"
   },
   {
    "duration": 306,
    "start_time": "2021-08-12T08:24:26.687Z"
   },
   {
    "duration": 286,
    "start_time": "2021-08-12T08:24:26.996Z"
   },
   {
    "duration": 13,
    "start_time": "2021-08-12T08:24:27.285Z"
   },
   {
    "duration": 20,
    "start_time": "2021-08-12T08:24:27.300Z"
   },
   {
    "duration": 819,
    "start_time": "2021-08-12T08:24:27.322Z"
   },
   {
    "duration": 3,
    "start_time": "2021-08-12T08:24:28.144Z"
   },
   {
    "duration": 737,
    "start_time": "2021-08-12T08:25:58.546Z"
   },
   {
    "duration": 1187,
    "start_time": "2021-08-12T08:26:35.483Z"
   },
   {
    "duration": 731,
    "start_time": "2021-08-12T08:26:49.785Z"
   },
   {
    "duration": 788,
    "start_time": "2021-08-12T08:28:20.617Z"
   },
   {
    "duration": 696,
    "start_time": "2021-08-12T08:28:49.427Z"
   },
   {
    "duration": 5,
    "start_time": "2021-08-12T08:29:27.689Z"
   },
   {
    "duration": 852,
    "start_time": "2021-08-12T08:29:29.520Z"
   },
   {
    "duration": 5,
    "start_time": "2021-08-12T08:29:35.746Z"
   },
   {
    "duration": 665,
    "start_time": "2021-08-12T08:29:36.992Z"
   },
   {
    "duration": 5,
    "start_time": "2021-08-12T08:30:57.775Z"
   },
   {
    "duration": 708,
    "start_time": "2021-08-12T08:30:59.568Z"
   },
   {
    "duration": 1115,
    "start_time": "2021-08-12T08:32:01.998Z"
   },
   {
    "duration": 690,
    "start_time": "2021-08-12T08:32:07.697Z"
   },
   {
    "duration": 1415,
    "start_time": "2021-08-12T08:32:23.128Z"
   },
   {
    "duration": 1123,
    "start_time": "2021-08-12T08:32:25.802Z"
   },
   {
    "duration": 851,
    "start_time": "2021-08-12T08:32:31.073Z"
   },
   {
    "duration": 709,
    "start_time": "2021-08-12T08:32:43.658Z"
   },
   {
    "duration": 113,
    "start_time": "2021-08-12T08:36:16.864Z"
   },
   {
    "duration": 13,
    "start_time": "2021-08-12T08:40:48.751Z"
   },
   {
    "duration": 526,
    "start_time": "2021-08-12T08:43:59.572Z"
   },
   {
    "duration": 1569,
    "start_time": "2021-08-12T08:44:39.577Z"
   },
   {
    "duration": 33,
    "start_time": "2021-08-12T08:44:41.149Z"
   },
   {
    "duration": 15,
    "start_time": "2021-08-12T08:44:41.186Z"
   },
   {
    "duration": 18,
    "start_time": "2021-08-12T08:44:41.204Z"
   },
   {
    "duration": 496,
    "start_time": "2021-08-12T08:46:55.006Z"
   },
   {
    "duration": 448,
    "start_time": "2021-08-12T08:47:07.849Z"
   },
   {
    "duration": 493,
    "start_time": "2021-08-12T08:47:33.232Z"
   },
   {
    "duration": 94,
    "start_time": "2021-08-12T08:48:48.406Z"
   },
   {
    "duration": 20,
    "start_time": "2021-08-12T08:49:37.140Z"
   },
   {
    "duration": 121,
    "start_time": "2021-08-12T08:49:59.640Z"
   },
   {
    "duration": 119,
    "start_time": "2021-08-12T08:50:00.836Z"
   },
   {
    "duration": 117,
    "start_time": "2021-08-12T08:50:02.924Z"
   },
   {
    "duration": 290,
    "start_time": "2021-08-12T08:50:07.635Z"
   },
   {
    "duration": 98,
    "start_time": "2021-08-12T08:50:44.631Z"
   },
   {
    "duration": 275,
    "start_time": "2021-08-12T08:50:47.421Z"
   },
   {
    "duration": 133,
    "start_time": "2021-08-12T08:51:43.175Z"
   },
   {
    "duration": 716,
    "start_time": "2021-08-12T08:53:37.131Z"
   },
   {
    "duration": 723,
    "start_time": "2021-08-12T08:59:43.882Z"
   },
   {
    "duration": 586,
    "start_time": "2021-08-12T09:02:21.464Z"
   },
   {
    "duration": 558,
    "start_time": "2021-08-12T09:02:59.358Z"
   },
   {
    "duration": 577,
    "start_time": "2021-08-12T09:04:17.024Z"
   },
   {
    "duration": 5,
    "start_time": "2021-08-12T09:04:30.805Z"
   },
   {
    "duration": 5,
    "start_time": "2021-08-12T09:04:50.505Z"
   },
   {
    "duration": 561,
    "start_time": "2021-08-12T09:05:01.265Z"
   },
   {
    "duration": 281,
    "start_time": "2021-08-12T09:05:25.615Z"
   },
   {
    "duration": 347,
    "start_time": "2021-08-12T09:05:31.556Z"
   },
   {
    "duration": 373,
    "start_time": "2021-08-12T09:05:42.556Z"
   },
   {
    "duration": 604,
    "start_time": "2021-08-12T09:05:48.093Z"
   },
   {
    "duration": 46,
    "start_time": "2021-08-12T09:06:54.591Z"
   },
   {
    "duration": 4,
    "start_time": "2021-08-12T09:07:09.186Z"
   },
   {
    "duration": 4,
    "start_time": "2021-08-12T09:07:14.033Z"
   },
   {
    "duration": 682,
    "start_time": "2021-08-12T09:07:34.014Z"
   },
   {
    "duration": 363,
    "start_time": "2021-08-12T09:09:31.650Z"
   },
   {
    "duration": 8,
    "start_time": "2021-08-12T09:09:39.960Z"
   },
   {
    "duration": 702,
    "start_time": "2021-08-12T09:09:51.157Z"
   },
   {
    "duration": 833,
    "start_time": "2021-08-12T09:10:03.066Z"
   },
   {
    "duration": 1520,
    "start_time": "2021-08-12T09:10:20.933Z"
   },
   {
    "duration": 18,
    "start_time": "2021-08-12T09:10:22.456Z"
   },
   {
    "duration": 11,
    "start_time": "2021-08-12T09:10:22.477Z"
   },
   {
    "duration": 18,
    "start_time": "2021-08-12T09:10:22.490Z"
   },
   {
    "duration": 509,
    "start_time": "2021-08-12T09:10:22.510Z"
   },
   {
    "duration": 112,
    "start_time": "2021-08-12T09:10:23.021Z"
   },
   {
    "duration": -5893,
    "start_time": "2021-08-12T09:10:29.028Z"
   },
   {
    "duration": -5894,
    "start_time": "2021-08-12T09:10:29.031Z"
   },
   {
    "duration": -5900,
    "start_time": "2021-08-12T09:10:29.038Z"
   },
   {
    "duration": -5908,
    "start_time": "2021-08-12T09:10:29.047Z"
   },
   {
    "duration": -5914,
    "start_time": "2021-08-12T09:10:29.055Z"
   },
   {
    "duration": -5920,
    "start_time": "2021-08-12T09:10:29.063Z"
   },
   {
    "duration": 488,
    "start_time": "2021-08-12T09:10:37.233Z"
   },
   {
    "duration": 19,
    "start_time": "2021-08-12T09:10:53.897Z"
   },
   {
    "duration": 288,
    "start_time": "2021-08-12T09:10:56.353Z"
   },
   {
    "duration": 280,
    "start_time": "2021-08-12T09:10:59.065Z"
   },
   {
    "duration": 633,
    "start_time": "2021-08-12T09:11:04.039Z"
   },
   {
    "duration": 620,
    "start_time": "2021-08-12T09:11:13.313Z"
   },
   {
    "duration": 73,
    "start_time": "2021-08-12T09:11:16.770Z"
   },
   {
    "duration": 802,
    "start_time": "2021-08-12T09:11:59.497Z"
   },
   {
    "duration": 6,
    "start_time": "2021-08-12T09:12:47.841Z"
   },
   {
    "duration": 192,
    "start_time": "2021-08-12T09:13:11.282Z"
   },
   {
    "duration": 709,
    "start_time": "2021-08-12T09:17:20.505Z"
   },
   {
    "duration": 6,
    "start_time": "2021-08-12T09:28:36.819Z"
   },
   {
    "duration": 706,
    "start_time": "2021-08-12T09:33:16.834Z"
   },
   {
    "duration": 113,
    "start_time": "2021-08-12T10:13:32.046Z"
   },
   {
    "duration": 4,
    "start_time": "2021-08-12T10:13:33.267Z"
   },
   {
    "duration": 69,
    "start_time": "2021-08-12T10:14:40.877Z"
   },
   {
    "duration": 47,
    "start_time": "2021-08-12T10:14:44.558Z"
   },
   {
    "duration": 47,
    "start_time": "2021-08-12T10:14:58.215Z"
   },
   {
    "duration": 1047,
    "start_time": "2021-08-12T10:14:59.895Z"
   },
   {
    "duration": 29,
    "start_time": "2021-08-12T10:15:07.971Z"
   },
   {
    "duration": 7,
    "start_time": "2021-08-12T10:15:22.133Z"
   },
   {
    "duration": 4,
    "start_time": "2021-08-12T10:15:28.612Z"
   },
   {
    "duration": 8228,
    "start_time": "2021-08-12T10:15:32.517Z"
   },
   {
    "duration": 31,
    "start_time": "2021-08-12T10:15:51.495Z"
   },
   {
    "duration": 8139,
    "start_time": "2021-08-12T10:15:58.887Z"
   },
   {
    "duration": 282,
    "start_time": "2021-08-12T10:16:10.205Z"
   },
   {
    "duration": 285,
    "start_time": "2021-08-12T10:17:22.074Z"
   },
   {
    "duration": 294,
    "start_time": "2021-08-12T10:17:30.158Z"
   },
   {
    "duration": 299,
    "start_time": "2021-08-12T10:18:08.668Z"
   },
   {
    "duration": 383,
    "start_time": "2021-08-12T10:18:23.931Z"
   },
   {
    "duration": 383,
    "start_time": "2021-08-12T10:18:35.626Z"
   },
   {
    "duration": 11,
    "start_time": "2021-08-12T10:19:59.330Z"
   },
   {
    "duration": 6,
    "start_time": "2021-08-12T10:20:03.708Z"
   },
   {
    "duration": 825,
    "start_time": "2021-08-12T10:20:09.442Z"
   },
   {
    "duration": 697,
    "start_time": "2021-08-12T10:20:26.022Z"
   },
   {
    "duration": 392,
    "start_time": "2021-08-12T10:20:53.192Z"
   },
   {
    "duration": 417,
    "start_time": "2021-08-12T10:21:20.484Z"
   },
   {
    "duration": 369,
    "start_time": "2021-08-12T10:22:46.809Z"
   },
   {
    "duration": 11,
    "start_time": "2021-08-12T10:23:03.177Z"
   },
   {
    "duration": 347,
    "start_time": "2021-08-12T10:23:28.449Z"
   },
   {
    "duration": 349,
    "start_time": "2021-08-12T10:23:49.305Z"
   },
   {
    "duration": 689,
    "start_time": "2021-08-12T10:25:22.914Z"
   },
   {
    "duration": 6,
    "start_time": "2021-08-12T10:25:26.529Z"
   },
   {
    "duration": 715,
    "start_time": "2021-08-12T10:27:03.275Z"
   },
   {
    "duration": 342,
    "start_time": "2021-08-12T10:27:10.320Z"
   },
   {
    "duration": 410,
    "start_time": "2021-08-12T10:27:17.462Z"
   },
   {
    "duration": 270,
    "start_time": "2021-08-12T10:28:24.281Z"
   },
   {
    "duration": 279,
    "start_time": "2021-08-12T10:28:34.133Z"
   },
   {
    "duration": 465,
    "start_time": "2021-08-12T10:28:47.343Z"
   },
   {
    "duration": 569,
    "start_time": "2021-08-12T10:28:58.002Z"
   },
   {
    "duration": 1087,
    "start_time": "2021-08-12T14:34:12.833Z"
   },
   {
    "duration": 20,
    "start_time": "2021-08-12T14:34:13.922Z"
   },
   {
    "duration": 6,
    "start_time": "2021-08-12T14:34:13.944Z"
   },
   {
    "duration": 20,
    "start_time": "2021-08-12T14:34:13.952Z"
   },
   {
    "duration": 281,
    "start_time": "2021-08-12T14:34:13.973Z"
   },
   {
    "duration": 275,
    "start_time": "2021-08-12T14:34:14.255Z"
   },
   {
    "duration": 13,
    "start_time": "2021-08-12T14:34:14.531Z"
   },
   {
    "duration": 160,
    "start_time": "2021-08-12T14:34:14.546Z"
   },
   {
    "duration": 173,
    "start_time": "2021-08-12T14:34:14.708Z"
   },
   {
    "duration": 350,
    "start_time": "2021-08-12T14:34:14.883Z"
   },
   {
    "duration": 7,
    "start_time": "2021-08-12T14:34:15.235Z"
   },
   {
    "duration": 368,
    "start_time": "2021-08-12T14:34:15.243Z"
   },
   {
    "duration": 567,
    "start_time": "2021-08-12T14:34:15.613Z"
   },
   {
    "duration": 404,
    "start_time": "2021-08-12T14:34:16.182Z"
   },
   {
    "duration": 812,
    "start_time": "2021-08-12T14:34:41.110Z"
   },
   {
    "duration": 353,
    "start_time": "2021-08-12T14:36:00.779Z"
   },
   {
    "duration": 3,
    "start_time": "2021-08-12T14:36:09.961Z"
   },
   {
    "duration": 268,
    "start_time": "2021-08-12T14:36:13.752Z"
   },
   {
    "duration": 283,
    "start_time": "2021-08-12T14:36:23.072Z"
   },
   {
    "duration": 4,
    "start_time": "2021-08-12T14:36:26.793Z"
   },
   {
    "duration": 253,
    "start_time": "2021-08-12T14:39:03.218Z"
   },
   {
    "duration": 283,
    "start_time": "2021-08-12T14:42:45.583Z"
   },
   {
    "duration": 262,
    "start_time": "2021-08-12T14:42:50.622Z"
   },
   {
    "duration": 4,
    "start_time": "2021-08-12T14:43:03.461Z"
   },
   {
    "duration": 262,
    "start_time": "2021-08-12T14:43:08.461Z"
   },
   {
    "duration": 4,
    "start_time": "2021-08-12T14:43:32.191Z"
   },
   {
    "duration": 550,
    "start_time": "2021-08-12T14:43:44.181Z"
   },
   {
    "duration": 254,
    "start_time": "2021-08-12T14:43:47.988Z"
   },
   {
    "duration": 3,
    "start_time": "2021-08-12T14:43:58.716Z"
   },
   {
    "duration": 4,
    "start_time": "2021-08-12T14:44:00.174Z"
   },
   {
    "duration": 251,
    "start_time": "2021-08-12T14:44:06.632Z"
   },
   {
    "duration": 253,
    "start_time": "2021-08-12T14:44:13.767Z"
   },
   {
    "duration": 3,
    "start_time": "2021-08-12T14:44:47.553Z"
   },
   {
    "duration": 4,
    "start_time": "2021-08-12T14:44:54.561Z"
   },
   {
    "duration": 1846,
    "start_time": "2021-08-12T17:26:25.826Z"
   },
   {
    "duration": 35,
    "start_time": "2021-08-12T17:26:27.675Z"
   },
   {
    "duration": 14,
    "start_time": "2021-08-12T17:26:27.714Z"
   },
   {
    "duration": 27,
    "start_time": "2021-08-12T17:26:27.732Z"
   },
   {
    "duration": 706,
    "start_time": "2021-08-12T17:26:27.784Z"
   },
   {
    "duration": 647,
    "start_time": "2021-08-12T17:26:28.493Z"
   },
   {
    "duration": 39,
    "start_time": "2021-08-12T17:26:29.143Z"
   },
   {
    "duration": 255,
    "start_time": "2021-08-12T17:26:29.188Z"
   },
   {
    "duration": 273,
    "start_time": "2021-08-12T17:26:29.445Z"
   },
   {
    "duration": 627,
    "start_time": "2021-08-12T17:26:29.720Z"
   },
   {
    "duration": 5,
    "start_time": "2021-08-12T17:26:30.349Z"
   },
   {
    "duration": 602,
    "start_time": "2021-08-12T17:26:30.357Z"
   },
   {
    "duration": 824,
    "start_time": "2021-08-12T17:26:30.962Z"
   },
   {
    "duration": 679,
    "start_time": "2021-08-12T17:26:31.789Z"
   },
   {
    "duration": 14,
    "start_time": "2021-08-12T17:26:32.470Z"
   },
   {
    "duration": 2015,
    "start_time": "2021-08-12T17:26:32.486Z"
   },
   {
    "duration": 2319,
    "start_time": "2021-08-12T17:27:29.183Z"
   },
   {
    "duration": 20,
    "start_time": "2021-08-12T17:28:29.016Z"
   },
   {
    "duration": 2515,
    "start_time": "2021-08-12T17:28:40.120Z"
   },
   {
    "duration": 186,
    "start_time": "2021-08-23T17:13:25.661Z"
   },
   {
    "duration": 63,
    "start_time": "2021-08-23T17:13:45.715Z"
   },
   {
    "duration": 74,
    "start_time": "2021-08-23T17:14:14.692Z"
   },
   {
    "duration": 69,
    "start_time": "2021-08-23T17:14:35.045Z"
   },
   {
    "duration": 55,
    "start_time": "2021-08-23T17:15:10.718Z"
   },
   {
    "duration": 50,
    "start_time": "2021-08-23T17:15:24.349Z"
   },
   {
    "duration": 14,
    "start_time": "2021-08-23T17:15:31.813Z"
   },
   {
    "duration": 4,
    "start_time": "2021-08-23T17:19:37.521Z"
   },
   {
    "duration": 77,
    "start_time": "2021-08-23T17:19:53.073Z"
   },
   {
    "duration": 55,
    "start_time": "2021-08-23T17:19:55.874Z"
   },
   {
    "duration": 6,
    "start_time": "2021-08-23T17:20:05.224Z"
   },
   {
    "duration": 60,
    "start_time": "2021-08-23T17:24:21.620Z"
   },
   {
    "duration": 57,
    "start_time": "2021-08-23T17:24:34.430Z"
   },
   {
    "duration": 71,
    "start_time": "2021-08-23T17:24:49.021Z"
   },
   {
    "duration": 56,
    "start_time": "2021-08-23T17:24:59.213Z"
   },
   {
    "duration": 84,
    "start_time": "2021-08-23T17:25:01.501Z"
   },
   {
    "duration": 77,
    "start_time": "2021-08-23T17:25:27.422Z"
   },
   {
    "duration": 176,
    "start_time": "2021-08-24T07:02:55.740Z"
   },
   {
    "duration": 1330,
    "start_time": "2021-08-24T07:02:55.918Z"
   },
   {
    "duration": 14,
    "start_time": "2021-08-24T07:02:57.250Z"
   },
   {
    "duration": 7,
    "start_time": "2021-08-24T07:02:57.265Z"
   },
   {
    "duration": 11,
    "start_time": "2021-08-24T07:02:57.274Z"
   },
   {
    "duration": 302,
    "start_time": "2021-08-24T07:02:57.286Z"
   },
   {
    "duration": 270,
    "start_time": "2021-08-24T07:02:57.590Z"
   },
   {
    "duration": 12,
    "start_time": "2021-08-24T07:02:57.862Z"
   },
   {
    "duration": 158,
    "start_time": "2021-08-24T07:02:57.876Z"
   },
   {
    "duration": 169,
    "start_time": "2021-08-24T07:02:58.036Z"
   },
   {
    "duration": 415,
    "start_time": "2021-08-24T07:02:58.207Z"
   },
   {
    "duration": 5,
    "start_time": "2021-08-24T07:02:58.623Z"
   },
   {
    "duration": 358,
    "start_time": "2021-08-24T07:02:58.629Z"
   },
   {
    "duration": 403,
    "start_time": "2021-08-24T07:02:58.988Z"
   },
   {
    "duration": 392,
    "start_time": "2021-08-24T07:02:59.393Z"
   },
   {
    "duration": 4,
    "start_time": "2021-08-24T07:02:59.786Z"
   },
   {
    "duration": 11,
    "start_time": "2021-08-24T07:02:59.791Z"
   },
   {
    "duration": 1811,
    "start_time": "2021-08-24T07:02:59.804Z"
   },
   {
    "duration": 1394,
    "start_time": "2021-08-24T07:05:57.923Z"
   },
   {
    "duration": 3,
    "start_time": "2021-08-24T07:06:08.041Z"
   },
   {
    "duration": 11,
    "start_time": "2021-08-24T07:06:08.394Z"
   },
   {
    "duration": 7,
    "start_time": "2021-08-24T07:06:09.201Z"
   },
   {
    "duration": 9,
    "start_time": "2021-08-24T07:06:10.985Z"
   },
   {
    "duration": 275,
    "start_time": "2021-08-24T07:06:13.150Z"
   },
   {
    "duration": 262,
    "start_time": "2021-08-24T07:06:15.626Z"
   },
   {
    "duration": 13,
    "start_time": "2021-08-24T07:06:18.739Z"
   },
   {
    "duration": 141,
    "start_time": "2021-08-24T07:06:19.458Z"
   },
   {
    "duration": 151,
    "start_time": "2021-08-24T07:06:19.770Z"
   },
   {
    "duration": 364,
    "start_time": "2021-08-24T07:06:25.737Z"
   },
   {
    "duration": 196,
    "start_time": "2021-08-24T12:41:13.999Z"
   },
   {
    "duration": 44,
    "start_time": "2021-08-24T12:41:30.231Z"
   },
   {
    "duration": 55,
    "start_time": "2021-08-24T12:43:42.168Z"
   },
   {
    "duration": 428,
    "start_time": "2021-08-24T15:22:13.784Z"
   },
   {
    "duration": 701,
    "start_time": "2021-08-24T15:22:24.336Z"
   },
   {
    "duration": 23,
    "start_time": "2021-08-24T15:22:25.599Z"
   },
   {
    "duration": 10,
    "start_time": "2021-08-24T15:22:36.288Z"
   },
   {
    "duration": 14,
    "start_time": "2021-08-24T15:24:14.202Z"
   },
   {
    "duration": 2699,
    "start_time": "2021-08-31T07:29:58.036Z"
   },
   {
    "duration": -1698,
    "start_time": "2021-08-31T07:30:02.436Z"
   },
   {
    "duration": -1702,
    "start_time": "2021-08-31T07:30:02.440Z"
   },
   {
    "duration": -1716,
    "start_time": "2021-08-31T07:30:02.455Z"
   },
   {
    "duration": -1719,
    "start_time": "2021-08-31T07:30:02.459Z"
   },
   {
    "duration": -1724,
    "start_time": "2021-08-31T07:30:02.465Z"
   },
   {
    "duration": -1730,
    "start_time": "2021-08-31T07:30:02.472Z"
   },
   {
    "duration": -1732,
    "start_time": "2021-08-31T07:30:02.475Z"
   },
   {
    "duration": -1737,
    "start_time": "2021-08-31T07:30:02.480Z"
   },
   {
    "duration": -1739,
    "start_time": "2021-08-31T07:30:02.483Z"
   },
   {
    "duration": -1743,
    "start_time": "2021-08-31T07:30:02.488Z"
   },
   {
    "duration": 286,
    "start_time": "2021-08-31T08:24:23.251Z"
   },
   {
    "duration": 83,
    "start_time": "2021-08-31T08:24:38.388Z"
   },
   {
    "duration": 71,
    "start_time": "2021-08-31T08:24:41.409Z"
   },
   {
    "duration": 36,
    "start_time": "2021-08-31T08:24:41.482Z"
   },
   {
    "duration": 68,
    "start_time": "2021-08-31T08:24:41.520Z"
   },
   {
    "duration": 12,
    "start_time": "2021-08-31T08:24:41.590Z"
   },
   {
    "duration": 9,
    "start_time": "2021-08-31T08:24:41.603Z"
   },
   {
    "duration": 19,
    "start_time": "2021-08-31T08:24:41.614Z"
   },
   {
    "duration": 8,
    "start_time": "2021-08-31T08:24:41.635Z"
   },
   {
    "duration": 20,
    "start_time": "2021-08-31T08:24:41.645Z"
   },
   {
    "duration": 2673,
    "start_time": "2021-08-31T08:24:41.676Z"
   },
   {
    "duration": 3261,
    "start_time": "2021-08-31T08:24:44.351Z"
   },
   {
    "duration": 19,
    "start_time": "2021-08-31T08:24:47.614Z"
   },
   {
    "duration": 44,
    "start_time": "2021-08-31T08:24:47.635Z"
   },
   {
    "duration": 8,
    "start_time": "2021-08-31T09:05:08.776Z"
   },
   {
    "duration": 7,
    "start_time": "2021-08-31T09:05:15.495Z"
   },
   {
    "duration": 304,
    "start_time": "2021-08-31T09:05:23.878Z"
   },
   {
    "duration": 8,
    "start_time": "2021-08-31T09:05:31.597Z"
   },
   {
    "duration": 295,
    "start_time": "2021-08-31T09:06:06.236Z"
   },
   {
    "duration": 6689,
    "start_time": "2021-08-31T09:06:16.356Z"
   },
   {
    "duration": 9,
    "start_time": "2021-08-31T09:06:40.877Z"
   },
   {
    "duration": 6,
    "start_time": "2021-08-31T09:07:19.260Z"
   },
   {
    "duration": 4,
    "start_time": "2021-08-31T09:07:23.243Z"
   },
   {
    "duration": 16,
    "start_time": "2021-08-31T09:07:33.998Z"
   },
   {
    "duration": 19,
    "start_time": "2021-08-31T09:07:57.156Z"
   },
   {
    "duration": 1097,
    "start_time": "2021-08-31T09:08:19.981Z"
   },
   {
    "duration": 103,
    "start_time": "2021-08-31T09:08:22.515Z"
   },
   {
    "duration": 20,
    "start_time": "2021-08-31T09:09:13.012Z"
   },
   {
    "duration": 15,
    "start_time": "2021-08-31T09:09:25.933Z"
   },
   {
    "duration": 17,
    "start_time": "2021-08-31T09:09:37.862Z"
   },
   {
    "duration": 16,
    "start_time": "2021-08-31T09:10:41.764Z"
   },
   {
    "duration": 333,
    "start_time": "2021-08-31T09:10:58.475Z"
   },
   {
    "duration": 95,
    "start_time": "2021-08-31T09:12:00.357Z"
   },
   {
    "duration": 84,
    "start_time": "2021-08-31T09:12:02.177Z"
   },
   {
    "duration": 14,
    "start_time": "2021-08-31T09:12:49.820Z"
   },
   {
    "duration": 11,
    "start_time": "2021-08-31T09:13:34.578Z"
   },
   {
    "duration": 27,
    "start_time": "2021-08-31T09:13:44.233Z"
   },
   {
    "duration": 27,
    "start_time": "2021-08-31T09:13:48.394Z"
   },
   {
    "duration": 416,
    "start_time": "2021-08-31T09:16:29.320Z"
   },
   {
    "duration": 6,
    "start_time": "2021-08-31T09:22:28.629Z"
   },
   {
    "duration": 4,
    "start_time": "2021-08-31T09:22:43.837Z"
   },
   {
    "duration": 7,
    "start_time": "2021-08-31T09:23:57.292Z"
   },
   {
    "duration": 3,
    "start_time": "2021-08-31T09:25:00.557Z"
   },
   {
    "duration": 4,
    "start_time": "2021-08-31T09:25:03.075Z"
   },
   {
    "duration": 4,
    "start_time": "2021-08-31T09:25:06.269Z"
   },
   {
    "duration": 4,
    "start_time": "2021-08-31T09:25:11.836Z"
   },
   {
    "duration": 4,
    "start_time": "2021-08-31T09:25:14.998Z"
   },
   {
    "duration": 7,
    "start_time": "2021-08-31T09:25:53.095Z"
   },
   {
    "duration": 142,
    "start_time": "2021-08-31T09:40:35.769Z"
   },
   {
    "duration": 677,
    "start_time": "2021-08-31T09:42:04.558Z"
   },
   {
    "duration": 7,
    "start_time": "2021-08-31T09:42:14.463Z"
   },
   {
    "duration": 27,
    "start_time": "2021-08-31T09:42:17.703Z"
   },
   {
    "duration": 8,
    "start_time": "2021-08-31T09:43:09.509Z"
   },
   {
    "duration": 263,
    "start_time": "2021-08-31T09:43:17.470Z"
   },
   {
    "duration": 76,
    "start_time": "2021-08-31T09:43:28.199Z"
   },
   {
    "duration": 37,
    "start_time": "2021-08-31T09:43:28.278Z"
   },
   {
    "duration": 67,
    "start_time": "2021-08-31T09:43:28.318Z"
   },
   {
    "duration": 12,
    "start_time": "2021-08-31T09:43:28.388Z"
   },
   {
    "duration": 6,
    "start_time": "2021-08-31T09:43:28.403Z"
   },
   {
    "duration": 12,
    "start_time": "2021-08-31T09:43:28.410Z"
   },
   {
    "duration": 9,
    "start_time": "2021-08-31T09:43:28.424Z"
   },
   {
    "duration": 6,
    "start_time": "2021-08-31T09:43:28.435Z"
   },
   {
    "duration": 42,
    "start_time": "2021-08-31T09:43:28.444Z"
   },
   {
    "duration": 2798,
    "start_time": "2021-08-31T09:43:28.488Z"
   },
   {
    "duration": 3468,
    "start_time": "2021-08-31T09:43:31.288Z"
   },
   {
    "duration": 23,
    "start_time": "2021-08-31T09:43:34.758Z"
   },
   {
    "duration": 5,
    "start_time": "2021-08-31T09:43:34.783Z"
   },
   {
    "duration": 17,
    "start_time": "2021-08-31T09:43:34.790Z"
   },
   {
    "duration": 355,
    "start_time": "2021-08-31T09:43:34.809Z"
   },
   {
    "duration": -131,
    "start_time": "2021-08-31T09:43:35.298Z"
   },
   {
    "duration": -159,
    "start_time": "2021-08-31T09:43:35.327Z"
   },
   {
    "duration": -168,
    "start_time": "2021-08-31T09:43:35.337Z"
   },
   {
    "duration": -172,
    "start_time": "2021-08-31T09:43:35.343Z"
   },
   {
    "duration": -179,
    "start_time": "2021-08-31T09:43:35.351Z"
   },
   {
    "duration": -182,
    "start_time": "2021-08-31T09:43:35.355Z"
   },
   {
    "duration": -185,
    "start_time": "2021-08-31T09:43:35.359Z"
   },
   {
    "duration": -189,
    "start_time": "2021-08-31T09:43:35.364Z"
   },
   {
    "duration": -193,
    "start_time": "2021-08-31T09:43:35.369Z"
   },
   {
    "duration": -196,
    "start_time": "2021-08-31T09:43:35.373Z"
   },
   {
    "duration": -199,
    "start_time": "2021-08-31T09:43:35.377Z"
   },
   {
    "duration": -203,
    "start_time": "2021-08-31T09:43:35.382Z"
   },
   {
    "duration": 32,
    "start_time": "2021-08-31T09:44:01.261Z"
   },
   {
    "duration": 68,
    "start_time": "2021-08-31T09:44:32.798Z"
   },
   {
    "duration": 39,
    "start_time": "2021-08-31T09:44:32.868Z"
   },
   {
    "duration": 78,
    "start_time": "2021-08-31T09:44:32.909Z"
   },
   {
    "duration": 13,
    "start_time": "2021-08-31T09:44:32.989Z"
   },
   {
    "duration": 14,
    "start_time": "2021-08-31T09:44:33.003Z"
   },
   {
    "duration": 34,
    "start_time": "2021-08-31T09:44:33.019Z"
   },
   {
    "duration": 19,
    "start_time": "2021-08-31T09:44:33.055Z"
   },
   {
    "duration": 31,
    "start_time": "2021-08-31T09:44:33.077Z"
   },
   {
    "duration": 27,
    "start_time": "2021-08-31T09:44:33.111Z"
   },
   {
    "duration": 2801,
    "start_time": "2021-08-31T09:44:33.140Z"
   },
   {
    "duration": 3341,
    "start_time": "2021-08-31T09:44:35.943Z"
   },
   {
    "duration": 22,
    "start_time": "2021-08-31T09:44:39.286Z"
   },
   {
    "duration": 14,
    "start_time": "2021-08-31T09:44:39.310Z"
   },
   {
    "duration": 23,
    "start_time": "2021-08-31T09:44:39.327Z"
   },
   {
    "duration": 37,
    "start_time": "2021-08-31T09:44:39.352Z"
   },
   {
    "duration": 17,
    "start_time": "2021-08-31T09:44:39.391Z"
   },
   {
    "duration": 16,
    "start_time": "2021-08-31T09:44:39.410Z"
   },
   {
    "duration": 16,
    "start_time": "2021-08-31T09:44:39.428Z"
   },
   {
    "duration": 44,
    "start_time": "2021-08-31T09:44:39.446Z"
   },
   {
    "duration": 12,
    "start_time": "2021-08-31T09:44:39.492Z"
   },
   {
    "duration": 4,
    "start_time": "2021-08-31T09:44:39.506Z"
   },
   {
    "duration": 18,
    "start_time": "2021-08-31T09:44:39.512Z"
   },
   {
    "duration": 92,
    "start_time": "2021-08-31T09:44:39.534Z"
   },
   {
    "duration": -158,
    "start_time": "2021-08-31T09:44:39.786Z"
   },
   {
    "duration": -160,
    "start_time": "2021-08-31T09:44:39.789Z"
   },
   {
    "duration": -165,
    "start_time": "2021-08-31T09:44:39.795Z"
   },
   {
    "duration": -170,
    "start_time": "2021-08-31T09:44:39.800Z"
   },
   {
    "duration": 4,
    "start_time": "2021-08-31T09:44:48.926Z"
   },
   {
    "duration": 6,
    "start_time": "2021-08-31T09:44:49.196Z"
   },
   {
    "duration": 24,
    "start_time": "2021-08-31T09:44:49.660Z"
   },
   {
    "duration": 6,
    "start_time": "2021-08-31T09:46:41.254Z"
   },
   {
    "duration": 15,
    "start_time": "2021-08-31T09:46:43.205Z"
   },
   {
    "duration": 270,
    "start_time": "2021-08-31T09:47:06.775Z"
   },
   {
    "duration": 318,
    "start_time": "2021-08-31T09:47:17.981Z"
   },
   {
    "duration": 42,
    "start_time": "2021-08-31T09:48:06.971Z"
   },
   {
    "duration": 12,
    "start_time": "2021-08-31T09:49:31.982Z"
   },
   {
    "duration": 9,
    "start_time": "2021-08-31T09:49:54.013Z"
   },
   {
    "duration": 28,
    "start_time": "2021-08-31T09:50:38.106Z"
   },
   {
    "duration": 32,
    "start_time": "2021-08-31T09:52:02.677Z"
   },
   {
    "duration": 12,
    "start_time": "2021-08-31T09:52:09.346Z"
   },
   {
    "duration": 9,
    "start_time": "2021-08-31T09:52:11.257Z"
   },
   {
    "duration": 10,
    "start_time": "2021-08-31T09:52:14.098Z"
   },
   {
    "duration": 6,
    "start_time": "2021-08-31T09:52:40.825Z"
   },
   {
    "duration": 15,
    "start_time": "2021-08-31T09:52:41.322Z"
   },
   {
    "duration": 33,
    "start_time": "2021-08-31T09:52:45.499Z"
   },
   {
    "duration": 83,
    "start_time": "2021-08-31T09:53:18.489Z"
   },
   {
    "duration": 97,
    "start_time": "2021-08-31T09:53:18.729Z"
   },
   {
    "duration": 92,
    "start_time": "2021-08-31T09:53:27.489Z"
   },
   {
    "duration": 4,
    "start_time": "2021-08-31T09:53:49.380Z"
   },
   {
    "duration": 6,
    "start_time": "2021-08-31T09:53:56.937Z"
   },
   {
    "duration": 15,
    "start_time": "2021-08-31T09:53:57.509Z"
   },
   {
    "duration": 29,
    "start_time": "2021-08-31T09:53:59.370Z"
   },
   {
    "duration": 23,
    "start_time": "2021-08-31T09:55:21.781Z"
   },
   {
    "duration": 43,
    "start_time": "2021-08-31T09:57:33.562Z"
   },
   {
    "duration": 30,
    "start_time": "2021-08-31T09:57:50.045Z"
   },
   {
    "duration": 62,
    "start_time": "2021-08-31T09:58:23.186Z"
   },
   {
    "duration": 5,
    "start_time": "2021-08-31T09:59:37.904Z"
   },
   {
    "duration": 2,
    "start_time": "2021-08-31T09:59:45.678Z"
   },
   {
    "duration": 9,
    "start_time": "2021-08-31T10:02:05.902Z"
   },
   {
    "duration": 17,
    "start_time": "2021-08-31T10:02:08.038Z"
   },
   {
    "duration": 17,
    "start_time": "2021-08-31T10:02:15.294Z"
   },
   {
    "duration": 6,
    "start_time": "2021-08-31T10:02:19.687Z"
   },
   {
    "duration": 17,
    "start_time": "2021-08-31T10:02:23.429Z"
   },
   {
    "duration": 3,
    "start_time": "2021-08-31T10:04:20.849Z"
   },
   {
    "duration": 56,
    "start_time": "2021-08-31T10:04:55.704Z"
   },
   {
    "duration": 87,
    "start_time": "2021-08-31T10:05:26.502Z"
   },
   {
    "duration": 6,
    "start_time": "2021-08-31T10:05:49.933Z"
   },
   {
    "duration": 3,
    "start_time": "2021-08-31T10:09:12.115Z"
   },
   {
    "duration": 9,
    "start_time": "2021-08-31T10:09:28.258Z"
   },
   {
    "duration": 5,
    "start_time": "2021-08-31T10:10:03.925Z"
   },
   {
    "duration": 5,
    "start_time": "2021-08-31T10:10:07.627Z"
   },
   {
    "duration": 3,
    "start_time": "2021-08-31T10:10:52.979Z"
   },
   {
    "duration": 9,
    "start_time": "2021-08-31T10:11:02.666Z"
   },
   {
    "duration": 7,
    "start_time": "2021-08-31T10:11:12.891Z"
   },
   {
    "duration": 163,
    "start_time": "2021-08-31T10:12:07.074Z"
   },
   {
    "duration": 5,
    "start_time": "2021-08-31T10:12:07.571Z"
   },
   {
    "duration": 8,
    "start_time": "2021-08-31T10:12:20.121Z"
   },
   {
    "duration": 8,
    "start_time": "2021-08-31T10:12:22.793Z"
   },
   {
    "duration": 207,
    "start_time": "2021-08-31T10:12:24.273Z"
   },
   {
    "duration": 12,
    "start_time": "2021-08-31T10:12:26.265Z"
   },
   {
    "duration": 17,
    "start_time": "2021-08-31T10:12:43.291Z"
   },
   {
    "duration": 6,
    "start_time": "2021-08-31T10:12:50.253Z"
   },
   {
    "duration": 5,
    "start_time": "2021-08-31T10:12:54.266Z"
   },
   {
    "duration": 919,
    "start_time": "2021-08-31T13:54:34.921Z"
   },
   {
    "duration": 53,
    "start_time": "2021-08-31T13:54:35.843Z"
   },
   {
    "duration": 80,
    "start_time": "2021-08-31T13:54:35.899Z"
   },
   {
    "duration": 14,
    "start_time": "2021-08-31T13:54:35.982Z"
   },
   {
    "duration": 9,
    "start_time": "2021-08-31T13:54:35.999Z"
   },
   {
    "duration": 17,
    "start_time": "2021-08-31T13:54:36.011Z"
   },
   {
    "duration": 26,
    "start_time": "2021-08-31T13:54:36.031Z"
   },
   {
    "duration": 12,
    "start_time": "2021-08-31T13:54:36.061Z"
   },
   {
    "duration": 26,
    "start_time": "2021-08-31T13:54:36.076Z"
   },
   {
    "duration": 16,
    "start_time": "2021-08-31T13:54:36.104Z"
   },
   {
    "duration": 36,
    "start_time": "2021-08-31T13:54:36.122Z"
   },
   {
    "duration": 20,
    "start_time": "2021-08-31T13:54:36.161Z"
   },
   {
    "duration": 32,
    "start_time": "2021-08-31T13:54:36.183Z"
   },
   {
    "duration": 24,
    "start_time": "2021-08-31T13:54:36.217Z"
   },
   {
    "duration": 17,
    "start_time": "2021-08-31T13:54:36.244Z"
   },
   {
    "duration": 3194,
    "start_time": "2021-08-31T13:54:36.264Z"
   },
   {
    "duration": 4005,
    "start_time": "2021-08-31T13:54:39.461Z"
   },
   {
    "duration": 38,
    "start_time": "2021-08-31T13:54:43.469Z"
   },
   {
    "duration": 32,
    "start_time": "2021-08-31T13:54:43.510Z"
   },
   {
    "duration": 34,
    "start_time": "2021-08-31T13:54:43.545Z"
   },
   {
    "duration": 39,
    "start_time": "2021-08-31T13:54:43.582Z"
   },
   {
    "duration": 48,
    "start_time": "2021-08-31T13:54:43.624Z"
   },
   {
    "duration": 27,
    "start_time": "2021-08-31T13:54:43.678Z"
   },
   {
    "duration": 51,
    "start_time": "2021-08-31T13:54:43.709Z"
   },
   {
    "duration": 26,
    "start_time": "2021-08-31T13:54:43.763Z"
   },
   {
    "duration": 16,
    "start_time": "2021-08-31T13:54:43.792Z"
   },
   {
    "duration": 650,
    "start_time": "2021-08-31T13:54:43.811Z"
   },
   {
    "duration": 10,
    "start_time": "2021-08-31T13:54:44.464Z"
   },
   {
    "duration": 96,
    "start_time": "2021-08-31T13:54:44.476Z"
   },
   {
    "duration": -695,
    "start_time": "2021-08-31T13:54:45.270Z"
   },
   {
    "duration": -696,
    "start_time": "2021-08-31T13:54:45.272Z"
   },
   {
    "duration": -697,
    "start_time": "2021-08-31T13:54:45.275Z"
   },
   {
    "duration": -699,
    "start_time": "2021-08-31T13:54:45.278Z"
   },
   {
    "duration": -701,
    "start_time": "2021-08-31T13:54:45.282Z"
   },
   {
    "duration": -704,
    "start_time": "2021-08-31T13:54:45.286Z"
   },
   {
    "duration": -705,
    "start_time": "2021-08-31T13:54:45.289Z"
   },
   {
    "duration": -707,
    "start_time": "2021-08-31T13:54:45.292Z"
   },
   {
    "duration": -708,
    "start_time": "2021-08-31T13:54:45.295Z"
   },
   {
    "duration": -710,
    "start_time": "2021-08-31T13:54:45.298Z"
   },
   {
    "duration": -712,
    "start_time": "2021-08-31T13:54:45.301Z"
   },
   {
    "duration": -712,
    "start_time": "2021-08-31T13:54:45.303Z"
   },
   {
    "duration": 130,
    "start_time": "2021-08-31T13:54:53.155Z"
   },
   {
    "duration": 7,
    "start_time": "2021-08-31T13:54:53.288Z"
   },
   {
    "duration": 47,
    "start_time": "2021-08-31T13:54:53.297Z"
   },
   {
    "duration": 3,
    "start_time": "2021-08-31T13:54:53.357Z"
   },
   {
    "duration": 16,
    "start_time": "2021-08-31T13:54:53.362Z"
   },
   {
    "duration": 107,
    "start_time": "2021-08-31T13:54:53.380Z"
   },
   {
    "duration": 386,
    "start_time": "2021-08-31T13:54:53.490Z"
   },
   {
    "duration": 82,
    "start_time": "2021-08-31T13:54:53.880Z"
   },
   {
    "duration": 3,
    "start_time": "2021-08-31T13:54:54.058Z"
   },
   {
    "duration": 15,
    "start_time": "2021-08-31T13:54:54.064Z"
   },
   {
    "duration": 12,
    "start_time": "2021-08-31T13:54:54.081Z"
   },
   {
    "duration": 11,
    "start_time": "2021-08-31T13:54:54.096Z"
   },
   {
    "duration": 4,
    "start_time": "2021-08-31T13:57:11.044Z"
   },
   {
    "duration": 246,
    "start_time": "2021-08-31T13:57:58.210Z"
   },
   {
    "duration": 221,
    "start_time": "2021-08-31T13:58:26.714Z"
   },
   {
    "duration": 10,
    "start_time": "2021-08-31T13:58:33.425Z"
   },
   {
    "duration": 9,
    "start_time": "2021-08-31T13:58:52.570Z"
   },
   {
    "duration": 8,
    "start_time": "2021-08-31T13:58:55.249Z"
   },
   {
    "duration": 485,
    "start_time": "2021-08-31T13:59:19.314Z"
   },
   {
    "duration": 4,
    "start_time": "2021-08-31T14:00:39.596Z"
   },
   {
    "duration": 52130,
    "start_time": "2021-08-31T14:01:04.316Z"
   },
   {
    "duration": 6,
    "start_time": "2021-08-31T14:03:06.775Z"
   },
   {
    "duration": 10,
    "start_time": "2021-08-31T14:03:22.791Z"
   },
   {
    "duration": 5,
    "start_time": "2021-08-31T14:03:46.967Z"
   },
   {
    "duration": 50,
    "start_time": "2021-08-31T14:04:16.111Z"
   },
   {
    "duration": 17,
    "start_time": "2021-08-31T14:04:36.899Z"
   },
   {
    "duration": 253,
    "start_time": "2021-08-31T14:04:52.081Z"
   },
   {
    "duration": 450,
    "start_time": "2021-08-31T14:05:04.008Z"
   },
   {
    "duration": 275,
    "start_time": "2021-08-31T14:07:05.522Z"
   },
   {
    "duration": 3,
    "start_time": "2021-08-31T14:07:27.322Z"
   },
   {
    "duration": 715,
    "start_time": "2021-08-31T14:07:29.060Z"
   },
   {
    "duration": 668,
    "start_time": "2021-08-31T14:08:56.196Z"
   },
   {
    "duration": 658,
    "start_time": "2021-08-31T14:09:02.685Z"
   },
   {
    "duration": 701,
    "start_time": "2021-08-31T14:09:25.283Z"
   },
   {
    "duration": 2283,
    "start_time": "2021-08-31T14:09:43.862Z"
   },
   {
    "duration": 89,
    "start_time": "2021-08-31T14:11:51.343Z"
   },
   {
    "duration": 6,
    "start_time": "2021-08-31T14:11:56.158Z"
   },
   {
    "duration": 828,
    "start_time": "2021-08-31T14:12:00.790Z"
   },
   {
    "duration": 40,
    "start_time": "2021-08-31T14:12:20.264Z"
   },
   {
    "duration": 2622,
    "start_time": "2021-08-31T14:12:24.142Z"
   },
   {
    "duration": 120,
    "start_time": "2021-09-01T08:32:28.857Z"
   },
   {
    "duration": 390,
    "start_time": "2021-09-01T08:34:40.481Z"
   },
   {
    "duration": 822,
    "start_time": "2021-09-01T08:34:43.997Z"
   },
   {
    "duration": 47,
    "start_time": "2021-09-01T08:34:46.032Z"
   },
   {
    "duration": 47,
    "start_time": "2021-09-01T08:34:56.600Z"
   },
   {
    "duration": 124,
    "start_time": "2021-09-01T08:36:09.810Z"
   },
   {
    "duration": 115,
    "start_time": "2021-09-01T08:36:55.266Z"
   },
   {
    "duration": 127,
    "start_time": "2021-09-01T08:43:34.977Z"
   },
   {
    "duration": 124,
    "start_time": "2021-09-01T08:45:42.708Z"
   },
   {
    "duration": 10,
    "start_time": "2021-09-01T08:48:14.287Z"
   },
   {
    "duration": 95,
    "start_time": "2021-09-01T08:52:02.598Z"
   },
   {
    "duration": 118,
    "start_time": "2021-09-01T08:52:04.190Z"
   },
   {
    "duration": 119,
    "start_time": "2021-09-01T08:52:05.600Z"
   },
   {
    "duration": 98,
    "start_time": "2021-09-01T08:53:09.891Z"
   },
   {
    "duration": 85,
    "start_time": "2021-09-01T08:56:29.574Z"
   },
   {
    "duration": 52,
    "start_time": "2021-09-01T08:56:29.661Z"
   },
   {
    "duration": 91,
    "start_time": "2021-09-01T08:56:29.716Z"
   },
   {
    "duration": 14,
    "start_time": "2021-09-01T08:56:29.809Z"
   },
   {
    "duration": 6,
    "start_time": "2021-09-01T08:56:29.826Z"
   },
   {
    "duration": 33,
    "start_time": "2021-09-01T08:56:29.835Z"
   },
   {
    "duration": 10,
    "start_time": "2021-09-01T08:56:29.872Z"
   },
   {
    "duration": 9,
    "start_time": "2021-09-01T08:56:29.886Z"
   },
   {
    "duration": 25,
    "start_time": "2021-09-01T08:56:29.897Z"
   },
   {
    "duration": 44,
    "start_time": "2021-09-01T08:56:29.925Z"
   },
   {
    "duration": 15,
    "start_time": "2021-09-01T08:56:29.973Z"
   },
   {
    "duration": 24,
    "start_time": "2021-09-01T08:56:29.991Z"
   },
   {
    "duration": 30,
    "start_time": "2021-09-01T08:56:30.017Z"
   },
   {
    "duration": 29,
    "start_time": "2021-09-01T08:56:30.050Z"
   },
   {
    "duration": 3271,
    "start_time": "2021-09-01T08:56:30.081Z"
   },
   {
    "duration": 3824,
    "start_time": "2021-09-01T08:56:33.354Z"
   },
   {
    "duration": 7,
    "start_time": "2021-09-01T08:56:37.181Z"
   },
   {
    "duration": 25,
    "start_time": "2021-09-01T08:56:37.190Z"
   },
   {
    "duration": 63,
    "start_time": "2021-09-01T08:56:37.219Z"
   },
   {
    "duration": 364,
    "start_time": "2021-09-01T08:57:52.379Z"
   },
   {
    "duration": 25,
    "start_time": "2021-09-01T08:57:55.759Z"
   },
   {
    "duration": 108,
    "start_time": "2021-09-01T08:58:33.889Z"
   },
   {
    "duration": 860,
    "start_time": "2021-09-01T08:59:33.696Z"
   },
   {
    "duration": 86,
    "start_time": "2021-09-01T08:59:41.784Z"
   },
   {
    "duration": 49,
    "start_time": "2021-09-01T08:59:41.872Z"
   },
   {
    "duration": 86,
    "start_time": "2021-09-01T08:59:41.924Z"
   },
   {
    "duration": 16,
    "start_time": "2021-09-01T08:59:42.013Z"
   },
   {
    "duration": 10,
    "start_time": "2021-09-01T08:59:42.031Z"
   },
   {
    "duration": 33,
    "start_time": "2021-09-01T08:59:42.043Z"
   },
   {
    "duration": 37,
    "start_time": "2021-09-01T08:59:42.079Z"
   },
   {
    "duration": 32,
    "start_time": "2021-09-01T08:59:42.120Z"
   },
   {
    "duration": 59,
    "start_time": "2021-09-01T08:59:42.155Z"
   },
   {
    "duration": 20,
    "start_time": "2021-09-01T08:59:42.216Z"
   },
   {
    "duration": 44,
    "start_time": "2021-09-01T08:59:42.239Z"
   },
   {
    "duration": 12,
    "start_time": "2021-09-01T08:59:42.286Z"
   },
   {
    "duration": 22,
    "start_time": "2021-09-01T08:59:42.300Z"
   },
   {
    "duration": 25,
    "start_time": "2021-09-01T08:59:42.324Z"
   },
   {
    "duration": 3460,
    "start_time": "2021-09-01T08:59:42.351Z"
   },
   {
    "duration": 3844,
    "start_time": "2021-09-01T08:59:45.814Z"
   },
   {
    "duration": 10,
    "start_time": "2021-09-01T08:59:49.662Z"
   },
   {
    "duration": 24,
    "start_time": "2021-09-01T08:59:49.675Z"
   },
   {
    "duration": 22,
    "start_time": "2021-09-01T08:59:49.702Z"
   },
   {
    "duration": 31,
    "start_time": "2021-09-01T09:01:08.654Z"
   },
   {
    "duration": 341,
    "start_time": "2021-09-01T09:01:12.843Z"
   },
   {
    "duration": 218,
    "start_time": "2021-09-01T09:01:21.356Z"
   },
   {
    "duration": 313,
    "start_time": "2021-09-01T09:01:40.928Z"
   },
   {
    "duration": 316,
    "start_time": "2021-09-01T09:01:43.389Z"
   },
   {
    "duration": 334,
    "start_time": "2021-09-01T09:01:47.073Z"
   },
   {
    "duration": 245,
    "start_time": "2021-09-01T09:01:52.844Z"
   },
   {
    "duration": 635,
    "start_time": "2021-09-01T09:02:02.400Z"
   },
   {
    "duration": 245,
    "start_time": "2021-09-01T09:02:11.455Z"
   },
   {
    "duration": 21,
    "start_time": "2021-09-01T09:02:54.788Z"
   },
   {
    "duration": 238,
    "start_time": "2021-09-01T09:02:58.180Z"
   },
   {
    "duration": 15,
    "start_time": "2021-09-01T09:04:10.509Z"
   },
   {
    "duration": 256,
    "start_time": "2021-09-01T09:04:32.611Z"
   },
   {
    "duration": 302,
    "start_time": "2021-09-01T09:04:36.789Z"
   },
   {
    "duration": 261,
    "start_time": "2021-09-01T09:04:44.691Z"
   },
   {
    "duration": 261,
    "start_time": "2021-09-01T09:04:51.988Z"
   },
   {
    "duration": 388,
    "start_time": "2021-09-01T09:05:57.346Z"
   },
   {
    "duration": 380,
    "start_time": "2021-09-01T09:06:34.885Z"
   },
   {
    "duration": 97,
    "start_time": "2021-09-01T09:14:31.179Z"
   },
   {
    "duration": 87,
    "start_time": "2021-09-01T09:14:35.414Z"
   },
   {
    "duration": 79,
    "start_time": "2021-09-01T09:14:35.504Z"
   },
   {
    "duration": 84,
    "start_time": "2021-09-01T09:14:35.587Z"
   },
   {
    "duration": 16,
    "start_time": "2021-09-01T09:14:35.675Z"
   },
   {
    "duration": 18,
    "start_time": "2021-09-01T09:14:35.693Z"
   },
   {
    "duration": 11,
    "start_time": "2021-09-01T09:14:35.714Z"
   },
   {
    "duration": 8,
    "start_time": "2021-09-01T09:14:35.727Z"
   },
   {
    "duration": 12,
    "start_time": "2021-09-01T09:14:35.761Z"
   },
   {
    "duration": 23,
    "start_time": "2021-09-01T09:14:35.777Z"
   },
   {
    "duration": 19,
    "start_time": "2021-09-01T09:14:35.803Z"
   },
   {
    "duration": 45,
    "start_time": "2021-09-01T09:14:35.825Z"
   },
   {
    "duration": 16,
    "start_time": "2021-09-01T09:14:35.892Z"
   },
   {
    "duration": 12,
    "start_time": "2021-09-01T09:14:35.910Z"
   },
   {
    "duration": 13,
    "start_time": "2021-09-01T09:14:35.925Z"
   },
   {
    "duration": 3479,
    "start_time": "2021-09-01T09:14:35.940Z"
   },
   {
    "duration": 3944,
    "start_time": "2021-09-01T09:14:39.422Z"
   },
   {
    "duration": 9,
    "start_time": "2021-09-01T09:14:43.368Z"
   },
   {
    "duration": 22,
    "start_time": "2021-09-01T09:14:43.380Z"
   },
   {
    "duration": 23,
    "start_time": "2021-09-01T09:14:43.404Z"
   },
   {
    "duration": 65,
    "start_time": "2021-09-01T09:14:43.430Z"
   },
   {
    "duration": 278,
    "start_time": "2021-09-01T09:14:43.498Z"
   },
   {
    "duration": 266,
    "start_time": "2021-09-01T09:14:43.779Z"
   },
   {
    "duration": 307,
    "start_time": "2021-09-01T09:14:44.050Z"
   },
   {
    "duration": 277,
    "start_time": "2021-09-01T09:14:44.363Z"
   },
   {
    "duration": 29,
    "start_time": "2021-09-01T09:14:44.643Z"
   },
   {
    "duration": 13,
    "start_time": "2021-09-01T09:14:44.675Z"
   },
   {
    "duration": 18,
    "start_time": "2021-09-01T09:14:44.690Z"
   },
   {
    "duration": 116,
    "start_time": "2021-09-01T09:15:54.815Z"
   },
   {
    "duration": 8,
    "start_time": "2021-09-01T09:16:02.050Z"
   },
   {
    "duration": 8,
    "start_time": "2021-09-01T09:16:23.056Z"
   },
   {
    "duration": 99,
    "start_time": "2021-09-01T09:27:31.454Z"
   },
   {
    "duration": 5,
    "start_time": "2021-09-01T09:28:03.222Z"
   },
   {
    "duration": 638,
    "start_time": "2021-09-01T09:28:07.506Z"
   },
   {
    "duration": 569,
    "start_time": "2021-09-01T09:28:18.833Z"
   },
   {
    "duration": 315,
    "start_time": "2021-09-01T09:28:21.425Z"
   },
   {
    "duration": 818,
    "start_time": "2021-09-01T09:28:52.484Z"
   },
   {
    "duration": 598,
    "start_time": "2021-09-01T09:29:11.041Z"
   },
   {
    "duration": 655,
    "start_time": "2021-09-01T09:29:17.249Z"
   },
   {
    "duration": 4749,
    "start_time": "2021-09-25T15:24:59.313Z"
   },
   {
    "duration": 3295,
    "start_time": "2021-09-25T15:25:08.675Z"
   },
   {
    "duration": 2521,
    "start_time": "2021-09-25T15:25:17.970Z"
   },
   {
    "duration": 2682,
    "start_time": "2021-09-25T15:25:29.189Z"
   },
   {
    "duration": 4,
    "start_time": "2021-09-25T15:28:02.879Z"
   },
   {
    "duration": 4,
    "start_time": "2021-09-25T15:28:10.636Z"
   },
   {
    "duration": 8,
    "start_time": "2021-09-25T15:28:23.951Z"
   },
   {
    "duration": 6,
    "start_time": "2021-09-25T15:28:27.740Z"
   },
   {
    "duration": 2884,
    "start_time": "2021-09-26T14:19:47.250Z"
   },
   {
    "duration": 1195,
    "start_time": "2021-09-26T14:20:03.779Z"
   },
   {
    "duration": 1201,
    "start_time": "2021-09-26T14:20:33.199Z"
   },
   {
    "duration": 120,
    "start_time": "2021-09-26T14:22:10.052Z"
   },
   {
    "duration": 1290,
    "start_time": "2021-09-26T14:22:16.247Z"
   },
   {
    "duration": 1172,
    "start_time": "2021-09-26T14:22:55.689Z"
   },
   {
    "duration": 1264,
    "start_time": "2021-09-26T14:24:30.445Z"
   },
   {
    "duration": 1235,
    "start_time": "2021-09-26T14:24:44.688Z"
   },
   {
    "duration": 917,
    "start_time": "2021-09-26T14:25:03.772Z"
   },
   {
    "duration": 840,
    "start_time": "2021-09-26T14:25:25.062Z"
   },
   {
    "duration": 1250,
    "start_time": "2021-09-26T14:25:39.696Z"
   },
   {
    "duration": 1421,
    "start_time": "2021-09-26T16:46:04.017Z"
   },
   {
    "duration": 849,
    "start_time": "2021-09-26T16:47:53.539Z"
   },
   {
    "duration": 772,
    "start_time": "2021-09-26T16:50:50.177Z"
   },
   {
    "duration": 1253,
    "start_time": "2021-09-26T16:51:03.172Z"
   },
   {
    "duration": 1249,
    "start_time": "2021-09-26T16:51:17.292Z"
   },
   {
    "duration": 838,
    "start_time": "2021-09-26T17:00:18.233Z"
   },
   {
    "duration": 775,
    "start_time": "2021-09-26T17:00:22.909Z"
   },
   {
    "duration": 2972,
    "start_time": "2021-09-29T13:21:43.821Z"
   },
   {
    "duration": 17,
    "start_time": "2021-09-29T13:21:56.827Z"
   },
   {
    "duration": 144,
    "start_time": "2021-09-29T13:22:23.517Z"
   },
   {
    "duration": 12,
    "start_time": "2021-09-29T13:22:40.300Z"
   },
   {
    "duration": 336,
    "start_time": "2021-09-29T13:33:25.741Z"
   },
   {
    "duration": 1098,
    "start_time": "2021-10-03T07:47:06.387Z"
   },
   {
    "duration": 22,
    "start_time": "2021-10-03T07:47:14.790Z"
   },
   {
    "duration": 12,
    "start_time": "2021-10-03T07:47:25.923Z"
   },
   {
    "duration": 930,
    "start_time": "2021-10-05T13:22:22.891Z"
   },
   {
    "duration": 21,
    "start_time": "2021-10-05T13:22:38.315Z"
   },
   {
    "duration": 6,
    "start_time": "2021-10-05T13:24:10.342Z"
   },
   {
    "duration": 1403,
    "start_time": "2021-10-05T13:41:01.212Z"
   },
   {
    "duration": 36,
    "start_time": "2021-10-05T13:41:17.154Z"
   },
   {
    "duration": 18,
    "start_time": "2021-10-05T13:41:21.283Z"
   },
   {
    "duration": 16,
    "start_time": "2021-10-05T13:41:33.061Z"
   },
   {
    "duration": 245,
    "start_time": "2021-10-05T13:41:38.186Z"
   },
   {
    "duration": 15,
    "start_time": "2021-10-05T13:41:51.695Z"
   },
   {
    "duration": 15,
    "start_time": "2021-10-05T13:41:59.157Z"
   },
   {
    "duration": 15,
    "start_time": "2021-10-05T13:45:25.983Z"
   },
   {
    "duration": 14,
    "start_time": "2021-10-05T13:45:49.224Z"
   },
   {
    "duration": 1197,
    "start_time": "2021-10-10T17:07:49.683Z"
   },
   {
    "duration": 212,
    "start_time": "2021-10-10T17:08:17.465Z"
   },
   {
    "duration": 10,
    "start_time": "2021-10-10T17:08:28.092Z"
   },
   {
    "duration": 343,
    "start_time": "2021-10-10T17:09:18.278Z"
   },
   {
    "duration": 4,
    "start_time": "2021-10-10T17:09:22.994Z"
   },
   {
    "duration": 5,
    "start_time": "2021-10-10T17:11:37.969Z"
   },
   {
    "duration": 5,
    "start_time": "2021-10-10T17:11:48.369Z"
   },
   {
    "duration": 5,
    "start_time": "2021-10-10T17:12:05.874Z"
   },
   {
    "duration": 5,
    "start_time": "2021-10-10T17:12:13.485Z"
   },
   {
    "duration": 5,
    "start_time": "2021-10-10T17:12:20.005Z"
   },
   {
    "duration": 11,
    "start_time": "2021-10-13T06:52:23.076Z"
   },
   {
    "duration": 10,
    "start_time": "2021-10-13T06:52:31.931Z"
   },
   {
    "duration": 10,
    "start_time": "2021-10-13T06:52:42.947Z"
   },
   {
    "duration": 3012,
    "start_time": "2021-10-13T06:57:40.454Z"
   },
   {
    "duration": 103,
    "start_time": "2021-10-13T06:57:50.995Z"
   },
   {
    "duration": 91,
    "start_time": "2021-10-13T06:58:13.895Z"
   },
   {
    "duration": 14,
    "start_time": "2021-10-13T06:58:17.569Z"
   },
   {
    "duration": 23,
    "start_time": "2021-10-13T06:58:32.072Z"
   },
   {
    "duration": 19,
    "start_time": "2021-10-13T06:59:12.717Z"
   },
   {
    "duration": 11,
    "start_time": "2021-10-13T06:59:18.600Z"
   },
   {
    "duration": 64,
    "start_time": "2021-10-13T07:01:16.926Z"
   },
   {
    "duration": 97,
    "start_time": "2021-10-13T07:37:14.791Z"
   },
   {
    "duration": 1593,
    "start_time": "2021-10-13T07:38:53.482Z"
   },
   {
    "duration": 97,
    "start_time": "2021-10-13T07:39:05.967Z"
   },
   {
    "duration": 297,
    "start_time": "2021-10-13T07:41:04.061Z"
   },
   {
    "duration": 105,
    "start_time": "2021-10-13T07:46:57.021Z"
   },
   {
    "duration": 5,
    "start_time": "2021-10-13T07:47:41.857Z"
   },
   {
    "duration": 16,
    "start_time": "2021-10-13T07:47:46.689Z"
   },
   {
    "duration": 10,
    "start_time": "2021-10-13T12:39:13.492Z"
   },
   {
    "duration": 18,
    "start_time": "2021-10-13T12:39:17.793Z"
   },
   {
    "duration": 4,
    "start_time": "2021-10-13T12:39:29.561Z"
   },
   {
    "duration": 5,
    "start_time": "2021-10-13T12:39:50.161Z"
   },
   {
    "duration": 271,
    "start_time": "2021-10-13T12:42:06.212Z"
   },
   {
    "duration": 823,
    "start_time": "2021-10-13T12:42:09.588Z"
   },
   {
    "duration": 23,
    "start_time": "2021-10-13T12:42:12.502Z"
   },
   {
    "duration": 6,
    "start_time": "2021-10-13T12:43:04.934Z"
   },
   {
    "duration": 6,
    "start_time": "2021-10-13T12:43:09.384Z"
   },
   {
    "duration": 5,
    "start_time": "2021-10-13T12:43:13.103Z"
   },
   {
    "duration": 17,
    "start_time": "2021-10-13T12:43:27.753Z"
   },
   {
    "duration": 67,
    "start_time": "2021-10-13T12:45:13.544Z"
   },
   {
    "duration": 1628,
    "start_time": "2021-10-13T12:47:24.564Z"
   },
   {
    "duration": 322,
    "start_time": "2021-10-13T12:47:32.982Z"
   },
   {
    "duration": 22,
    "start_time": "2021-10-13T12:47:44.859Z"
   },
   {
    "duration": 22,
    "start_time": "2021-10-13T12:47:58.247Z"
   },
   {
    "duration": 22,
    "start_time": "2021-10-13T12:48:15.635Z"
   },
   {
    "duration": 5,
    "start_time": "2021-10-13T12:48:50.034Z"
   },
   {
    "duration": 6,
    "start_time": "2021-10-13T12:48:54.884Z"
   },
   {
    "duration": 5,
    "start_time": "2021-10-13T12:49:04.514Z"
   },
   {
    "duration": 5,
    "start_time": "2021-10-13T12:49:25.460Z"
   },
   {
    "duration": 6,
    "start_time": "2021-10-13T12:49:27.051Z"
   },
   {
    "duration": 1030,
    "start_time": "2021-10-13T12:50:37.358Z"
   },
   {
    "duration": 5,
    "start_time": "2021-10-13T12:51:37.497Z"
   },
   {
    "duration": 798,
    "start_time": "2021-10-13T15:46:22.472Z"
   },
   {
    "duration": 13,
    "start_time": "2021-10-13T15:46:26.065Z"
   },
   {
    "duration": 6,
    "start_time": "2021-10-13T15:46:30.011Z"
   },
   {
    "duration": 5,
    "start_time": "2021-10-13T15:46:34.292Z"
   },
   {
    "duration": 22,
    "start_time": "2021-10-13T15:46:42.407Z"
   },
   {
    "duration": 25,
    "start_time": "2021-10-13T15:47:01.703Z"
   },
   {
    "duration": 26,
    "start_time": "2021-10-13T15:47:28.566Z"
   },
   {
    "duration": 25,
    "start_time": "2021-10-13T15:47:40.162Z"
   },
   {
    "duration": 6,
    "start_time": "2021-10-13T15:47:47.016Z"
   },
   {
    "duration": 5,
    "start_time": "2021-10-13T15:47:48.300Z"
   },
   {
    "duration": 26,
    "start_time": "2021-10-13T15:48:03.423Z"
   },
   {
    "duration": 6,
    "start_time": "2021-10-13T15:48:12.000Z"
   },
   {
    "duration": 6,
    "start_time": "2021-10-13T15:48:13.545Z"
   },
   {
    "duration": 10,
    "start_time": "2021-10-13T16:59:04.142Z"
   },
   {
    "duration": 13,
    "start_time": "2021-10-13T16:59:23.641Z"
   },
   {
    "duration": 5,
    "start_time": "2021-10-13T16:59:30.493Z"
   },
   {
    "duration": 4,
    "start_time": "2021-10-13T17:01:27.782Z"
   },
   {
    "duration": 5,
    "start_time": "2021-10-13T17:01:55.660Z"
   },
   {
    "duration": 5,
    "start_time": "2021-10-13T17:01:57.117Z"
   },
   {
    "duration": 5,
    "start_time": "2021-10-13T17:02:08.567Z"
   },
   {
    "duration": 6,
    "start_time": "2021-10-13T17:02:33.213Z"
   },
   {
    "duration": 794,
    "start_time": "2021-10-13T17:03:43.209Z"
   },
   {
    "duration": 13,
    "start_time": "2021-10-13T17:03:56.787Z"
   },
   {
    "duration": 7,
    "start_time": "2021-10-13T17:04:45.172Z"
   },
   {
    "duration": 6,
    "start_time": "2021-10-13T17:04:54.335Z"
   },
   {
    "duration": 23,
    "start_time": "2021-10-13T17:05:27.270Z"
   },
   {
    "duration": 7,
    "start_time": "2021-10-13T17:06:06.947Z"
   },
   {
    "duration": 6,
    "start_time": "2021-10-13T17:07:02.799Z"
   },
   {
    "duration": 69,
    "start_time": "2021-10-13T17:08:35.143Z"
   },
   {
    "duration": 89,
    "start_time": "2021-10-13T17:10:05.057Z"
   },
   {
    "duration": 14,
    "start_time": "2021-10-13T17:10:13.359Z"
   },
   {
    "duration": 22,
    "start_time": "2021-10-13T17:10:53.223Z"
   },
   {
    "duration": 22,
    "start_time": "2021-10-13T17:11:03.950Z"
   },
   {
    "duration": 5,
    "start_time": "2021-10-13T17:11:31.836Z"
   },
   {
    "duration": 20,
    "start_time": "2021-10-13T17:13:08.461Z"
   },
   {
    "duration": 13,
    "start_time": "2021-10-13T17:13:17.314Z"
   },
   {
    "duration": 16,
    "start_time": "2021-10-13T17:13:23.900Z"
   },
   {
    "duration": 5,
    "start_time": "2021-10-13T17:13:44.722Z"
   },
   {
    "duration": 783,
    "start_time": "2021-10-13T17:18:26.904Z"
   },
   {
    "duration": 16,
    "start_time": "2021-10-13T17:18:58.039Z"
   },
   {
    "duration": 503,
    "start_time": "2021-10-13T17:19:55.938Z"
   },
   {
    "duration": 285,
    "start_time": "2021-10-13T17:20:26.858Z"
   },
   {
    "duration": 289,
    "start_time": "2021-10-13T17:22:11.276Z"
   },
   {
    "duration": 4,
    "start_time": "2021-10-13T17:25:00.025Z"
   },
   {
    "duration": 5,
    "start_time": "2021-10-13T17:25:06.657Z"
   },
   {
    "duration": 5,
    "start_time": "2021-10-13T17:25:29.193Z"
   },
   {
    "duration": 5,
    "start_time": "2021-10-13T17:26:14.455Z"
   },
   {
    "duration": 5,
    "start_time": "2021-10-13T17:26:34.690Z"
   },
   {
    "duration": 5,
    "start_time": "2021-10-13T17:26:50.507Z"
   },
   {
    "duration": 5,
    "start_time": "2021-10-13T17:27:22.045Z"
   },
   {
    "duration": 5,
    "start_time": "2021-10-13T17:27:58.707Z"
   },
   {
    "duration": 5,
    "start_time": "2021-10-13T17:28:14.157Z"
   },
   {
    "duration": 7,
    "start_time": "2021-10-13T17:28:23.043Z"
   },
   {
    "duration": 2964,
    "start_time": "2021-10-24T09:26:03.318Z"
   },
   {
    "duration": 226,
    "start_time": "2021-10-24T09:26:16.656Z"
   },
   {
    "duration": 21,
    "start_time": "2021-10-24T09:26:47.640Z"
   },
   {
    "duration": 12,
    "start_time": "2021-10-24T09:26:58.560Z"
   },
   {
    "duration": 13,
    "start_time": "2021-10-24T09:29:35.474Z"
   },
   {
    "duration": 14,
    "start_time": "2021-10-24T09:29:44.075Z"
   },
   {
    "duration": 16,
    "start_time": "2021-10-24T09:30:00.667Z"
   },
   {
    "duration": 27,
    "start_time": "2021-10-24T09:31:16.379Z"
   },
   {
    "duration": 1570,
    "start_time": "2021-10-25T08:48:17.323Z"
   },
   {
    "duration": 71,
    "start_time": "2021-10-25T08:48:52.465Z"
   },
   {
    "duration": 101,
    "start_time": "2021-10-25T08:49:22.449Z"
   },
   {
    "duration": 23,
    "start_time": "2021-10-25T08:49:23.777Z"
   },
   {
    "duration": 9,
    "start_time": "2021-10-25T08:49:25.785Z"
   },
   {
    "duration": 10,
    "start_time": "2021-10-25T08:49:29.602Z"
   },
   {
    "duration": 10,
    "start_time": "2021-10-25T08:49:31.752Z"
   },
   {
    "duration": 9,
    "start_time": "2021-10-25T08:49:33.793Z"
   },
   {
    "duration": 25,
    "start_time": "2021-10-25T08:49:36.052Z"
   },
   {
    "duration": 15,
    "start_time": "2021-10-25T08:49:38.088Z"
   },
   {
    "duration": 11,
    "start_time": "2021-10-25T08:49:39.576Z"
   },
   {
    "duration": 11,
    "start_time": "2021-10-25T08:49:40.489Z"
   },
   {
    "duration": 6,
    "start_time": "2021-10-25T08:49:42.896Z"
   },
   {
    "duration": 11,
    "start_time": "2021-10-25T08:49:48.168Z"
   },
   {
    "duration": 3573,
    "start_time": "2021-10-25T08:49:59.855Z"
   },
   {
    "duration": 3905,
    "start_time": "2021-10-25T08:50:10.729Z"
   },
   {
    "duration": 6,
    "start_time": "2021-10-25T08:50:14.637Z"
   },
   {
    "duration": 22,
    "start_time": "2021-10-25T08:50:14.646Z"
   },
   {
    "duration": 23,
    "start_time": "2021-10-25T08:50:18.576Z"
   },
   {
    "duration": 7,
    "start_time": "2021-10-25T08:50:33.527Z"
   },
   {
    "duration": 7,
    "start_time": "2021-10-25T08:50:34.505Z"
   },
   {
    "duration": 8,
    "start_time": "2021-10-25T08:50:35.425Z"
   },
   {
    "duration": 22,
    "start_time": "2021-10-25T08:50:37.559Z"
   },
   {
    "duration": 21,
    "start_time": "2021-10-25T08:50:45.569Z"
   },
   {
    "duration": 29,
    "start_time": "2021-10-25T08:51:11.000Z"
   },
   {
    "duration": 334,
    "start_time": "2021-10-25T08:51:24.833Z"
   },
   {
    "duration": 272,
    "start_time": "2021-10-25T08:51:29.775Z"
   },
   {
    "duration": 301,
    "start_time": "2021-10-25T08:51:30.376Z"
   },
   {
    "duration": 266,
    "start_time": "2021-10-25T08:52:06.320Z"
   },
   {
    "duration": 20,
    "start_time": "2021-10-25T08:52:45.384Z"
   },
   {
    "duration": 14,
    "start_time": "2021-10-25T08:52:54.271Z"
   },
   {
    "duration": 38,
    "start_time": "2021-10-25T08:52:58.974Z"
   },
   {
    "duration": 7,
    "start_time": "2021-10-25T08:53:19.664Z"
   },
   {
    "duration": 10,
    "start_time": "2021-10-25T08:56:43.456Z"
   },
   {
    "duration": 118,
    "start_time": "2021-10-25T09:25:44.742Z"
   },
   {
    "duration": 113,
    "start_time": "2021-10-25T09:25:50.067Z"
   },
   {
    "duration": 3019,
    "start_time": "2021-10-25T09:25:52.482Z"
   },
   {
    "duration": 2477,
    "start_time": "2021-10-25T09:26:06.483Z"
   },
   {
    "duration": 15,
    "start_time": "2021-10-25T09:28:47.312Z"
   },
   {
    "duration": 2128,
    "start_time": "2021-10-25T09:31:11.172Z"
   },
   {
    "duration": 71,
    "start_time": "2021-10-25T09:31:13.304Z"
   },
   {
    "duration": 85,
    "start_time": "2021-10-25T09:31:13.378Z"
   },
   {
    "duration": 14,
    "start_time": "2021-10-25T09:31:13.465Z"
   },
   {
    "duration": 7,
    "start_time": "2021-10-25T09:31:13.500Z"
   },
   {
    "duration": 15,
    "start_time": "2021-10-25T09:31:13.509Z"
   },
   {
    "duration": 11,
    "start_time": "2021-10-25T09:31:13.526Z"
   },
   {
    "duration": 8,
    "start_time": "2021-10-25T09:31:13.541Z"
   },
   {
    "duration": 53,
    "start_time": "2021-10-25T09:31:13.552Z"
   },
   {
    "duration": 19,
    "start_time": "2021-10-25T09:31:13.608Z"
   },
   {
    "duration": 9,
    "start_time": "2021-10-25T09:31:13.630Z"
   },
   {
    "duration": 12,
    "start_time": "2021-10-25T09:31:13.642Z"
   },
   {
    "duration": 6,
    "start_time": "2021-10-25T09:31:13.656Z"
   },
   {
    "duration": 39,
    "start_time": "2021-10-25T09:31:13.665Z"
   },
   {
    "duration": 4723,
    "start_time": "2021-10-25T09:31:13.707Z"
   },
   {
    "duration": 3925,
    "start_time": "2021-10-25T09:31:18.432Z"
   },
   {
    "duration": 6,
    "start_time": "2021-10-25T09:31:22.360Z"
   },
   {
    "duration": 38,
    "start_time": "2021-10-25T09:31:22.369Z"
   },
   {
    "duration": 24,
    "start_time": "2021-10-25T09:31:22.409Z"
   },
   {
    "duration": 106,
    "start_time": "2021-10-25T09:31:22.435Z"
   },
   {
    "duration": 278,
    "start_time": "2021-10-25T09:31:22.543Z"
   },
   {
    "duration": 270,
    "start_time": "2021-10-25T09:31:22.824Z"
   },
   {
    "duration": 301,
    "start_time": "2021-10-25T09:31:23.102Z"
   },
   {
    "duration": 285,
    "start_time": "2021-10-25T09:31:23.406Z"
   },
   {
    "duration": 21,
    "start_time": "2021-10-25T09:31:23.701Z"
   },
   {
    "duration": 14,
    "start_time": "2021-10-25T09:31:23.725Z"
   },
   {
    "duration": 9,
    "start_time": "2021-10-25T09:31:23.742Z"
   },
   {
    "duration": 48,
    "start_time": "2021-10-25T09:31:23.754Z"
   },
   {
    "duration": 3371,
    "start_time": "2021-10-25T16:52:20.303Z"
   },
   {
    "duration": 160,
    "start_time": "2021-10-25T16:52:27.671Z"
   },
   {
    "duration": 12,
    "start_time": "2021-10-25T16:52:32.321Z"
   },
   {
    "duration": 3,
    "start_time": "2021-10-25T16:52:38.981Z"
   },
   {
    "duration": 5,
    "start_time": "2021-10-25T16:52:56.211Z"
   },
   {
    "duration": 4,
    "start_time": "2021-10-25T16:53:05.023Z"
   },
   {
    "duration": 5,
    "start_time": "2021-10-25T16:53:12.336Z"
   },
   {
    "duration": 4,
    "start_time": "2021-10-25T16:53:21.049Z"
   },
   {
    "duration": 57,
    "start_time": "2021-10-25T16:54:56.432Z"
   },
   {
    "duration": 60,
    "start_time": "2021-10-25T16:55:08.457Z"
   },
   {
    "duration": 57,
    "start_time": "2021-10-25T16:55:25.427Z"
   },
   {
    "duration": 56,
    "start_time": "2021-10-25T16:56:32.658Z"
   },
   {
    "duration": 62,
    "start_time": "2021-10-25T16:56:56.857Z"
   },
   {
    "duration": 56,
    "start_time": "2021-10-25T16:57:05.467Z"
   },
   {
    "duration": 57,
    "start_time": "2021-10-25T16:57:16.440Z"
   },
   {
    "duration": 53,
    "start_time": "2021-10-25T16:57:26.264Z"
   },
   {
    "duration": 50,
    "start_time": "2021-10-25T16:58:28.504Z"
   },
   {
    "duration": 4,
    "start_time": "2021-10-25T17:08:27.212Z"
   },
   {
    "duration": 13,
    "start_time": "2021-10-25T17:53:35.164Z"
   },
   {
    "duration": 10,
    "start_time": "2021-10-25T17:55:41.801Z"
   },
   {
    "duration": 9,
    "start_time": "2021-10-25T17:57:14.664Z"
   },
   {
    "duration": 8,
    "start_time": "2021-10-25T17:57:23.204Z"
   },
   {
    "duration": 126,
    "start_time": "2021-10-25T17:58:41.233Z"
   },
   {
    "duration": 11,
    "start_time": "2021-10-25T17:58:52.488Z"
   },
   {
    "duration": 6,
    "start_time": "2021-10-25T17:59:03.026Z"
   },
   {
    "duration": 5,
    "start_time": "2021-10-25T17:59:57.426Z"
   },
   {
    "duration": 10,
    "start_time": "2021-10-25T18:00:02.458Z"
   },
   {
    "duration": 7,
    "start_time": "2021-10-25T18:00:56.202Z"
   },
   {
    "duration": 13,
    "start_time": "2021-10-25T18:01:48.872Z"
   },
   {
    "duration": 6,
    "start_time": "2021-10-25T18:04:11.561Z"
   },
   {
    "duration": 2939,
    "start_time": "2021-10-25T18:49:00.072Z"
   },
   {
    "duration": 175,
    "start_time": "2021-10-25T18:49:15.248Z"
   },
   {
    "duration": 13,
    "start_time": "2021-10-25T18:49:19.928Z"
   },
   {
    "duration": 140,
    "start_time": "2021-10-25T18:50:23.077Z"
   },
   {
    "duration": 20,
    "start_time": "2021-10-25T18:50:29.665Z"
   },
   {
    "duration": 19,
    "start_time": "2021-10-25T18:50:40.110Z"
   },
   {
    "duration": 14,
    "start_time": "2021-10-25T18:53:48.862Z"
   },
   {
    "duration": 352,
    "start_time": "2021-10-25T18:54:47.491Z"
   },
   {
    "duration": 14,
    "start_time": "2021-10-25T18:55:04.595Z"
   },
   {
    "duration": 4,
    "start_time": "2021-10-25T19:20:40.524Z"
   },
   {
    "duration": 564,
    "start_time": "2021-10-25T19:21:17.320Z"
   },
   {
    "duration": 29513,
    "start_time": "2021-10-25T19:21:51.720Z"
   },
   {
    "duration": 391,
    "start_time": "2021-10-25T19:22:55.002Z"
   },
   {
    "duration": 82,
    "start_time": "2021-10-25T19:23:34.936Z"
   },
   {
    "duration": 86,
    "start_time": "2021-10-25T19:24:02.464Z"
   },
   {
    "duration": 47402,
    "start_time": "2021-10-25T19:24:04.941Z"
   },
   {
    "duration": 120,
    "start_time": "2021-10-25T19:38:36.505Z"
   },
   {
    "duration": 139,
    "start_time": "2021-10-25T19:38:48.672Z"
   },
   {
    "duration": 13,
    "start_time": "2021-10-25T19:39:50.536Z"
   },
   {
    "duration": 25,
    "start_time": "2021-10-25T19:40:13.111Z"
   },
   {
    "duration": 57,
    "start_time": "2021-10-25T19:41:46.781Z"
   },
   {
    "duration": 53,
    "start_time": "2021-10-25T19:42:06.071Z"
   },
   {
    "duration": 12,
    "start_time": "2021-10-25T19:42:10.679Z"
   },
   {
    "duration": 6,
    "start_time": "2021-10-25T19:42:24.686Z"
   },
   {
    "duration": 6,
    "start_time": "2021-10-25T19:42:37.536Z"
   },
   {
    "duration": 15,
    "start_time": "2021-10-25T19:43:41.115Z"
   },
   {
    "duration": 70,
    "start_time": "2021-10-25T19:46:27.250Z"
   },
   {
    "duration": 12,
    "start_time": "2021-10-25T19:46:32.406Z"
   },
   {
    "duration": 58,
    "start_time": "2021-10-25T19:47:01.804Z"
   },
   {
    "duration": 10,
    "start_time": "2021-10-25T19:47:04.051Z"
   },
   {
    "duration": 72,
    "start_time": "2021-10-25T19:47:19.524Z"
   },
   {
    "duration": 348,
    "start_time": "2021-10-25T19:59:37.848Z"
   },
   {
    "duration": 3,
    "start_time": "2021-10-25T19:59:58.669Z"
   },
   {
    "duration": 3,
    "start_time": "2021-10-25T20:00:08.088Z"
   },
   {
    "duration": 5,
    "start_time": "2021-10-25T20:00:47.692Z"
   },
   {
    "duration": 5,
    "start_time": "2021-10-25T20:00:59.094Z"
   },
   {
    "duration": 377,
    "start_time": "2021-10-25T20:01:16.287Z"
   },
   {
    "duration": 5,
    "start_time": "2021-10-25T20:01:23.009Z"
   },
   {
    "duration": 370,
    "start_time": "2021-10-26T07:00:30.253Z"
   },
   {
    "duration": 911,
    "start_time": "2021-10-26T07:00:39.792Z"
   },
   {
    "duration": 30,
    "start_time": "2021-10-26T07:00:53.166Z"
   },
   {
    "duration": 7644,
    "start_time": "2021-10-26T07:01:07.401Z"
   },
   {
    "duration": 8471,
    "start_time": "2021-10-26T07:01:16.630Z"
   },
   {
    "duration": 14470,
    "start_time": "2021-10-26T07:01:32.991Z"
   },
   {
    "duration": -2445,
    "start_time": "2021-10-26T07:01:49.919Z"
   },
   {
    "duration": 962,
    "start_time": "2021-10-26T07:02:02.309Z"
   },
   {
    "duration": 28,
    "start_time": "2021-10-26T07:02:04.052Z"
   },
   {
    "duration": 7949,
    "start_time": "2021-10-26T07:02:08.091Z"
   },
   {
    "duration": 7228,
    "start_time": "2021-10-26T07:02:25.604Z"
   },
   {
    "duration": 7904,
    "start_time": "2021-10-26T07:02:47.108Z"
   },
   {
    "duration": 19,
    "start_time": "2021-10-26T07:02:57.933Z"
   },
   {
    "duration": 5,
    "start_time": "2021-10-26T07:03:08.560Z"
   },
   {
    "duration": 32,
    "start_time": "2021-10-26T07:03:26.989Z"
   },
   {
    "duration": 109,
    "start_time": "2021-10-26T07:03:44.246Z"
   },
   {
    "duration": 281,
    "start_time": "2021-10-26T07:03:49.163Z"
   },
   {
    "duration": 11610,
    "start_time": "2021-10-26T07:04:22.020Z"
   },
   {
    "duration": 32,
    "start_time": "2021-10-26T07:07:14.028Z"
   },
   {
    "duration": 12,
    "start_time": "2021-10-26T07:07:19.466Z"
   },
   {
    "duration": 276,
    "start_time": "2021-10-26T08:39:45.579Z"
   },
   {
    "duration": 23,
    "start_time": "2021-10-26T08:39:55.235Z"
   },
   {
    "duration": 15,
    "start_time": "2021-10-26T08:40:01.566Z"
   },
   {
    "duration": 210,
    "start_time": "2021-10-26T08:40:29.798Z"
   },
   {
    "duration": 201,
    "start_time": "2021-10-26T08:41:47.693Z"
   },
   {
    "duration": 15,
    "start_time": "2021-10-26T08:41:53.692Z"
   },
   {
    "duration": 16,
    "start_time": "2021-10-26T08:42:50.821Z"
   },
   {
    "duration": 300,
    "start_time": "2021-10-26T08:48:49.872Z"
   },
   {
    "duration": 278,
    "start_time": "2021-10-26T08:49:17.698Z"
   },
   {
    "duration": 17,
    "start_time": "2021-10-26T08:50:06.033Z"
   },
   {
    "duration": 348,
    "start_time": "2021-10-26T08:53:20.232Z"
   },
   {
    "duration": 18,
    "start_time": "2021-10-26T08:53:33.608Z"
   },
   {
    "duration": 106,
    "start_time": "2021-10-26T08:57:32.170Z"
   },
   {
    "duration": 16,
    "start_time": "2021-10-26T08:57:35.173Z"
   },
   {
    "duration": 17,
    "start_time": "2021-10-26T08:59:52.369Z"
   },
   {
    "duration": 14,
    "start_time": "2021-10-26T09:00:16.995Z"
   },
   {
    "duration": 19,
    "start_time": "2021-10-26T09:01:19.756Z"
   },
   {
    "duration": 13,
    "start_time": "2021-10-26T09:01:25.077Z"
   },
   {
    "duration": 11,
    "start_time": "2021-10-26T09:09:37.090Z"
   },
   {
    "duration": 123,
    "start_time": "2021-10-26T09:13:10.112Z"
   },
   {
    "duration": 114,
    "start_time": "2021-10-26T09:16:37.279Z"
   },
   {
    "duration": 103,
    "start_time": "2021-10-26T09:16:37.558Z"
   },
   {
    "duration": 99,
    "start_time": "2021-10-26T09:16:38.779Z"
   },
   {
    "duration": 41,
    "start_time": "2021-10-26T09:17:05.772Z"
   },
   {
    "duration": 113,
    "start_time": "2021-10-26T09:24:22.772Z"
   },
   {
    "duration": 115,
    "start_time": "2021-10-26T09:25:19.044Z"
   },
   {
    "duration": 42,
    "start_time": "2021-10-26T09:25:30.089Z"
   },
   {
    "duration": 13,
    "start_time": "2021-10-26T09:25:43.393Z"
   },
   {
    "duration": 67,
    "start_time": "2021-10-26T09:28:51.927Z"
   },
   {
    "duration": 973,
    "start_time": "2021-10-26T09:30:29.151Z"
   },
   {
    "duration": 6,
    "start_time": "2021-10-26T09:39:48.003Z"
   },
   {
    "duration": 99,
    "start_time": "2021-10-26T09:42:37.633Z"
   },
   {
    "duration": 105,
    "start_time": "2021-10-26T09:42:38.782Z"
   },
   {
    "duration": 87,
    "start_time": "2021-10-26T09:42:40.155Z"
   },
   {
    "duration": 90,
    "start_time": "2021-10-26T09:42:42.232Z"
   },
   {
    "duration": 4,
    "start_time": "2021-10-26T09:43:04.016Z"
   },
   {
    "duration": 20,
    "start_time": "2021-10-26T09:43:25.944Z"
   },
   {
    "duration": 20,
    "start_time": "2021-10-26T09:43:31.922Z"
   },
   {
    "duration": 27,
    "start_time": "2021-10-26T09:43:59.809Z"
   },
   {
    "duration": 28,
    "start_time": "2021-10-26T09:44:47.032Z"
   },
   {
    "duration": 31,
    "start_time": "2021-10-26T09:47:12.208Z"
   },
   {
    "duration": 30,
    "start_time": "2021-10-26T09:47:39.868Z"
   },
   {
    "duration": 100,
    "start_time": "2021-10-26T09:49:47.766Z"
   },
   {
    "duration": 149,
    "start_time": "2021-10-27T07:51:24.930Z"
   },
   {
    "duration": 467,
    "start_time": "2021-10-27T08:09:34.775Z"
   },
   {
    "duration": 385,
    "start_time": "2021-10-27T08:09:39.011Z"
   },
   {
    "duration": -130,
    "start_time": "2021-10-27T08:09:39.529Z"
   },
   {
    "duration": -135,
    "start_time": "2021-10-27T08:09:39.536Z"
   },
   {
    "duration": -143,
    "start_time": "2021-10-27T08:09:39.545Z"
   },
   {
    "duration": -148,
    "start_time": "2021-10-27T08:09:39.552Z"
   },
   {
    "duration": -156,
    "start_time": "2021-10-27T08:09:39.561Z"
   },
   {
    "duration": -177,
    "start_time": "2021-10-27T08:09:39.584Z"
   },
   {
    "duration": -184,
    "start_time": "2021-10-27T08:09:39.592Z"
   },
   {
    "duration": -189,
    "start_time": "2021-10-27T08:09:39.599Z"
   },
   {
    "duration": 771,
    "start_time": "2021-10-27T08:10:03.362Z"
   },
   {
    "duration": 4,
    "start_time": "2021-10-27T08:10:11.927Z"
   },
   {
    "duration": 34,
    "start_time": "2021-10-27T08:10:11.934Z"
   },
   {
    "duration": 14,
    "start_time": "2021-10-27T08:10:11.971Z"
   },
   {
    "duration": 12,
    "start_time": "2021-10-27T08:10:11.988Z"
   },
   {
    "duration": 68,
    "start_time": "2021-10-27T08:10:12.002Z"
   },
   {
    "duration": 48,
    "start_time": "2021-10-27T08:10:12.072Z"
   },
   {
    "duration": 40,
    "start_time": "2021-10-27T08:10:12.123Z"
   },
   {
    "duration": 8,
    "start_time": "2021-10-27T08:10:12.165Z"
   },
   {
    "duration": 4,
    "start_time": "2021-10-27T08:10:12.175Z"
   },
   {
    "duration": 31,
    "start_time": "2021-10-27T08:10:12.181Z"
   },
   {
    "duration": 13,
    "start_time": "2021-10-27T08:10:12.257Z"
   },
   {
    "duration": 414,
    "start_time": "2021-10-27T08:11:48.250Z"
   },
   {
    "duration": 10,
    "start_time": "2021-10-27T08:11:51.591Z"
   },
   {
    "duration": 14,
    "start_time": "2021-10-27T08:11:57.295Z"
   },
   {
    "duration": 12,
    "start_time": "2021-10-27T08:12:09.520Z"
   },
   {
    "duration": 17,
    "start_time": "2021-10-27T08:12:30.713Z"
   },
   {
    "duration": 12,
    "start_time": "2021-10-27T08:12:49.798Z"
   },
   {
    "duration": 11,
    "start_time": "2021-10-27T08:12:55.374Z"
   },
   {
    "duration": 141,
    "start_time": "2021-10-27T08:14:07.062Z"
   },
   {
    "duration": 13,
    "start_time": "2021-10-27T08:14:09.983Z"
   },
   {
    "duration": 12,
    "start_time": "2021-10-27T08:14:10.990Z"
   },
   {
    "duration": 133,
    "start_time": "2021-10-27T08:18:29.183Z"
   },
   {
    "duration": 11,
    "start_time": "2021-10-27T08:18:48.376Z"
   },
   {
    "duration": 124,
    "start_time": "2021-10-27T08:19:49.362Z"
   }
  ],
  "kernelspec": {
   "display_name": "Python 3",
   "language": "python",
   "name": "python3"
  },
  "language_info": {
   "codemirror_mode": {
    "name": "ipython",
    "version": 3
   },
   "file_extension": ".py",
   "mimetype": "text/x-python",
   "name": "python",
   "nbconvert_exporter": "python",
   "pygments_lexer": "ipython3",
   "version": "3.8.5"
  },
  "toc": {
   "base_numbering": 1,
   "nav_menu": {},
   "number_sections": false,
   "sideBar": true,
   "skip_h1_title": false,
   "title_cell": "Table of Contents",
   "title_sidebar": "Contents",
   "toc_cell": false,
   "toc_position": {},
   "toc_section_display": true,
   "toc_window_display": false
  }
 },
 "nbformat": 4,
 "nbformat_minor": 2
}
