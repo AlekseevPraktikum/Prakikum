{
 "cells": [
  {
   "cell_type": "markdown",
   "metadata": {},
   "source": [
    "### Основные понятия объектно-ориентированного программирования (ООП)."
   ]
  },
  {
   "cell_type": "markdown",
   "metadata": {},
   "source": [
    "Может звучать пугающе, но мы рассмотрим лишь самую верхушку айсберга, достаточную, чтобы понимать, что такое классы в pandas и чем методы (типа `df.value_counts()`)  отличаются от атрибутов (типа `df.shape`). Обещаю, будет коротко и ясно 😉"
   ]
  },
  {
   "cell_type": "markdown",
   "metadata": {},
   "source": [
    "Итак, работая с pandas мы постоянно сталкиваемся с классами - будь то наш любимый DataFrame или Series, или даже группировка groupby.  \n",
    "В программировании зачастую нам не хватает типов данных, имеющихся по умолчанию - целых чисел, строк и т.д. и мы хотим создать свой тип данных, который будет иметь свои признаки (*атрибуты*) и уметь что-от делать (обладать *методами*)\n",
    "Создадим для примера класс **Cat**:"
   ]
  },
  {
   "cell_type": "code",
   "execution_count": 1,
   "metadata": {},
   "outputs": [],
   "source": [
    "#данный код необяхательно досконально понимать и уметь применять, достаточно понять концепцию\n",
    "\n",
    "class Cat:       #создаем новый класс \n",
    "        \n",
    "    def __init__(self, weight, color, paws=4): #указываем, какие параметры будут у нашего котейки\n",
    "        self.paws=paws      #по умолчанию 4 лапы, вес и цвет при создании указать обязательно\n",
    "        self.weight = weight\n",
    "        self.color = color\n",
    "    \n",
    "    def eat(self):\n",
    "        if self.weight < 5:\n",
    "            print('Котейка ест что хочет')\n",
    "        else:\n",
    "            print('Котейка ест диетический корм')\n",
    "        \n",
    "    def sleep(self):\n",
    "        print('Котейка спит')"
   ]
  },
  {
   "cell_type": "markdown",
   "metadata": {},
   "source": [
    "Итак, мы объявили некую новую структуру данных под названием Cat, у которой есть такие свойства как *вес*, *цвет* и *количество лап*. Такие свойства называются *атрибутами*. Также мы определили несколько встроенных функций - что любой котейка умеет делать - спать и есть. Такие функции называются *методами класса*."
   ]
  },
  {
   "cell_type": "markdown",
   "metadata": {},
   "source": [
    "Итак, мы определили, что мы подразумеваем под котом, как видом. Теперь создадим пару конкретных котиков. Для этого вызовем наш класс и укажем параметры питомцев:"
   ]
  },
  {
   "cell_type": "code",
   "execution_count": 2,
   "metadata": {},
   "outputs": [],
   "source": [
    "barsik = Cat(4.6, 'white')\n",
    "ryzhik = Cat(6.7, 'red')"
   ]
  },
  {
   "cell_type": "markdown",
   "metadata": {},
   "source": [
    "**Cat** - это *класс*, а **barsik** и **ryzhik** - *объекты* этого класса.  "
   ]
  },
  {
   "cell_type": "markdown",
   "metadata": {},
   "source": [
    "Итого у нас в двух переменных два разных котика, имеющих различный вес и цвет. Давайте убедимся в этом. Атрибуты выpываются через точку:"
   ]
  },
  {
   "cell_type": "code",
   "execution_count": 3,
   "metadata": {},
   "outputs": [
    {
     "name": "stdout",
     "output_type": "stream",
     "text": [
      "white\n",
      "red\n",
      "4.6\n",
      "6.7\n"
     ]
    }
   ],
   "source": [
    "print(barsik.color)\n",
    "print(ryzhik.color)\n",
    "print(barsik.weight)\n",
    "print(ryzhik.weight)"
   ]
  },
  {
   "cell_type": "markdown",
   "metadata": {},
   "source": [
    "Нечно подобное происходит, когда мы пишем `df.shape`"
   ]
  },
  {
   "cell_type": "markdown",
   "metadata": {},
   "source": [
    "Мы можем манипулировать этими данными, как хотим, например, посмотреть, сколько в сумме весят наши питомцы:"
   ]
  },
  {
   "cell_type": "code",
   "execution_count": 4,
   "metadata": {},
   "outputs": [
    {
     "data": {
      "text/plain": [
       "11.3"
      ]
     },
     "execution_count": 4,
     "metadata": {},
     "output_type": "execute_result"
    }
   ],
   "source": [
    "barsik.weight + ryzhik.weight"
   ]
  },
  {
   "cell_type": "markdown",
   "metadata": {},
   "source": [
    "Вторым важным свойством классов являются *методы*. Это, как я уже писал, нечто вроде встроенных функций. Они позволяют нам прописать некие действия для наших классов. Вы уже многократно их ипользовали в работе. Они вызываются через точку с указанием круглых скобок."
   ]
  },
  {
   "cell_type": "code",
   "execution_count": 5,
   "metadata": {},
   "outputs": [
    {
     "name": "stdout",
     "output_type": "stream",
     "text": [
      "Котейка спит\n"
     ]
    }
   ],
   "source": [
    "barsik.sleep()"
   ]
  },
  {
   "cell_type": "markdown",
   "metadata": {},
   "source": [
    "Нечно подобное происходит, когда мы пишем `df.sort_values(by=...)` Мы берем объект и вызываем один из его методов."
   ]
  },
  {
   "cell_type": "markdown",
   "metadata": {},
   "source": [
    "Таким образом, создав такую сложную структуру данных, мы открываем для себя множество новых возможностей. Например, кормить котейку в зависимости от его веса (этот момент пропиан в определении метода **eat** класса **Cat**):"
   ]
  },
  {
   "cell_type": "code",
   "execution_count": 6,
   "metadata": {},
   "outputs": [
    {
     "name": "stdout",
     "output_type": "stream",
     "text": [
      "Котейка ест что хочет\n",
      "Котейка ест диетический корм\n"
     ]
    }
   ],
   "source": [
    "barsik.eat()\n",
    "ryzhik.eat()"
   ]
  },
  {
   "cell_type": "markdown",
   "metadata": {},
   "source": [
    "Рыжик у нас страдает легким ожирением, поэтому ест диетический корм."
   ]
  },
  {
   "cell_type": "markdown",
   "metadata": {},
   "source": [
    "Подведем итог. Класс - это некий чертеж, план нового типа данных. (Класс **Cat**) На его основе создаются объекты этого класса (**barsik** и **ryzhik**). У класса есть *атрибуты* - некие свойства, вызываются через точку (`barsik.color`, `ryzhik.weight`) и *методы* - встроенные функции, описывающие некие действия, вызываются через точку с круглыми скобками (`ryzhik.eat()`)."
   ]
  }
 ],
 "metadata": {
  "kernelspec": {
   "display_name": "Python 3",
   "language": "python",
   "name": "python3"
  },
  "language_info": {
   "codemirror_mode": {
    "name": "ipython",
    "version": 3
   },
   "file_extension": ".py",
   "mimetype": "text/x-python",
   "name": "python",
   "nbconvert_exporter": "python",
   "pygments_lexer": "ipython3",
   "version": "3.7.8"
  },
  "toc": {
   "base_numbering": 1,
   "nav_menu": {},
   "number_sections": true,
   "sideBar": true,
   "skip_h1_title": false,
   "title_cell": "Table of Contents",
   "title_sidebar": "Contents",
   "toc_cell": false,
   "toc_position": {},
   "toc_section_display": true,
   "toc_window_display": false
  }
 },
 "nbformat": 4,
 "nbformat_minor": 2
}
