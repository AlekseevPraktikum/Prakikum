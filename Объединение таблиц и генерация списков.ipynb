{
 "cells": [
  {
   "cell_type": "markdown",
   "metadata": {},
   "source": [
    "### Объединение таблиц в pandas."
   ]
  },
  {
   "cell_type": "markdown",
   "metadata": {},
   "source": [
    "Привет, чат! В этом проекте вы столкнетесь сразу с несколькими таблицами и я считаю не помешает вспомнить, как их грамотно объединять."
   ]
  },
  {
   "cell_type": "markdown",
   "metadata": {},
   "source": [
    "Итак, вновь возьмем знакомую нам таблицу с данными по зарплатам аналитиков в условных единицах."
   ]
  },
  {
   "cell_type": "code",
   "execution_count": 24,
   "metadata": {
    "scrolled": true
   },
   "outputs": [
    {
     "data": {
      "text/html": [
       "<div>\n",
       "<style scoped>\n",
       "    .dataframe tbody tr th:only-of-type {\n",
       "        vertical-align: middle;\n",
       "    }\n",
       "\n",
       "    .dataframe tbody tr th {\n",
       "        vertical-align: top;\n",
       "    }\n",
       "\n",
       "    .dataframe thead th {\n",
       "        text-align: right;\n",
       "    }\n",
       "</style>\n",
       "<table border=\"1\" class=\"dataframe\">\n",
       "  <thead>\n",
       "    <tr style=\"text-align: right;\">\n",
       "      <th></th>\n",
       "      <th>Имя</th>\n",
       "      <th>Фамилия</th>\n",
       "      <th>Январь</th>\n",
       "      <th>Февраль</th>\n",
       "      <th>Март</th>\n",
       "    </tr>\n",
       "  </thead>\n",
       "  <tbody>\n",
       "    <tr>\n",
       "      <td>0</td>\n",
       "      <td>Анна</td>\n",
       "      <td>Егорова</td>\n",
       "      <td>1000</td>\n",
       "      <td>1100</td>\n",
       "      <td>950</td>\n",
       "    </tr>\n",
       "    <tr>\n",
       "      <td>1</td>\n",
       "      <td>Сергей</td>\n",
       "      <td>Тищенко</td>\n",
       "      <td>1300</td>\n",
       "      <td>1250</td>\n",
       "      <td>1320</td>\n",
       "    </tr>\n",
       "    <tr>\n",
       "      <td>2</td>\n",
       "      <td>Алексей</td>\n",
       "      <td>Маевский</td>\n",
       "      <td>800</td>\n",
       "      <td>750</td>\n",
       "      <td>900</td>\n",
       "    </tr>\n",
       "    <tr>\n",
       "      <td>3</td>\n",
       "      <td>Сергей</td>\n",
       "      <td>Пеньков</td>\n",
       "      <td>1100</td>\n",
       "      <td>1100</td>\n",
       "      <td>1200</td>\n",
       "    </tr>\n",
       "    <tr>\n",
       "      <td>4</td>\n",
       "      <td>Екатерина</td>\n",
       "      <td>Никонова</td>\n",
       "      <td>2000</td>\n",
       "      <td>1800</td>\n",
       "      <td>1950</td>\n",
       "    </tr>\n",
       "  </tbody>\n",
       "</table>\n",
       "</div>"
      ],
      "text/plain": [
       "         Имя   Фамилия  Январь  Февраль  Март\n",
       "0       Анна   Егорова    1000     1100   950\n",
       "1     Сергей   Тищенко    1300     1250  1320\n",
       "2    Алексей  Маевский     800      750   900\n",
       "3     Сергей   Пеньков    1100     1100  1200\n",
       "4  Екатерина  Никонова    2000     1800  1950"
      ]
     },
     "execution_count": 24,
     "metadata": {},
     "output_type": "execute_result"
    }
   ],
   "source": [
    "import pandas as pd\n",
    "\n",
    "df = pd.DataFrame(data={'Имя': ['Анна', 'Сергей', 'Алексей', 'Сергей', 'Екатерина'], 'Фамилия': ['Егорова', 'Тищенко', 'Маевский', 'Пеньков', 'Никонова'] ,'Январь': [1000, 1300, 800, 1100, 2000], 'Февраль': [1100, 1250, 750, 1100, 1800], \n",
    "     'Март': [950, 1320, 900, 1200, 1950]})\n",
    "df"
   ]
  },
  {
   "cell_type": "markdown",
   "metadata": {},
   "source": [
    "Допустим, у нас есть отдельная таблица, где хранятся данные по накопленному стажу в месяцах для сотрудников:"
   ]
  },
  {
   "cell_type": "code",
   "execution_count": 25,
   "metadata": {},
   "outputs": [
    {
     "data": {
      "text/html": [
       "<div>\n",
       "<style scoped>\n",
       "    .dataframe tbody tr th:only-of-type {\n",
       "        vertical-align: middle;\n",
       "    }\n",
       "\n",
       "    .dataframe tbody tr th {\n",
       "        vertical-align: top;\n",
       "    }\n",
       "\n",
       "    .dataframe thead th {\n",
       "        text-align: right;\n",
       "    }\n",
       "</style>\n",
       "<table border=\"1\" class=\"dataframe\">\n",
       "  <thead>\n",
       "    <tr style=\"text-align: right;\">\n",
       "      <th></th>\n",
       "      <th>Фамилия</th>\n",
       "      <th>Стаж</th>\n",
       "    </tr>\n",
       "  </thead>\n",
       "  <tbody>\n",
       "    <tr>\n",
       "      <td>0</td>\n",
       "      <td>Егорова</td>\n",
       "      <td>6</td>\n",
       "    </tr>\n",
       "    <tr>\n",
       "      <td>1</td>\n",
       "      <td>Тищенко</td>\n",
       "      <td>18</td>\n",
       "    </tr>\n",
       "    <tr>\n",
       "      <td>2</td>\n",
       "      <td>Маевский</td>\n",
       "      <td>12</td>\n",
       "    </tr>\n",
       "    <tr>\n",
       "      <td>3</td>\n",
       "      <td>Самсонов</td>\n",
       "      <td>4</td>\n",
       "    </tr>\n",
       "    <tr>\n",
       "      <td>4</td>\n",
       "      <td>Никонова</td>\n",
       "      <td>10</td>\n",
       "    </tr>\n",
       "  </tbody>\n",
       "</table>\n",
       "</div>"
      ],
      "text/plain": [
       "    Фамилия  Стаж\n",
       "0   Егорова     6\n",
       "1   Тищенко    18\n",
       "2  Маевский    12\n",
       "3  Самсонов     4\n",
       "4  Никонова    10"
      ]
     },
     "execution_count": 25,
     "metadata": {},
     "output_type": "execute_result"
    }
   ],
   "source": [
    "status = pd.DataFrame(data={'Фамилия': ['Егорова', 'Тищенко', 'Маевский', 'Самсонов', 'Никонова'], 'Стаж':[6,18,12,4,10]})\n",
    "status"
   ]
  },
  {
   "cell_type": "markdown",
   "metadata": {},
   "source": [
    "В таком виде данные хрянятся очень часто и вам постоянно придется объединять различные таблицы, чтобы получить полную картину."
   ]
  },
  {
   "cell_type": "markdown",
   "metadata": {},
   "source": [
    "Предположим, что у нас нет однофамильцев и фамилия однозначно определяет сотрудника. Было бы хорошо присоединить к общей таблице данные о стаже и проанализировать все сразу. Для этого используется метод `merge`. Давайте применим его, указав фамилию в качестве столбца для объединения и посмотрим, что получится:"
   ]
  },
  {
   "cell_type": "code",
   "execution_count": 26,
   "metadata": {},
   "outputs": [
    {
     "data": {
      "text/html": [
       "<div>\n",
       "<style scoped>\n",
       "    .dataframe tbody tr th:only-of-type {\n",
       "        vertical-align: middle;\n",
       "    }\n",
       "\n",
       "    .dataframe tbody tr th {\n",
       "        vertical-align: top;\n",
       "    }\n",
       "\n",
       "    .dataframe thead th {\n",
       "        text-align: right;\n",
       "    }\n",
       "</style>\n",
       "<table border=\"1\" class=\"dataframe\">\n",
       "  <thead>\n",
       "    <tr style=\"text-align: right;\">\n",
       "      <th></th>\n",
       "      <th>Имя</th>\n",
       "      <th>Фамилия</th>\n",
       "      <th>Январь</th>\n",
       "      <th>Февраль</th>\n",
       "      <th>Март</th>\n",
       "      <th>Стаж</th>\n",
       "    </tr>\n",
       "  </thead>\n",
       "  <tbody>\n",
       "    <tr>\n",
       "      <td>0</td>\n",
       "      <td>Анна</td>\n",
       "      <td>Егорова</td>\n",
       "      <td>1000</td>\n",
       "      <td>1100</td>\n",
       "      <td>950</td>\n",
       "      <td>6</td>\n",
       "    </tr>\n",
       "    <tr>\n",
       "      <td>1</td>\n",
       "      <td>Сергей</td>\n",
       "      <td>Тищенко</td>\n",
       "      <td>1300</td>\n",
       "      <td>1250</td>\n",
       "      <td>1320</td>\n",
       "      <td>18</td>\n",
       "    </tr>\n",
       "    <tr>\n",
       "      <td>2</td>\n",
       "      <td>Алексей</td>\n",
       "      <td>Маевский</td>\n",
       "      <td>800</td>\n",
       "      <td>750</td>\n",
       "      <td>900</td>\n",
       "      <td>12</td>\n",
       "    </tr>\n",
       "    <tr>\n",
       "      <td>3</td>\n",
       "      <td>Екатерина</td>\n",
       "      <td>Никонова</td>\n",
       "      <td>2000</td>\n",
       "      <td>1800</td>\n",
       "      <td>1950</td>\n",
       "      <td>10</td>\n",
       "    </tr>\n",
       "  </tbody>\n",
       "</table>\n",
       "</div>"
      ],
      "text/plain": [
       "         Имя   Фамилия  Январь  Февраль  Март  Стаж\n",
       "0       Анна   Егорова    1000     1100   950     6\n",
       "1     Сергей   Тищенко    1300     1250  1320    18\n",
       "2    Алексей  Маевский     800      750   900    12\n",
       "3  Екатерина  Никонова    2000     1800  1950    10"
      ]
     },
     "execution_count": 26,
     "metadata": {},
     "output_type": "execute_result"
    }
   ],
   "source": [
    "df.merge(status, on='Фамилия')"
   ]
  },
  {
   "cell_type": "markdown",
   "metadata": {},
   "source": [
    "Отлично, получили таблицу с полными данными, но, похоже, кого-то потеряли! Действительно, пропал Сергей Пеньков. Думаю, все догадались, что это произошли оттого, что его нет во второй таблице. Но обратите внимание, некоего Самсонова из таблицы status в итоговом результате тоже нет.  \n",
    "Это все результат выбра метода объединения, который задается в аргументе *how*. По умолчанию он имеет значение *inner*. То есть мы проводим внутреннее объединение - в итоговой таблице окажутся только те сотрудники, для которых нашлись одинаковые фамилии и в правой и в левой таблицах.  \n",
    "Но что если мы не хотим терять Сергея и готовы мириться с пропуском на месте его стажа? Применим тип объединения *left*:"
   ]
  },
  {
   "cell_type": "code",
   "execution_count": 27,
   "metadata": {
    "scrolled": true
   },
   "outputs": [
    {
     "data": {
      "text/html": [
       "<div>\n",
       "<style scoped>\n",
       "    .dataframe tbody tr th:only-of-type {\n",
       "        vertical-align: middle;\n",
       "    }\n",
       "\n",
       "    .dataframe tbody tr th {\n",
       "        vertical-align: top;\n",
       "    }\n",
       "\n",
       "    .dataframe thead th {\n",
       "        text-align: right;\n",
       "    }\n",
       "</style>\n",
       "<table border=\"1\" class=\"dataframe\">\n",
       "  <thead>\n",
       "    <tr style=\"text-align: right;\">\n",
       "      <th></th>\n",
       "      <th>Имя</th>\n",
       "      <th>Фамилия</th>\n",
       "      <th>Январь</th>\n",
       "      <th>Февраль</th>\n",
       "      <th>Март</th>\n",
       "      <th>Стаж</th>\n",
       "    </tr>\n",
       "  </thead>\n",
       "  <tbody>\n",
       "    <tr>\n",
       "      <td>0</td>\n",
       "      <td>Анна</td>\n",
       "      <td>Егорова</td>\n",
       "      <td>1000</td>\n",
       "      <td>1100</td>\n",
       "      <td>950</td>\n",
       "      <td>6.0</td>\n",
       "    </tr>\n",
       "    <tr>\n",
       "      <td>1</td>\n",
       "      <td>Сергей</td>\n",
       "      <td>Тищенко</td>\n",
       "      <td>1300</td>\n",
       "      <td>1250</td>\n",
       "      <td>1320</td>\n",
       "      <td>18.0</td>\n",
       "    </tr>\n",
       "    <tr>\n",
       "      <td>2</td>\n",
       "      <td>Алексей</td>\n",
       "      <td>Маевский</td>\n",
       "      <td>800</td>\n",
       "      <td>750</td>\n",
       "      <td>900</td>\n",
       "      <td>12.0</td>\n",
       "    </tr>\n",
       "    <tr>\n",
       "      <td>3</td>\n",
       "      <td>Сергей</td>\n",
       "      <td>Пеньков</td>\n",
       "      <td>1100</td>\n",
       "      <td>1100</td>\n",
       "      <td>1200</td>\n",
       "      <td>NaN</td>\n",
       "    </tr>\n",
       "    <tr>\n",
       "      <td>4</td>\n",
       "      <td>Екатерина</td>\n",
       "      <td>Никонова</td>\n",
       "      <td>2000</td>\n",
       "      <td>1800</td>\n",
       "      <td>1950</td>\n",
       "      <td>10.0</td>\n",
       "    </tr>\n",
       "  </tbody>\n",
       "</table>\n",
       "</div>"
      ],
      "text/plain": [
       "         Имя   Фамилия  Январь  Февраль  Март  Стаж\n",
       "0       Анна   Егорова    1000     1100   950   6.0\n",
       "1     Сергей   Тищенко    1300     1250  1320  18.0\n",
       "2    Алексей  Маевский     800      750   900  12.0\n",
       "3     Сергей   Пеньков    1100     1100  1200   NaN\n",
       "4  Екатерина  Никонова    2000     1800  1950  10.0"
      ]
     },
     "execution_count": 27,
     "metadata": {},
     "output_type": "execute_result"
    }
   ],
   "source": [
    "df.merge(status, on='Фамилия', how = 'left')"
   ]
  },
  {
   "cell_type": "markdown",
   "metadata": {},
   "source": [
    "Отлично, все сотрудники из начальной таблицы на месте. А Сергей, возможно, еще не наработал релевантного стажа, но это не повод исключать его из анализа.  \n",
    "*При выборе типа объединения **left** берутся все строки из левой таблицы и им ищутся соответствия в правой. Если соответствия нет, ставится пропуск.*"
   ]
  },
  {
   "cell_type": "markdown",
   "metadata": {},
   "source": [
    "Аналогично, если мы хотим увидеть всех сотрудников, по которым есть данные по стажу (то есть из правой таблицы) применим тип объединения *right*:"
   ]
  },
  {
   "cell_type": "code",
   "execution_count": 28,
   "metadata": {},
   "outputs": [
    {
     "data": {
      "text/html": [
       "<div>\n",
       "<style scoped>\n",
       "    .dataframe tbody tr th:only-of-type {\n",
       "        vertical-align: middle;\n",
       "    }\n",
       "\n",
       "    .dataframe tbody tr th {\n",
       "        vertical-align: top;\n",
       "    }\n",
       "\n",
       "    .dataframe thead th {\n",
       "        text-align: right;\n",
       "    }\n",
       "</style>\n",
       "<table border=\"1\" class=\"dataframe\">\n",
       "  <thead>\n",
       "    <tr style=\"text-align: right;\">\n",
       "      <th></th>\n",
       "      <th>Имя</th>\n",
       "      <th>Фамилия</th>\n",
       "      <th>Январь</th>\n",
       "      <th>Февраль</th>\n",
       "      <th>Март</th>\n",
       "      <th>Стаж</th>\n",
       "    </tr>\n",
       "  </thead>\n",
       "  <tbody>\n",
       "    <tr>\n",
       "      <td>0</td>\n",
       "      <td>Анна</td>\n",
       "      <td>Егорова</td>\n",
       "      <td>1000.0</td>\n",
       "      <td>1100.0</td>\n",
       "      <td>950.0</td>\n",
       "      <td>6</td>\n",
       "    </tr>\n",
       "    <tr>\n",
       "      <td>1</td>\n",
       "      <td>Сергей</td>\n",
       "      <td>Тищенко</td>\n",
       "      <td>1300.0</td>\n",
       "      <td>1250.0</td>\n",
       "      <td>1320.0</td>\n",
       "      <td>18</td>\n",
       "    </tr>\n",
       "    <tr>\n",
       "      <td>2</td>\n",
       "      <td>Алексей</td>\n",
       "      <td>Маевский</td>\n",
       "      <td>800.0</td>\n",
       "      <td>750.0</td>\n",
       "      <td>900.0</td>\n",
       "      <td>12</td>\n",
       "    </tr>\n",
       "    <tr>\n",
       "      <td>3</td>\n",
       "      <td>Екатерина</td>\n",
       "      <td>Никонова</td>\n",
       "      <td>2000.0</td>\n",
       "      <td>1800.0</td>\n",
       "      <td>1950.0</td>\n",
       "      <td>10</td>\n",
       "    </tr>\n",
       "    <tr>\n",
       "      <td>4</td>\n",
       "      <td>NaN</td>\n",
       "      <td>Самсонов</td>\n",
       "      <td>NaN</td>\n",
       "      <td>NaN</td>\n",
       "      <td>NaN</td>\n",
       "      <td>4</td>\n",
       "    </tr>\n",
       "  </tbody>\n",
       "</table>\n",
       "</div>"
      ],
      "text/plain": [
       "         Имя   Фамилия  Январь  Февраль    Март  Стаж\n",
       "0       Анна   Егорова  1000.0   1100.0   950.0     6\n",
       "1     Сергей   Тищенко  1300.0   1250.0  1320.0    18\n",
       "2    Алексей  Маевский   800.0    750.0   900.0    12\n",
       "3  Екатерина  Никонова  2000.0   1800.0  1950.0    10\n",
       "4        NaN  Самсонов     NaN      NaN     NaN     4"
      ]
     },
     "execution_count": 28,
     "metadata": {},
     "output_type": "execute_result"
    }
   ],
   "source": [
    "df.merge(status, on='Фамилия', how = 'right')"
   ]
  },
  {
   "cell_type": "markdown",
   "metadata": {},
   "source": [
    "Видим, что прочих данных по сотруднику Самсонову нет, но проанализировать его стаж мы сможем. А Сергей Пеньков снова пропал, так как данные по его стажу отсутствуют."
   ]
  },
  {
   "cell_type": "markdown",
   "metadata": {},
   "source": [
    "И, наконец, можно сделать объединение по всем имеющимся строкам, применив метод объединения *outer*:"
   ]
  },
  {
   "cell_type": "code",
   "execution_count": 29,
   "metadata": {},
   "outputs": [
    {
     "data": {
      "text/html": [
       "<div>\n",
       "<style scoped>\n",
       "    .dataframe tbody tr th:only-of-type {\n",
       "        vertical-align: middle;\n",
       "    }\n",
       "\n",
       "    .dataframe tbody tr th {\n",
       "        vertical-align: top;\n",
       "    }\n",
       "\n",
       "    .dataframe thead th {\n",
       "        text-align: right;\n",
       "    }\n",
       "</style>\n",
       "<table border=\"1\" class=\"dataframe\">\n",
       "  <thead>\n",
       "    <tr style=\"text-align: right;\">\n",
       "      <th></th>\n",
       "      <th>Имя</th>\n",
       "      <th>Фамилия</th>\n",
       "      <th>Январь</th>\n",
       "      <th>Февраль</th>\n",
       "      <th>Март</th>\n",
       "      <th>Стаж</th>\n",
       "    </tr>\n",
       "  </thead>\n",
       "  <tbody>\n",
       "    <tr>\n",
       "      <td>0</td>\n",
       "      <td>Анна</td>\n",
       "      <td>Егорова</td>\n",
       "      <td>1000.0</td>\n",
       "      <td>1100.0</td>\n",
       "      <td>950.0</td>\n",
       "      <td>6.0</td>\n",
       "    </tr>\n",
       "    <tr>\n",
       "      <td>1</td>\n",
       "      <td>Сергей</td>\n",
       "      <td>Тищенко</td>\n",
       "      <td>1300.0</td>\n",
       "      <td>1250.0</td>\n",
       "      <td>1320.0</td>\n",
       "      <td>18.0</td>\n",
       "    </tr>\n",
       "    <tr>\n",
       "      <td>2</td>\n",
       "      <td>Алексей</td>\n",
       "      <td>Маевский</td>\n",
       "      <td>800.0</td>\n",
       "      <td>750.0</td>\n",
       "      <td>900.0</td>\n",
       "      <td>12.0</td>\n",
       "    </tr>\n",
       "    <tr>\n",
       "      <td>3</td>\n",
       "      <td>Сергей</td>\n",
       "      <td>Пеньков</td>\n",
       "      <td>1100.0</td>\n",
       "      <td>1100.0</td>\n",
       "      <td>1200.0</td>\n",
       "      <td>NaN</td>\n",
       "    </tr>\n",
       "    <tr>\n",
       "      <td>4</td>\n",
       "      <td>Екатерина</td>\n",
       "      <td>Никонова</td>\n",
       "      <td>2000.0</td>\n",
       "      <td>1800.0</td>\n",
       "      <td>1950.0</td>\n",
       "      <td>10.0</td>\n",
       "    </tr>\n",
       "    <tr>\n",
       "      <td>5</td>\n",
       "      <td>NaN</td>\n",
       "      <td>Самсонов</td>\n",
       "      <td>NaN</td>\n",
       "      <td>NaN</td>\n",
       "      <td>NaN</td>\n",
       "      <td>4.0</td>\n",
       "    </tr>\n",
       "  </tbody>\n",
       "</table>\n",
       "</div>"
      ],
      "text/plain": [
       "         Имя   Фамилия  Январь  Февраль    Март  Стаж\n",
       "0       Анна   Егорова  1000.0   1100.0   950.0   6.0\n",
       "1     Сергей   Тищенко  1300.0   1250.0  1320.0  18.0\n",
       "2    Алексей  Маевский   800.0    750.0   900.0  12.0\n",
       "3     Сергей   Пеньков  1100.0   1100.0  1200.0   NaN\n",
       "4  Екатерина  Никонова  2000.0   1800.0  1950.0  10.0\n",
       "5        NaN  Самсонов     NaN      NaN     NaN   4.0"
      ]
     },
     "execution_count": 29,
     "metadata": {},
     "output_type": "execute_result"
    }
   ],
   "source": [
    "df.merge(status, on='Фамилия', how = 'outer')"
   ]
  },
  {
   "cell_type": "markdown",
   "metadata": {},
   "source": [
    "Все имеющиеся в двух таблицах сотрудники на месте, но есть пропуски в данных."
   ]
  },
  {
   "cell_type": "markdown",
   "metadata": {},
   "source": [
    "Как видим, все очень просто, но будьте аккуратны, неверно выбрав метод объединения, можно потерять данные."
   ]
  },
  {
   "cell_type": "markdown",
   "metadata": {},
   "source": [
    "Также, нужно быть аккуратными и следить, чтобы ключи были уникальными, иначе результат может быть неожиданным.  \n",
    "Добавим в датафрейм имена и попробуем провести объединение по ним"
   ]
  },
  {
   "cell_type": "code",
   "execution_count": 39,
   "metadata": {},
   "outputs": [
    {
     "data": {
      "text/html": [
       "<div>\n",
       "<style scoped>\n",
       "    .dataframe tbody tr th:only-of-type {\n",
       "        vertical-align: middle;\n",
       "    }\n",
       "\n",
       "    .dataframe tbody tr th {\n",
       "        vertical-align: top;\n",
       "    }\n",
       "\n",
       "    .dataframe thead th {\n",
       "        text-align: right;\n",
       "    }\n",
       "</style>\n",
       "<table border=\"1\" class=\"dataframe\">\n",
       "  <thead>\n",
       "    <tr style=\"text-align: right;\">\n",
       "      <th></th>\n",
       "      <th>Имя</th>\n",
       "      <th>Фамилия</th>\n",
       "      <th>Стаж</th>\n",
       "    </tr>\n",
       "  </thead>\n",
       "  <tbody>\n",
       "    <tr>\n",
       "      <td>0</td>\n",
       "      <td>Анна</td>\n",
       "      <td>Егорова</td>\n",
       "      <td>6</td>\n",
       "    </tr>\n",
       "    <tr>\n",
       "      <td>1</td>\n",
       "      <td>Сергей</td>\n",
       "      <td>Тищенко</td>\n",
       "      <td>18</td>\n",
       "    </tr>\n",
       "    <tr>\n",
       "      <td>2</td>\n",
       "      <td>Алексей</td>\n",
       "      <td>Тищенко</td>\n",
       "      <td>12</td>\n",
       "    </tr>\n",
       "    <tr>\n",
       "      <td>3</td>\n",
       "      <td>Сергей</td>\n",
       "      <td>Пеньков</td>\n",
       "      <td>4</td>\n",
       "    </tr>\n",
       "    <tr>\n",
       "      <td>4</td>\n",
       "      <td>Екатерина</td>\n",
       "      <td>Никонова</td>\n",
       "      <td>10</td>\n",
       "    </tr>\n",
       "  </tbody>\n",
       "</table>\n",
       "</div>"
      ],
      "text/plain": [
       "         Имя   Фамилия  Стаж\n",
       "0       Анна   Егорова     6\n",
       "1     Сергей   Тищенко    18\n",
       "2    Алексей   Тищенко    12\n",
       "3     Сергей   Пеньков     4\n",
       "4  Екатерина  Никонова    10"
      ]
     },
     "execution_count": 39,
     "metadata": {},
     "output_type": "execute_result"
    }
   ],
   "source": [
    "status = pd.DataFrame(data={'Имя': ['Анна', 'Сергей', 'Алексей', 'Сергей', 'Екатерина'],'Фамилия': ['Егорова', 'Тищенко', 'Тищенко', 'Пеньков', 'Никонова'], 'Стаж':[6,18,12,4,10]})\n",
    "status"
   ]
  },
  {
   "cell_type": "code",
   "execution_count": 40,
   "metadata": {},
   "outputs": [
    {
     "data": {
      "text/html": [
       "<div>\n",
       "<style scoped>\n",
       "    .dataframe tbody tr th:only-of-type {\n",
       "        vertical-align: middle;\n",
       "    }\n",
       "\n",
       "    .dataframe tbody tr th {\n",
       "        vertical-align: top;\n",
       "    }\n",
       "\n",
       "    .dataframe thead th {\n",
       "        text-align: right;\n",
       "    }\n",
       "</style>\n",
       "<table border=\"1\" class=\"dataframe\">\n",
       "  <thead>\n",
       "    <tr style=\"text-align: right;\">\n",
       "      <th></th>\n",
       "      <th>Имя</th>\n",
       "      <th>Фамилия_x</th>\n",
       "      <th>Январь</th>\n",
       "      <th>Февраль</th>\n",
       "      <th>Март</th>\n",
       "      <th>Фамилия_y</th>\n",
       "      <th>Стаж</th>\n",
       "    </tr>\n",
       "  </thead>\n",
       "  <tbody>\n",
       "    <tr>\n",
       "      <td>0</td>\n",
       "      <td>Анна</td>\n",
       "      <td>Егорова</td>\n",
       "      <td>1000</td>\n",
       "      <td>1100</td>\n",
       "      <td>950</td>\n",
       "      <td>Егорова</td>\n",
       "      <td>6</td>\n",
       "    </tr>\n",
       "    <tr>\n",
       "      <td>1</td>\n",
       "      <td>Сергей</td>\n",
       "      <td>Тищенко</td>\n",
       "      <td>1300</td>\n",
       "      <td>1250</td>\n",
       "      <td>1320</td>\n",
       "      <td>Тищенко</td>\n",
       "      <td>18</td>\n",
       "    </tr>\n",
       "    <tr>\n",
       "      <td>2</td>\n",
       "      <td>Сергей</td>\n",
       "      <td>Тищенко</td>\n",
       "      <td>1300</td>\n",
       "      <td>1250</td>\n",
       "      <td>1320</td>\n",
       "      <td>Пеньков</td>\n",
       "      <td>4</td>\n",
       "    </tr>\n",
       "    <tr>\n",
       "      <td>3</td>\n",
       "      <td>Сергей</td>\n",
       "      <td>Пеньков</td>\n",
       "      <td>1100</td>\n",
       "      <td>1100</td>\n",
       "      <td>1200</td>\n",
       "      <td>Тищенко</td>\n",
       "      <td>18</td>\n",
       "    </tr>\n",
       "    <tr>\n",
       "      <td>4</td>\n",
       "      <td>Сергей</td>\n",
       "      <td>Пеньков</td>\n",
       "      <td>1100</td>\n",
       "      <td>1100</td>\n",
       "      <td>1200</td>\n",
       "      <td>Пеньков</td>\n",
       "      <td>4</td>\n",
       "    </tr>\n",
       "    <tr>\n",
       "      <td>5</td>\n",
       "      <td>Алексей</td>\n",
       "      <td>Маевский</td>\n",
       "      <td>800</td>\n",
       "      <td>750</td>\n",
       "      <td>900</td>\n",
       "      <td>Тищенко</td>\n",
       "      <td>12</td>\n",
       "    </tr>\n",
       "    <tr>\n",
       "      <td>6</td>\n",
       "      <td>Екатерина</td>\n",
       "      <td>Никонова</td>\n",
       "      <td>2000</td>\n",
       "      <td>1800</td>\n",
       "      <td>1950</td>\n",
       "      <td>Никонова</td>\n",
       "      <td>10</td>\n",
       "    </tr>\n",
       "  </tbody>\n",
       "</table>\n",
       "</div>"
      ],
      "text/plain": [
       "         Имя Фамилия_x  Январь  Февраль  Март Фамилия_y  Стаж\n",
       "0       Анна   Егорова    1000     1100   950   Егорова     6\n",
       "1     Сергей   Тищенко    1300     1250  1320   Тищенко    18\n",
       "2     Сергей   Тищенко    1300     1250  1320   Пеньков     4\n",
       "3     Сергей   Пеньков    1100     1100  1200   Тищенко    18\n",
       "4     Сергей   Пеньков    1100     1100  1200   Пеньков     4\n",
       "5    Алексей  Маевский     800      750   900   Тищенко    12\n",
       "6  Екатерина  Никонова    2000     1800  1950  Никонова    10"
      ]
     },
     "execution_count": 40,
     "metadata": {},
     "output_type": "execute_result"
    }
   ],
   "source": [
    "df.merge(status, on='Имя', how = 'outer')"
   ]
  },
  {
   "cell_type": "markdown",
   "metadata": {},
   "source": [
    "Как видим, появились новые строки и столбцы: каждому Сергею из первой таблицы сопоставляются два Сергея из второй. Чтобы этого избежать, можно воспользоваться составным ключом:"
   ]
  },
  {
   "cell_type": "code",
   "execution_count": 41,
   "metadata": {},
   "outputs": [
    {
     "data": {
      "text/html": [
       "<div>\n",
       "<style scoped>\n",
       "    .dataframe tbody tr th:only-of-type {\n",
       "        vertical-align: middle;\n",
       "    }\n",
       "\n",
       "    .dataframe tbody tr th {\n",
       "        vertical-align: top;\n",
       "    }\n",
       "\n",
       "    .dataframe thead th {\n",
       "        text-align: right;\n",
       "    }\n",
       "</style>\n",
       "<table border=\"1\" class=\"dataframe\">\n",
       "  <thead>\n",
       "    <tr style=\"text-align: right;\">\n",
       "      <th></th>\n",
       "      <th>Имя</th>\n",
       "      <th>Фамилия</th>\n",
       "      <th>Январь</th>\n",
       "      <th>Февраль</th>\n",
       "      <th>Март</th>\n",
       "      <th>Стаж</th>\n",
       "    </tr>\n",
       "  </thead>\n",
       "  <tbody>\n",
       "    <tr>\n",
       "      <td>0</td>\n",
       "      <td>Анна</td>\n",
       "      <td>Егорова</td>\n",
       "      <td>1000.0</td>\n",
       "      <td>1100.0</td>\n",
       "      <td>950.0</td>\n",
       "      <td>6.0</td>\n",
       "    </tr>\n",
       "    <tr>\n",
       "      <td>1</td>\n",
       "      <td>Сергей</td>\n",
       "      <td>Тищенко</td>\n",
       "      <td>1300.0</td>\n",
       "      <td>1250.0</td>\n",
       "      <td>1320.0</td>\n",
       "      <td>18.0</td>\n",
       "    </tr>\n",
       "    <tr>\n",
       "      <td>2</td>\n",
       "      <td>Алексей</td>\n",
       "      <td>Маевский</td>\n",
       "      <td>800.0</td>\n",
       "      <td>750.0</td>\n",
       "      <td>900.0</td>\n",
       "      <td>NaN</td>\n",
       "    </tr>\n",
       "    <tr>\n",
       "      <td>3</td>\n",
       "      <td>Сергей</td>\n",
       "      <td>Пеньков</td>\n",
       "      <td>1100.0</td>\n",
       "      <td>1100.0</td>\n",
       "      <td>1200.0</td>\n",
       "      <td>4.0</td>\n",
       "    </tr>\n",
       "    <tr>\n",
       "      <td>4</td>\n",
       "      <td>Екатерина</td>\n",
       "      <td>Никонова</td>\n",
       "      <td>2000.0</td>\n",
       "      <td>1800.0</td>\n",
       "      <td>1950.0</td>\n",
       "      <td>10.0</td>\n",
       "    </tr>\n",
       "    <tr>\n",
       "      <td>5</td>\n",
       "      <td>Алексей</td>\n",
       "      <td>Тищенко</td>\n",
       "      <td>NaN</td>\n",
       "      <td>NaN</td>\n",
       "      <td>NaN</td>\n",
       "      <td>12.0</td>\n",
       "    </tr>\n",
       "  </tbody>\n",
       "</table>\n",
       "</div>"
      ],
      "text/plain": [
       "         Имя   Фамилия  Январь  Февраль    Март  Стаж\n",
       "0       Анна   Егорова  1000.0   1100.0   950.0   6.0\n",
       "1     Сергей   Тищенко  1300.0   1250.0  1320.0  18.0\n",
       "2    Алексей  Маевский   800.0    750.0   900.0   NaN\n",
       "3     Сергей   Пеньков  1100.0   1100.0  1200.0   4.0\n",
       "4  Екатерина  Никонова  2000.0   1800.0  1950.0  10.0\n",
       "5    Алексей   Тищенко     NaN      NaN     NaN  12.0"
      ]
     },
     "execution_count": 41,
     "metadata": {},
     "output_type": "execute_result"
    }
   ],
   "source": [
    "df.merge(status, on=['Имя','Фамилия'], how = 'outer')"
   ]
  },
  {
   "cell_type": "markdown",
   "metadata": {},
   "source": [
    "Такой код обеспечит корректную работу даже в случае, если в фирме будут однофамильцы - строки задаются однозначно парами *Имя-Фамилия*."
   ]
  },
  {
   "cell_type": "markdown",
   "metadata": {},
   "source": [
    "### Бонус: генерация списков и словарей."
   ]
  },
  {
   "cell_type": "markdown",
   "metadata": {},
   "source": [
    "Также, в этом спринте вам стали встречаться примеры с генерацией списков и не все понимают, что это за дивная конструкция. Давайте коротко разберемся с ней."
   ]
  },
  {
   "cell_type": "markdown",
   "metadata": {},
   "source": [
    "Допустим, у нас есть список зарплат наших аналитиков за январь без учета налогов:"
   ]
  },
  {
   "cell_type": "code",
   "execution_count": 42,
   "metadata": {
    "scrolled": true
   },
   "outputs": [
    {
     "data": {
      "text/plain": [
       "[1000, 1300, 800, 1100, 2000]"
      ]
     },
     "execution_count": 42,
     "metadata": {},
     "output_type": "execute_result"
    }
   ],
   "source": [
    "jan_list = df['Январь'].tolist()\n",
    "jan_list"
   ]
  },
  {
   "cell_type": "markdown",
   "metadata": {},
   "source": [
    "Теперь мы хотим посчитать, сколько они реально получат, после вычета НДФЛ. Пройдем по списку, вычтя из каждой зарплаты налоги:"
   ]
  },
  {
   "cell_type": "code",
   "execution_count": 43,
   "metadata": {},
   "outputs": [
    {
     "data": {
      "text/plain": [
       "[870.0, 1131.0, 696.0, 957.0, 1740.0]"
      ]
     },
     "execution_count": 43,
     "metadata": {},
     "output_type": "execute_result"
    }
   ],
   "source": [
    "net_salaries = []  # создадим список с \"чистыми\" зарплатами\n",
    "\n",
    "\n",
    "for salary in jan_list:\n",
    "    net = salary * 0.87 #считаем чистую зарплату за вычетом тринадцати процентов\n",
    "    net_salaries.append(net)  #добавляем в список\n",
    "    \n",
    "net_salaries"
   ]
  },
  {
   "cell_type": "markdown",
   "metadata": {},
   "source": [
    "Отлично, мы заплатили налоги и можем спать спокойно! Однако на подобное действие приходится выполнять довольно часто и каждый раз писать для этого цикл неудобно. Для упрощения создания новых списков применяется эта самая *геренеция списков*.  \n",
    "Давайте попорбуем сделать то же самое с её применением:"
   ]
  },
  {
   "cell_type": "code",
   "execution_count": 44,
   "metadata": {},
   "outputs": [
    {
     "data": {
      "text/plain": [
       "[870.0, 1131.0, 696.0, 957.0, 1740.0]"
      ]
     },
     "execution_count": 44,
     "metadata": {},
     "output_type": "execute_result"
    }
   ],
   "source": [
    "net_salaries = [salary * 0.87 for salary in jan_list]\n",
    "net_salaries"
   ]
  },
  {
   "cell_type": "markdown",
   "metadata": {},
   "source": [
    "Получили тот же самый результат, но в одну короткую строку! Выражение `for salary in jan_list` говорит о том, что мы проходим циклом по списку `jan_list`, на каждой итерации сохраняя очередной элемент в переменной `salary`. Далее, в левой части выражения, делаем с этим элементом, что хотим: умножаем, делим, применяем любые функции. На выходе получаем новый список. О том, что мы хотим получить именно список, говорят квадратные скобки, в которые мы взяли выражение.  \n",
    "Однако подобным образом мы можем сгеренировать и словарь. Давайте создадим на основе `jan_list` словарь, в котором ключами будут базовые зарплаты, а значениями \"чистые\", за вычетом налогов:"
   ]
  },
  {
   "cell_type": "code",
   "execution_count": 45,
   "metadata": {
    "scrolled": true
   },
   "outputs": [
    {
     "data": {
      "text/plain": [
       "{1000: 870.0, 1300: 1131.0, 800: 696.0, 1100: 957.0, 2000: 1740.0}"
      ]
     },
     "execution_count": 45,
     "metadata": {},
     "output_type": "execute_result"
    }
   ],
   "source": [
    "{salary:salary * 0.87 for salary in jan_list}"
   ]
  },
  {
   "cell_type": "markdown",
   "metadata": {},
   "source": [
    "Как видим, для генерации словаря мы берем выражение в фигурные скобки, а в левой части указываем ключи и значения через двоеточие.  \n",
    "Ну и напоследок, давайте добавим в наш генератор условие. Например, нас интересут только заралаты ниже 1200:"
   ]
  },
  {
   "cell_type": "code",
   "execution_count": 46,
   "metadata": {},
   "outputs": [
    {
     "data": {
      "text/plain": [
       "{1000: 870.0, 800: 696.0, 1100: 957.0}"
      ]
     },
     "execution_count": 46,
     "metadata": {},
     "output_type": "execute_result"
    }
   ],
   "source": [
    "{salary:salary * 0.87 for salary in jan_list if salary < 1200}"
   ]
  },
  {
   "cell_type": "markdown",
   "metadata": {},
   "source": [
    "Видим, что фильтр отработал корректно. Согласен, первое время немного кипит мозг от перестановки привычного порядка, но немного привыкнув, вы поймете, что на самом деле это очень удобно и читаемо."
   ]
  },
  {
   "cell_type": "markdown",
   "metadata": {},
   "source": [
    "На этом на сегодня все, спасибо всем, кто дочитал! 👍"
   ]
  }
 ],
 "metadata": {
  "kernelspec": {
   "display_name": "Python 3",
   "language": "python",
   "name": "python3"
  },
  "language_info": {
   "codemirror_mode": {
    "name": "ipython",
    "version": 3
   },
   "file_extension": ".py",
   "mimetype": "text/x-python",
   "name": "python",
   "nbconvert_exporter": "python",
   "pygments_lexer": "ipython3",
   "version": "3.7.8"
  },
  "toc": {
   "base_numbering": 1,
   "nav_menu": {},
   "number_sections": true,
   "sideBar": true,
   "skip_h1_title": false,
   "title_cell": "Table of Contents",
   "title_sidebar": "Contents",
   "toc_cell": false,
   "toc_position": {},
   "toc_section_display": true,
   "toc_window_display": false
  }
 },
 "nbformat": 4,
 "nbformat_minor": 2
}
