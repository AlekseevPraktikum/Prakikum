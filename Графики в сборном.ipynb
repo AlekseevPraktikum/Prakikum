{
 "cells": [
  {
   "cell_type": "markdown",
   "metadata": {},
   "source": [
    "# Шпаргалка по графикам matplotlib и seaborn."
   ]
  },
  {
   "cell_type": "markdown",
   "metadata": {},
   "source": [
    "Друзья, в сборном проекте вам приходится сталкиваться со множеством графиков, давайте коротко разберем на простых примерах, что мы можем сделать при помощи наших графических библиотек."
   ]
  },
  {
   "cell_type": "code",
   "execution_count": 1,
   "metadata": {},
   "outputs": [],
   "source": [
    "import numpy as np\n",
    "import pandas as pd\n",
    "import matplotlib.pyplot as plt\n",
    "import seaborn as sns"
   ]
  },
  {
   "cell_type": "markdown",
   "metadata": {},
   "source": [
    "Возьмем наш любимый датафрейм с зарплатами аналитиков в условных единицах."
   ]
  },
  {
   "cell_type": "code",
   "execution_count": 2,
   "metadata": {},
   "outputs": [
    {
     "data": {
      "text/html": [
       "<div>\n",
       "<style scoped>\n",
       "    .dataframe tbody tr th:only-of-type {\n",
       "        vertical-align: middle;\n",
       "    }\n",
       "\n",
       "    .dataframe tbody tr th {\n",
       "        vertical-align: top;\n",
       "    }\n",
       "\n",
       "    .dataframe thead th {\n",
       "        text-align: right;\n",
       "    }\n",
       "</style>\n",
       "<table border=\"1\" class=\"dataframe\">\n",
       "  <thead>\n",
       "    <tr style=\"text-align: right;\">\n",
       "      <th></th>\n",
       "      <th>Имя</th>\n",
       "      <th>Фамилия</th>\n",
       "      <th>Январь</th>\n",
       "      <th>Февраль</th>\n",
       "      <th>Март</th>\n",
       "    </tr>\n",
       "  </thead>\n",
       "  <tbody>\n",
       "    <tr>\n",
       "      <td>0</td>\n",
       "      <td>Анна</td>\n",
       "      <td>Егорова</td>\n",
       "      <td>1000</td>\n",
       "      <td>1100</td>\n",
       "      <td>950</td>\n",
       "    </tr>\n",
       "    <tr>\n",
       "      <td>1</td>\n",
       "      <td>Сергей</td>\n",
       "      <td>Тищенко</td>\n",
       "      <td>1300</td>\n",
       "      <td>1250</td>\n",
       "      <td>1320</td>\n",
       "    </tr>\n",
       "    <tr>\n",
       "      <td>2</td>\n",
       "      <td>Алексей</td>\n",
       "      <td>Маевский</td>\n",
       "      <td>800</td>\n",
       "      <td>750</td>\n",
       "      <td>900</td>\n",
       "    </tr>\n",
       "    <tr>\n",
       "      <td>3</td>\n",
       "      <td>Сергей</td>\n",
       "      <td>Пеньков</td>\n",
       "      <td>1100</td>\n",
       "      <td>1100</td>\n",
       "      <td>1200</td>\n",
       "    </tr>\n",
       "    <tr>\n",
       "      <td>4</td>\n",
       "      <td>Екатерина</td>\n",
       "      <td>Никонова</td>\n",
       "      <td>2000</td>\n",
       "      <td>1800</td>\n",
       "      <td>1950</td>\n",
       "    </tr>\n",
       "  </tbody>\n",
       "</table>\n",
       "</div>"
      ],
      "text/plain": [
       "         Имя   Фамилия  Январь  Февраль  Март\n",
       "0       Анна   Егорова    1000     1100   950\n",
       "1     Сергей   Тищенко    1300     1250  1320\n",
       "2    Алексей  Маевский     800      750   900\n",
       "3     Сергей   Пеньков    1100     1100  1200\n",
       "4  Екатерина  Никонова    2000     1800  1950"
      ]
     },
     "execution_count": 2,
     "metadata": {},
     "output_type": "execute_result"
    }
   ],
   "source": [
    "df = pd.DataFrame(data={'Имя': ['Анна', 'Сергей', 'Алексей', 'Сергей', 'Екатерина'], 'Фамилия': ['Егорова', 'Тищенко', 'Маевский', 'Пеньков', 'Никонова'] ,'Январь': [1000, 1300, 800, 1100, 2000], 'Февраль': [1100, 1250, 750, 1100, 1800], \n",
    "     'Март': [950, 1320, 900, 1200, 1950]})\n",
    "df"
   ]
  },
  {
   "cell_type": "markdown",
   "metadata": {},
   "source": [
    "В таком виде обрабатывать данные не всегда удобно. Для анализа и визуализации гораздо лучше подходит \"вертикальная таблица\", в которой минимум столбцов, но в каждой строке содержится информация по одному наблюдению. В нашем случае наблюдение - это один месяц одного сотрудника. Превратить горизонтальную табличку в вертикальную мы можем при помощи метода melt. "
   ]
  },
  {
   "cell_type": "code",
   "execution_count": 3,
   "metadata": {},
   "outputs": [],
   "source": [
    "df = df.melt(['Имя', 'Фамилия'])\n",
    "df.columns = ['Имя', 'Фамилия', 'месяц', 'зарплата']"
   ]
  },
  {
   "cell_type": "markdown",
   "metadata": {},
   "source": [
    "Не будем здесь подробно разбирать, как это работает. Более подробно этот процесс еще будет описан в курсе. Если процесс не сильно понятно, можно нне вникать, просто сосредоточимся на результате:"
   ]
  },
  {
   "cell_type": "code",
   "execution_count": 4,
   "metadata": {},
   "outputs": [
    {
     "data": {
      "text/html": [
       "<div>\n",
       "<style scoped>\n",
       "    .dataframe tbody tr th:only-of-type {\n",
       "        vertical-align: middle;\n",
       "    }\n",
       "\n",
       "    .dataframe tbody tr th {\n",
       "        vertical-align: top;\n",
       "    }\n",
       "\n",
       "    .dataframe thead th {\n",
       "        text-align: right;\n",
       "    }\n",
       "</style>\n",
       "<table border=\"1\" class=\"dataframe\">\n",
       "  <thead>\n",
       "    <tr style=\"text-align: right;\">\n",
       "      <th></th>\n",
       "      <th>Имя</th>\n",
       "      <th>Фамилия</th>\n",
       "      <th>месяц</th>\n",
       "      <th>зарплата</th>\n",
       "    </tr>\n",
       "  </thead>\n",
       "  <tbody>\n",
       "    <tr>\n",
       "      <td>0</td>\n",
       "      <td>Анна</td>\n",
       "      <td>Егорова</td>\n",
       "      <td>Январь</td>\n",
       "      <td>1000</td>\n",
       "    </tr>\n",
       "    <tr>\n",
       "      <td>1</td>\n",
       "      <td>Сергей</td>\n",
       "      <td>Тищенко</td>\n",
       "      <td>Январь</td>\n",
       "      <td>1300</td>\n",
       "    </tr>\n",
       "    <tr>\n",
       "      <td>2</td>\n",
       "      <td>Алексей</td>\n",
       "      <td>Маевский</td>\n",
       "      <td>Январь</td>\n",
       "      <td>800</td>\n",
       "    </tr>\n",
       "    <tr>\n",
       "      <td>3</td>\n",
       "      <td>Сергей</td>\n",
       "      <td>Пеньков</td>\n",
       "      <td>Январь</td>\n",
       "      <td>1100</td>\n",
       "    </tr>\n",
       "    <tr>\n",
       "      <td>4</td>\n",
       "      <td>Екатерина</td>\n",
       "      <td>Никонова</td>\n",
       "      <td>Январь</td>\n",
       "      <td>2000</td>\n",
       "    </tr>\n",
       "    <tr>\n",
       "      <td>5</td>\n",
       "      <td>Анна</td>\n",
       "      <td>Егорова</td>\n",
       "      <td>Февраль</td>\n",
       "      <td>1100</td>\n",
       "    </tr>\n",
       "    <tr>\n",
       "      <td>6</td>\n",
       "      <td>Сергей</td>\n",
       "      <td>Тищенко</td>\n",
       "      <td>Февраль</td>\n",
       "      <td>1250</td>\n",
       "    </tr>\n",
       "    <tr>\n",
       "      <td>7</td>\n",
       "      <td>Алексей</td>\n",
       "      <td>Маевский</td>\n",
       "      <td>Февраль</td>\n",
       "      <td>750</td>\n",
       "    </tr>\n",
       "    <tr>\n",
       "      <td>8</td>\n",
       "      <td>Сергей</td>\n",
       "      <td>Пеньков</td>\n",
       "      <td>Февраль</td>\n",
       "      <td>1100</td>\n",
       "    </tr>\n",
       "    <tr>\n",
       "      <td>9</td>\n",
       "      <td>Екатерина</td>\n",
       "      <td>Никонова</td>\n",
       "      <td>Февраль</td>\n",
       "      <td>1800</td>\n",
       "    </tr>\n",
       "    <tr>\n",
       "      <td>10</td>\n",
       "      <td>Анна</td>\n",
       "      <td>Егорова</td>\n",
       "      <td>Март</td>\n",
       "      <td>950</td>\n",
       "    </tr>\n",
       "    <tr>\n",
       "      <td>11</td>\n",
       "      <td>Сергей</td>\n",
       "      <td>Тищенко</td>\n",
       "      <td>Март</td>\n",
       "      <td>1320</td>\n",
       "    </tr>\n",
       "    <tr>\n",
       "      <td>12</td>\n",
       "      <td>Алексей</td>\n",
       "      <td>Маевский</td>\n",
       "      <td>Март</td>\n",
       "      <td>900</td>\n",
       "    </tr>\n",
       "    <tr>\n",
       "      <td>13</td>\n",
       "      <td>Сергей</td>\n",
       "      <td>Пеньков</td>\n",
       "      <td>Март</td>\n",
       "      <td>1200</td>\n",
       "    </tr>\n",
       "    <tr>\n",
       "      <td>14</td>\n",
       "      <td>Екатерина</td>\n",
       "      <td>Никонова</td>\n",
       "      <td>Март</td>\n",
       "      <td>1950</td>\n",
       "    </tr>\n",
       "  </tbody>\n",
       "</table>\n",
       "</div>"
      ],
      "text/plain": [
       "          Имя   Фамилия    месяц  зарплата\n",
       "0        Анна   Егорова   Январь      1000\n",
       "1      Сергей   Тищенко   Январь      1300\n",
       "2     Алексей  Маевский   Январь       800\n",
       "3      Сергей   Пеньков   Январь      1100\n",
       "4   Екатерина  Никонова   Январь      2000\n",
       "5        Анна   Егорова  Февраль      1100\n",
       "6      Сергей   Тищенко  Февраль      1250\n",
       "7     Алексей  Маевский  Февраль       750\n",
       "8      Сергей   Пеньков  Февраль      1100\n",
       "9   Екатерина  Никонова  Февраль      1800\n",
       "10       Анна   Егорова     Март       950\n",
       "11     Сергей   Тищенко     Март      1320\n",
       "12    Алексей  Маевский     Март       900\n",
       "13     Сергей   Пеньков     Март      1200\n",
       "14  Екатерина  Никонова     Март      1950"
      ]
     },
     "execution_count": 4,
     "metadata": {},
     "output_type": "execute_result"
    }
   ],
   "source": [
    "df"
   ]
  },
  {
   "cell_type": "markdown",
   "metadata": {},
   "source": [
    "То етсь мы получили табличку в том же виде, с каким работаем в проектах - минимум столбцов, а в каждой строке некая сущность, в нашем случае это зарплата для каждого сотрудника в каждом месяце."
   ]
  },
  {
   "cell_type": "markdown",
   "metadata": {},
   "source": [
    "Допустим, мы хотим на одном графике отследить динамику доходов всех наших сотрудников по месяцам. Для периодов времени хорошо подходят простые линейные графики с отображением времени по оси Х:"
   ]
  },
  {
   "cell_type": "code",
   "execution_count": 5,
   "metadata": {
    "scrolled": true
   },
   "outputs": [
    {
     "data": {
      "text/plain": [
       "Text(0, 0.5, 'Зарплата')"
      ]
     },
     "execution_count": 5,
     "metadata": {},
     "output_type": "execute_result"
    },
    {
     "data": {
      "image/png": "[encoded data removed]",
      "text/plain": [
       "<Figure size 864x432 with 1 Axes>"
      ]
     },
     "metadata": {
      "needs_background": "light"
     },
     "output_type": "display_data"
    }
   ],
   "source": [
    "plt.figure(figsize=(12, 6))\n",
    "sns.lineplot(x='месяц', y='зарплата', hue='Фамилия', data=df)\n",
    "plt.xlabel('Месяц',fontsize=16)\n",
    "plt.ylabel('Зарплата',fontsize=16)"
   ]
  },
  {
   "cell_type": "markdown",
   "metadata": {},
   "source": [
    "Думаю, здесь все интуитивно понятно: задали размер, вызвали метод отрисовки линейного графика популярной библиотеки seaborn, указали оси и источник данных. Параметром hue мы задаём столбец, по которому хотим разбить данные и отобразить разными цветами.  \n",
    "Месяцев у нас маловато, но если мы у нас были данные за год, можно было бы наглядно отследить рост/падение доходов каждого сотрудника."
   ]
  },
  {
   "cell_type": "markdown",
   "metadata": {},
   "source": [
    "Теперь давайте оценим разброс зарплаты для каждого сотрудника:"
   ]
  },
  {
   "cell_type": "code",
   "execution_count": 7,
   "metadata": {
    "scrolled": true
   },
   "outputs": [
    {
     "data": {
      "text/plain": [
       "<matplotlib.axes._subplots.AxesSubplot at 0x7fee352ed510>"
      ]
     },
     "execution_count": 7,
     "metadata": {},
     "output_type": "execute_result"
    },
    {
     "data": {
      "image/png": "[encoded data removed]",
      "text/plain": [
       "<Figure size 864x648 with 1 Axes>"
      ]
     },
     "metadata": {
      "needs_background": "light"
     },
     "output_type": "display_data"
    }
   ],
   "source": [
    "plt.figure(figsize=(12, 9))\n",
    "sns.boxplot(x='Фамилия', y='зарплата', data = df)"
   ]
  },
  {
   "cell_type": "markdown",
   "metadata": {},
   "source": [
    "Хорошо видно, кто в лидерх, а кто в отстающих, а также в каких пределах наши доходы."
   ]
  },
  {
   "cell_type": "markdown",
   "metadata": {},
   "source": [
    "Теперь давайте сравним суммарные доходы. Для начала сформируем сводную по сотрудникам:"
   ]
  },
  {
   "cell_type": "code",
   "execution_count": 8,
   "metadata": {
    "scrolled": false
   },
   "outputs": [
    {
     "data": {
      "text/html": [
       "<div>\n",
       "<style scoped>\n",
       "    .dataframe tbody tr th:only-of-type {\n",
       "        vertical-align: middle;\n",
       "    }\n",
       "\n",
       "    .dataframe tbody tr th {\n",
       "        vertical-align: top;\n",
       "    }\n",
       "\n",
       "    .dataframe thead th {\n",
       "        text-align: right;\n",
       "    }\n",
       "</style>\n",
       "<table border=\"1\" class=\"dataframe\">\n",
       "  <thead>\n",
       "    <tr style=\"text-align: right;\">\n",
       "      <th></th>\n",
       "      <th>зарплата</th>\n",
       "    </tr>\n",
       "    <tr>\n",
       "      <th>Фамилия</th>\n",
       "      <th></th>\n",
       "    </tr>\n",
       "  </thead>\n",
       "  <tbody>\n",
       "    <tr>\n",
       "      <td>Егорова</td>\n",
       "      <td>3050</td>\n",
       "    </tr>\n",
       "    <tr>\n",
       "      <td>Маевский</td>\n",
       "      <td>2450</td>\n",
       "    </tr>\n",
       "    <tr>\n",
       "      <td>Никонова</td>\n",
       "      <td>5750</td>\n",
       "    </tr>\n",
       "    <tr>\n",
       "      <td>Пеньков</td>\n",
       "      <td>3400</td>\n",
       "    </tr>\n",
       "    <tr>\n",
       "      <td>Тищенко</td>\n",
       "      <td>3870</td>\n",
       "    </tr>\n",
       "  </tbody>\n",
       "</table>\n",
       "</div>"
      ],
      "text/plain": [
       "          зарплата\n",
       "Фамилия           \n",
       "Егорова       3050\n",
       "Маевский      2450\n",
       "Никонова      5750\n",
       "Пеньков       3400\n",
       "Тищенко       3870"
      ]
     },
     "execution_count": 8,
     "metadata": {},
     "output_type": "execute_result"
    }
   ],
   "source": [
    "df.pivot_table(index='Фамилия', values='зарплата', aggfunc='sum')"
   ]
  },
  {
   "cell_type": "markdown",
   "metadata": {},
   "source": [
    "Все очень наглядно, давайте визуализируем эту маленькую табличку:"
   ]
  },
  {
   "cell_type": "code",
   "execution_count": 9,
   "metadata": {},
   "outputs": [
    {
     "data": {
      "text/plain": [
       "<matplotlib.axes._subplots.AxesSubplot at 0x7fee35433e50>"
      ]
     },
     "execution_count": 9,
     "metadata": {},
     "output_type": "execute_result"
    },
    {
     "data": {
      "image/png": "[encoded data removed]",
      "text/plain": [
       "<Figure size 432x288 with 1 Axes>"
      ]
     },
     "metadata": {
      "needs_background": "light"
     },
     "output_type": "display_data"
    }
   ],
   "source": [
    "df.pivot_table(index='Фамилия', values='зарплата', aggfunc='sum').plot()"
   ]
  },
  {
   "cell_type": "markdown",
   "metadata": {},
   "source": [
    "Честно говоря, выглядит не очень, для сравнения количественных данных бок о бок лучше подойдут бары, плюс давайте данные отсортируем:"
   ]
  },
  {
   "cell_type": "code",
   "execution_count": 10,
   "metadata": {
    "scrolled": true
   },
   "outputs": [
    {
     "data": {
      "text/plain": [
       "<matplotlib.axes._subplots.AxesSubplot at 0x7fee35389490>"
      ]
     },
     "execution_count": 10,
     "metadata": {},
     "output_type": "execute_result"
    },
    {
     "data": {
      "image/png": "[encoded data removed]",
      "text/plain": [
       "<Figure size 432x288 with 1 Axes>"
      ]
     },
     "metadata": {
      "needs_background": "light"
     },
     "output_type": "display_data"
    }
   ],
   "source": [
    "df.pivot_table(index='Фамилия', values='зарплата', aggfunc='sum').sort_values(by='зарплата',ascending=False).plot(kind='bar')"
   ]
  },
  {
   "cell_type": "markdown",
   "metadata": {},
   "source": [
    "Согласитесь, гораздо приятнее глазу."
   ]
  },
  {
   "cell_type": "markdown",
   "metadata": {},
   "source": [
    "И напоследок, давайте отобразим несколько графиков по разным месяцам рядом. Для этого создадим объект figure - это как палитра, на которой мы разместим три графика - axes. (Первыми параметрами задаем сетку 1х3)"
   ]
  },
  {
   "cell_type": "code",
   "execution_count": 11,
   "metadata": {},
   "outputs": [
    {
     "data": {
      "image/png": "[encoded data removed]",
      "text/plain": [
       "<Figure size 1296x288 with 3 Axes>"
      ]
     },
     "metadata": {
      "needs_background": "light"
     },
     "output_type": "display_data"
    }
   ],
   "source": [
    "fig, axes = plt.subplots(1, 3, figsize = (18,4))"
   ]
  },
  {
   "cell_type": "markdown",
   "metadata": {},
   "source": [
    "Пока что графики пустые, но каждая из трех ячеек у нас сохранена в списке axes."
   ]
  },
  {
   "cell_type": "code",
   "execution_count": 18,
   "metadata": {},
   "outputs": [
    {
     "data": {
      "text/plain": [
       "array([<matplotlib.axes._subplots.AxesSubplot object at 0x7fee34e37d90>,\n",
       "       <matplotlib.axes._subplots.AxesSubplot object at 0x7fee34d83990>,\n",
       "       <matplotlib.axes._subplots.AxesSubplot object at 0x7fee34d41090>],\n",
       "      dtype=object)"
      ]
     },
     "execution_count": 18,
     "metadata": {},
     "output_type": "execute_result"
    }
   ],
   "source": [
    "axes"
   ]
  },
  {
   "cell_type": "markdown",
   "metadata": {},
   "source": [
    " Мы можем построить какой-нибудь график на любой из них и график отрисуется в указанной ячейке. Например, построим простой линейный график во второй ячейке:"
   ]
  },
  {
   "cell_type": "code",
   "execution_count": 12,
   "metadata": {
    "scrolled": true
   },
   "outputs": [
    {
     "data": {
      "image/png": "[encoded data removed]",
      "text/plain": [
       "<Figure size 1296x288 with 3 Axes>"
      ]
     },
     "execution_count": 12,
     "metadata": {},
     "output_type": "execute_result"
    }
   ],
   "source": [
    "axes[1].plot(range(1,10),range(11,20))\n",
    "fig"
   ]
  },
  {
   "cell_type": "markdown",
   "metadata": {},
   "source": [
    "Но вернемся к нашим зарплатам."
   ]
  },
  {
   "cell_type": "code",
   "execution_count": 14,
   "metadata": {},
   "outputs": [
    {
     "data": {
      "image/png": "[encoded data removed]",
      "text/plain": [
       "<Figure size 1296x288 with 3 Axes>"
      ]
     },
     "metadata": {
      "needs_background": "light"
     },
     "output_type": "display_data"
    }
   ],
   "source": [
    "fig, axes = plt.subplots(1, 3, figsize = (18,4))\n",
    "months = ['Январь','Февраль','Март']\n",
    "i = 0\n",
    "for month in months: #пройдем по списку месяцев\n",
    "    (\n",
    "    df.query('месяц == @month') #оставим для графика только один месяц\n",
    "        .plot(x = 'Фамилия', y = 'зарплата', kind='bar', ax = axes[i])\n",
    "    )\n",
    "    i+=1"
   ]
  },
  {
   "cell_type": "markdown",
   "metadata": {},
   "source": [
    "Давайте разберем, что здесь происходит.\n",
    "С объектом figure мы разобрались. Далее, мы проходим по списку месяцев, на каждогй итерации отфильтровываем из таблицы данные только для текущего месяца и рисуем график с барами, задавая ему ячейку, куда мы хотим его поместить (`ax = axes[i]`) В конце прибавляем к номеру ячейки единицу, чтобы следующий график поместить в следующую ячейку."
   ]
  },
  {
   "cell_type": "markdown",
   "metadata": {},
   "source": [
    "Получилось не без иъянов. Мне кажется, подписи с фамилией лишние - и так понятно, о чем речь. Да и легенда ни к чему, луче сделаем подпись для всего графика. И, для полного счастья, немного уевличим шрифты, а то фамилии почни не видно."
   ]
  },
  {
   "cell_type": "code",
   "execution_count": 19,
   "metadata": {},
   "outputs": [
    {
     "data": {
      "image/png": "[encoded data removed]",
      "text/plain": [
       "<Figure size 1296x288 with 3 Axes>"
      ]
     },
     "metadata": {
      "needs_background": "light"
     },
     "output_type": "display_data"
    }
   ],
   "source": [
    "#устанавливаем шрифты для различных элементов графика\n",
    "plt.rc('xtick', labelsize=16)   \n",
    "plt.rc('ytick', labelsize=12)   \n",
    "plt.rc('axes', labelsize=16)\n",
    "plt.rc('figure', titlesize=16)\n",
    "\n",
    "fig, axes = plt.subplots(1, 3, figsize = (18,4))\n",
    "fig.suptitle('Зарплата сотрудников по месяцам, ₽') # задаём общий заголовок\n",
    "i = 0\n",
    "for month in months:\n",
    "    (\n",
    "    df.query('месяц == @month')\n",
    "        .plot(x = 'Фамилия', y = 'зарплата', kind='bar', ax = axes[i])\n",
    "        .set(xlabel=month) # подписываем каждый график своим месяцем\n",
    "    )\n",
    "    axes[i].get_legend().remove() #убираем легенду\n",
    "    i+=1"
   ]
  },
  {
   "cell_type": "markdown",
   "metadata": {},
   "source": [
    "Теперь гораздо лучше. Думаю, на этом стоит остановиться, все показанные приемы можно применить в сборном проекте. Спаисбо всем, кто уделил внимание."
   ]
  }
 ],
 "metadata": {
  "ExecuteTimeLog": [
   {
    "duration": 1670,
    "start_time": "2021-06-09T12:30:00.643Z"
   },
   {
    "duration": 15,
    "start_time": "2021-06-09T12:30:17.768Z"
   },
   {
    "duration": 6,
    "start_time": "2021-06-09T12:30:25.062Z"
   },
   {
    "duration": 6,
    "start_time": "2021-06-09T12:30:28.689Z"
   },
   {
    "duration": 50,
    "start_time": "2021-06-09T12:30:38.456Z"
   },
   {
    "duration": 28,
    "start_time": "2021-06-09T16:17:55.380Z"
   },
   {
    "duration": 22,
    "start_time": "2021-06-09T16:17:59.514Z"
   },
   {
    "duration": 5,
    "start_time": "2021-06-12T13:02:28.163Z"
   },
   {
    "duration": 416,
    "start_time": "2021-06-12T13:02:40.265Z"
   },
   {
    "duration": 14,
    "start_time": "2021-06-12T13:02:48.690Z"
   },
   {
    "duration": 301,
    "start_time": "2021-06-12T13:02:53.920Z"
   },
   {
    "duration": 5,
    "start_time": "2021-06-12T13:04:32.854Z"
   },
   {
    "duration": 589,
    "start_time": "2021-06-12T13:04:41.995Z"
   },
   {
    "duration": 291,
    "start_time": "2021-06-12T13:05:54.763Z"
   },
   {
    "duration": 237,
    "start_time": "2021-06-12T13:06:08.510Z"
   },
   {
    "duration": 354,
    "start_time": "2021-06-12T13:06:10.266Z"
   },
   {
    "duration": 3,
    "start_time": "2021-06-12T13:06:27.067Z"
   },
   {
    "duration": 6,
    "start_time": "2021-06-12T13:06:28.572Z"
   },
   {
    "duration": 6,
    "start_time": "2021-06-12T13:06:43.719Z"
   },
   {
    "duration": 6,
    "start_time": "2021-06-12T13:07:18.095Z"
   },
   {
    "duration": 315,
    "start_time": "2021-06-12T13:07:21.182Z"
   },
   {
    "duration": 434,
    "start_time": "2021-07-06T06:46:30.803Z"
   },
   {
    "duration": 109,
    "start_time": "2021-07-06T06:46:45.342Z"
   },
   {
    "duration": 520,
    "start_time": "2021-07-06T06:46:57.487Z"
   },
   {
    "duration": 376,
    "start_time": "2021-07-06T06:47:47.958Z"
   },
   {
    "duration": 86,
    "start_time": "2021-07-06T06:50:43.130Z"
   },
   {
    "duration": 585,
    "start_time": "2021-07-06T06:50:47.388Z"
   },
   {
    "duration": 251,
    "start_time": "2021-07-06T06:50:52.327Z"
   },
   {
    "duration": 56,
    "start_time": "2021-07-06T07:01:25.577Z"
   },
   {
    "duration": 221,
    "start_time": "2021-07-06T07:05:56.097Z"
   },
   {
    "duration": 220,
    "start_time": "2021-07-06T07:06:07.625Z"
   },
   {
    "duration": 7,
    "start_time": "2021-07-06T07:42:43.118Z"
   },
   {
    "duration": 167,
    "start_time": "2021-07-06T07:47:07.765Z"
   },
   {
    "duration": 674,
    "start_time": "2021-07-06T07:47:21.190Z"
   },
   {
    "duration": 326,
    "start_time": "2021-07-06T07:47:51.025Z"
   },
   {
    "duration": 219,
    "start_time": "2021-07-06T07:48:58.934Z"
   },
   {
    "duration": 51,
    "start_time": "2021-07-06T08:11:18.686Z"
   },
   {
    "duration": 86,
    "start_time": "2021-07-06T08:14:02.967Z"
   },
   {
    "duration": 231,
    "start_time": "2021-07-06T08:14:15.276Z"
   },
   {
    "duration": 327,
    "start_time": "2021-07-06T08:15:04.152Z"
   },
   {
    "duration": 1611,
    "start_time": "2021-07-08T06:45:24.873Z"
   },
   {
    "duration": 41,
    "start_time": "2021-07-08T06:45:30.267Z"
   },
   {
    "duration": 25,
    "start_time": "2021-07-08T06:45:58.098Z"
   },
   {
    "duration": 50,
    "start_time": "2021-07-08T06:51:13.298Z"
   },
   {
    "duration": 31,
    "start_time": "2021-07-08T06:51:26.256Z"
   },
   {
    "duration": 48,
    "start_time": "2021-07-08T06:52:15.849Z"
   },
   {
    "duration": 44,
    "start_time": "2021-07-08T06:52:20.176Z"
   },
   {
    "duration": 43,
    "start_time": "2021-07-08T06:53:00.161Z"
   },
   {
    "duration": 48,
    "start_time": "2021-07-08T06:53:01.616Z"
   },
   {
    "duration": 392,
    "start_time": "2021-07-08T06:53:15.608Z"
   },
   {
    "duration": 46,
    "start_time": "2021-07-08T06:53:30.879Z"
   },
   {
    "duration": 50,
    "start_time": "2021-07-08T06:53:41.522Z"
   },
   {
    "duration": 47,
    "start_time": "2021-07-08T06:53:42.976Z"
   },
   {
    "duration": 80,
    "start_time": "2021-07-08T06:53:49.712Z"
   },
   {
    "duration": 28,
    "start_time": "2021-07-08T06:55:09.632Z"
   },
   {
    "duration": 30,
    "start_time": "2021-07-08T06:55:29.912Z"
   },
   {
    "duration": 30,
    "start_time": "2021-07-08T06:55:56.424Z"
   },
   {
    "duration": 30,
    "start_time": "2021-07-08T06:57:22.750Z"
   },
   {
    "duration": 127,
    "start_time": "2021-07-08T07:34:53.938Z"
   },
   {
    "duration": 860,
    "start_time": "2021-07-08T07:34:56.072Z"
   },
   {
    "duration": 293,
    "start_time": "2021-07-09T07:23:17.296Z"
   },
   {
    "duration": 249,
    "start_time": "2021-07-09T07:23:23.853Z"
   },
   {
    "duration": 1599,
    "start_time": "2021-07-09T07:24:14.291Z"
   },
   {
    "duration": 17,
    "start_time": "2021-07-09T07:24:21.090Z"
   },
   {
    "duration": 787,
    "start_time": "2021-07-09T07:26:04.930Z"
   },
   {
    "duration": 448,
    "start_time": "2021-07-09T07:27:06.424Z"
   },
   {
    "duration": 44,
    "start_time": "2021-07-09T07:27:42.356Z"
   },
   {
    "duration": 1285,
    "start_time": "2021-07-13T15:40:31.583Z"
   },
   {
    "duration": 314,
    "start_time": "2021-07-13T15:46:53.096Z"
   },
   {
    "duration": 362,
    "start_time": "2021-07-13T15:46:59.385Z"
   },
   {
    "duration": 617,
    "start_time": "2021-07-13T17:12:42.767Z"
   },
   {
    "duration": 79,
    "start_time": "2021-07-13T17:13:46.091Z"
   },
   {
    "duration": 83,
    "start_time": "2021-07-13T17:13:56.285Z"
   },
   {
    "duration": 77,
    "start_time": "2021-07-13T17:14:07.949Z"
   },
   {
    "duration": 109,
    "start_time": "2021-07-13T17:14:42.293Z"
   },
   {
    "duration": 76,
    "start_time": "2021-07-13T17:14:49.397Z"
   },
   {
    "duration": 1186,
    "start_time": "2021-07-14T06:46:59.829Z"
   },
   {
    "duration": 236,
    "start_time": "2021-07-14T06:47:25.731Z"
   },
   {
    "duration": 193,
    "start_time": "2021-07-14T06:49:38.889Z"
   },
   {
    "duration": 169,
    "start_time": "2021-07-14T06:50:10.835Z"
   },
   {
    "duration": 21,
    "start_time": "2021-07-14T06:52:44.537Z"
   },
   {
    "duration": 13,
    "start_time": "2021-07-14T06:53:37.482Z"
   },
   {
    "duration": 1441,
    "start_time": "2021-07-15T06:07:38.519Z"
   },
   {
    "duration": 675,
    "start_time": "2021-07-15T06:07:44.985Z"
   },
   {
    "duration": 31,
    "start_time": "2021-07-15T06:07:57.672Z"
   },
   {
    "duration": 7,
    "start_time": "2021-07-15T06:08:30.161Z"
   },
   {
    "duration": 18,
    "start_time": "2021-07-15T06:10:17.353Z"
   },
   {
    "duration": 18,
    "start_time": "2021-07-15T06:11:17.055Z"
   },
   {
    "duration": 14,
    "start_time": "2021-07-15T06:16:01.759Z"
   },
   {
    "duration": 426,
    "start_time": "2021-07-19T07:25:06.531Z"
   },
   {
    "duration": 763,
    "start_time": "2021-07-19T07:25:13.920Z"
   },
   {
    "duration": 717,
    "start_time": "2021-07-19T07:25:15.104Z"
   },
   {
    "duration": 342,
    "start_time": "2021-07-19T07:25:47.816Z"
   },
   {
    "duration": 331,
    "start_time": "2021-07-19T07:26:10.488Z"
   },
   {
    "duration": 35,
    "start_time": "2021-07-19T07:26:16.545Z"
   },
   {
    "duration": 104,
    "start_time": "2021-07-19T07:26:22.649Z"
   },
   {
    "duration": 97,
    "start_time": "2021-07-19T07:26:26.849Z"
   },
   {
    "duration": 693,
    "start_time": "2021-07-19T07:28:25.400Z"
   },
   {
    "duration": 654,
    "start_time": "2021-07-19T07:34:38.087Z"
   },
   {
    "duration": 6,
    "start_time": "2021-07-19T07:35:35.949Z"
   },
   {
    "duration": 6,
    "start_time": "2021-07-19T07:37:43.051Z"
   },
   {
    "duration": 4,
    "start_time": "2021-07-20T06:09:33.634Z"
   },
   {
    "duration": 3,
    "start_time": "2021-07-20T06:09:51.465Z"
   },
   {
    "duration": 3,
    "start_time": "2021-07-20T06:10:00.810Z"
   },
   {
    "duration": 553,
    "start_time": "2021-07-20T06:10:11.742Z"
   },
   {
    "duration": 4,
    "start_time": "2021-07-20T06:10:44.097Z"
   },
   {
    "duration": 3,
    "start_time": "2021-07-20T06:10:46.358Z"
   },
   {
    "duration": 4,
    "start_time": "2021-07-20T06:10:58.079Z"
   },
   {
    "duration": 3,
    "start_time": "2021-07-20T06:11:16.295Z"
   },
   {
    "duration": 3,
    "start_time": "2021-07-20T06:11:17.173Z"
   },
   {
    "duration": 536,
    "start_time": "2021-07-20T06:11:23.484Z"
   },
   {
    "duration": 4,
    "start_time": "2021-07-20T06:11:41.253Z"
   },
   {
    "duration": 3,
    "start_time": "2021-07-20T06:11:42.941Z"
   },
   {
    "duration": 1142,
    "start_time": "2021-07-20T08:34:33.051Z"
   },
   {
    "duration": 126,
    "start_time": "2021-07-20T08:35:09.734Z"
   },
   {
    "duration": 8,
    "start_time": "2021-07-20T08:35:13.486Z"
   },
   {
    "duration": 398,
    "start_time": "2021-07-20T17:38:09.811Z"
   },
   {
    "duration": 1502,
    "start_time": "2021-07-20T17:38:15.519Z"
   },
   {
    "duration": 25,
    "start_time": "2021-07-20T17:38:18.247Z"
   },
   {
    "duration": 5,
    "start_time": "2021-07-20T17:38:39.553Z"
   },
   {
    "duration": 4,
    "start_time": "2021-07-20T17:38:48.642Z"
   },
   {
    "duration": 5,
    "start_time": "2021-07-20T17:38:54.794Z"
   },
   {
    "duration": 4,
    "start_time": "2021-07-20T17:39:24.400Z"
   },
   {
    "duration": 24,
    "start_time": "2021-07-20T17:39:40.761Z"
   },
   {
    "duration": 6,
    "start_time": "2021-07-20T17:39:54.355Z"
   },
   {
    "duration": 6,
    "start_time": "2021-07-20T17:39:59.976Z"
   },
   {
    "duration": 132,
    "start_time": "2021-07-20T17:40:46.573Z"
   },
   {
    "duration": 120,
    "start_time": "2021-07-20T17:41:00.466Z"
   },
   {
    "duration": 412,
    "start_time": "2021-07-20T17:41:04.314Z"
   },
   {
    "duration": 362,
    "start_time": "2021-07-20T17:41:16.124Z"
   },
   {
    "duration": 9,
    "start_time": "2021-07-20T17:41:35.388Z"
   },
   {
    "duration": 4,
    "start_time": "2021-07-21T06:29:01.224Z"
   },
   {
    "duration": 4,
    "start_time": "2021-07-21T06:29:02.614Z"
   },
   {
    "duration": 4,
    "start_time": "2021-07-21T06:29:12.142Z"
   },
   {
    "duration": 3,
    "start_time": "2021-07-21T06:29:26.896Z"
   },
   {
    "duration": 5,
    "start_time": "2021-07-21T06:29:28.446Z"
   },
   {
    "duration": 4,
    "start_time": "2021-07-21T06:30:49.496Z"
   },
   {
    "duration": 8,
    "start_time": "2021-07-21T06:30:50.460Z"
   },
   {
    "duration": 4,
    "start_time": "2021-07-21T06:30:56.814Z"
   },
   {
    "duration": 4,
    "start_time": "2021-07-21T06:31:06.462Z"
   },
   {
    "duration": 3,
    "start_time": "2021-07-21T06:32:19.413Z"
   },
   {
    "duration": 4,
    "start_time": "2021-07-21T06:32:20.613Z"
   },
   {
    "duration": 3,
    "start_time": "2021-07-21T06:33:06.829Z"
   },
   {
    "duration": 3,
    "start_time": "2021-07-21T06:33:07.859Z"
   },
   {
    "duration": 3,
    "start_time": "2021-07-21T06:33:19.332Z"
   },
   {
    "duration": 4,
    "start_time": "2021-07-21T06:33:21.383Z"
   },
   {
    "duration": 74,
    "start_time": "2021-07-21T06:34:21.006Z"
   },
   {
    "duration": 5,
    "start_time": "2021-07-21T06:34:42.421Z"
   },
   {
    "duration": 4,
    "start_time": "2021-07-21T06:34:43.261Z"
   },
   {
    "duration": 3,
    "start_time": "2021-07-21T06:36:36.269Z"
   },
   {
    "duration": 109,
    "start_time": "2021-07-21T06:37:25.457Z"
   },
   {
    "duration": 3,
    "start_time": "2021-07-21T06:37:29.438Z"
   },
   {
    "duration": 8,
    "start_time": "2021-07-21T06:37:30.946Z"
   },
   {
    "duration": 4,
    "start_time": "2021-07-21T06:38:01.937Z"
   },
   {
    "duration": 4,
    "start_time": "2021-07-21T06:38:03.578Z"
   },
   {
    "duration": 8,
    "start_time": "2021-07-21T06:38:05.596Z"
   },
   {
    "duration": 3,
    "start_time": "2021-07-21T06:38:11.950Z"
   },
   {
    "duration": 3,
    "start_time": "2021-07-21T06:38:13.659Z"
   },
   {
    "duration": 2735,
    "start_time": "2021-07-21T07:06:29.712Z"
   },
   {
    "duration": 101,
    "start_time": "2021-07-21T07:07:06.360Z"
   },
   {
    "duration": 7,
    "start_time": "2021-07-21T07:07:32.119Z"
   },
   {
    "duration": 6,
    "start_time": "2021-07-21T07:07:37.750Z"
   },
   {
    "duration": 7,
    "start_time": "2021-07-21T07:08:01.375Z"
   },
   {
    "duration": 13,
    "start_time": "2021-07-21T07:08:08.550Z"
   },
   {
    "duration": 6,
    "start_time": "2021-07-21T07:08:23.176Z"
   },
   {
    "duration": 10,
    "start_time": "2021-07-21T07:54:29.049Z"
   },
   {
    "duration": 596,
    "start_time": "2021-07-21T07:54:37.973Z"
   },
   {
    "duration": 9,
    "start_time": "2021-07-21T07:54:51.280Z"
   },
   {
    "duration": 9,
    "start_time": "2021-07-21T07:55:08.069Z"
   },
   {
    "duration": 242,
    "start_time": "2021-07-21T07:55:18.156Z"
   },
   {
    "duration": 10,
    "start_time": "2021-07-21T07:55:25.332Z"
   },
   {
    "duration": 284,
    "start_time": "2021-07-21T07:57:59.468Z"
   },
   {
    "duration": 2027,
    "start_time": "2021-07-21T07:58:04.116Z"
   },
   {
    "duration": -1805,
    "start_time": "2021-07-21T07:58:07.949Z"
   },
   {
    "duration": 1538,
    "start_time": "2021-07-21T07:58:32.547Z"
   },
   {
    "duration": 1670,
    "start_time": "2021-07-21T07:58:35.876Z"
   },
   {
    "duration": 1052,
    "start_time": "2021-07-21T07:59:21.492Z"
   },
   {
    "duration": 1032,
    "start_time": "2021-07-21T07:59:37.877Z"
   },
   {
    "duration": 78,
    "start_time": "2021-07-21T08:13:49.372Z"
   },
   {
    "duration": 283,
    "start_time": "2021-07-21T08:14:30.681Z"
   },
   {
    "duration": 11,
    "start_time": "2021-07-21T08:14:34.436Z"
   },
   {
    "duration": 301,
    "start_time": "2021-07-21T08:15:26.072Z"
   },
   {
    "duration": 580,
    "start_time": "2021-07-21T08:15:28.926Z"
   },
   {
    "duration": 279,
    "start_time": "2021-07-21T08:15:31.957Z"
   },
   {
    "duration": 264,
    "start_time": "2021-07-21T08:15:40.344Z"
   },
   {
    "duration": 16,
    "start_time": "2021-07-21T08:15:45.894Z"
   },
   {
    "duration": 979,
    "start_time": "2021-07-21T12:09:24.588Z"
   },
   {
    "duration": 9,
    "start_time": "2021-07-21T12:09:32.264Z"
   },
   {
    "duration": 13,
    "start_time": "2021-07-21T12:10:04.018Z"
   },
   {
    "duration": 4,
    "start_time": "2021-07-21T12:16:09.942Z"
   },
   {
    "duration": 4,
    "start_time": "2021-07-21T12:19:44.105Z"
   },
   {
    "duration": 3,
    "start_time": "2021-07-21T12:20:00.522Z"
   },
   {
    "duration": 4,
    "start_time": "2021-07-21T12:20:03.849Z"
   },
   {
    "duration": 3,
    "start_time": "2021-07-21T12:20:10.683Z"
   },
   {
    "duration": 387,
    "start_time": "2021-07-21T12:20:14.731Z"
   },
   {
    "duration": 261,
    "start_time": "2021-07-21T12:20:28.129Z"
   },
   {
    "duration": 269,
    "start_time": "2021-07-21T12:20:35.180Z"
   },
   {
    "duration": 266,
    "start_time": "2021-07-21T12:20:44.578Z"
   },
   {
    "duration": 3,
    "start_time": "2021-07-21T12:20:56.162Z"
   },
   {
    "duration": 4,
    "start_time": "2021-07-21T12:21:00.564Z"
   },
   {
    "duration": 4,
    "start_time": "2021-07-21T12:21:05.628Z"
   },
   {
    "duration": 4,
    "start_time": "2021-07-21T12:21:10.986Z"
   },
   {
    "duration": 5,
    "start_time": "2021-07-21T12:21:16.661Z"
   },
   {
    "duration": 7,
    "start_time": "2021-07-21T12:21:42.179Z"
   },
   {
    "duration": 5,
    "start_time": "2021-07-21T12:21:48.459Z"
   },
   {
    "duration": 2,
    "start_time": "2021-07-21T12:22:13.789Z"
   },
   {
    "duration": 4,
    "start_time": "2021-07-21T12:22:15.563Z"
   },
   {
    "duration": 4,
    "start_time": "2021-07-21T12:22:20.621Z"
   },
   {
    "duration": 6,
    "start_time": "2021-07-22T05:58:06.611Z"
   },
   {
    "duration": 3,
    "start_time": "2021-07-22T05:58:23.597Z"
   },
   {
    "duration": 3,
    "start_time": "2021-07-22T05:58:27.219Z"
   },
   {
    "duration": 3,
    "start_time": "2021-07-22T05:58:43.241Z"
   },
   {
    "duration": 8,
    "start_time": "2021-07-22T05:58:44.354Z"
   },
   {
    "duration": 2,
    "start_time": "2021-07-22T05:59:33.692Z"
   },
   {
    "duration": 4,
    "start_time": "2021-07-22T05:59:42.443Z"
   },
   {
    "duration": 4,
    "start_time": "2021-07-22T05:59:47.651Z"
   },
   {
    "duration": 5,
    "start_time": "2021-07-22T06:01:22.347Z"
   },
   {
    "duration": 4,
    "start_time": "2021-07-22T06:01:46.157Z"
   },
   {
    "duration": 3,
    "start_time": "2021-07-22T06:02:39.896Z"
   },
   {
    "duration": 4,
    "start_time": "2021-07-22T06:02:40.872Z"
   },
   {
    "duration": 4,
    "start_time": "2021-07-22T06:03:06.729Z"
   },
   {
    "duration": 464,
    "start_time": "2021-07-22T06:06:08.033Z"
   },
   {
    "duration": 1074,
    "start_time": "2021-07-22T06:06:31.448Z"
   },
   {
    "duration": 4,
    "start_time": "2021-07-22T06:06:42.912Z"
   },
   {
    "duration": 4,
    "start_time": "2021-07-22T06:07:10.602Z"
   },
   {
    "duration": 4,
    "start_time": "2021-07-22T06:07:19.667Z"
   },
   {
    "duration": 4,
    "start_time": "2021-07-22T06:07:26.585Z"
   },
   {
    "duration": 304,
    "start_time": "2021-07-22T07:20:42.821Z"
   },
   {
    "duration": 597,
    "start_time": "2021-07-22T07:20:52.423Z"
   },
   {
    "duration": 36,
    "start_time": "2021-07-22T07:20:54.043Z"
   },
   {
    "duration": 14,
    "start_time": "2021-07-22T07:20:56.601Z"
   },
   {
    "duration": 290,
    "start_time": "2021-07-22T07:21:55.902Z"
   },
   {
    "duration": 19,
    "start_time": "2021-07-22T07:21:59.018Z"
   },
   {
    "duration": 12,
    "start_time": "2021-07-22T07:24:01.080Z"
   },
   {
    "duration": 624,
    "start_time": "2021-07-22T07:27:59.590Z"
   },
   {
    "duration": 88,
    "start_time": "2021-07-22T07:28:09.551Z"
   },
   {
    "duration": 287,
    "start_time": "2021-07-22T07:28:15.776Z"
   },
   {
    "duration": 36,
    "start_time": "2021-07-22T07:28:24.278Z"
   },
   {
    "duration": 37,
    "start_time": "2021-07-22T07:28:25.709Z"
   },
   {
    "duration": 6,
    "start_time": "2021-07-22T07:28:26.151Z"
   },
   {
    "duration": 291,
    "start_time": "2021-07-22T07:28:30.146Z"
   },
   {
    "duration": 14,
    "start_time": "2021-07-22T07:28:37.163Z"
   },
   {
    "duration": 267,
    "start_time": "2021-07-22T07:28:47.550Z"
   },
   {
    "duration": 269,
    "start_time": "2021-07-22T07:28:51.999Z"
   },
   {
    "duration": 17,
    "start_time": "2021-07-22T07:29:11.642Z"
   },
   {
    "duration": 16,
    "start_time": "2021-07-22T07:29:15.136Z"
   },
   {
    "duration": 261,
    "start_time": "2021-07-22T07:29:22.609Z"
   },
   {
    "duration": 35,
    "start_time": "2021-07-22T07:29:30.541Z"
   },
   {
    "duration": 488,
    "start_time": "2021-07-22T07:29:33.429Z"
   },
   {
    "duration": 406,
    "start_time": "2021-07-22T07:30:07.421Z"
   },
   {
    "duration": 423,
    "start_time": "2021-07-22T07:30:39.390Z"
   },
   {
    "duration": 1985,
    "start_time": "2021-07-22T13:44:05.193Z"
   },
   {
    "duration": 428,
    "start_time": "2021-07-22T13:44:54.647Z"
   },
   {
    "duration": 9006,
    "start_time": "2021-07-22T13:45:07.568Z"
   },
   {
    "duration": 8151,
    "start_time": "2021-07-22T13:48:17.409Z"
   },
   {
    "duration": 24,
    "start_time": "2021-07-22T13:50:14.384Z"
   },
   {
    "duration": 21,
    "start_time": "2021-07-22T13:50:28.318Z"
   },
   {
    "duration": 34,
    "start_time": "2021-07-22T13:51:59.789Z"
   },
   {
    "duration": 359,
    "start_time": "2021-07-22T13:52:08.084Z"
   },
   {
    "duration": 20,
    "start_time": "2021-07-22T13:52:10.980Z"
   },
   {
    "duration": 317,
    "start_time": "2021-07-22T13:52:22.016Z"
   },
   {
    "duration": 28,
    "start_time": "2021-07-22T13:52:34.606Z"
   },
   {
    "duration": 23,
    "start_time": "2021-07-22T13:57:15.207Z"
   },
   {
    "duration": 15,
    "start_time": "2021-07-22T19:32:52.945Z"
   },
   {
    "duration": 6,
    "start_time": "2021-07-22T19:33:03.092Z"
   },
   {
    "duration": 593,
    "start_time": "2021-07-22T19:33:37.117Z"
   },
   {
    "duration": 5,
    "start_time": "2021-07-22T19:34:01.389Z"
   },
   {
    "duration": 7,
    "start_time": "2021-07-22T19:36:27.017Z"
   },
   {
    "duration": 6,
    "start_time": "2021-07-23T08:19:56.655Z"
   },
   {
    "duration": 4,
    "start_time": "2021-07-23T08:20:14.507Z"
   },
   {
    "duration": 5,
    "start_time": "2021-07-23T08:20:15.405Z"
   },
   {
    "duration": 5,
    "start_time": "2021-07-23T08:20:29.611Z"
   },
   {
    "duration": 5,
    "start_time": "2021-07-23T08:20:44.344Z"
   },
   {
    "duration": 14,
    "start_time": "2021-07-26T05:56:07.955Z"
   },
   {
    "duration": 5,
    "start_time": "2021-07-26T05:57:56.311Z"
   },
   {
    "duration": 5,
    "start_time": "2021-07-26T05:58:10.393Z"
   },
   {
    "duration": 425,
    "start_time": "2021-07-26T05:59:22.782Z"
   },
   {
    "duration": 4,
    "start_time": "2021-07-26T05:59:37.256Z"
   },
   {
    "duration": 6,
    "start_time": "2021-07-26T05:59:37.958Z"
   },
   {
    "duration": 5,
    "start_time": "2021-07-26T06:02:34.734Z"
   },
   {
    "duration": 5,
    "start_time": "2021-07-26T06:03:47.887Z"
   },
   {
    "duration": 411,
    "start_time": "2021-07-26T06:08:12.397Z"
   },
   {
    "duration": 4,
    "start_time": "2021-07-26T06:08:18.571Z"
   },
   {
    "duration": 6,
    "start_time": "2021-07-26T06:08:19.339Z"
   },
   {
    "duration": 3,
    "start_time": "2021-07-26T06:08:25.707Z"
   },
   {
    "duration": 6,
    "start_time": "2021-07-26T06:08:28.172Z"
   },
   {
    "duration": 4,
    "start_time": "2021-07-26T06:08:31.667Z"
   },
   {
    "duration": 6,
    "start_time": "2021-07-26T06:08:32.354Z"
   },
   {
    "duration": 3,
    "start_time": "2021-07-26T06:08:36.545Z"
   },
   {
    "duration": 6,
    "start_time": "2021-07-26T06:08:37.306Z"
   },
   {
    "duration": 864,
    "start_time": "2021-07-26T12:10:50.188Z"
   },
   {
    "duration": 26,
    "start_time": "2021-07-26T12:10:57.954Z"
   },
   {
    "duration": 19,
    "start_time": "2021-07-26T12:14:58.053Z"
   },
   {
    "duration": 28,
    "start_time": "2021-07-26T12:15:02.838Z"
   },
   {
    "duration": 19,
    "start_time": "2021-07-26T12:17:42.161Z"
   },
   {
    "duration": 4,
    "start_time": "2021-07-28T06:27:09.452Z"
   },
   {
    "duration": 13,
    "start_time": "2021-07-28T06:27:25.708Z"
   },
   {
    "duration": 377,
    "start_time": "2021-07-28T06:27:54.013Z"
   },
   {
    "duration": 354,
    "start_time": "2021-07-28T06:28:06.835Z"
   },
   {
    "duration": 5,
    "start_time": "2021-07-28T06:28:46.580Z"
   },
   {
    "duration": 8,
    "start_time": "2021-07-28T06:29:18.074Z"
   },
   {
    "duration": 130,
    "start_time": "2021-07-28T06:37:25.904Z"
   },
   {
    "duration": 317,
    "start_time": "2021-07-28T06:38:11.144Z"
   },
   {
    "duration": 6,
    "start_time": "2021-07-28T06:38:20.373Z"
   },
   {
    "duration": 3,
    "start_time": "2021-07-28T06:38:22.524Z"
   },
   {
    "duration": 5,
    "start_time": "2021-07-28T06:40:49.045Z"
   },
   {
    "duration": 4,
    "start_time": "2021-07-28T06:40:52.267Z"
   },
   {
    "duration": 4,
    "start_time": "2021-07-28T06:40:53.115Z"
   },
   {
    "duration": 6,
    "start_time": "2021-07-28T06:40:55.660Z"
   },
   {
    "duration": 8,
    "start_time": "2021-07-28T06:41:19.539Z"
   },
   {
    "duration": 7,
    "start_time": "2021-07-28T06:41:42.517Z"
   },
   {
    "duration": 7,
    "start_time": "2021-07-28T06:41:54.426Z"
   },
   {
    "duration": 8,
    "start_time": "2021-07-28T06:44:35.042Z"
   },
   {
    "duration": 7,
    "start_time": "2021-07-28T06:46:10.099Z"
   },
   {
    "duration": 6405,
    "start_time": "2021-07-29T07:37:48.465Z"
   },
   {
    "duration": 4,
    "start_time": "2021-07-29T08:45:54.000Z"
   },
   {
    "duration": 3,
    "start_time": "2021-07-29T08:46:00.673Z"
   },
   {
    "duration": 13,
    "start_time": "2021-07-29T08:46:15.497Z"
   },
   {
    "duration": 547,
    "start_time": "2021-07-29T08:46:34.218Z"
   },
   {
    "duration": 391,
    "start_time": "2021-07-29T08:46:54.033Z"
   },
   {
    "duration": 417,
    "start_time": "2021-07-29T08:47:09.673Z"
   },
   {
    "duration": 6,
    "start_time": "2021-07-29T08:48:07.314Z"
   },
   {
    "duration": 5,
    "start_time": "2021-07-29T08:48:30.810Z"
   },
   {
    "duration": 5,
    "start_time": "2021-07-29T08:50:30.725Z"
   },
   {
    "duration": 389,
    "start_time": "2021-07-29T08:51:34.965Z"
   },
   {
    "duration": 6,
    "start_time": "2021-07-29T08:51:41.407Z"
   },
   {
    "duration": 9,
    "start_time": "2021-07-29T08:52:50.575Z"
   },
   {
    "duration": 3,
    "start_time": "2021-07-29T08:53:13.005Z"
   },
   {
    "duration": 5,
    "start_time": "2021-07-29T08:53:17.683Z"
   },
   {
    "duration": 20,
    "start_time": "2021-07-29T08:53:17.691Z"
   },
   {
    "duration": 134,
    "start_time": "2021-07-29T08:53:53.500Z"
   },
   {
    "duration": 8,
    "start_time": "2021-07-29T08:53:56.205Z"
   },
   {
    "duration": 6,
    "start_time": "2021-07-29T08:54:02.948Z"
   },
   {
    "duration": 4,
    "start_time": "2021-07-29T08:54:10.341Z"
   },
   {
    "duration": 5,
    "start_time": "2021-07-29T08:54:13.932Z"
   },
   {
    "duration": 8,
    "start_time": "2021-07-29T08:54:16.980Z"
   },
   {
    "duration": 7,
    "start_time": "2021-07-29T08:54:18.068Z"
   },
   {
    "duration": 3,
    "start_time": "2021-07-29T08:55:08.477Z"
   },
   {
    "duration": 5,
    "start_time": "2021-07-29T08:55:08.725Z"
   },
   {
    "duration": 5,
    "start_time": "2021-07-29T08:55:10.878Z"
   },
   {
    "duration": 3,
    "start_time": "2021-07-29T08:55:37.564Z"
   },
   {
    "duration": 6,
    "start_time": "2021-07-29T08:55:39.030Z"
   },
   {
    "duration": 5,
    "start_time": "2021-07-29T08:55:43.612Z"
   },
   {
    "duration": 6,
    "start_time": "2021-07-29T08:55:53.620Z"
   },
   {
    "duration": 128,
    "start_time": "2021-07-29T08:59:08.957Z"
   },
   {
    "duration": 681,
    "start_time": "2021-07-29T08:59:13.994Z"
   },
   {
    "duration": 3,
    "start_time": "2021-07-29T08:59:52.687Z"
   },
   {
    "duration": 4,
    "start_time": "2021-07-29T09:00:09.243Z"
   },
   {
    "duration": 6,
    "start_time": "2021-07-29T09:00:14.169Z"
   },
   {
    "duration": 3,
    "start_time": "2021-07-29T09:00:26.226Z"
   },
   {
    "duration": 4,
    "start_time": "2021-07-29T09:00:47.548Z"
   },
   {
    "duration": 5,
    "start_time": "2021-07-29T09:00:49.634Z"
   },
   {
    "duration": 3,
    "start_time": "2021-07-29T09:00:55.851Z"
   },
   {
    "duration": 5,
    "start_time": "2021-07-29T09:00:57.401Z"
   },
   {
    "duration": 7,
    "start_time": "2021-07-29T09:01:04.073Z"
   },
   {
    "duration": 4,
    "start_time": "2021-07-29T09:01:08.730Z"
   },
   {
    "duration": 7,
    "start_time": "2021-07-29T09:01:10.134Z"
   },
   {
    "duration": 7,
    "start_time": "2021-07-29T09:01:27.489Z"
   },
   {
    "duration": 4,
    "start_time": "2021-07-29T09:01:31.266Z"
   },
   {
    "duration": 5,
    "start_time": "2021-07-29T09:01:41.554Z"
   },
   {
    "duration": 3,
    "start_time": "2021-07-29T09:02:02.177Z"
   },
   {
    "duration": 6,
    "start_time": "2021-07-29T09:02:03.713Z"
   },
   {
    "duration": 6,
    "start_time": "2021-07-29T09:02:08.113Z"
   },
   {
    "duration": 7,
    "start_time": "2021-07-29T09:02:19.872Z"
   },
   {
    "duration": 3,
    "start_time": "2021-07-29T09:02:21.623Z"
   },
   {
    "duration": 7,
    "start_time": "2021-07-29T09:02:23.144Z"
   },
   {
    "duration": 3,
    "start_time": "2021-07-29T09:02:30.072Z"
   },
   {
    "duration": 7,
    "start_time": "2021-07-29T09:02:32.793Z"
   },
   {
    "duration": 9,
    "start_time": "2021-07-29T09:02:48.378Z"
   },
   {
    "duration": 8,
    "start_time": "2021-07-29T09:03:10.986Z"
   },
   {
    "duration": 3,
    "start_time": "2021-07-29T09:03:20.482Z"
   },
   {
    "duration": 7,
    "start_time": "2021-07-29T09:03:33.592Z"
   },
   {
    "duration": 9,
    "start_time": "2021-07-29T09:03:35.113Z"
   },
   {
    "duration": 4,
    "start_time": "2021-07-29T09:03:41.893Z"
   },
   {
    "duration": 5,
    "start_time": "2021-07-29T09:04:11.901Z"
   },
   {
    "duration": 4,
    "start_time": "2021-07-29T09:04:46.016Z"
   },
   {
    "duration": 6,
    "start_time": "2021-07-29T09:04:47.663Z"
   },
   {
    "duration": 7,
    "start_time": "2021-07-29T09:05:17.581Z"
   },
   {
    "duration": 4,
    "start_time": "2021-07-29T09:05:21.871Z"
   },
   {
    "duration": 7,
    "start_time": "2021-07-29T09:05:23.088Z"
   },
   {
    "duration": 8,
    "start_time": "2021-07-29T09:05:31.423Z"
   },
   {
    "duration": 3,
    "start_time": "2021-07-29T09:05:33.671Z"
   },
   {
    "duration": 7,
    "start_time": "2021-07-29T09:05:34.839Z"
   },
   {
    "duration": 4,
    "start_time": "2021-07-29T09:05:41.727Z"
   },
   {
    "duration": 7,
    "start_time": "2021-07-29T09:05:42.439Z"
   },
   {
    "duration": 7,
    "start_time": "2021-07-29T09:05:43.936Z"
   },
   {
    "duration": 4,
    "start_time": "2021-07-29T09:05:47.218Z"
   },
   {
    "duration": 7,
    "start_time": "2021-07-29T09:05:47.999Z"
   },
   {
    "duration": 7,
    "start_time": "2021-07-29T09:05:49.632Z"
   },
   {
    "duration": 6,
    "start_time": "2021-07-29T09:11:30.660Z"
   },
   {
    "duration": 4,
    "start_time": "2021-07-29T09:11:36.157Z"
   },
   {
    "duration": 6,
    "start_time": "2021-07-29T09:11:37.157Z"
   },
   {
    "duration": 7,
    "start_time": "2021-07-29T09:12:10.135Z"
   },
   {
    "duration": 5,
    "start_time": "2021-07-29T09:12:15.551Z"
   },
   {
    "duration": 6,
    "start_time": "2021-07-29T09:12:18.669Z"
   },
   {
    "duration": 5,
    "start_time": "2021-07-29T09:12:22.809Z"
   },
   {
    "duration": 358,
    "start_time": "2021-07-29T09:13:15.414Z"
   },
   {
    "duration": 6,
    "start_time": "2021-07-29T09:13:21.343Z"
   },
   {
    "duration": 1803,
    "start_time": "2021-07-29T13:56:03.498Z"
   },
   {
    "duration": 13,
    "start_time": "2021-07-29T13:56:14.441Z"
   },
   {
    "duration": 4,
    "start_time": "2021-07-29T13:56:22.386Z"
   },
   {
    "duration": 6,
    "start_time": "2021-07-29T13:56:40.254Z"
   },
   {
    "duration": 3,
    "start_time": "2021-07-30T06:42:44.493Z"
   },
   {
    "duration": 3,
    "start_time": "2021-07-30T06:43:26.598Z"
   },
   {
    "duration": 286,
    "start_time": "2021-07-30T06:44:12.206Z"
   },
   {
    "duration": 3,
    "start_time": "2021-07-30T06:44:21.003Z"
   },
   {
    "duration": 233,
    "start_time": "2021-07-30T06:44:33.579Z"
   },
   {
    "duration": 7,
    "start_time": "2021-07-30T06:44:39.481Z"
   },
   {
    "duration": 12,
    "start_time": "2021-07-30T06:45:12.308Z"
   },
   {
    "duration": 7,
    "start_time": "2021-07-30T06:45:30.129Z"
   },
   {
    "duration": 6,
    "start_time": "2021-07-30T06:46:08.513Z"
   },
   {
    "duration": 3,
    "start_time": "2021-07-30T06:48:00.380Z"
   },
   {
    "duration": 5,
    "start_time": "2021-07-30T06:48:01.583Z"
   },
   {
    "duration": 6,
    "start_time": "2021-07-30T06:48:20.386Z"
   },
   {
    "duration": 2,
    "start_time": "2021-07-30T06:48:29.968Z"
   },
   {
    "duration": 5,
    "start_time": "2021-07-30T06:48:31.127Z"
   },
   {
    "duration": 5,
    "start_time": "2021-07-30T06:48:45.035Z"
   },
   {
    "duration": 2,
    "start_time": "2021-07-30T06:48:48.734Z"
   },
   {
    "duration": 5,
    "start_time": "2021-07-30T06:48:49.470Z"
   },
   {
    "duration": 5,
    "start_time": "2021-07-30T06:48:58.121Z"
   },
   {
    "duration": 4,
    "start_time": "2021-07-30T06:49:11.881Z"
   },
   {
    "duration": 4,
    "start_time": "2021-07-30T06:49:17.809Z"
   },
   {
    "duration": 4,
    "start_time": "2021-07-30T06:50:02.610Z"
   },
   {
    "duration": 4,
    "start_time": "2021-07-30T06:50:15.633Z"
   },
   {
    "duration": 4,
    "start_time": "2021-07-30T06:50:20.120Z"
   },
   {
    "duration": 4,
    "start_time": "2021-07-30T06:50:24.086Z"
   },
   {
    "duration": 5,
    "start_time": "2021-07-30T06:50:41.801Z"
   },
   {
    "duration": 3,
    "start_time": "2021-07-30T06:50:46.735Z"
   },
   {
    "duration": 5,
    "start_time": "2021-07-30T06:50:47.398Z"
   },
   {
    "duration": 2,
    "start_time": "2021-07-30T06:50:50.664Z"
   },
   {
    "duration": 6,
    "start_time": "2021-07-30T06:50:51.310Z"
   },
   {
    "duration": 6,
    "start_time": "2021-07-30T06:52:53.175Z"
   },
   {
    "duration": 6,
    "start_time": "2021-07-30T06:53:03.990Z"
   },
   {
    "duration": 2,
    "start_time": "2021-07-30T07:02:53.869Z"
   },
   {
    "duration": 5,
    "start_time": "2021-07-30T07:02:55.530Z"
   },
   {
    "duration": 5,
    "start_time": "2021-07-30T07:03:44.747Z"
   },
   {
    "duration": 4492,
    "start_time": "2021-08-02T07:19:45.921Z"
   },
   {
    "duration": 240,
    "start_time": "2021-08-02T07:20:24.336Z"
   },
   {
    "duration": 20,
    "start_time": "2021-08-02T07:20:35.807Z"
   },
   {
    "duration": 232,
    "start_time": "2021-08-02T07:22:04.365Z"
   },
   {
    "duration": 159,
    "start_time": "2021-08-02T07:22:24.269Z"
   },
   {
    "duration": 277,
    "start_time": "2021-08-02T07:22:37.725Z"
   },
   {
    "duration": 231,
    "start_time": "2021-08-02T07:23:05.135Z"
   },
   {
    "duration": 332,
    "start_time": "2021-08-02T07:23:26.500Z"
   },
   {
    "duration": 147,
    "start_time": "2021-08-02T07:23:41.844Z"
   },
   {
    "duration": 352,
    "start_time": "2021-08-02T07:25:42.700Z"
   },
   {
    "duration": 77,
    "start_time": "2021-08-02T07:33:41.867Z"
   },
   {
    "duration": 147,
    "start_time": "2021-08-02T07:33:44.722Z"
   },
   {
    "duration": 15,
    "start_time": "2021-08-03T13:08:42.126Z"
   },
   {
    "duration": 6,
    "start_time": "2021-08-03T13:09:02.994Z"
   },
   {
    "duration": 83,
    "start_time": "2021-08-03T13:09:24.677Z"
   },
   {
    "duration": 6,
    "start_time": "2021-08-03T13:10:35.269Z"
   },
   {
    "duration": 3172,
    "start_time": "2021-08-03T13:57:49.337Z"
   },
   {
    "duration": 283,
    "start_time": "2021-08-03T13:58:48.321Z"
   },
   {
    "duration": 23,
    "start_time": "2021-08-03T13:58:53.221Z"
   },
   {
    "duration": 15,
    "start_time": "2021-08-03T14:21:45.178Z"
   },
   {
    "duration": 97,
    "start_time": "2021-08-03T14:21:59.971Z"
   },
   {
    "duration": 399,
    "start_time": "2021-08-03T14:22:05.810Z"
   },
   {
    "duration": 757,
    "start_time": "2021-08-03T14:24:22.605Z"
   },
   {
    "duration": 294,
    "start_time": "2021-08-03T14:29:02.893Z"
   },
   {
    "duration": 280,
    "start_time": "2021-08-03T14:29:22.026Z"
   },
   {
    "duration": 396,
    "start_time": "2021-08-03T14:29:54.282Z"
   },
   {
    "duration": 297,
    "start_time": "2021-08-03T14:31:10.715Z"
   },
   {
    "duration": 349,
    "start_time": "2021-08-03T14:33:32.881Z"
   },
   {
    "duration": 250,
    "start_time": "2021-08-03T14:35:40.472Z"
   },
   {
    "duration": 5,
    "start_time": "2021-08-03T14:35:48.904Z"
   },
   {
    "duration": 602,
    "start_time": "2021-08-03T14:36:01.567Z"
   },
   {
    "duration": 586,
    "start_time": "2021-08-03T14:39:35.796Z"
   },
   {
    "duration": 605,
    "start_time": "2021-08-03T14:39:44.219Z"
   },
   {
    "duration": 665,
    "start_time": "2021-08-03T14:39:52.245Z"
   },
   {
    "duration": 830,
    "start_time": "2021-08-03T14:39:54.715Z"
   },
   {
    "duration": 711,
    "start_time": "2021-08-03T14:40:00.147Z"
   },
   {
    "duration": 617,
    "start_time": "2021-08-03T14:40:11.339Z"
   },
   {
    "duration": 623,
    "start_time": "2021-08-03T14:40:17.261Z"
   },
   {
    "duration": 591,
    "start_time": "2021-08-03T14:40:28.172Z"
   },
   {
    "duration": 628,
    "start_time": "2021-08-03T14:47:02.147Z"
   },
   {
    "duration": 521,
    "start_time": "2021-08-03T14:47:05.753Z"
   },
   {
    "duration": 629,
    "start_time": "2021-08-03T14:49:31.711Z"
   },
   {
    "duration": 81,
    "start_time": "2021-08-03T14:49:39.045Z"
   },
   {
    "duration": 543,
    "start_time": "2021-08-03T14:49:41.501Z"
   },
   {
    "duration": 567,
    "start_time": "2021-08-03T14:49:53.726Z"
   },
   {
    "duration": 5,
    "start_time": "2021-08-03T14:50:03.798Z"
   },
   {
    "duration": 550,
    "start_time": "2021-08-03T14:50:05.548Z"
   },
   {
    "duration": 535,
    "start_time": "2021-08-03T14:53:38.176Z"
   },
   {
    "duration": 533,
    "start_time": "2021-08-03T14:53:45.202Z"
   },
   {
    "duration": 775,
    "start_time": "2021-08-04T07:29:32.364Z"
   },
   {
    "duration": 872,
    "start_time": "2021-08-04T07:29:55.835Z"
   },
   {
    "duration": 309,
    "start_time": "2021-08-04T07:30:03.282Z"
   },
   {
    "duration": 663,
    "start_time": "2021-08-04T07:30:07.275Z"
   },
   {
    "duration": 301,
    "start_time": "2021-08-04T07:30:08.738Z"
   },
   {
    "duration": 6,
    "start_time": "2021-08-04T07:42:34.666Z"
   },
   {
    "duration": 364,
    "start_time": "2021-08-04T07:42:38.381Z"
   },
   {
    "duration": 805,
    "start_time": "2021-08-04T07:43:26.319Z"
   },
   {
    "duration": 331,
    "start_time": "2021-08-04T07:45:51.916Z"
   },
   {
    "duration": 349,
    "start_time": "2021-08-04T07:46:13.758Z"
   },
   {
    "duration": 5,
    "start_time": "2021-08-04T07:46:19.779Z"
   },
   {
    "duration": 953,
    "start_time": "2021-08-04T07:46:23.591Z"
   },
   {
    "duration": 301,
    "start_time": "2021-08-04T07:47:46.955Z"
   },
   {
    "duration": 328,
    "start_time": "2021-08-04T07:48:27.337Z"
   },
   {
    "duration": 9,
    "start_time": "2021-08-04T07:48:38.369Z"
   },
   {
    "duration": 332,
    "start_time": "2021-08-04T07:48:45.017Z"
   },
   {
    "duration": 6,
    "start_time": "2021-08-04T07:48:51.824Z"
   },
   {
    "duration": 357,
    "start_time": "2021-08-04T07:49:19.930Z"
   },
   {
    "duration": 300,
    "start_time": "2021-08-04T07:51:35.880Z"
   },
   {
    "duration": 332,
    "start_time": "2021-08-04T07:51:43.992Z"
   },
   {
    "duration": 363,
    "start_time": "2021-08-04T07:51:59.307Z"
   },
   {
    "duration": 361,
    "start_time": "2021-08-04T07:55:07.672Z"
   },
   {
    "duration": 320,
    "start_time": "2021-08-04T07:55:17.828Z"
   },
   {
    "duration": 360,
    "start_time": "2021-08-04T07:55:25.745Z"
   },
   {
    "duration": 350,
    "start_time": "2021-08-04T07:55:31.029Z"
   },
   {
    "duration": 335,
    "start_time": "2021-08-04T07:55:55.430Z"
   },
   {
    "duration": 455,
    "start_time": "2021-08-04T07:56:05.998Z"
   },
   {
    "duration": 2498,
    "start_time": "2021-08-04T16:29:28.016Z"
   },
   {
    "duration": 44,
    "start_time": "2021-08-04T16:29:36.884Z"
   },
   {
    "duration": 20,
    "start_time": "2021-08-04T16:38:33.190Z"
   },
   {
    "duration": 16,
    "start_time": "2021-08-04T16:39:13.542Z"
   },
   {
    "duration": 6,
    "start_time": "2021-08-04T16:39:27.368Z"
   },
   {
    "duration": 7,
    "start_time": "2021-08-04T16:39:48.218Z"
   },
   {
    "duration": 5,
    "start_time": "2021-08-04T16:39:53.855Z"
   },
   {
    "duration": 38,
    "start_time": "2021-08-04T16:40:29.710Z"
   },
   {
    "duration": 19,
    "start_time": "2021-08-04T16:40:37.870Z"
   },
   {
    "duration": 23,
    "start_time": "2021-08-04T16:40:53.935Z"
   },
   {
    "duration": 463,
    "start_time": "2021-08-04T16:41:56.481Z"
   },
   {
    "duration": 14,
    "start_time": "2021-08-04T16:42:15.688Z"
   },
   {
    "duration": 6,
    "start_time": "2021-08-04T16:42:29.266Z"
   },
   {
    "duration": 6,
    "start_time": "2021-08-04T16:42:44.912Z"
   },
   {
    "duration": 6,
    "start_time": "2021-08-04T16:43:13.968Z"
   },
   {
    "duration": 16,
    "start_time": "2021-08-04T16:43:15.575Z"
   },
   {
    "duration": 8,
    "start_time": "2021-08-04T16:43:23.442Z"
   },
   {
    "duration": 7,
    "start_time": "2021-08-04T16:43:26.609Z"
   },
   {
    "duration": 5,
    "start_time": "2021-08-04T16:43:37.473Z"
   },
   {
    "duration": 10,
    "start_time": "2021-08-04T16:44:03.760Z"
   },
   {
    "duration": 6,
    "start_time": "2021-08-04T16:46:10.955Z"
   },
   {
    "duration": 211,
    "start_time": "2021-08-04T16:47:08.044Z"
   },
   {
    "duration": 218,
    "start_time": "2021-08-04T16:47:13.414Z"
   },
   {
    "duration": 251,
    "start_time": "2021-08-04T16:47:23.572Z"
   },
   {
    "duration": 220,
    "start_time": "2021-08-04T16:47:32.948Z"
   },
   {
    "duration": 217,
    "start_time": "2021-08-04T16:48:39.293Z"
   },
   {
    "duration": 6,
    "start_time": "2021-08-04T16:48:44.620Z"
   },
   {
    "duration": 6,
    "start_time": "2021-08-04T16:49:30.837Z"
   },
   {
    "duration": 6,
    "start_time": "2021-08-04T16:49:35.047Z"
   },
   {
    "duration": 7,
    "start_time": "2021-08-04T16:49:49.351Z"
   },
   {
    "duration": 6,
    "start_time": "2021-08-04T16:49:53.390Z"
   },
   {
    "duration": 2326,
    "start_time": "2021-08-05T06:44:07.713Z"
   },
   {
    "duration": 52,
    "start_time": "2021-08-05T06:44:36.734Z"
   },
   {
    "duration": 20,
    "start_time": "2021-08-05T06:44:44.718Z"
   },
   {
    "duration": 10,
    "start_time": "2021-08-05T06:44:56.802Z"
   },
   {
    "duration": 8,
    "start_time": "2021-08-05T06:45:06.384Z"
   },
   {
    "duration": 19,
    "start_time": "2021-08-05T06:45:12.247Z"
   },
   {
    "duration": 25,
    "start_time": "2021-08-05T06:45:51.512Z"
   },
   {
    "duration": 28,
    "start_time": "2021-08-05T06:47:20.488Z"
   },
   {
    "duration": 27,
    "start_time": "2021-08-05T06:47:53.909Z"
   },
   {
    "duration": 20,
    "start_time": "2021-08-05T06:48:11.949Z"
   },
   {
    "duration": 27,
    "start_time": "2021-08-05T06:49:20.431Z"
   },
   {
    "duration": 24,
    "start_time": "2021-08-05T06:50:21.509Z"
   },
   {
    "duration": 1151,
    "start_time": "2021-08-10T14:18:02.282Z"
   },
   {
    "duration": 107,
    "start_time": "2021-08-10T14:18:20.793Z"
   },
   {
    "duration": 335,
    "start_time": "2021-08-10T14:23:58.686Z"
   },
   {
    "duration": 21,
    "start_time": "2021-08-10T14:24:01.037Z"
   },
   {
    "duration": 9,
    "start_time": "2021-08-10T14:24:02.052Z"
   },
   {
    "duration": 6,
    "start_time": "2021-08-10T14:24:13.731Z"
   },
   {
    "duration": 283,
    "start_time": "2021-08-10T14:25:01.533Z"
   },
   {
    "duration": 971,
    "start_time": "2021-08-10T14:25:13.422Z"
   },
   {
    "duration": 51,
    "start_time": "2021-08-10T14:25:33.038Z"
   },
   {
    "duration": 372,
    "start_time": "2021-08-12T07:22:49.637Z"
   },
   {
    "duration": 885,
    "start_time": "2021-08-12T07:23:01.516Z"
   },
   {
    "duration": 18,
    "start_time": "2021-08-12T07:23:02.403Z"
   },
   {
    "duration": 600,
    "start_time": "2021-08-12T07:23:56.552Z"
   },
   {
    "duration": 16,
    "start_time": "2021-08-12T07:25:01.773Z"
   },
   {
    "duration": 19,
    "start_time": "2021-08-12T07:25:46.811Z"
   },
   {
    "duration": 9,
    "start_time": "2021-08-12T07:27:27.003Z"
   },
   {
    "duration": 13,
    "start_time": "2021-08-12T07:27:31.907Z"
   },
   {
    "duration": 402,
    "start_time": "2021-08-12T07:28:08.795Z"
   },
   {
    "duration": 5,
    "start_time": "2021-08-12T07:28:17.524Z"
   },
   {
    "duration": 510,
    "start_time": "2021-08-12T07:28:20.587Z"
   },
   {
    "duration": 499,
    "start_time": "2021-08-12T07:28:54.790Z"
   },
   {
    "duration": 494,
    "start_time": "2021-08-12T07:28:58.042Z"
   },
   {
    "duration": 426,
    "start_time": "2021-08-12T07:29:13.426Z"
   },
   {
    "duration": 477,
    "start_time": "2021-08-12T07:30:32.977Z"
   },
   {
    "duration": 477,
    "start_time": "2021-08-12T07:30:44.280Z"
   },
   {
    "duration": 539,
    "start_time": "2021-08-12T07:31:15.338Z"
   },
   {
    "duration": 321,
    "start_time": "2021-08-12T07:34:44.407Z"
   },
   {
    "duration": 280,
    "start_time": "2021-08-12T07:34:53.991Z"
   },
   {
    "duration": 329,
    "start_time": "2021-08-12T07:35:11.009Z"
   },
   {
    "duration": 481,
    "start_time": "2021-08-12T07:35:25.027Z"
   },
   {
    "duration": 19,
    "start_time": "2021-08-12T07:37:34.616Z"
   },
   {
    "duration": 19,
    "start_time": "2021-08-12T07:37:48.360Z"
   },
   {
    "duration": 292,
    "start_time": "2021-08-12T07:37:56.275Z"
   },
   {
    "duration": 278,
    "start_time": "2021-08-12T07:38:11.054Z"
   },
   {
    "duration": 291,
    "start_time": "2021-08-12T07:38:44.860Z"
   },
   {
    "duration": 122,
    "start_time": "2021-08-12T07:39:43.446Z"
   },
   {
    "duration": 114,
    "start_time": "2021-08-12T07:39:43.748Z"
   },
   {
    "duration": 113,
    "start_time": "2021-08-12T07:39:45.456Z"
   },
   {
    "duration": 783,
    "start_time": "2021-08-12T07:42:49.572Z"
   },
   {
    "duration": 710,
    "start_time": "2021-08-12T07:43:00.117Z"
   },
   {
    "duration": 1082,
    "start_time": "2021-08-12T07:43:06.085Z"
   },
   {
    "duration": 640,
    "start_time": "2021-08-12T07:43:12.714Z"
   },
   {
    "duration": 668,
    "start_time": "2021-08-12T07:43:23.454Z"
   },
   {
    "duration": 719,
    "start_time": "2021-08-12T07:43:32.182Z"
   },
   {
    "duration": 699,
    "start_time": "2021-08-12T07:43:36.644Z"
   },
   {
    "duration": 718,
    "start_time": "2021-08-12T07:43:40.884Z"
   },
   {
    "duration": 753,
    "start_time": "2021-08-12T07:43:45.403Z"
   },
   {
    "duration": 1053,
    "start_time": "2021-08-12T07:45:18.746Z"
   },
   {
    "duration": 1041,
    "start_time": "2021-08-12T07:46:10.867Z"
   },
   {
    "duration": 934,
    "start_time": "2021-08-12T07:46:21.867Z"
   },
   {
    "duration": 13,
    "start_time": "2021-08-12T07:46:46.160Z"
   },
   {
    "duration": 358,
    "start_time": "2021-08-12T07:48:51.226Z"
   },
   {
    "duration": 14,
    "start_time": "2021-08-12T07:48:55.890Z"
   },
   {
    "duration": 1023,
    "start_time": "2021-08-12T07:49:00.625Z"
   },
   {
    "duration": 1014,
    "start_time": "2021-08-12T07:49:16.900Z"
   },
   {
    "duration": 1568,
    "start_time": "2021-08-12T07:49:33.451Z"
   },
   {
    "duration": 748,
    "start_time": "2021-08-12T07:51:57.673Z"
   },
   {
    "duration": 763,
    "start_time": "2021-08-12T07:53:29.247Z"
   },
   {
    "duration": 758,
    "start_time": "2021-08-12T07:54:14.686Z"
   },
   {
    "duration": 1038,
    "start_time": "2021-08-12T07:54:37.381Z"
   },
   {
    "duration": 1184,
    "start_time": "2021-08-12T07:57:58.662Z"
   },
   {
    "duration": 282,
    "start_time": "2021-08-12T07:58:11.524Z"
   },
   {
    "duration": 286,
    "start_time": "2021-08-12T07:58:17.884Z"
   },
   {
    "duration": 1201,
    "start_time": "2021-08-12T08:16:28.661Z"
   },
   {
    "duration": 734,
    "start_time": "2021-08-12T08:17:05.446Z"
   },
   {
    "duration": 737,
    "start_time": "2021-08-12T08:17:20.972Z"
   },
   {
    "duration": 758,
    "start_time": "2021-08-12T08:17:50.430Z"
   },
   {
    "duration": 734,
    "start_time": "2021-08-12T08:17:54.727Z"
   },
   {
    "duration": 1165,
    "start_time": "2021-08-12T08:18:25.028Z"
   },
   {
    "duration": 1070,
    "start_time": "2021-08-12T08:18:32.132Z"
   },
   {
    "duration": 1041,
    "start_time": "2021-08-12T08:18:44.903Z"
   },
   {
    "duration": 1060,
    "start_time": "2021-08-12T08:18:54.116Z"
   },
   {
    "duration": 6,
    "start_time": "2021-08-12T08:20:16.856Z"
   },
   {
    "duration": 733,
    "start_time": "2021-08-12T08:20:21.708Z"
   },
   {
    "duration": 6,
    "start_time": "2021-08-12T08:20:45.749Z"
   },
   {
    "duration": 732,
    "start_time": "2021-08-12T08:20:46.915Z"
   },
   {
    "duration": 6,
    "start_time": "2021-08-12T08:21:07.606Z"
   },
   {
    "duration": 5,
    "start_time": "2021-08-12T08:21:11.227Z"
   },
   {
    "duration": 847,
    "start_time": "2021-08-12T08:21:12.267Z"
   },
   {
    "duration": 5,
    "start_time": "2021-08-12T08:21:23.317Z"
   },
   {
    "duration": 856,
    "start_time": "2021-08-12T08:21:25.139Z"
   },
   {
    "duration": 6,
    "start_time": "2021-08-12T08:21:55.789Z"
   },
   {
    "duration": 754,
    "start_time": "2021-08-12T08:21:57.513Z"
   },
   {
    "duration": 5,
    "start_time": "2021-08-12T08:22:19.740Z"
   },
   {
    "duration": 735,
    "start_time": "2021-08-12T08:22:21.298Z"
   },
   {
    "duration": 5,
    "start_time": "2021-08-12T08:22:41.006Z"
   },
   {
    "duration": 755,
    "start_time": "2021-08-12T08:22:42.499Z"
   },
   {
    "duration": 4,
    "start_time": "2021-08-12T08:22:54.364Z"
   },
   {
    "duration": 4,
    "start_time": "2021-08-12T08:22:55.585Z"
   },
   {
    "duration": 722,
    "start_time": "2021-08-12T08:22:56.970Z"
   },
   {
    "duration": 5,
    "start_time": "2021-08-12T08:23:01.604Z"
   },
   {
    "duration": 4,
    "start_time": "2021-08-12T08:23:04.178Z"
   },
   {
    "duration": 880,
    "start_time": "2021-08-12T08:23:05.218Z"
   },
   {
    "duration": 3,
    "start_time": "2021-08-12T08:23:43.421Z"
   },
   {
    "duration": 14,
    "start_time": "2021-08-12T08:23:43.431Z"
   },
   {
    "duration": 10,
    "start_time": "2021-08-12T08:23:43.448Z"
   },
   {
    "duration": 15,
    "start_time": "2021-08-12T08:23:43.461Z"
   },
   {
    "duration": 512,
    "start_time": "2021-08-12T08:23:43.479Z"
   },
   {
    "duration": 526,
    "start_time": "2021-08-12T08:23:43.994Z"
   },
   {
    "duration": 517,
    "start_time": "2021-08-12T08:23:44.522Z"
   },
   {
    "duration": 503,
    "start_time": "2021-08-12T08:23:45.041Z"
   },
   {
    "duration": 293,
    "start_time": "2021-08-12T08:23:45.546Z"
   },
   {
    "duration": 301,
    "start_time": "2021-08-12T08:23:45.843Z"
   },
   {
    "duration": 23,
    "start_time": "2021-08-12T08:23:46.146Z"
   },
   {
    "duration": 16,
    "start_time": "2021-08-12T08:23:46.171Z"
   },
   {
    "duration": 800,
    "start_time": "2021-08-12T08:23:46.189Z"
   },
   {
    "duration": 4,
    "start_time": "2021-08-12T08:23:46.991Z"
   },
   {
    "duration": 740,
    "start_time": "2021-08-12T08:24:07.250Z"
   },
   {
    "duration": 1456,
    "start_time": "2021-08-12T08:24:23.083Z"
   },
   {
    "duration": 27,
    "start_time": "2021-08-12T08:24:24.542Z"
   },
   {
    "duration": 12,
    "start_time": "2021-08-12T08:24:24.572Z"
   },
   {
    "duration": 13,
    "start_time": "2021-08-12T08:24:24.587Z"
   },
   {
    "duration": 527,
    "start_time": "2021-08-12T08:24:24.603Z"
   },
   {
    "duration": 516,
    "start_time": "2021-08-12T08:24:25.132Z"
   },
   {
    "duration": 519,
    "start_time": "2021-08-12T08:24:25.651Z"
   },
   {
    "duration": 510,
    "start_time": "2021-08-12T08:24:26.174Z"
   },
   {
    "duration": 306,
    "start_time": "2021-08-12T08:24:26.687Z"
   },
   {
    "duration": 286,
    "start_time": "2021-08-12T08:24:26.996Z"
   },
   {
    "duration": 13,
    "start_time": "2021-08-12T08:24:27.285Z"
   },
   {
    "duration": 20,
    "start_time": "2021-08-12T08:24:27.300Z"
   },
   {
    "duration": 819,
    "start_time": "2021-08-12T08:24:27.322Z"
   },
   {
    "duration": 3,
    "start_time": "2021-08-12T08:24:28.144Z"
   },
   {
    "duration": 737,
    "start_time": "2021-08-12T08:25:58.546Z"
   },
   {
    "duration": 1187,
    "start_time": "2021-08-12T08:26:35.483Z"
   },
   {
    "duration": 731,
    "start_time": "2021-08-12T08:26:49.785Z"
   },
   {
    "duration": 788,
    "start_time": "2021-08-12T08:28:20.617Z"
   },
   {
    "duration": 696,
    "start_time": "2021-08-12T08:28:49.427Z"
   },
   {
    "duration": 5,
    "start_time": "2021-08-12T08:29:27.689Z"
   },
   {
    "duration": 852,
    "start_time": "2021-08-12T08:29:29.520Z"
   },
   {
    "duration": 5,
    "start_time": "2021-08-12T08:29:35.746Z"
   },
   {
    "duration": 665,
    "start_time": "2021-08-12T08:29:36.992Z"
   },
   {
    "duration": 5,
    "start_time": "2021-08-12T08:30:57.775Z"
   },
   {
    "duration": 708,
    "start_time": "2021-08-12T08:30:59.568Z"
   },
   {
    "duration": 1115,
    "start_time": "2021-08-12T08:32:01.998Z"
   },
   {
    "duration": 690,
    "start_time": "2021-08-12T08:32:07.697Z"
   },
   {
    "duration": 1415,
    "start_time": "2021-08-12T08:32:23.128Z"
   },
   {
    "duration": 1123,
    "start_time": "2021-08-12T08:32:25.802Z"
   },
   {
    "duration": 851,
    "start_time": "2021-08-12T08:32:31.073Z"
   },
   {
    "duration": 709,
    "start_time": "2021-08-12T08:32:43.658Z"
   },
   {
    "duration": 113,
    "start_time": "2021-08-12T08:36:16.864Z"
   },
   {
    "duration": 13,
    "start_time": "2021-08-12T08:40:48.751Z"
   },
   {
    "duration": 526,
    "start_time": "2021-08-12T08:43:59.572Z"
   },
   {
    "duration": 1569,
    "start_time": "2021-08-12T08:44:39.577Z"
   },
   {
    "duration": 33,
    "start_time": "2021-08-12T08:44:41.149Z"
   },
   {
    "duration": 15,
    "start_time": "2021-08-12T08:44:41.186Z"
   },
   {
    "duration": 18,
    "start_time": "2021-08-12T08:44:41.204Z"
   },
   {
    "duration": 496,
    "start_time": "2021-08-12T08:46:55.006Z"
   },
   {
    "duration": 448,
    "start_time": "2021-08-12T08:47:07.849Z"
   },
   {
    "duration": 493,
    "start_time": "2021-08-12T08:47:33.232Z"
   },
   {
    "duration": 94,
    "start_time": "2021-08-12T08:48:48.406Z"
   },
   {
    "duration": 20,
    "start_time": "2021-08-12T08:49:37.140Z"
   },
   {
    "duration": 121,
    "start_time": "2021-08-12T08:49:59.640Z"
   },
   {
    "duration": 119,
    "start_time": "2021-08-12T08:50:00.836Z"
   },
   {
    "duration": 117,
    "start_time": "2021-08-12T08:50:02.924Z"
   },
   {
    "duration": 290,
    "start_time": "2021-08-12T08:50:07.635Z"
   },
   {
    "duration": 98,
    "start_time": "2021-08-12T08:50:44.631Z"
   },
   {
    "duration": 275,
    "start_time": "2021-08-12T08:50:47.421Z"
   },
   {
    "duration": 133,
    "start_time": "2021-08-12T08:51:43.175Z"
   },
   {
    "duration": 716,
    "start_time": "2021-08-12T08:53:37.131Z"
   },
   {
    "duration": 723,
    "start_time": "2021-08-12T08:59:43.882Z"
   },
   {
    "duration": 586,
    "start_time": "2021-08-12T09:02:21.464Z"
   },
   {
    "duration": 558,
    "start_time": "2021-08-12T09:02:59.358Z"
   },
   {
    "duration": 577,
    "start_time": "2021-08-12T09:04:17.024Z"
   },
   {
    "duration": 5,
    "start_time": "2021-08-12T09:04:30.805Z"
   },
   {
    "duration": 5,
    "start_time": "2021-08-12T09:04:50.505Z"
   },
   {
    "duration": 561,
    "start_time": "2021-08-12T09:05:01.265Z"
   },
   {
    "duration": 281,
    "start_time": "2021-08-12T09:05:25.615Z"
   },
   {
    "duration": 347,
    "start_time": "2021-08-12T09:05:31.556Z"
   },
   {
    "duration": 373,
    "start_time": "2021-08-12T09:05:42.556Z"
   },
   {
    "duration": 604,
    "start_time": "2021-08-12T09:05:48.093Z"
   },
   {
    "duration": 46,
    "start_time": "2021-08-12T09:06:54.591Z"
   },
   {
    "duration": 4,
    "start_time": "2021-08-12T09:07:09.186Z"
   },
   {
    "duration": 4,
    "start_time": "2021-08-12T09:07:14.033Z"
   },
   {
    "duration": 682,
    "start_time": "2021-08-12T09:07:34.014Z"
   },
   {
    "duration": 363,
    "start_time": "2021-08-12T09:09:31.650Z"
   },
   {
    "duration": 8,
    "start_time": "2021-08-12T09:09:39.960Z"
   },
   {
    "duration": 702,
    "start_time": "2021-08-12T09:09:51.157Z"
   },
   {
    "duration": 833,
    "start_time": "2021-08-12T09:10:03.066Z"
   },
   {
    "duration": 1520,
    "start_time": "2021-08-12T09:10:20.933Z"
   },
   {
    "duration": 18,
    "start_time": "2021-08-12T09:10:22.456Z"
   },
   {
    "duration": 11,
    "start_time": "2021-08-12T09:10:22.477Z"
   },
   {
    "duration": 18,
    "start_time": "2021-08-12T09:10:22.490Z"
   },
   {
    "duration": 509,
    "start_time": "2021-08-12T09:10:22.510Z"
   },
   {
    "duration": 112,
    "start_time": "2021-08-12T09:10:23.021Z"
   },
   {
    "duration": -5893,
    "start_time": "2021-08-12T09:10:29.028Z"
   },
   {
    "duration": -5894,
    "start_time": "2021-08-12T09:10:29.031Z"
   },
   {
    "duration": -5900,
    "start_time": "2021-08-12T09:10:29.038Z"
   },
   {
    "duration": -5908,
    "start_time": "2021-08-12T09:10:29.047Z"
   },
   {
    "duration": -5914,
    "start_time": "2021-08-12T09:10:29.055Z"
   },
   {
    "duration": -5920,
    "start_time": "2021-08-12T09:10:29.063Z"
   },
   {
    "duration": 488,
    "start_time": "2021-08-12T09:10:37.233Z"
   },
   {
    "duration": 19,
    "start_time": "2021-08-12T09:10:53.897Z"
   },
   {
    "duration": 288,
    "start_time": "2021-08-12T09:10:56.353Z"
   },
   {
    "duration": 280,
    "start_time": "2021-08-12T09:10:59.065Z"
   },
   {
    "duration": 633,
    "start_time": "2021-08-12T09:11:04.039Z"
   },
   {
    "duration": 620,
    "start_time": "2021-08-12T09:11:13.313Z"
   },
   {
    "duration": 73,
    "start_time": "2021-08-12T09:11:16.770Z"
   },
   {
    "duration": 802,
    "start_time": "2021-08-12T09:11:59.497Z"
   },
   {
    "duration": 6,
    "start_time": "2021-08-12T09:12:47.841Z"
   },
   {
    "duration": 192,
    "start_time": "2021-08-12T09:13:11.282Z"
   },
   {
    "duration": 709,
    "start_time": "2021-08-12T09:17:20.505Z"
   },
   {
    "duration": 6,
    "start_time": "2021-08-12T09:28:36.819Z"
   },
   {
    "duration": 706,
    "start_time": "2021-08-12T09:33:16.834Z"
   }
  ],
  "kernelspec": {
   "display_name": "Python 3",
   "language": "python",
   "name": "python3"
  },
  "language_info": {
   "codemirror_mode": {
    "name": "ipython",
    "version": 3
   },
   "file_extension": ".py",
   "mimetype": "text/x-python",
   "name": "python",
   "nbconvert_exporter": "python",
   "pygments_lexer": "ipython3",
   "version": "3.7.8"
  },
  "toc": {
   "base_numbering": 1,
   "nav_menu": {},
   "number_sections": true,
   "sideBar": true,
   "skip_h1_title": false,
   "title_cell": "Table of Contents",
   "title_sidebar": "Contents",
   "toc_cell": false,
   "toc_position": {},
   "toc_section_display": true,
   "toc_window_display": false
  }
 },
 "nbformat": 4,
 "nbformat_minor": 2
}
